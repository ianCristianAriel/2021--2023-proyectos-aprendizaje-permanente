{
 "cells": [
  {
   "cell_type": "markdown",
   "metadata": {},
   "source": [
    "Pregunta 1:\n",
    "\n",
    "Crea una clase llamada Circulo que tenga un atributo radio y dos métodos: calcular_area y calcular_perimetro. El método calcular_area debe devolver el área del círculo y el método calcular_perimetro debe devolver el perímetro del círculo. Utiliza el valor de π (pi) como 3.14159 en tus cálculos.\n",
    "\n",
    "Pregunta 2:\n",
    "\n",
    "Crea una clase llamada Estudiante con atributos para el nombre, la edad y una lista de calificaciones. La clase debe tener métodos para calcular el promedio de las calificaciones y para agregar una nueva calificación a la lista.\n",
    "\n",
    "Pregunta 3:\n",
    "\n",
    "Crea una clase llamada Rectangulo con atributos para el ancho y la altura. Implementa métodos para calcular el área y el perímetro del rectángulo. Luego, crea una subclase llamada Cuadrado que herede de Rectangulo y tenga un método adicional para calcular el área del cuadrado.\n",
    "\n",
    "Pregunta 4:\n",
    "\n",
    "Crea una clase llamada Banco que tenga una lista de objetos Cuenta. Cada cuenta debe tener un número de cuenta, un titular y un saldo. Implementa métodos en la clase Banco para agregar una nueva cuenta, eliminar una cuenta y encontrar la cuenta con el saldo más alto.\n",
    "\n",
    "Pregunta 5:\n",
    "\n",
    "Crea una clase llamada Vehiculo con atributos para la marca y el año. Luego, crea dos subclases: Auto y Camioneta. La clase Auto debe tener un atributo adicional para el modelo y un método para calcular el impuesto basado en el año del auto. La clase Camioneta debe tener un atributo adicional para la capacidad de carga y un método para calcular el impuesto.\n",
    "\n",
    "Estas preguntas deberían darte un buen punto de partida para practicar tus habilidades de programación orientada a objetos en Python. ¡Espero que encuentres útiles estos ejercicios!"
   ]
  },
  {
   "cell_type": "code",
   "execution_count": 16,
   "metadata": {},
   "outputs": [],
   "source": [
    "#Pregunta 1\n",
    "\n",
    "class Circulo():\n",
    "    def __init__(self, radio):\n",
    "        self.radio = radio\n",
    "        self.pi = 3.14\n",
    "\n",
    "    def calcular_area(self):\n",
    "        return self.radio ** 2 * self.pi\n",
    "\n",
    "    def calcular_perimetro(self):\n",
    "        return self.radio * 2 * self.pi"
   ]
  },
  {
   "cell_type": "code",
   "execution_count": 19,
   "metadata": {},
   "outputs": [],
   "source": [
    "circulo = Circulo(45)"
   ]
  },
  {
   "cell_type": "code",
   "execution_count": 26,
   "metadata": {},
   "outputs": [],
   "source": [
    "circulo_perimetro = circulo.calcular_perimetro()\n",
    "circulo_area = circulo.calcular_area()"
   ]
  },
  {
   "cell_type": "code",
   "execution_count": 28,
   "metadata": {},
   "outputs": [
    {
     "data": {
      "text/plain": [
       "[282.6, 6358.5]"
      ]
     },
     "execution_count": 28,
     "metadata": {},
     "output_type": "execute_result"
    }
   ],
   "source": [
    "[circulo_perimetro, circulo_area]"
   ]
  },
  {
   "cell_type": "code",
   "execution_count": 36,
   "metadata": {},
   "outputs": [],
   "source": [
    "#Pregunta 2\n",
    "import numpy as np\n",
    "\n",
    "class Estudiante():\n",
    "    def __init__(self, nombre, edad, calificaciones):\n",
    "        self.nombre = nombre\n",
    "        self.edad = edad\n",
    "        self.calificaciones = calificaciones\n",
    "\n",
    "    def promedio_calificaciones(self):\n",
    "        return np.mean(self.calificaciones)\n",
    "    \n",
    "    def agregar_calificacion(self, calificacion):\n",
    "        return self.calificaciones.append(calificacion)"
   ]
  },
  {
   "cell_type": "code",
   "execution_count": 38,
   "metadata": {},
   "outputs": [],
   "source": [
    "ian = Estudiante('Ian', 22, [12,3,56,234,6])"
   ]
  },
  {
   "cell_type": "code",
   "execution_count": 41,
   "metadata": {},
   "outputs": [
    {
     "data": {
      "text/plain": [
       "55.666666666666664"
      ]
     },
     "execution_count": 41,
     "metadata": {},
     "output_type": "execute_result"
    }
   ],
   "source": [
    "ian.promedio_calificaciones()"
   ]
  },
  {
   "cell_type": "code",
   "execution_count": 40,
   "metadata": {},
   "outputs": [],
   "source": [
    "ian.agregar_calificacion(23)"
   ]
  },
  {
   "cell_type": "code",
   "execution_count": 58,
   "metadata": {},
   "outputs": [],
   "source": [
    "# Pregunta 3\n",
    "class Rectangulo():\n",
    "    def __init__(self, alto, ancho):\n",
    "        self.ancho = ancho\n",
    "        self.alto = alto\n",
    "\n",
    "    def calcular_area(self):\n",
    "        return self.alto * self.ancho\n",
    "\n",
    "    def calcular_perimetro(self):\n",
    "        return 2 * (self.alto * self.ancho)\n",
    "    \n",
    "class Cuadrado(Rectangulo):\n",
    "    def __init__(self, lado):\n",
    "        super().__init__(lado, lado)\n",
    "    # No es necesario redefinir calcular_area() ya que el área de un cuadrado es lado * lado\n",
    "    # Puedes agregar este método si deseas tener un método específico para calcular el área de un cuadrado"
   ]
  },
  {
   "cell_type": "code",
   "execution_count": 49,
   "metadata": {},
   "outputs": [],
   "source": [
    "Rectangulo_cero = Rectangulo(23, 44)"
   ]
  },
  {
   "cell_type": "code",
   "execution_count": 52,
   "metadata": {},
   "outputs": [
    {
     "data": {
      "text/plain": [
       "[1012, 2024]"
      ]
     },
     "execution_count": 52,
     "metadata": {},
     "output_type": "execute_result"
    }
   ],
   "source": [
    "[Rectangulo_cero.calcular_area(), Rectangulo_cero.calcular_perimetro()]"
   ]
  },
  {
   "cell_type": "code",
   "execution_count": 56,
   "metadata": {},
   "outputs": [],
   "source": [
    "cuadrado = Cuadrado(44)"
   ]
  },
  {
   "cell_type": "code",
   "execution_count": 57,
   "metadata": {},
   "outputs": [
    {
     "data": {
      "text/plain": [
       "(1936, 3872)"
      ]
     },
     "execution_count": 57,
     "metadata": {},
     "output_type": "execute_result"
    }
   ],
   "source": [
    "cuadrado.calcular_area(), cuadrado.calcular_perimetro()"
   ]
  },
  {
   "cell_type": "code",
   "execution_count": null,
   "metadata": {},
   "outputs": [],
   "source": [
    "# Pregunta 4\n",
    "\n",
    "class Cuentas():\n",
    "    def __init__(self, numero_cuenta):\n",
    "        self.numero_cuenta = {}\n",
    "        self.titular = {}\n",
    "        self.saldo = {}\n",
    "        self.cuenta = {self.numero_cuenta}\n",
    "\n",
    "    def crear_cuenta(self, numero_cuenta, titular, saldo):\n",
    "        self.cuenta['']self.numero_cuenta = numero_cuenta\n",
    "        self.titular = titular\n",
    "        self.saldo = saldo\n",
    "        "
   ]
  }
 ],
 "metadata": {
  "kernelspec": {
   "display_name": "Python 3",
   "language": "python",
   "name": "python3"
  },
  "language_info": {
   "codemirror_mode": {
    "name": "ipython",
    "version": 3
   },
   "file_extension": ".py",
   "mimetype": "text/x-python",
   "name": "python",
   "nbconvert_exporter": "python",
   "pygments_lexer": "ipython3",
   "version": "3.11.4"
  },
  "orig_nbformat": 4
 },
 "nbformat": 4,
 "nbformat_minor": 2
}
