{
 "cells": [
  {
   "cell_type": "code",
   "execution_count": 1,
   "metadata": {},
   "outputs": [],
   "source": [
    "import numpy as np\n",
    "import pandas as pd\n",
    "import random\n",
    "import io\n",
    "import scipy.stats as st"
   ]
  },
  {
   "cell_type": "code",
   "execution_count": 2,
   "metadata": {},
   "outputs": [],
   "source": [
    "datos = pd.read_csv('./mexico_eco.csv')"
   ]
  },
  {
   "cell_type": "code",
   "execution_count": 5,
   "metadata": {},
   "outputs": [
    {
     "data": {
      "text/html": [
       "<div>\n",
       "<style scoped>\n",
       "    .dataframe tbody tr th:only-of-type {\n",
       "        vertical-align: middle;\n",
       "    }\n",
       "\n",
       "    .dataframe tbody tr th {\n",
       "        vertical-align: top;\n",
       "    }\n",
       "\n",
       "    .dataframe thead th {\n",
       "        text-align: right;\n",
       "    }\n",
       "</style>\n",
       "<table border=\"1\" class=\"dataframe\">\n",
       "  <thead>\n",
       "    <tr style=\"text-align: right;\">\n",
       "      <th></th>\n",
       "      <th>id</th>\n",
       "      <th>geo_point_2d</th>\n",
       "      <th>geo_shape</th>\n",
       "      <th>clave_cat</th>\n",
       "      <th>delegacion</th>\n",
       "      <th>perimetro</th>\n",
       "      <th>tipo</th>\n",
       "      <th>nom_id</th>\n",
       "    </tr>\n",
       "  </thead>\n",
       "  <tbody>\n",
       "    <tr>\n",
       "      <th>109</th>\n",
       "      <td>109</td>\n",
       "      <td>19.4333600229,-99.1289519995</td>\n",
       "      <td>{\"type\": \"MultiPoint\", \"coordinates\": [[-99.12...</td>\n",
       "      <td>006_003_06</td>\n",
       "      <td>Cuautémoc</td>\n",
       "      <td>A</td>\n",
       "      <td>Museo</td>\n",
       "      <td>José Luis Cuevas</td>\n",
       "    </tr>\n",
       "    <tr>\n",
       "      <th>61</th>\n",
       "      <td>61</td>\n",
       "      <td>19.4343847692,-99.125125489</td>\n",
       "      <td>{\"type\": \"Polygon\", \"coordinates\": [[[-99.1257...</td>\n",
       "      <td>005_140_01</td>\n",
       "      <td>Cuauhtémoc</td>\n",
       "      <td>B</td>\n",
       "      <td>Mercado</td>\n",
       "      <td>Mixcalco</td>\n",
       "    </tr>\n",
       "    <tr>\n",
       "      <th>15</th>\n",
       "      <td>15</td>\n",
       "      <td>19.42413788,-99.1324515</td>\n",
       "      <td>{\"type\": \"MultiPoint\", \"coordinates\": [[-99.13...</td>\n",
       "      <td>307_153_11</td>\n",
       "      <td>Cuautémoc</td>\n",
       "      <td>B</td>\n",
       "      <td>Hotel</td>\n",
       "      <td>San Lucas</td>\n",
       "    </tr>\n",
       "  </tbody>\n",
       "</table>\n",
       "</div>"
      ],
      "text/plain": [
       "      id                  geo_point_2d  \\\n",
       "109  109  19.4333600229,-99.1289519995   \n",
       "61    61   19.4343847692,-99.125125489   \n",
       "15    15       19.42413788,-99.1324515   \n",
       "\n",
       "                                             geo_shape   clave_cat  \\\n",
       "109  {\"type\": \"MultiPoint\", \"coordinates\": [[-99.12...  006_003_06   \n",
       "61   {\"type\": \"Polygon\", \"coordinates\": [[[-99.1257...  005_140_01   \n",
       "15   {\"type\": \"MultiPoint\", \"coordinates\": [[-99.13...  307_153_11   \n",
       "\n",
       "     delegacion perimetro     tipo            nom_id  \n",
       "109   Cuautémoc         A    Museo  José Luis Cuevas  \n",
       "61   Cuauhtémoc         B  Mercado          Mixcalco  \n",
       "15    Cuautémoc         B    Hotel         San Lucas  "
      ]
     },
     "execution_count": 5,
     "metadata": {},
     "output_type": "execute_result"
    }
   ],
   "source": [
    "datos.sample(3, random_state=3)"
   ]
  },
  {
   "cell_type": "code",
   "execution_count": 6,
   "metadata": {},
   "outputs": [],
   "source": [
    "#Funcion que toma un dataset y aquellos datos que coinsiden con el indice que recorta\n",
    "def sistematic_sampling(data, step):\n",
    "    indexes = np.arange(0, len(data), step=step)\n",
    "    sistematic_sample = data.iloc[indexes]\n",
    "    return sistematic_sample"
   ]
  },
  {
   "cell_type": "code",
   "execution_count": 9,
   "metadata": {},
   "outputs": [
    {
     "data": {
      "text/html": [
       "<div>\n",
       "<style scoped>\n",
       "    .dataframe tbody tr th:only-of-type {\n",
       "        vertical-align: middle;\n",
       "    }\n",
       "\n",
       "    .dataframe tbody tr th {\n",
       "        vertical-align: top;\n",
       "    }\n",
       "\n",
       "    .dataframe thead th {\n",
       "        text-align: right;\n",
       "    }\n",
       "</style>\n",
       "<table border=\"1\" class=\"dataframe\">\n",
       "  <thead>\n",
       "    <tr style=\"text-align: right;\">\n",
       "      <th></th>\n",
       "      <th>id</th>\n",
       "      <th>geo_point_2d</th>\n",
       "      <th>geo_shape</th>\n",
       "      <th>clave_cat</th>\n",
       "      <th>delegacion</th>\n",
       "      <th>perimetro</th>\n",
       "      <th>tipo</th>\n",
       "      <th>nom_id</th>\n",
       "    </tr>\n",
       "  </thead>\n",
       "  <tbody>\n",
       "    <tr>\n",
       "      <th>0</th>\n",
       "      <td>0</td>\n",
       "      <td>19.424781053,-99.1327537959</td>\n",
       "      <td>{\"type\": \"Polygon\", \"coordinates\": [[[-99.1332...</td>\n",
       "      <td>307_130_11</td>\n",
       "      <td>Cuauhtémoc</td>\n",
       "      <td>B</td>\n",
       "      <td>Mercado</td>\n",
       "      <td>Pino Suárez</td>\n",
       "    </tr>\n",
       "    <tr>\n",
       "      <th>4</th>\n",
       "      <td>4</td>\n",
       "      <td>19.42358238,-99.12451093</td>\n",
       "      <td>{\"type\": \"MultiPoint\", \"coordinates\": [[-99.12...</td>\n",
       "      <td>323_115_12</td>\n",
       "      <td>Venustiano Carranza</td>\n",
       "      <td>B</td>\n",
       "      <td>Hotel</td>\n",
       "      <td>real</td>\n",
       "    </tr>\n",
       "    <tr>\n",
       "      <th>8</th>\n",
       "      <td>8</td>\n",
       "      <td>19.4343402009,-99.148212127</td>\n",
       "      <td>{\"type\": \"MultiPoint\", \"coordinates\": [[-99.14...</td>\n",
       "      <td>002_014_17</td>\n",
       "      <td>Cuautémoc</td>\n",
       "      <td>B</td>\n",
       "      <td>Hotel</td>\n",
       "      <td>Ambassador</td>\n",
       "    </tr>\n",
       "    <tr>\n",
       "      <th>12</th>\n",
       "      <td>12</td>\n",
       "      <td>19.43990186,-99.14813347</td>\n",
       "      <td>{\"type\": \"MultiPoint\", \"coordinates\": [[-99.14...</td>\n",
       "      <td>003_079_16</td>\n",
       "      <td>Cuautémoc</td>\n",
       "      <td>B</td>\n",
       "      <td>Hotel</td>\n",
       "      <td>La Paz</td>\n",
       "    </tr>\n",
       "    <tr>\n",
       "      <th>16</th>\n",
       "      <td>16</td>\n",
       "      <td>19.436811768,-99.1342853473</td>\n",
       "      <td>{\"type\": \"MultiPoint\", \"coordinates\": [[-99.13...</td>\n",
       "      <td>004_092_29</td>\n",
       "      <td>Cuautémoc</td>\n",
       "      <td>A</td>\n",
       "      <td>Hotel</td>\n",
       "      <td>República</td>\n",
       "    </tr>\n",
       "  </tbody>\n",
       "</table>\n",
       "</div>"
      ],
      "text/plain": [
       "    id                 geo_point_2d  \\\n",
       "0    0  19.424781053,-99.1327537959   \n",
       "4    4     19.42358238,-99.12451093   \n",
       "8    8  19.4343402009,-99.148212127   \n",
       "12  12     19.43990186,-99.14813347   \n",
       "16  16  19.436811768,-99.1342853473   \n",
       "\n",
       "                                            geo_shape   clave_cat  \\\n",
       "0   {\"type\": \"Polygon\", \"coordinates\": [[[-99.1332...  307_130_11   \n",
       "4   {\"type\": \"MultiPoint\", \"coordinates\": [[-99.12...  323_115_12   \n",
       "8   {\"type\": \"MultiPoint\", \"coordinates\": [[-99.14...  002_014_17   \n",
       "12  {\"type\": \"MultiPoint\", \"coordinates\": [[-99.14...  003_079_16   \n",
       "16  {\"type\": \"MultiPoint\", \"coordinates\": [[-99.13...  004_092_29   \n",
       "\n",
       "             delegacion perimetro     tipo       nom_id  \n",
       "0            Cuauhtémoc         B  Mercado  Pino Suárez  \n",
       "4   Venustiano Carranza         B    Hotel         real  \n",
       "8             Cuautémoc         B    Hotel   Ambassador  \n",
       "12            Cuautémoc         B    Hotel       La Paz  \n",
       "16            Cuautémoc         A    Hotel    República  "
      ]
     },
     "execution_count": 9,
     "metadata": {},
     "output_type": "execute_result"
    }
   ],
   "source": [
    "sistematic_sampling(datos, 4).head()"
   ]
  },
  {
   "cell_type": "code",
   "execution_count": 15,
   "metadata": {},
   "outputs": [
    {
     "data": {
      "text/plain": [
       "estratificado\n",
       "Cuautémoc, Hotel                64.347826\n",
       "Cuautémoc, Museo                15.652174\n",
       "Venustiano Carranza, Hotel       7.826087\n",
       "Cuauhtémoc, Mercado              7.391304\n",
       "Venustiano Carranza, Mercado     4.782609\n",
       "Name: count, dtype: float64"
      ]
     },
     "execution_count": 15,
     "metadata": {},
     "output_type": "execute_result"
    }
   ],
   "source": [
    "#Crea una nueva columa compuesta conformada por la columna de delegacion y tipo\n",
    "datos['estratificado'] = datos['delegacion'] + \", \" + datos['tipo']\n",
    "#Me muestra la proporcion de aparicion en el conjunto de datos, para cada variante de la columna compuesta\n",
    "(datos['estratificado'].value_counts() / len(datos) * 100 ).sort_values(ascending=False)"
   ]
  },
  {
   "cell_type": "code",
   "execution_count": 20,
   "metadata": {},
   "outputs": [],
   "source": [
    "def data_estratificada(data, nombres_columnas_estrat, valores_estrat, prop_estrat, random_state=None):\n",
    "    df_estrat = pd.DataFrame(columns=data.columns)  # Creamos un DataFrame vacío con las mismas columnas que data\n",
    "    \n",
    "    pos = -1\n",
    "    for i in range(len(valores_estrat)):  # Iteración sobre los valores estratificados\n",
    "        pos += 1\n",
    "        if pos == len(valores_estrat) - 1:\n",
    "            ratio_len = len(data) - len(df_estrat)  # Calculamos el número de filas para que coincida con el total original\n",
    "        else:\n",
    "            ratio_len = int(len(data) * prop_estrat[i])  # Calculamos el número de filas según la proporción deseada\n",
    "        \n",
    "        # Filtramos los datos originales según los valores seleccionados en la estratificación\n",
    "        df_filtrado = data[data[nombres_columnas_estrat] == valores_estrat[i]]\n",
    "        \n",
    "        # Hacemos un muestreo aleatorio con reemplazo usando la proporción calculada\n",
    "        df_temp = df_filtrado.sample(replace=True, n=ratio_len, random_state=random_state)\n",
    "        \n",
    "        # Concatenamos los datos muestreados con el DataFrame estratificado en construcción\n",
    "        df_estrat = pd.concat([df_estrat, df_temp])\n",
    "        \n",
    "    return df_estrat  # Devolvemos los datos estratificados y remuestreados"
   ]
  },
  {
   "cell_type": "code",
   "execution_count": 21,
   "metadata": {},
   "outputs": [
    {
     "data": {
      "text/html": [
       "<div>\n",
       "<style scoped>\n",
       "    .dataframe tbody tr th:only-of-type {\n",
       "        vertical-align: middle;\n",
       "    }\n",
       "\n",
       "    .dataframe tbody tr th {\n",
       "        vertical-align: top;\n",
       "    }\n",
       "\n",
       "    .dataframe thead th {\n",
       "        text-align: right;\n",
       "    }\n",
       "</style>\n",
       "<table border=\"1\" class=\"dataframe\">\n",
       "  <thead>\n",
       "    <tr style=\"text-align: right;\">\n",
       "      <th></th>\n",
       "      <th>id</th>\n",
       "      <th>geo_point_2d</th>\n",
       "      <th>geo_shape</th>\n",
       "      <th>clave_cat</th>\n",
       "      <th>delegacion</th>\n",
       "      <th>perimetro</th>\n",
       "      <th>tipo</th>\n",
       "      <th>nom_id</th>\n",
       "      <th>estratificado</th>\n",
       "    </tr>\n",
       "  </thead>\n",
       "  <tbody>\n",
       "    <tr>\n",
       "      <th>78</th>\n",
       "      <td>78</td>\n",
       "      <td>19.4430578017,-99.13614342</td>\n",
       "      <td>{\"type\": \"Polygon\", \"coordinates\": [[[-99.1368...</td>\n",
       "      <td>004_107_01</td>\n",
       "      <td>Cuauhtémoc</td>\n",
       "      <td>B</td>\n",
       "      <td>Mercado</td>\n",
       "      <td>La Lagunilla</td>\n",
       "      <td>Cuauhtémoc, Mercado</td>\n",
       "    </tr>\n",
       "    <tr>\n",
       "      <th>162</th>\n",
       "      <td>162</td>\n",
       "      <td>19.4452741596,-99.1443205075</td>\n",
       "      <td>{\"type\": \"Polygon\", \"coordinates\": [[[-99.1448...</td>\n",
       "      <td>003_044_01</td>\n",
       "      <td>Cuauhtémoc</td>\n",
       "      <td>B</td>\n",
       "      <td>Mercado</td>\n",
       "      <td>Martínez de la Torre</td>\n",
       "      <td>Cuauhtémoc, Mercado</td>\n",
       "    </tr>\n",
       "    <tr>\n",
       "      <th>129</th>\n",
       "      <td>129</td>\n",
       "      <td>NaN</td>\n",
       "      <td>NaN</td>\n",
       "      <td>005_125_01</td>\n",
       "      <td>Cuauhtémoc</td>\n",
       "      <td>A</td>\n",
       "      <td>Mercado</td>\n",
       "      <td>Abelardo</td>\n",
       "      <td>Cuauhtémoc, Mercado</td>\n",
       "    </tr>\n",
       "    <tr>\n",
       "      <th>79</th>\n",
       "      <td>79</td>\n",
       "      <td>19.4299360348,-99.1445730919</td>\n",
       "      <td>{\"type\": \"Polygon\", \"coordinates\": [[[-99.1450...</td>\n",
       "      <td>002_047_11</td>\n",
       "      <td>Cuauhtémoc</td>\n",
       "      <td>B</td>\n",
       "      <td>Mercado</td>\n",
       "      <td>San Juan</td>\n",
       "      <td>Cuauhtémoc, Mercado</td>\n",
       "    </tr>\n",
       "    <tr>\n",
       "      <th>78</th>\n",
       "      <td>78</td>\n",
       "      <td>19.4430578017,-99.13614342</td>\n",
       "      <td>{\"type\": \"Polygon\", \"coordinates\": [[[-99.1368...</td>\n",
       "      <td>004_107_01</td>\n",
       "      <td>Cuauhtémoc</td>\n",
       "      <td>B</td>\n",
       "      <td>Mercado</td>\n",
       "      <td>La Lagunilla</td>\n",
       "      <td>Cuauhtémoc, Mercado</td>\n",
       "    </tr>\n",
       "    <tr>\n",
       "      <th>...</th>\n",
       "      <td>...</td>\n",
       "      <td>...</td>\n",
       "      <td>...</td>\n",
       "      <td>...</td>\n",
       "      <td>...</td>\n",
       "      <td>...</td>\n",
       "      <td>...</td>\n",
       "      <td>...</td>\n",
       "      <td>...</td>\n",
       "    </tr>\n",
       "    <tr>\n",
       "      <th>128</th>\n",
       "      <td>128</td>\n",
       "      <td>19.4270781084,-99.1210175514</td>\n",
       "      <td>{\"type\": \"Polygon\", \"coordinates\": [[[-99.1214...</td>\n",
       "      <td>323_061_04(123)</td>\n",
       "      <td>Venustiano Carranza</td>\n",
       "      <td>B</td>\n",
       "      <td>Mercado</td>\n",
       "      <td>San Ciprian</td>\n",
       "      <td>Venustiano Carranza, Mercado</td>\n",
       "    </tr>\n",
       "    <tr>\n",
       "      <th>37</th>\n",
       "      <td>37</td>\n",
       "      <td>19.4271233834,-99.125111772</td>\n",
       "      <td>{\"type\": \"Polygon\", \"coordinates\": [[[-99.1251...</td>\n",
       "      <td>323_065_01</td>\n",
       "      <td>Venustiano Carranza</td>\n",
       "      <td>B</td>\n",
       "      <td>Mercado</td>\n",
       "      <td>Dulceria</td>\n",
       "      <td>Venustiano Carranza, Mercado</td>\n",
       "    </tr>\n",
       "    <tr>\n",
       "      <th>163</th>\n",
       "      <td>163</td>\n",
       "      <td>19.4265454033,-99.1224859032</td>\n",
       "      <td>{\"type\": \"Polygon\", \"coordinates\": [[[-99.1231...</td>\n",
       "      <td>323_063_05</td>\n",
       "      <td>Venustiano Carranza</td>\n",
       "      <td>B</td>\n",
       "      <td>Mercado</td>\n",
       "      <td>NaN</td>\n",
       "      <td>Venustiano Carranza, Mercado</td>\n",
       "    </tr>\n",
       "    <tr>\n",
       "      <th>156</th>\n",
       "      <td>156</td>\n",
       "      <td>19.4255480371,-99.1249308096</td>\n",
       "      <td>{\"type\": \"Polygon\", \"coordinates\": [[[-99.1253...</td>\n",
       "      <td>323_138_04 (3)</td>\n",
       "      <td>Venustiano Carranza</td>\n",
       "      <td>B</td>\n",
       "      <td>Mercado</td>\n",
       "      <td>Mariscos</td>\n",
       "      <td>Venustiano Carranza, Mercado</td>\n",
       "    </tr>\n",
       "    <tr>\n",
       "      <th>37</th>\n",
       "      <td>37</td>\n",
       "      <td>19.4271233834,-99.125111772</td>\n",
       "      <td>{\"type\": \"Polygon\", \"coordinates\": [[[-99.1251...</td>\n",
       "      <td>323_065_01</td>\n",
       "      <td>Venustiano Carranza</td>\n",
       "      <td>B</td>\n",
       "      <td>Mercado</td>\n",
       "      <td>Dulceria</td>\n",
       "      <td>Venustiano Carranza, Mercado</td>\n",
       "    </tr>\n",
       "  </tbody>\n",
       "</table>\n",
       "<p>230 rows × 9 columns</p>\n",
       "</div>"
      ],
      "text/plain": [
       "      id                  geo_point_2d  \\\n",
       "78    78    19.4430578017,-99.13614342   \n",
       "162  162  19.4452741596,-99.1443205075   \n",
       "129  129                           NaN   \n",
       "79    79  19.4299360348,-99.1445730919   \n",
       "78    78    19.4430578017,-99.13614342   \n",
       "..   ...                           ...   \n",
       "128  128  19.4270781084,-99.1210175514   \n",
       "37    37   19.4271233834,-99.125111772   \n",
       "163  163  19.4265454033,-99.1224859032   \n",
       "156  156  19.4255480371,-99.1249308096   \n",
       "37    37   19.4271233834,-99.125111772   \n",
       "\n",
       "                                             geo_shape        clave_cat  \\\n",
       "78   {\"type\": \"Polygon\", \"coordinates\": [[[-99.1368...       004_107_01   \n",
       "162  {\"type\": \"Polygon\", \"coordinates\": [[[-99.1448...       003_044_01   \n",
       "129                                                NaN       005_125_01   \n",
       "79   {\"type\": \"Polygon\", \"coordinates\": [[[-99.1450...       002_047_11   \n",
       "78   {\"type\": \"Polygon\", \"coordinates\": [[[-99.1368...       004_107_01   \n",
       "..                                                 ...              ...   \n",
       "128  {\"type\": \"Polygon\", \"coordinates\": [[[-99.1214...  323_061_04(123)   \n",
       "37   {\"type\": \"Polygon\", \"coordinates\": [[[-99.1251...       323_065_01   \n",
       "163  {\"type\": \"Polygon\", \"coordinates\": [[[-99.1231...       323_063_05   \n",
       "156  {\"type\": \"Polygon\", \"coordinates\": [[[-99.1253...   323_138_04 (3)   \n",
       "37   {\"type\": \"Polygon\", \"coordinates\": [[[-99.1251...       323_065_01   \n",
       "\n",
       "              delegacion perimetro     tipo                nom_id  \\\n",
       "78            Cuauhtémoc         B  Mercado          La Lagunilla   \n",
       "162           Cuauhtémoc         B  Mercado  Martínez de la Torre   \n",
       "129           Cuauhtémoc         A  Mercado              Abelardo   \n",
       "79            Cuauhtémoc         B  Mercado              San Juan   \n",
       "78            Cuauhtémoc         B  Mercado          La Lagunilla   \n",
       "..                   ...       ...      ...                   ...   \n",
       "128  Venustiano Carranza         B  Mercado           San Ciprian   \n",
       "37   Venustiano Carranza         B  Mercado              Dulceria   \n",
       "163  Venustiano Carranza         B  Mercado                   NaN   \n",
       "156  Venustiano Carranza         B  Mercado              Mariscos   \n",
       "37   Venustiano Carranza         B  Mercado              Dulceria   \n",
       "\n",
       "                    estratificado  \n",
       "78            Cuauhtémoc, Mercado  \n",
       "162           Cuauhtémoc, Mercado  \n",
       "129           Cuauhtémoc, Mercado  \n",
       "79            Cuauhtémoc, Mercado  \n",
       "78            Cuauhtémoc, Mercado  \n",
       "..                            ...  \n",
       "128  Venustiano Carranza, Mercado  \n",
       "37   Venustiano Carranza, Mercado  \n",
       "163  Venustiano Carranza, Mercado  \n",
       "156  Venustiano Carranza, Mercado  \n",
       "37   Venustiano Carranza, Mercado  \n",
       "\n",
       "[230 rows x 9 columns]"
      ]
     },
     "execution_count": 21,
     "metadata": {},
     "output_type": "execute_result"
    }
   ],
   "source": [
    "valores_estrat = datos.estratificado.unique() #['Cuautémoc, Hotel', 'Cuautémoc, Museo', 'Venustiano Carranza, Hotel', 'Cuauhtémoc, Mercado','Venustiano Carranza, Mercado']\n",
    "prop_estrat = [0.5, 0.2, 0.1, 0.1,0.1] #Proporcion que quiero que me entregue de cada variante\n",
    "df_estrat = data_estratificada(datos, 'estratificado', valores_estrat, prop_estrat, random_state=42)\n",
    "df_estrat"
   ]
  },
  {
   "cell_type": "code",
   "execution_count": 39,
   "metadata": {},
   "outputs": [],
   "source": [
    "def var(datos, p_m='p'):\n",
    "    xm = datos.sum() / len(datos)\n",
    "    sumatoria = 0\n",
    "    for xi in datos:\n",
    "        sumatoria += (xi - xm)**2\n",
    "    if p_m == 'p':\n",
    "        return  sumatoria / len(datos)\n",
    "    else:\n",
    "        return sumatoria / (len(datos) - 1)\n",
    "\n",
    "def std(var):\n",
    "    return var** 0.5"
   ]
  },
  {
   "cell_type": "code",
   "execution_count": 41,
   "metadata": {},
   "outputs": [
    {
     "data": {
      "text/plain": [
       "17.583333333333332"
      ]
     },
     "execution_count": 41,
     "metadata": {},
     "output_type": "execute_result"
    }
   ],
   "source": [
    "var(np.array([12,3,4,4]), 'm')"
   ]
  },
  {
   "cell_type": "code",
   "execution_count": 42,
   "metadata": {},
   "outputs": [
    {
     "data": {
      "text/plain": [
       "4.193248541803041"
      ]
     },
     "execution_count": 42,
     "metadata": {},
     "output_type": "execute_result"
    }
   ],
   "source": [
    "std(var(np.array([12,3,4,4]), 'm'))"
   ]
  },
  {
   "cell_type": "code",
   "execution_count": 44,
   "metadata": {},
   "outputs": [],
   "source": [
    "import pandas as pd\n",
    "import seaborn as sns\n",
    "import matplotlib.pyplot as plt"
   ]
  },
  {
   "cell_type": "code",
   "execution_count": 49,
   "metadata": {},
   "outputs": [
    {
     "data": {
      "text/html": [
       "<div>\n",
       "<style scoped>\n",
       "    .dataframe tbody tr th:only-of-type {\n",
       "        vertical-align: middle;\n",
       "    }\n",
       "\n",
       "    .dataframe tbody tr th {\n",
       "        vertical-align: top;\n",
       "    }\n",
       "\n",
       "    .dataframe thead th {\n",
       "        text-align: right;\n",
       "    }\n",
       "</style>\n",
       "<table border=\"1\" class=\"dataframe\">\n",
       "  <thead>\n",
       "    <tr style=\"text-align: right;\">\n",
       "      <th></th>\n",
       "      <th>sepal-length</th>\n",
       "      <th>sepal-width</th>\n",
       "      <th>petal-length</th>\n",
       "      <th>petal-width</th>\n",
       "      <th>class</th>\n",
       "    </tr>\n",
       "  </thead>\n",
       "  <tbody>\n",
       "    <tr>\n",
       "      <th>0</th>\n",
       "      <td>5.1</td>\n",
       "      <td>3.5</td>\n",
       "      <td>1.4</td>\n",
       "      <td>0.2</td>\n",
       "      <td>Iris-setosa</td>\n",
       "    </tr>\n",
       "    <tr>\n",
       "      <th>1</th>\n",
       "      <td>4.9</td>\n",
       "      <td>3.0</td>\n",
       "      <td>1.4</td>\n",
       "      <td>0.2</td>\n",
       "      <td>Iris-setosa</td>\n",
       "    </tr>\n",
       "    <tr>\n",
       "      <th>2</th>\n",
       "      <td>4.7</td>\n",
       "      <td>3.2</td>\n",
       "      <td>1.3</td>\n",
       "      <td>0.2</td>\n",
       "      <td>Iris-setosa</td>\n",
       "    </tr>\n",
       "    <tr>\n",
       "      <th>3</th>\n",
       "      <td>4.6</td>\n",
       "      <td>3.1</td>\n",
       "      <td>1.5</td>\n",
       "      <td>0.2</td>\n",
       "      <td>Iris-setosa</td>\n",
       "    </tr>\n",
       "    <tr>\n",
       "      <th>4</th>\n",
       "      <td>5.0</td>\n",
       "      <td>3.6</td>\n",
       "      <td>1.4</td>\n",
       "      <td>0.2</td>\n",
       "      <td>Iris-setosa</td>\n",
       "    </tr>\n",
       "  </tbody>\n",
       "</table>\n",
       "</div>"
      ],
      "text/plain": [
       "   sepal-length  sepal-width  petal-length  petal-width        class\n",
       "0           5.1          3.5           1.4          0.2  Iris-setosa\n",
       "1           4.9          3.0           1.4          0.2  Iris-setosa\n",
       "2           4.7          3.2           1.3          0.2  Iris-setosa\n",
       "3           4.6          3.1           1.5          0.2  Iris-setosa\n",
       "4           5.0          3.6           1.4          0.2  Iris-setosa"
      ]
     },
     "execution_count": 49,
     "metadata": {},
     "output_type": "execute_result"
    }
   ],
   "source": [
    "url = './archive.ics.uci.edu_ml_machine-learning-databases_iris_iris.data.txt'\n",
    "names = ['sepal-length','sepal-width','petal-length','petal-width','class']\n",
    "iris = pd.read_csv(url,names = names)\n",
    "iris.head()"
   ]
  },
  {
   "cell_type": "markdown",
   "metadata": {},
   "source": [
    "### Grafico de variables de iris"
   ]
  },
  {
   "cell_type": "code",
   "execution_count": 57,
   "metadata": {},
   "outputs": [
    {
     "data": {
      "image/png": "[encoded data removed]",
      "text/plain": [
       "<Figure size 640x480 with 1 Axes>"
      ]
     },
     "metadata": {},
     "output_type": "display_data"
    }
   ],
   "source": [
    "plt.plot(iris['petal-length'], 'r')\n",
    "plt.hist(iris['petal-length'],color='b')\n",
    "plt.show()"
   ]
  },
  {
   "cell_type": "code",
   "execution_count": 63,
   "metadata": {},
   "outputs": [
    {
     "data": {
      "text/plain": [
       "<seaborn.axisgrid.FacetGrid at 0x148642310>"
      ]
     },
     "execution_count": 63,
     "metadata": {},
     "output_type": "execute_result"
    },
    {
     "data": {
      "image/png": "[encoded data removed]",
      "text/plain": [
       "<Figure size 500x500 with 1 Axes>"
      ]
     },
     "metadata": {},
     "output_type": "display_data"
    }
   ],
   "source": [
    "sns.displot(iris['petal-width'],kde=True,  bins=int(180/5))"
   ]
  },
  {
   "cell_type": "code",
   "execution_count": 66,
   "metadata": {},
   "outputs": [
    {
     "data": {
      "text/plain": [
       "3.113179418344519"
      ]
     },
     "execution_count": 66,
     "metadata": {},
     "output_type": "execute_result"
    }
   ],
   "source": [
    "iris['petal-length'].var()"
   ]
  },
  {
   "cell_type": "code",
   "execution_count": 67,
   "metadata": {},
   "outputs": [
    {
     "data": {
      "text/plain": [
       "3.092424888888889"
      ]
     },
     "execution_count": 67,
     "metadata": {},
     "output_type": "execute_result"
    }
   ],
   "source": [
    "var(iris['petal-length'], 'p')"
   ]
  },
  {
   "cell_type": "code",
   "execution_count": 69,
   "metadata": {},
   "outputs": [
    {
     "data": {
      "text/plain": [
       "1.7644204199522626"
      ]
     },
     "execution_count": 69,
     "metadata": {},
     "output_type": "execute_result"
    }
   ],
   "source": [
    "iris['petal-length'].std()"
   ]
  },
  {
   "cell_type": "code",
   "execution_count": 68,
   "metadata": {},
   "outputs": [
    {
     "data": {
      "text/plain": [
       "1.7585291834055212"
      ]
     },
     "execution_count": 68,
     "metadata": {},
     "output_type": "execute_result"
    }
   ],
   "source": [
    "std(var(iris['petal-length'], 'p'))"
   ]
  },
  {
   "cell_type": "code",
   "execution_count": 71,
   "metadata": {},
   "outputs": [],
   "source": [
    "df = pd.read_csv('./world-data-2023.csv')"
   ]
  },
  {
   "cell_type": "code",
   "execution_count": 72,
   "metadata": {},
   "outputs": [
    {
     "data": {
      "text/html": [
       "<div>\n",
       "<style scoped>\n",
       "    .dataframe tbody tr th:only-of-type {\n",
       "        vertical-align: middle;\n",
       "    }\n",
       "\n",
       "    .dataframe tbody tr th {\n",
       "        vertical-align: top;\n",
       "    }\n",
       "\n",
       "    .dataframe thead th {\n",
       "        text-align: right;\n",
       "    }\n",
       "</style>\n",
       "<table border=\"1\" class=\"dataframe\">\n",
       "  <thead>\n",
       "    <tr style=\"text-align: right;\">\n",
       "      <th></th>\n",
       "      <th>Country</th>\n",
       "      <th>Density\\n(P/Km2)</th>\n",
       "      <th>Abbreviation</th>\n",
       "      <th>Agricultural Land( %)</th>\n",
       "      <th>Land Area(Km2)</th>\n",
       "      <th>Armed Forces size</th>\n",
       "      <th>Birth Rate</th>\n",
       "      <th>Calling Code</th>\n",
       "      <th>Capital/Major City</th>\n",
       "      <th>Co2-Emissions</th>\n",
       "      <th>...</th>\n",
       "      <th>Out of pocket health expenditure</th>\n",
       "      <th>Physicians per thousand</th>\n",
       "      <th>Population</th>\n",
       "      <th>Population: Labor force participation (%)</th>\n",
       "      <th>Tax revenue (%)</th>\n",
       "      <th>Total tax rate</th>\n",
       "      <th>Unemployment rate</th>\n",
       "      <th>Urban_population</th>\n",
       "      <th>Latitude</th>\n",
       "      <th>Longitude</th>\n",
       "    </tr>\n",
       "  </thead>\n",
       "  <tbody>\n",
       "    <tr>\n",
       "      <th>34</th>\n",
       "      <td>Chad</td>\n",
       "      <td>13</td>\n",
       "      <td>TD</td>\n",
       "      <td>39.70%</td>\n",
       "      <td>1,284,000</td>\n",
       "      <td>35,000</td>\n",
       "      <td>42.17</td>\n",
       "      <td>235.0</td>\n",
       "      <td>N'Djamena</td>\n",
       "      <td>1,016</td>\n",
       "      <td>...</td>\n",
       "      <td>56.40%</td>\n",
       "      <td>0.04</td>\n",
       "      <td>15,946,876</td>\n",
       "      <td>70.70%</td>\n",
       "      <td>NaN</td>\n",
       "      <td>63.50%</td>\n",
       "      <td>1.89%</td>\n",
       "      <td>3,712,273</td>\n",
       "      <td>15.454166</td>\n",
       "      <td>18.732207</td>\n",
       "    </tr>\n",
       "    <tr>\n",
       "      <th>25</th>\n",
       "      <td>Bulgaria</td>\n",
       "      <td>64</td>\n",
       "      <td>BG</td>\n",
       "      <td>46.30%</td>\n",
       "      <td>110,879</td>\n",
       "      <td>31,000</td>\n",
       "      <td>8.90</td>\n",
       "      <td>359.0</td>\n",
       "      <td>Sofia</td>\n",
       "      <td>41,708</td>\n",
       "      <td>...</td>\n",
       "      <td>47.70%</td>\n",
       "      <td>4.03</td>\n",
       "      <td>6,975,761</td>\n",
       "      <td>55.40%</td>\n",
       "      <td>20.20%</td>\n",
       "      <td>28.30%</td>\n",
       "      <td>4.34%</td>\n",
       "      <td>5,256,027</td>\n",
       "      <td>42.733883</td>\n",
       "      <td>25.485830</td>\n",
       "    </tr>\n",
       "    <tr>\n",
       "      <th>14</th>\n",
       "      <td>Barbados</td>\n",
       "      <td>668</td>\n",
       "      <td>BB</td>\n",
       "      <td>23.30%</td>\n",
       "      <td>430</td>\n",
       "      <td>1,000</td>\n",
       "      <td>10.65</td>\n",
       "      <td>1.0</td>\n",
       "      <td>Bridgetown</td>\n",
       "      <td>1,276</td>\n",
       "      <td>...</td>\n",
       "      <td>45.20%</td>\n",
       "      <td>2.48</td>\n",
       "      <td>287,025</td>\n",
       "      <td>65.20%</td>\n",
       "      <td>27.50%</td>\n",
       "      <td>35.60%</td>\n",
       "      <td>10.33%</td>\n",
       "      <td>89,431</td>\n",
       "      <td>13.193887</td>\n",
       "      <td>-59.543198</td>\n",
       "    </tr>\n",
       "  </tbody>\n",
       "</table>\n",
       "<p>3 rows × 35 columns</p>\n",
       "</div>"
      ],
      "text/plain": [
       "     Country Density\\n(P/Km2) Abbreviation Agricultural Land( %)  \\\n",
       "34      Chad               13           TD                39.70%   \n",
       "25  Bulgaria               64           BG                46.30%   \n",
       "14  Barbados              668           BB                23.30%   \n",
       "\n",
       "   Land Area(Km2) Armed Forces size  Birth Rate  Calling Code  \\\n",
       "34      1,284,000            35,000       42.17         235.0   \n",
       "25        110,879            31,000        8.90         359.0   \n",
       "14            430             1,000       10.65           1.0   \n",
       "\n",
       "   Capital/Major City Co2-Emissions  ... Out of pocket health expenditure  \\\n",
       "34          N'Djamena         1,016  ...                           56.40%   \n",
       "25              Sofia        41,708  ...                           47.70%   \n",
       "14         Bridgetown         1,276  ...                           45.20%   \n",
       "\n",
       "   Physicians per thousand  Population  \\\n",
       "34                    0.04  15,946,876   \n",
       "25                    4.03   6,975,761   \n",
       "14                    2.48     287,025   \n",
       "\n",
       "    Population: Labor force participation (%) Tax revenue (%) Total tax rate  \\\n",
       "34                                     70.70%             NaN         63.50%   \n",
       "25                                     55.40%          20.20%         28.30%   \n",
       "14                                     65.20%          27.50%         35.60%   \n",
       "\n",
       "   Unemployment rate Urban_population   Latitude  Longitude  \n",
       "34             1.89%        3,712,273  15.454166  18.732207  \n",
       "25             4.34%        5,256,027  42.733883  25.485830  \n",
       "14            10.33%           89,431  13.193887 -59.543198  \n",
       "\n",
       "[3 rows x 35 columns]"
      ]
     },
     "execution_count": 72,
     "metadata": {},
     "output_type": "execute_result"
    }
   ],
   "source": [
    "df.sample(3, random_state=3)"
   ]
  },
  {
   "cell_type": "code",
   "execution_count": 81,
   "metadata": {},
   "outputs": [],
   "source": [
    "import numpy as np"
   ]
  },
  {
   "cell_type": "code",
   "execution_count": 83,
   "metadata": {},
   "outputs": [
    {
     "data": {
      "text/plain": [
       "Index(['Country', 'Density\\n(P/Km2)', 'Abbreviation', 'Agricultural Land( %)',\n",
       "       'Land Area(Km2)', 'Armed Forces size', 'Birth Rate', 'Calling Code',\n",
       "       'Capital/Major City', 'Co2-Emissions', 'CPI', 'CPI Change (%)',\n",
       "       'Currency-Code', 'Fertility Rate', 'Forested Area (%)',\n",
       "       'Gasoline Price', 'GDP', 'Gross primary education enrollment (%)',\n",
       "       'Gross tertiary education enrollment (%)', 'Infant mortality',\n",
       "       'Largest city', 'Life expectancy', 'Maternal mortality ratio',\n",
       "       'Minimum wage', 'Official language', 'Out of pocket health expenditure',\n",
       "       'Physicians per thousand', 'Population',\n",
       "       'Population: Labor force participation (%)', 'Tax revenue (%)',\n",
       "       'Total tax rate', 'Unemployment rate', 'Urban_population', 'Latitude',\n",
       "       'Longitude'],\n",
       "      dtype='object')"
      ]
     },
     "execution_count": 83,
     "metadata": {},
     "output_type": "execute_result"
    }
   ],
   "source": [
    "(df.columns)"
   ]
  },
  {
   "cell_type": "code",
   "execution_count": 9,
   "metadata": {},
   "outputs": [],
   "source": [
    "import matplotlib.pyplot as plt"
   ]
  },
  {
   "cell_type": "code",
   "execution_count": 20,
   "metadata": {},
   "outputs": [],
   "source": [
    "random.seed(20)\n",
    "var1 = np.random.randint(0,10,10)\n",
    "var2 = var1 + np.random.normal(0,1,10)"
   ]
  },
  {
   "cell_type": "code",
   "execution_count": 21,
   "metadata": {},
   "outputs": [],
   "source": [
    "import seaborn as sns"
   ]
  },
  {
   "cell_type": "code",
   "execution_count": 41,
   "metadata": {},
   "outputs": [
    {
     "data": {
      "image/png": "[encoded data removed]",
      "text/plain": [
       "<Figure size 640x480 with 1 Axes>"
      ]
     },
     "metadata": {},
     "output_type": "display_data"
    }
   ],
   "source": [
    "import seaborn as sns\n",
    "\n",
    "# Assuming var1 and var2 are your data variables\n",
    "\n",
    "# Create a scatter plot with a regression line\n",
    "grafico = sns.regplot(x=var1, y=var2, scatter=True, ci=80, color='red', marker='x')\n",
    "\n",
    "\n",
    "\n",
    "# Show the plot\n",
    "plt.show()\n"
   ]
  },
  {
   "cell_type": "code",
   "execution_count": 57,
   "metadata": {},
   "outputs": [],
   "source": [
    "vacaciones = list(zip(var1, var2))"
   ]
  },
  {
   "cell_type": "code",
   "execution_count": 60,
   "metadata": {},
   "outputs": [],
   "source": [
    "tabla = pd.DataFrame(data=vacaciones, columns=['dias_vacaciones', 'dinero_gastado'])"
   ]
  },
  {
   "cell_type": "code",
   "execution_count": 2,
   "metadata": {},
   "outputs": [
    {
     "name": "stdout",
     "output_type": "stream",
     "text": [
      "Intervalo de Confianza: (3.627419770418782, 6.080785973965029)\n"
     ]
    }
   ],
   "source": [
    "import numpy as np\n",
    "import pandas as pd\n",
    "import scipy.stats as st\n",
    "\n",
    "# Establecer una semilla para la generación de números aleatorios para reproducibilidad\n",
    "np.random.seed(20)\n",
    "\n",
    "# Generar datos aleatorios para días de vacaciones y dinero gastado\n",
    "var1 = np.random.randint(0, 10, 10)\n",
    "var2 = var1 + np.random.normal(0, 1, 10)\n",
    "\n",
    "# Crear una lista de tuplas que representen los datos de vacaciones\n",
    "vacaciones = list(zip(var1, var2))\n",
    "\n",
    "# Crear un DataFrame con los datos de vacaciones\n",
    "tabla = pd.DataFrame(data=vacaciones, columns=['dias_vacaciones', 'dinero_gastado'])\n",
    "\n",
    "nivel_confianza = 0.80\n",
    "grados_libertad = len(tabla) - 1\n",
    "media = np.mean(tabla['dinero_gastado'])  # Calcular la media de 'dinero_gastado'\n",
    "error_estandar = st.sem(tabla['dinero_gastado'])  # Calcular el error estándar de 'dinero_gastado'\n",
    "\n",
    "# Calcula el intervalo de confianza\n",
    "intervalo_confianza = st.t.interval(\n",
    "    nivel_confianza,\n",
    "    df=grados_libertad,\n",
    "    loc=media,\n",
    "    scale=error_estandar\n",
    ")\n",
    "\n",
    "print(\"Intervalo de Confianza:\", intervalo_confianza)\n"
   ]
  },
  {
   "cell_type": "markdown",
   "metadata": {},
   "source": [
    "1. Establecer una hipotecis nula y una hipotesis alternativa \n",
    "2. Seleccionar el nivel de significancia o nivel de confianza con el que se obtendran los resultados \n",
    "3. Seleccionar el estadistico de prueba. \n",
    "4. Formular la regla de desicion. \n",
    "5.Interpretar los resultados y tomar una desicion"
   ]
  },
  {
   "cell_type": "code",
   "execution_count": null,
   "metadata": {},
   "outputs": [],
   "source": []
  }
 ],
 "metadata": {
  "kernelspec": {
   "display_name": ".venv",
   "language": "python",
   "name": "python3"
  },
  "language_info": {
   "codemirror_mode": {
    "name": "ipython",
    "version": 3
   },
   "file_extension": ".py",
   "mimetype": "text/x-python",
   "name": "python",
   "nbconvert_exporter": "python",
   "pygments_lexer": "ipython3",
   "version": "3.11.4"
  },
  "orig_nbformat": 4
 },
 "nbformat": 4,
 "nbformat_minor": 2
}
