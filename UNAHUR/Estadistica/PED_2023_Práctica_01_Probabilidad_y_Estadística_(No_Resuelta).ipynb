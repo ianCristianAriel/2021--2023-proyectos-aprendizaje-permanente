{
  "cells": [
    {
      "cell_type": "markdown",
      "metadata": {
        "id": "zt1tSFYpppS2"
      },
      "source": [
        "# <img src=\"https://cdn-icons-png.flaticon.com/512/2857/2857376.png\" width=\"50\" height=\"50\"> **Práctica 1: Probabilidad y Estadística- PED** <img src=\"https://cdn-icons-png.flaticon.com/512/2857/2857376.png\"  width=\"50\" height=\"50\">\n"
      ]
    },
    {
      "cell_type": "markdown",
      "metadata": {
        "id": "OJGdcyVbm23H"
      },
      "source": [
        "**Importante:** Hacer una copia en su drive antes de comenzar.\n",
        "\n"
      ]
    },
    {
      "cell_type": "markdown",
      "metadata": {
        "id": "MovA6zJjyfL2"
      },
      "source": [
        "\n",
        "#Ejercicio 1\n",
        "\n",
        "\n",
        "De los 39 alumnos de una clase, 16 escogieron francés y 27 inglés. Nueve\n",
        "alumnos eligieron ambos, y el resto no escogió ninguno de ellos. Si se elige al\n",
        "azar un alumno de dicha clase, halla las siguientes probabilidades.\n",
        "\n",
        "1. Escogió francés.\n",
        "2. Escogió inglés.\n",
        "3. Escogió ambos idiomas."
      ]
    },
    {
      "cell_type": "markdown",
      "metadata": {
        "id": "FZttXti79Je3"
      },
      "source": [
        "#Ejercicio 2\n",
        "\n",
        "\n",
        "¿Cual es la probabilidad de que salga el numero 3 al tirar un dado?\n",
        "\n"
      ]
    },
    {
      "cell_type": "code",
      "execution_count": 1,
      "metadata": {
        "id": "Vnj5PMyExCE9"
      },
      "outputs": [],
      "source": [
        "#datos\n",
        "numero_alumnos = 39\n",
        "frances = 16\n",
        "ingles = 27\n",
        "ingles_frances = 9"
      ]
    },
    {
      "cell_type": "code",
      "execution_count": null,
      "metadata": {},
      "outputs": [],
      "source": [
        "#Ejersicio 1\n",
        "p_frances = frances / numero_alumnos\n",
        "p_ingles = ingles / numero_alumnos\n",
        "p_ingles_frances = ingles_frances /numero_alumnos\n",
        "\n",
        "p_ingles, p_frances, p_ingles_frances"
      ]
    },
    {
      "cell_type": "code",
      "execution_count": 4,
      "metadata": {},
      "outputs": [
        {
          "data": {
            "text/plain": [
              "0.16666666666666666"
            ]
          },
          "execution_count": 4,
          "metadata": {},
          "output_type": "execute_result"
        }
      ],
      "source": [
        "#Ejersicio 2\n",
        "dado = [1,2,3,4,5,6]\n",
        "p_tres = dado.count(3) / len(dado)\n",
        "\n",
        "p_tres"
      ]
    },
    {
      "cell_type": "markdown",
      "metadata": {
        "id": "-Vr7k1oLy_qu"
      },
      "source": [
        "\n",
        "\n",
        "El siguiente código simula la tirada de un dado:\n",
        "\n",
        "```\n",
        "import random\n",
        "\n",
        "# devuelve un entero aleatorio entre 1 y 6\n",
        "dado = random.randint(1,6)\n",
        "```\n",
        "\n",
        "\n"
      ]
    },
    {
      "cell_type": "markdown",
      "metadata": {
        "id": "mWrqU1za0a-x"
      },
      "source": [
        "\n",
        "Dado el codigo anterior, crear una función que simule n cantidad de tiradas de un dado.\n",
        "\n",
        "```\n",
        "def tirar_dado(n):\n",
        "    \n",
        "```\n"
      ]
    },
    {
      "cell_type": "code",
      "execution_count": 22,
      "metadata": {
        "id": "VYHQLe_p0oSZ"
      },
      "outputs": [],
      "source": [
        "import random\n",
        "\n",
        "def tirar_dado(numero_tiradas, cara_dado):\n",
        "    caras = []\n",
        "\n",
        "    if str(numero_tiradas).isnumeric():\n",
        "        numero_tiradas = int(numero_tiradas)  # Convert input to integer\n",
        "        for i in range(numero_tiradas):\n",
        "            cara = random.randint(1, 6)  # Assuming a standard 6-sided dice\n",
        "            caras.append(cara)\n",
        "        \n",
        "        n_frecuencia_absoluta = caras.count(cara_dado)\n",
        "        n_frecuencia_relativa = n_frecuencia_absoluta / len(caras)\n",
        "        \n",
        "        return caras, n_frecuencia_absoluta, n_frecuencia_relativa\n",
        "    else:\n",
        "        print(\"Por favor, ingrese un valor numerico entero válido.\")\n",
        "        return None  # Return None when input is invalid"
      ]
    },
    {
      "cell_type": "markdown",
      "metadata": {
        "id": "PeSLneEVrDDt"
      },
      "source": [
        "*  Simular 10 tiradas y calcular la frecuencia absoluta de que salga el numero 3\n",
        "*  Simular 100 tiradas y calcular la frecuencia absoluta de que salga el numero 3\n",
        "*  Simular 1000 tiradas y calcular la frecuencia absoluta de que salga el numero 3"
      ]
    },
    {
      "cell_type": "code",
      "execution_count": 27,
      "metadata": {},
      "outputs": [
        {
          "data": {
            "text/plain": [
              "((2, 0.2), (16, 0.16), (149, 0.149))"
            ]
          },
          "execution_count": 27,
          "metadata": {},
          "output_type": "execute_result"
        }
      ],
      "source": [
        "#10 tiradas numero 3 #100 tiradas numero 3  #1000 tiradas numero 3\n",
        "tirar_dado(10, 3)[1:], tirar_dado(100, 3)[1:], tirar_dado(1000, 3)[1:]"
      ]
    },
    {
      "cell_type": "markdown",
      "metadata": {
        "id": "DWlIh5CZCjVe"
      },
      "source": [
        "#Ejercicio 3\n",
        "\n",
        "Dadas las siguientes situaciones que se presentan a continuacion.\n",
        "\n",
        "\n",
        "*   Determinar la variable e identificar su tipo.\n",
        "*   Calcular los estadisticos de resumen.\n",
        "*   Realizar la tabla de frecuencia (frecuencia absoluta, relativa, porcentual y acumulada)\n",
        "\n",
        "\n"
      ]
    },
    {
      "cell_type": "markdown",
      "metadata": {
        "id": "UfBnwGxdHGaf"
      },
      "source": [
        "1. Un estudio realizado a 20 alumnos para determinar su grupo sanguíneo ha dado el siguiente resultado:\n",
        "\n",
        "'0', '0', '0', 'A', 'A', 'B', '0', 'AB', '0', 'B', 'B', 'A', '0', 'A', 'B', '0', 'A', '0', '0', 'A'"
      ]
    },
    {
      "cell_type": "code",
      "execution_count": 74,
      "metadata": {
        "id": "qCfVajD9Hb0q"
      },
      "outputs": [],
      "source": [
        "import numpy as np\n",
        "\n",
        "grupo_sanguineo = np.array(['0', '0', '0', 'A', 'A', 'B', '0', 'AB', '0', 'B', 'B', 'A', '0', 'A', 'B', '0', 'A', '0', '0', 'A'])\n",
        "\n",
        "enteros = np.array([])\n",
        "texto = np.array([])\n",
        "\n",
        "for i in grupo_sanguineo:\n",
        "    if i.isnumeric():\n",
        "        enteros = np.append(enteros, int(i))\n",
        "    else:\n",
        "        texto = np.append(texto, i)"
      ]
    },
    {
      "cell_type": "code",
      "execution_count": 75,
      "metadata": {},
      "outputs": [
        {
          "data": {
            "text/plain": [
              "array([0.])"
            ]
          },
          "execution_count": 75,
          "metadata": {},
          "output_type": "execute_result"
        }
      ],
      "source": [
        "np.unique(enteros)"
      ]
    },
    {
      "cell_type": "code",
      "execution_count": 76,
      "metadata": {},
      "outputs": [],
      "source": [
        "import pandas as pd\n",
        "\n",
        "texto = pd.Series(data = np.unique(texto, return_counts=True), index = ['valores', 'conteo'])"
      ]
    },
    {
      "cell_type": "code",
      "execution_count": 77,
      "metadata": {},
      "outputs": [
        {
          "data": {
            "text/plain": [
              "valores    [A, AB, B]\n",
              "conteo      [6, 1, 4]\n",
              "dtype: object"
            ]
          },
          "execution_count": 77,
          "metadata": {},
          "output_type": "execute_result"
        }
      ],
      "source": [
        "texto"
      ]
    },
    {
      "cell_type": "markdown",
      "metadata": {
        "id": "IbNNrcMdx1m9"
      },
      "source": [
        "\n",
        "\n",
        "2. Se registran las faltas en un curso de  un Colegio durante 20 dias.\n",
        "\n",
        "1, 0, 1, 2, 1, 2, 2, 0, 2, 0, 1, 0, 1, 1, 2, 3, 0, 2, 1, 0\n",
        "\n",
        "\n",
        "\n"
      ]
    },
    {
      "cell_type": "code",
      "execution_count": 101,
      "metadata": {
        "id": "gJaWYIri9rLv"
      },
      "outputs": [
        {
          "data": {
            "text/plain": [
              "count    20.00000\n",
              "mean      1.10000\n",
              "std       0.91191\n",
              "min       0.00000\n",
              "25%       0.00000\n",
              "50%       1.00000\n",
              "75%       2.00000\n",
              "max       3.00000\n",
              "dtype: float64"
            ]
          },
          "execution_count": 101,
          "metadata": {},
          "output_type": "execute_result"
        }
      ],
      "source": [
        "curso = pd.Series([1, 0, 1, 2, 1, 2, 2, 0, 2, 0, 1, 0, 1, 1, 2, 3, 0, 2, 1, 0])\n",
        "curso.describe()"
      ]
    },
    {
      "cell_type": "code",
      "execution_count": 93,
      "metadata": {},
      "outputs": [
        {
          "data": {
            "text/plain": [
              "count\n",
              "6    2\n",
              "7    1\n",
              "1    1\n",
              "Name: count, dtype: int64"
            ]
          },
          "execution_count": 93,
          "metadata": {},
          "output_type": "execute_result"
        }
      ],
      "source": [
        "curso = curso.value_counts()"
      ]
    },
    {
      "cell_type": "code",
      "execution_count": 104,
      "metadata": {},
      "outputs": [],
      "source": [
        "curso_frecrel = pd.Series(curso.value_counts(normalize=True))"
      ]
    },
    {
      "cell_type": "code",
      "execution_count": 105,
      "metadata": {},
      "outputs": [
        {
          "data": {
            "text/plain": [
              "1    0.35\n",
              "0    0.30\n",
              "2    0.30\n",
              "3    0.05\n",
              "Name: proportion, dtype: float64"
            ]
          },
          "execution_count": 105,
          "metadata": {},
          "output_type": "execute_result"
        }
      ],
      "source": [
        "curso_frecrel"
      ]
    },
    {
      "cell_type": "code",
      "execution_count": 107,
      "metadata": {},
      "outputs": [
        {
          "data": {
            "text/plain": [
              "count    20.00000\n",
              "mean      1.10000\n",
              "std       0.91191\n",
              "min       0.00000\n",
              "25%       0.00000\n",
              "50%       1.00000\n",
              "75%       2.00000\n",
              "max       3.00000\n",
              "dtype: float64"
            ]
          },
          "execution_count": 107,
          "metadata": {},
          "output_type": "execute_result"
        }
      ],
      "source": [
        "curso.describe()"
      ]
    },
    {
      "cell_type": "markdown",
      "metadata": {
        "id": "-qadR3O9-ECE"
      },
      "source": [
        "\n",
        "##¿Que ocurre si agregamos un dato mas?\n",
        "\n",
        "Ahora agregamos un dato mas que se corresponde al dia 21. El dia 21 hubo 32 faltas. ¿Que pasa?\n"
      ]
    },
    {
      "cell_type": "code",
      "execution_count": 130,
      "metadata": {
        "id": "tIG4nywl--QO"
      },
      "outputs": [],
      "source": [
        "curso = pd.Series([1, 0, 1, 2, 1, 2, 2, 0, 2, 0, 1, 0, 1, 1, 2, 3, 0, 2, 1, 0, 21])"
      ]
    },
    {
      "cell_type": "code",
      "execution_count": 131,
      "metadata": {},
      "outputs": [],
      "source": [
        "curso_freq_abs = curso.value_counts()\n",
        "curso_freq_rel = curso_freq_abs.value_counts(normalize=True)"
      ]
    },
    {
      "cell_type": "code",
      "execution_count": 132,
      "metadata": {},
      "outputs": [
        {
          "data": {
            "text/plain": [
              "1     7\n",
              "0     6\n",
              "2     6\n",
              "3     1\n",
              "21    1\n",
              "Name: count, dtype: int64"
            ]
          },
          "execution_count": 132,
          "metadata": {},
          "output_type": "execute_result"
        }
      ],
      "source": [
        "curso_freq_abs"
      ]
    },
    {
      "cell_type": "code",
      "execution_count": 133,
      "metadata": {},
      "outputs": [
        {
          "data": {
            "text/plain": [
              "count\n",
              "6    0.4\n",
              "1    0.4\n",
              "7    0.2\n",
              "Name: proportion, dtype: float64"
            ]
          },
          "execution_count": 133,
          "metadata": {},
          "output_type": "execute_result"
        }
      ],
      "source": [
        "curso_freq_rel"
      ]
    },
    {
      "cell_type": "code",
      "execution_count": 117,
      "metadata": {},
      "outputs": [
        {
          "data": {
            "text/plain": [
              "count     21\n",
              "unique     5\n",
              "top        1\n",
              "freq       7\n",
              "dtype: int64"
            ]
          },
          "execution_count": 117,
          "metadata": {},
          "output_type": "execute_result"
        }
      ],
      "source": [
        "curso.describe()"
      ]
    },
    {
      "cell_type": "markdown",
      "metadata": {
        "id": "Ld1EQ7-mzD5R"
      },
      "source": [
        "#Ejercicio 4\n",
        "La dueña de un departamento de alquiler temporario lleva un registro de la cantidad de noches que se alojan sus últimos 12 invitados: `7, 5, 2, 7, 7, 1, 14, 2, 1, 14, 7, 3`.\n",
        "\n",
        "Decidir cuál de las siguientes afirmaciones es verdadera.\n",
        "\n",
        "* El desvío es igual a 20,33.\n",
        "* La varianza es igual a 20,33.\n",
        "* El desvío es igual a 4,51.\n",
        "* La varianza es igual a 4,51.\n",
        "* Ninguna de las demás opciones.\n",
        "\n",
        "Construir la tabla de frecuencia absoluta.\n"
      ]
    },
    {
      "cell_type": "code",
      "execution_count": 135,
      "metadata": {
        "id": "LX2JhbN6zF18"
      },
      "outputs": [],
      "source": [
        "noches = np.array([7, 5, 2, 7, 7, 1, 14, 2, 1, 14, 7, 3])"
      ]
    },
    {
      "cell_type": "code",
      "execution_count": 144,
      "metadata": {},
      "outputs": [],
      "source": [
        "noches_frecabs = pd.Series(noches).value_counts()"
      ]
    },
    {
      "cell_type": "code",
      "execution_count": 146,
      "metadata": {},
      "outputs": [
        {
          "data": {
            "text/html": [
              "<div>\n",
              "<style scoped>\n",
              "    .dataframe tbody tr th:only-of-type {\n",
              "        vertical-align: middle;\n",
              "    }\n",
              "\n",
              "    .dataframe tbody tr th {\n",
              "        vertical-align: top;\n",
              "    }\n",
              "\n",
              "    .dataframe thead th {\n",
              "        text-align: right;\n",
              "    }\n",
              "</style>\n",
              "<table border=\"1\" class=\"dataframe\">\n",
              "  <thead>\n",
              "    <tr style=\"text-align: right;\">\n",
              "      <th></th>\n",
              "      <th>count</th>\n",
              "    </tr>\n",
              "  </thead>\n",
              "  <tbody>\n",
              "    <tr>\n",
              "      <th>7</th>\n",
              "      <td>4</td>\n",
              "    </tr>\n",
              "    <tr>\n",
              "      <th>2</th>\n",
              "      <td>2</td>\n",
              "    </tr>\n",
              "    <tr>\n",
              "      <th>1</th>\n",
              "      <td>2</td>\n",
              "    </tr>\n",
              "    <tr>\n",
              "      <th>14</th>\n",
              "      <td>2</td>\n",
              "    </tr>\n",
              "    <tr>\n",
              "      <th>5</th>\n",
              "      <td>1</td>\n",
              "    </tr>\n",
              "    <tr>\n",
              "      <th>3</th>\n",
              "      <td>1</td>\n",
              "    </tr>\n",
              "  </tbody>\n",
              "</table>\n",
              "</div>"
            ],
            "text/plain": [
              "    count\n",
              "7       4\n",
              "2       2\n",
              "1       2\n",
              "14      2\n",
              "5       1\n",
              "3       1"
            ]
          },
          "execution_count": 146,
          "metadata": {},
          "output_type": "execute_result"
        }
      ],
      "source": [
        "pd.DataFrame(noches_frecabs)"
      ]
    },
    {
      "cell_type": "code",
      "execution_count": 139,
      "metadata": {},
      "outputs": [
        {
          "data": {
            "text/plain": [
              "18.63888888888889"
            ]
          },
          "execution_count": 139,
          "metadata": {},
          "output_type": "execute_result"
        }
      ],
      "source": [
        "#b, d\n",
        "np.var(noches)"
      ]
    },
    {
      "cell_type": "code",
      "execution_count": 140,
      "metadata": {},
      "outputs": [
        {
          "data": {
            "text/plain": [
              "4.317277948996206"
            ]
          },
          "execution_count": 140,
          "metadata": {},
          "output_type": "execute_result"
        }
      ],
      "source": [
        "#a, c\n",
        "np.std(noches)"
      ]
    },
    {
      "cell_type": "code",
      "execution_count": null,
      "metadata": {},
      "outputs": [],
      "source": [
        "#d\n",
        "np.var"
      ]
    },
    {
      "cell_type": "markdown",
      "metadata": {
        "id": "8-zMHWmFnjwa"
      },
      "source": [
        "#Ejercicio 5\n",
        "\n",
        "A continuación, se presenta la distribución de frecuencias de la cantidad de hijos de veinte parejas:\n",
        "\n",
        "\n",
        "|Cantidad de Hijos\t|Frecuencia absoluta|\n",
        "|-------------------|-------------------|\n",
        "|0\t|4|\n",
        "|1\t|5|\n",
        "|2\t|6|\n",
        "|3\t|3|\n",
        "|4\t|2|\n",
        "|Total\t|20|\n",
        "\n",
        "\n",
        "Decidir que afirmación es correcta:\n",
        "\n",
        "1.  La mediana es igual a 2 y la media es igual a 1, 7.\n",
        "2. La mediana es igual a 1 y la media es igual a 1, 7.\n",
        "3. La mediana es igual a 2 y la media es igual a 3, 8.\n",
        "4.  La mediana es igual a 1, 7 y la media es igual a 1.\n",
        "5. Ninguna de las demás opciones\n",
        "\n"
      ]
    },
    {
      "cell_type": "code",
      "execution_count": 147,
      "metadata": {
        "id": "liOTo8MDxJ8v"
      },
      "outputs": [],
      "source": [
        "#su codigo\n",
        "index = [0,1,2,3,4]\n",
        "obsolute_freq = [4,5,6,3,2]\n",
        "\n",
        "df = pd.DataFrame(obsolute_freq, index = index)"
      ]
    },
    {
      "cell_type": "code",
      "execution_count": 158,
      "metadata": {},
      "outputs": [
        {
          "data": {
            "text/plain": [
              "{'mediana: ': 4.0, 'media: ': 4.0}"
            ]
          },
          "execution_count": 158,
          "metadata": {},
          "output_type": "execute_result"
        }
      ],
      "source": [
        "{'mediana: ': np.median(df.values),\n",
        "'media: ' : np.mean(df.values)}"
      ]
    }
  ],
  "metadata": {
    "colab": {
      "provenance": []
    },
    "kernelspec": {
      "display_name": "Python 3",
      "name": "python3"
    },
    "language_info": {
      "codemirror_mode": {
        "name": "ipython",
        "version": 3
      },
      "file_extension": ".py",
      "mimetype": "text/x-python",
      "name": "python",
      "nbconvert_exporter": "python",
      "pygments_lexer": "ipython3",
      "version": "3.11.4"
    }
  },
  "nbformat": 4,
  "nbformat_minor": 0
}
