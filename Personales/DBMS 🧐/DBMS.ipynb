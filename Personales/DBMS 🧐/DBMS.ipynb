{
 "cells": [
  {
   "cell_type": "code",
   "execution_count": 1,
   "metadata": {},
   "outputs": [],
   "source": [
    "import tkinter as tk\n",
    "import sqlite3"
   ]
  },
  {
   "cell_type": "code",
   "execution_count": 2,
   "metadata": {},
   "outputs": [],
   "source": [
    "# Crear una conexión a la base de datos\n",
    "conn = sqlite3.connect('./libros.db')\n",
    "cursor = conn.cursor()"
   ]
  },
  {
   "cell_type": "code",
   "execution_count": 8,
   "metadata": {},
   "outputs": [],
   "source": [
    "def query_dml(query):\n",
    "    try:\n",
    "        cursor.execute(query)\n",
    "        cursor.commit()\n",
    "        print('Query concretada con exito.')\n",
    "        registros = cursor.fetchall()\n",
    "        return registros\n",
    "        \n",
    "    except:\n",
    "        print('Ocurrio un error al insertar el registro en la base de datos.')"
   ]
  },
  {
   "cell_type": "code",
   "execution_count": 3,
   "metadata": {},
   "outputs": [],
   "source": [
    "# Crear una tabla si no existe\n",
    "cursor.execute('''\n",
    "    CREATE TABLE IF NOT EXISTS libros (\n",
    "        id INTEGER PRIMARY KEY,\n",
    "        titulo TEXT,\n",
    "        autor TEXT\n",
    "    )\n",
    "''')\n",
    "conn.commit()"
   ]
  },
  {
   "cell_type": "code",
   "execution_count": 4,
   "metadata": {},
   "outputs": [],
   "source": [
    "# Función para insertar datos en la base de datos\n",
    "def insertar_libro():\n",
    "    titulo = entry_titulo.get()\n",
    "    autor = entry_autor.get()\n",
    "\n",
    "    if titulo and autor:\n",
    "        cursor.execute('INSERT INTO libros (titulo, autor) VALUES (?, ?)', (titulo, autor))\n",
    "        conn.commit()\n",
    "\n",
    "        # Mostrar mensaje de éxito\n",
    "        mensaje_exitoso.config(text='Libro insertado exitosamente', fg='green')\n",
    "\n",
    "        # Limpiar campos de entrada\n",
    "        entry_titulo.delete(0, tk.END)\n",
    "        entry_autor.delete(0, tk.END)\n",
    "    else:\n",
    "        mensaje_exitoso.config(text='Por favor ingresa título y autor', fg='red')\n",
    "        \n",
    "    conn.commit()"
   ]
  },
  {
   "cell_type": "code",
   "execution_count": 9,
   "metadata": {},
   "outputs": [],
   "source": [
    "# Función para obtener y mostrar registros\n",
    "def mostrar_registros():\n",
    "    # Crear una conexión a la base de datos\n",
    "    conn = sqlite3.connect('libros.db')\n",
    "    cursor = conn.cursor()\n",
    "\n",
    "    # Ejecutar la consulta SELECT\n",
    "    cursor.execute('SELECT * FROM libros')\n",
    "\n",
    "    # Obtener todos los resultados de la consulta\n",
    "    resultados = cursor.fetchall()\n",
    "\n",
    "    # Cerrar la conexión a la base de datos\n",
    "    conn.close()\n",
    "\n",
    "    # Limpiar la lista de registros\n",
    "    lista_registros.delete(0, tk.END)\n",
    "\n",
    "    # Mostrar los resultados en la lista\n",
    "    for registro in resultados:\n",
    "        lista_registros.insert(tk.END, registro)"
   ]
  },
  {
   "cell_type": "code",
   "execution_count": 11,
   "metadata": {},
   "outputs": [
    {
     "ename": "",
     "evalue": "",
     "output_type": "error",
     "traceback": [
      "\u001b[1;31mEl Kernel se bloqueó al ejecutar código en la celda actual o en una celda anterior. Revise el código de las celdas para identificar una posible causa del error. Haga clic <a href='https://aka.ms/vscodeJupyterKernelCrash'>aquí</a> para obtener más información. Vea el [registro] de Jupyter (command:jupyter.viewOutput) para obtener más detalles."
     ]
    }
   ],
   "source": [
    "# Crear la ventana\n",
    "ventana = tk.Tk()\n",
    "ventana.title('Gestión de Libros')\n",
    "\n",
    "# Etiquetas y campos de entrada\n",
    "label_titulo = tk.Label(ventana, text='Título del Libro:')\n",
    "label_titulo.pack()\n",
    "\n",
    "entry_titulo = tk.Entry(ventana)\n",
    "entry_titulo.pack()\n",
    "\n",
    "label_autor = tk.Label(ventana, text='Autor del Libro:')\n",
    "label_autor.pack()\n",
    "\n",
    "entry_autor = tk.Entry(ventana)\n",
    "entry_autor.pack()\n",
    "\n",
    "# Botón para insertar\n",
    "boton_insertar = tk.Button(ventana, text='Insertar Libro', command=insertar_libro)\n",
    "boton_insertar.pack()\n",
    "\n",
    "mensaje_exitoso = tk.Label(ventana, text='', fg='green')\n",
    "mensaje_exitoso.pack()\n",
    "\n",
    "# Crear la ventana\n",
    "ventana = tk.Tk()\n",
    "ventana.title('Registros de Libros')\n",
    "\n",
    "# Botón para mostrar registros\n",
    "boton_mostrar = tk.Button(ventana, text='Mostrar Registros', command=mostrar_registros)\n",
    "boton_mostrar.pack()\n",
    "\n",
    "# Lista para mostrar registros\n",
    "lista_registros = tk.Listbox(ventana, width=50)\n",
    "lista_registros.pack()\n",
    "\n",
    "\n",
    "# Iniciar la interfaz gráfica\n",
    "ventana.mainloop()"
   ]
  },
  {
   "cell_type": "code",
   "execution_count": null,
   "metadata": {},
   "outputs": [],
   "source": [
    "# Cerrar la conexión a la base de datos al cerrar la ventana\n",
    "conn.close()"
   ]
  }
 ],
 "metadata": {
  "kernelspec": {
   "display_name": "Python 3",
   "language": "python",
   "name": "python3"
  },
  "language_info": {
   "codemirror_mode": {
    "name": "ipython",
    "version": 3
   },
   "file_extension": ".py",
   "mimetype": "text/x-python",
   "name": "python",
   "nbconvert_exporter": "python",
   "pygments_lexer": "ipython3",
   "version": "3.11.4"
  },
  "orig_nbformat": 4
 },
 "nbformat": 4,
 "nbformat_minor": 2
}
