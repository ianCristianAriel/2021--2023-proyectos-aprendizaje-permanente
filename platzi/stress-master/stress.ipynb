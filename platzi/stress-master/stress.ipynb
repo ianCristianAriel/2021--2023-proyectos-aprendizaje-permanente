{
 "cells": [
  {
   "attachments": {},
   "cell_type": "markdown",
   "metadata": {},
   "source": [
    "Importacion de librerias"
   ]
  },
  {
   "cell_type": "code",
   "execution_count": 1,
   "metadata": {},
   "outputs": [],
   "source": [
    "#Importacion de numpy\n",
    "import numpy as np"
   ]
  },
  {
   "cell_type": "code",
   "execution_count": 2,
   "metadata": {},
   "outputs": [],
   "source": [
    "#Importacion de pandas\n",
    "import pandas as pd"
   ]
  },
  {
   "attachments": {},
   "cell_type": "markdown",
   "metadata": {},
   "source": [
    "Lectura CSV"
   ]
  },
  {
   "cell_type": "code",
   "execution_count": 3,
   "metadata": {},
   "outputs": [],
   "source": [
    "path = r'./Stress.csv'\n",
    "stress = pd.read_csv(\n",
    "    path,\n",
    "    sep= ',',\n",
    "    #Posicion del encabezado \n",
    "    #Se traducen los nombres de las columnas\n",
    "    header = 0\n",
    "    )"
   ]
  },
  {
   "attachments": {},
   "cell_type": "markdown",
   "metadata": {},
   "source": [
    "ETL"
   ]
  },
  {
   "attachments": {},
   "cell_type": "markdown",
   "metadata": {},
   "source": [
    "Modificacion de columnas"
   ]
  },
  {
   "cell_type": "code",
   "execution_count": 4,
   "metadata": {},
   "outputs": [],
   "source": [
    "#Se elimina la primer columna\n",
    "stress = stress.drop(['subreddit'], axis=1)"
   ]
  },
  {
   "cell_type": "code",
   "execution_count": 5,
   "metadata": {},
   "outputs": [],
   "source": [
    "stress.rename(columns={\n",
    "    'post_id': 'id', \n",
    "    'sentence_range': 'rango_sentencia',\n",
    "    'text' : 'Texto',\n",
    "    'label' : 'Etiqueta',\n",
    "    'confidence' : 'Confidencia',\n",
    "    'social_timestamp' : 'Tiempo_social'\n",
    "    }, inplace=True)"
   ]
  },
  {
   "attachments": {},
   "cell_type": "markdown",
   "metadata": {},
   "source": [
    "Trabajando con valores nulos"
   ]
  },
  {
   "cell_type": "code",
   "execution_count": 6,
   "metadata": {},
   "outputs": [],
   "source": [
    "#Como no hay una relacion secuencial entre los valores no se aplica interpolacion a los valores nulos de la columnas\n",
    "#Se borran las filas con valores nulos\n",
    "stress = stress.dropna()"
   ]
  },
  {
   "attachments": {},
   "cell_type": "markdown",
   "metadata": {},
   "source": [
    "Valores duplicados"
   ]
  },
  {
   "cell_type": "code",
   "execution_count": 7,
   "metadata": {},
   "outputs": [],
   "source": [
    "#Se eliminan valores duplicados\n",
    "stress = stress.drop_duplicates()"
   ]
  },
  {
   "attachments": {},
   "cell_type": "markdown",
   "metadata": {},
   "source": [
    "Estadisticas"
   ]
  },
  {
   "cell_type": "code",
   "execution_count": 31,
   "metadata": {},
   "outputs": [],
   "source": [
    "#Valor de interaccion social minimo\n",
    "tiempo_social_minimo = int(stress['Tiempo_social'].min())\n",
    "\n",
    "#Valor de interaccion social medio\n",
    "tiempo_social_medio = stress['Tiempo_social'].median()\n",
    "\n",
    "#Valor de interaccion social maximo\n",
    "tiempo_social_maximo = int(stress['Tiempo_social'].max())"
   ]
  },
  {
   "attachments": {},
   "cell_type": "markdown",
   "metadata": {},
   "source": [
    "Filtrado "
   ]
  },
  {
   "attachments": {},
   "cell_type": "markdown",
   "metadata": {},
   "source": [
    "Nivel de interaccion social"
   ]
  },
  {
   "cell_type": "code",
   "execution_count": 39,
   "metadata": {},
   "outputs": [],
   "source": [
    "#Filtro de las personas que estan en el tercio mas bajo de tiempo de interaccion social\n",
    "menoramedio = stress['Tiempo_social'] < (tiempo_social_medio)\n",
    "mayoraminimo = stress['Tiempo_social'] > (tiempo_social_minimo)\n",
    "#Por medio del filtro anterior se crea un nuevo dataframe\n",
    "introvertidos =  stress[menoramedio & mayoraminimo] "
   ]
  },
  {
   "cell_type": "code",
   "execution_count": 37,
   "metadata": {},
   "outputs": [],
   "source": [
    "#Filtro de las personas que estan en el tercio superior de tiempo de interaccion social\n",
    "mayoramedio = stress['Tiempo_social'] > int(tiempo_social_medio)\n",
    "\n",
    "extrovertidos = stress[mayoramedio]"
   ]
  },
  {
   "attachments": {},
   "cell_type": "markdown",
   "metadata": {},
   "source": [
    "Comparacion"
   ]
  },
  {
   "cell_type": "code",
   "execution_count": 47,
   "metadata": {},
   "outputs": [],
   "source": [
    "#Conteo de registros de introvertidos\n",
    "total_introvertidos = introvertidos.count(axis=1)\n",
    "\n",
    "\n",
    "#Conteo de extrovertidos\n",
    "total_extrovertidos = extrovertidos.count(axis=1)"
   ]
  },
  {
   "attachments": {},
   "cell_type": "markdown",
   "metadata": {},
   "source": [
    "Etiquetas de usuarios segun su nivel de interaccion social"
   ]
  },
  {
   "attachments": {},
   "cell_type": "markdown",
   "metadata": {},
   "source": [
    "Creacion de la columna destinada a la etiqueta"
   ]
  },
  {
   "cell_type": "code",
   "execution_count": 48,
   "metadata": {},
   "outputs": [],
   "source": [
    "#Se crea una nueva columna destinada a las etiquetas con sus elementos en NaN\n",
    "stress['Nivel social'] = ''"
   ]
  },
  {
   "cell_type": "code",
   "execution_count": 72,
   "metadata": {},
   "outputs": [],
   "source": [
    "def nivel_etiqueta(valor):\n",
    "    if str(valor) in str(introvertidos['id']):\n",
    "        return 'Introvertido'\n",
    "    if str(valor) in str(extrovertidos['id']):\n",
    "        return 'Extrovertido'"
   ]
  },
  {
   "cell_type": "code",
   "execution_count": 73,
   "metadata": {},
   "outputs": [],
   "source": [
    "#Rellenando la columna\n",
    "stress['Nivel social'] = stress['id'].apply(nivel_etiqueta)"
   ]
  }
 ],
 "metadata": {
  "kernelspec": {
   "display_name": "stress_pandas_numpy",
   "language": "python",
   "name": "python3"
  },
  "language_info": {
   "codemirror_mode": {
    "name": "ipython",
    "version": 3
   },
   "file_extension": ".py",
   "mimetype": "text/x-python",
   "name": "python",
   "nbconvert_exporter": "python",
   "pygments_lexer": "ipython3",
   "version": "3.10.7"
  },
  "orig_nbformat": 4
 },
 "nbformat": 4,
 "nbformat_minor": 2
}
