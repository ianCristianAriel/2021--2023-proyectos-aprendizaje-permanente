{
 "cells": [
  {
   "cell_type": "markdown",
   "metadata": {},
   "source": [
    "### Librerias"
   ]
  },
  {
   "cell_type": "code",
   "execution_count": 79,
   "metadata": {},
   "outputs": [],
   "source": [
    "import pandas as pd\n",
    "import json\n",
    "import numpy as np"
   ]
  },
  {
   "cell_type": "markdown",
   "metadata": {},
   "source": [
    "### Lectura archivos"
   ]
  },
  {
   "cell_type": "code",
   "execution_count": 1,
   "metadata": {},
   "outputs": [],
   "source": [
    "path_album_strangefruits = '../datos/crudos/album_strangefruits.json'\n",
    "path_bajalibros = '../datos/crudos/bajalibros.csv'\n",
    "path_mercadolibre = '../datos/crudos/mercado_libre.csv'\n",
    "path_platzi = '../datos/crudos/platzi_escueladatos_cursos.csv'\n",
    "path_playlist_electrohouse = '../datos/crudos/playlist_electrohouse.json'"
   ]
  },
  {
   "cell_type": "code",
   "execution_count": 64,
   "metadata": {},
   "outputs": [],
   "source": [
    "df_bajalibros = pd.read_csv(path_bajalibros)\n",
    "df_mercadolibre = pd.read_csv(path_mercadolibre)\n",
    "df_platzi = pd.read_csv(path_platzi)"
   ]
  },
  {
   "cell_type": "code",
   "execution_count": 9,
   "metadata": {},
   "outputs": [],
   "source": [
    "with open(path_album_strangefruits) as archivo_json:\n",
    "    album_json = json.load(archivo_json)\n",
    "with open(path_playlist_electrohouse) as archivo_json:\n",
    "    playlist_json = json.load(archivo_json)"
   ]
  },
  {
   "cell_type": "markdown",
   "metadata": {},
   "source": [
    "### Limpieza"
   ]
  },
  {
   "cell_type": "markdown",
   "metadata": {},
   "source": [
    "#### Album"
   ]
  },
  {
   "cell_type": "code",
   "execution_count": 15,
   "metadata": {},
   "outputs": [],
   "source": [
    "album_json.keys()\n",
    "album = pd.DataFrame(album_json['artists'])"
   ]
  },
  {
   "cell_type": "code",
   "execution_count": 16,
   "metadata": {},
   "outputs": [
    {
     "data": {
      "text/html": [
       "<div>\n",
       "<style scoped>\n",
       "    .dataframe tbody tr th:only-of-type {\n",
       "        vertical-align: middle;\n",
       "    }\n",
       "\n",
       "    .dataframe tbody tr th {\n",
       "        vertical-align: top;\n",
       "    }\n",
       "\n",
       "    .dataframe thead th {\n",
       "        text-align: right;\n",
       "    }\n",
       "</style>\n",
       "<table border=\"1\" class=\"dataframe\">\n",
       "  <thead>\n",
       "    <tr style=\"text-align: right;\">\n",
       "      <th></th>\n",
       "      <th>external_urls</th>\n",
       "      <th>href</th>\n",
       "      <th>id</th>\n",
       "      <th>name</th>\n",
       "      <th>type</th>\n",
       "      <th>uri</th>\n",
       "    </tr>\n",
       "  </thead>\n",
       "  <tbody>\n",
       "    <tr>\n",
       "      <th>0</th>\n",
       "      <td>{'spotify': 'https://open.spotify.com/artist/3...</td>\n",
       "      <td>https://api.spotify.com/v1/artists/3HphLd0XiEL...</td>\n",
       "      <td>3HphLd0XiELTvIPYf55dYC</td>\n",
       "      <td>Dance Fruits Music</td>\n",
       "      <td>artist</td>\n",
       "      <td>spotify:artist:3HphLd0XiELTvIPYf55dYC</td>\n",
       "    </tr>\n",
       "  </tbody>\n",
       "</table>\n",
       "</div>"
      ],
      "text/plain": [
       "                                       external_urls  \\\n",
       "0  {'spotify': 'https://open.spotify.com/artist/3...   \n",
       "\n",
       "                                                href                      id  \\\n",
       "0  https://api.spotify.com/v1/artists/3HphLd0XiEL...  3HphLd0XiELTvIPYf55dYC   \n",
       "\n",
       "                 name    type                                    uri  \n",
       "0  Dance Fruits Music  artist  spotify:artist:3HphLd0XiELTvIPYf55dYC  "
      ]
     },
     "execution_count": 16,
     "metadata": {},
     "output_type": "execute_result"
    }
   ],
   "source": [
    "album"
   ]
  },
  {
   "cell_type": "markdown",
   "metadata": {},
   "source": [
    "#### Playlist"
   ]
  },
  {
   "cell_type": "code",
   "execution_count": 26,
   "metadata": {},
   "outputs": [],
   "source": [
    "diccionario_playlist = {}\n",
    "claves = ['description','followers', 'id','name', 'owner', 'tracks', 'uri']\n",
    "for key in playlist_json.keys():\n",
    "    if key in claves:\n",
    "        diccionario_playlist[key] = playlist_json[key]"
   ]
  },
  {
   "cell_type": "code",
   "execution_count": 29,
   "metadata": {},
   "outputs": [],
   "source": [
    "df_playlist = pd.DataFrame(diccionario_playlist)"
   ]
  },
  {
   "cell_type": "code",
   "execution_count": 42,
   "metadata": {},
   "outputs": [
    {
     "data": {
      "text/plain": [
       "Index(['description', 'followers', 'id', 'name', 'owner', 'tracks', 'uri'], dtype='object')"
      ]
     },
     "execution_count": 42,
     "metadata": {},
     "output_type": "execute_result"
    }
   ],
   "source": [
    "df_playlist.columns"
   ]
  },
  {
   "cell_type": "code",
   "execution_count": 46,
   "metadata": {},
   "outputs": [],
   "source": [
    "descripcion = list(df_playlist['description'].unique())\n",
    "seguidores = list(df_playlist['followers'].unique())\n",
    "id = list(df_playlist['id'].unique())\n",
    "nombre = list(df_playlist['name'].unique())\n",
    "canciones = list(df_playlist['uri'].unique())"
   ]
  },
  {
   "cell_type": "code",
   "execution_count": 51,
   "metadata": {},
   "outputs": [],
   "source": [
    "indice = ['descripcion', 'seguidores', 'id', 'nombre']\n",
    "values =[descripcion, seguidores[1], id, nombre] \n",
    "playlist_serie = pd.Series(indice, values)"
   ]
  },
  {
   "cell_type": "code",
   "execution_count": 52,
   "metadata": {},
   "outputs": [
    {
     "data": {
      "text/plain": [
       "[Best Electro House, Bass and EDM Bangers mix of 2021, 2020 and before.]    descripcion\n",
       "290811.0                                                                     seguidores\n",
       "[4QjYVKQOi6WzYlfCiqGEag]                                                             id\n",
       "[Electro House 2023 🔥]                                                           nombre\n",
       "dtype: object"
      ]
     },
     "execution_count": 52,
     "metadata": {},
     "output_type": "execute_result"
    }
   ],
   "source": [
    "playlist_serie"
   ]
  },
  {
   "cell_type": "markdown",
   "metadata": {},
   "source": [
    "#### Bajalibros"
   ]
  },
  {
   "cell_type": "code",
   "execution_count": 67,
   "metadata": {},
   "outputs": [
    {
     "data": {
      "text/html": [
       "<div>\n",
       "<style scoped>\n",
       "    .dataframe tbody tr th:only-of-type {\n",
       "        vertical-align: middle;\n",
       "    }\n",
       "\n",
       "    .dataframe tbody tr th {\n",
       "        vertical-align: top;\n",
       "    }\n",
       "\n",
       "    .dataframe thead th {\n",
       "        text-align: right;\n",
       "    }\n",
       "</style>\n",
       "<table border=\"1\" class=\"dataframe\">\n",
       "  <thead>\n",
       "    <tr style=\"text-align: right;\">\n",
       "      <th></th>\n",
       "      <th>descripcion</th>\n",
       "      <th>precio</th>\n",
       "      <th>titulo</th>\n",
       "    </tr>\n",
       "  </thead>\n",
       "  <tbody>\n",
       "    <tr>\n",
       "      <th>0</th>\n",
       "      <td>La gestión de datos de tipo cuantitativo es ca...</td>\n",
       "      <td>NaN</td>\n",
       "      <td>Análisis de datos con R en estudios internacio...</td>\n",
       "    </tr>\n",
       "    <tr>\n",
       "      <th>1</th>\n",
       "      <td>HÁBITOS ATÓMICOS parte de una simple pero pode...</td>\n",
       "      <td>NaN</td>\n",
       "      <td>Hábitos atómicos</td>\n",
       "    </tr>\n",
       "    <tr>\n",
       "      <th>2</th>\n",
       "      <td>En la presente obra el lector puede encontrar ...</td>\n",
       "      <td>3929.99</td>\n",
       "      <td>El uso de los datos PNR en el proceso penal</td>\n",
       "    </tr>\n",
       "    <tr>\n",
       "      <th>3</th>\n",
       "      <td>El libro está dirigido a las personas que por ...</td>\n",
       "      <td>NaN</td>\n",
       "      <td>Técnicas para el análisis de datos clínicos</td>\n",
       "    </tr>\n",
       "    <tr>\n",
       "      <th>4</th>\n",
       "      <td>HÁBITOS ATÓMICOS parte de una simple pero pode...</td>\n",
       "      <td>NaN</td>\n",
       "      <td>Hábitos atómicos</td>\n",
       "    </tr>\n",
       "    <tr>\n",
       "      <th>5</th>\n",
       "      <td>En la presente obra el lector puede encontrar ...</td>\n",
       "      <td>3929.99</td>\n",
       "      <td>El uso de los datos PNR en el proceso penal</td>\n",
       "    </tr>\n",
       "    <tr>\n",
       "      <th>6</th>\n",
       "      <td>La gestión de datos de tipo cuantitativo es ca...</td>\n",
       "      <td>NaN</td>\n",
       "      <td>Análisis de datos con R en estudios internacio...</td>\n",
       "    </tr>\n",
       "    <tr>\n",
       "      <th>7</th>\n",
       "      <td>El libro está dirigido a las personas que por ...</td>\n",
       "      <td>NaN</td>\n",
       "      <td>Técnicas para el análisis de datos clínicos</td>\n",
       "    </tr>\n",
       "    <tr>\n",
       "      <th>8</th>\n",
       "      <td>RESUMO:A presente investigação, de natureza ta...</td>\n",
       "      <td>NaN</td>\n",
       "      <td>Mulheres na polÌcia militar da ParaÌba</td>\n",
       "    </tr>\n",
       "    <tr>\n",
       "      <th>9</th>\n",
       "      <td>Edición revisada y ampliada del libro de cróni...</td>\n",
       "      <td>2238.99</td>\n",
       "      <td>Frutos extraños (edición ampliada)</td>\n",
       "    </tr>\n",
       "    <tr>\n",
       "      <th>10</th>\n",
       "      <td>Debido a la gran importancia del glaucoma, por...</td>\n",
       "      <td>NaN</td>\n",
       "      <td>Utilidad diagnÛstica en el glaucoma del an·lis...</td>\n",
       "    </tr>\n",
       "    <tr>\n",
       "      <th>11</th>\n",
       "      <td>¿Debe anteponerse la salud de la economía a la...</td>\n",
       "      <td>1989.99</td>\n",
       "      <td>Por qué la austeridad mata</td>\n",
       "    </tr>\n",
       "    <tr>\n",
       "      <th>12</th>\n",
       "      <td>RESUMO:A presente investigação, de natureza ta...</td>\n",
       "      <td>NaN</td>\n",
       "      <td>Mulheres na polÌcia militar da ParaÌba</td>\n",
       "    </tr>\n",
       "    <tr>\n",
       "      <th>13</th>\n",
       "      <td>Edición revisada y ampliada del libro de cróni...</td>\n",
       "      <td>2238.99</td>\n",
       "      <td>Frutos extraños (edición ampliada)</td>\n",
       "    </tr>\n",
       "    <tr>\n",
       "      <th>14</th>\n",
       "      <td>Debido a la gran importancia del glaucoma, por...</td>\n",
       "      <td>NaN</td>\n",
       "      <td>Utilidad diagnÛstica en el glaucoma del an·lis...</td>\n",
       "    </tr>\n",
       "    <tr>\n",
       "      <th>15</th>\n",
       "      <td>¿Debe anteponerse la salud de la economía a la...</td>\n",
       "      <td>1989.99</td>\n",
       "      <td>Por qué la austeridad mata</td>\n",
       "    </tr>\n",
       "    <tr>\n",
       "      <th>16</th>\n",
       "      <td>¿Es posible saber cómo es realmente la vida ex...</td>\n",
       "      <td>2737.99</td>\n",
       "      <td>La guía del zoólogo galáctico</td>\n",
       "    </tr>\n",
       "    <tr>\n",
       "      <th>17</th>\n",
       "      <td>&lt;!-- /* Font Definitions */@font-face\\t{font-f...</td>\n",
       "      <td>NaN</td>\n",
       "      <td>Condiciones objetivas y esperanzas subjetivas ...</td>\n",
       "    </tr>\n",
       "  </tbody>\n",
       "</table>\n",
       "</div>"
      ],
      "text/plain": [
       "                                          descripcion   precio  \\\n",
       "0   La gestión de datos de tipo cuantitativo es ca...      NaN   \n",
       "1   HÁBITOS ATÓMICOS parte de una simple pero pode...      NaN   \n",
       "2   En la presente obra el lector puede encontrar ...  3929.99   \n",
       "3   El libro está dirigido a las personas que por ...      NaN   \n",
       "4   HÁBITOS ATÓMICOS parte de una simple pero pode...      NaN   \n",
       "5   En la presente obra el lector puede encontrar ...  3929.99   \n",
       "6   La gestión de datos de tipo cuantitativo es ca...      NaN   \n",
       "7   El libro está dirigido a las personas que por ...      NaN   \n",
       "8   RESUMO:A presente investigação, de natureza ta...      NaN   \n",
       "9   Edición revisada y ampliada del libro de cróni...  2238.99   \n",
       "10  Debido a la gran importancia del glaucoma, por...      NaN   \n",
       "11  ¿Debe anteponerse la salud de la economía a la...  1989.99   \n",
       "12  RESUMO:A presente investigação, de natureza ta...      NaN   \n",
       "13  Edición revisada y ampliada del libro de cróni...  2238.99   \n",
       "14  Debido a la gran importancia del glaucoma, por...      NaN   \n",
       "15  ¿Debe anteponerse la salud de la economía a la...  1989.99   \n",
       "16  ¿Es posible saber cómo es realmente la vida ex...  2737.99   \n",
       "17  <!-- /* Font Definitions */@font-face\\t{font-f...      NaN   \n",
       "\n",
       "                                               titulo  \n",
       "0   Análisis de datos con R en estudios internacio...  \n",
       "1                                    Hábitos atómicos  \n",
       "2         El uso de los datos PNR en el proceso penal  \n",
       "3         Técnicas para el análisis de datos clínicos  \n",
       "4                                    Hábitos atómicos  \n",
       "5         El uso de los datos PNR en el proceso penal  \n",
       "6   Análisis de datos con R en estudios internacio...  \n",
       "7         Técnicas para el análisis de datos clínicos  \n",
       "8              Mulheres na polÌcia militar da ParaÌba  \n",
       "9                  Frutos extraños (edición ampliada)  \n",
       "10  Utilidad diagnÛstica en el glaucoma del an·lis...  \n",
       "11                         Por qué la austeridad mata  \n",
       "12             Mulheres na polÌcia militar da ParaÌba  \n",
       "13                 Frutos extraños (edición ampliada)  \n",
       "14  Utilidad diagnÛstica en el glaucoma del an·lis...  \n",
       "15                         Por qué la austeridad mata  \n",
       "16                      La guía del zoólogo galáctico  \n",
       "17  Condiciones objetivas y esperanzas subjetivas ...  "
      ]
     },
     "execution_count": 67,
     "metadata": {},
     "output_type": "execute_result"
    }
   ],
   "source": [
    "df_bajalibros"
   ]
  },
  {
   "cell_type": "code",
   "execution_count": 70,
   "metadata": {},
   "outputs": [],
   "source": [
    "import re\n",
    "\n",
    "# Función para eliminar símbolos extraños y números\n",
    "def limpiar_descripcion(descripcion):\n",
    "    # Expresión regular para encontrar los símbolos y números\n",
    "    patron = r'[^a-zA-Z\\s]'\n",
    "    # Reemplazar los símbolos y números con una cadena vacía\n",
    "    descripcion_limpia = re.sub(patron, '', descripcion)\n",
    "    return descripcion_limpia\n",
    "\n",
    "# Aplicar la función a la columna de descripción\n",
    "df_bajalibros['descripcion'] = df_bajalibros['descripcion'].apply(limpiar_descripcion)"
   ]
  },
  {
   "cell_type": "code",
   "execution_count": 66,
   "metadata": {},
   "outputs": [],
   "source": [
    "df_bajalibros['precio'] = df_bajalibros['precio'].str.strip().str.extract(r'(\\d+\\.?\\d*)')"
   ]
  },
  {
   "cell_type": "markdown",
   "metadata": {},
   "source": [
    "#### Mercadolibre"
   ]
  },
  {
   "cell_type": "code",
   "execution_count": 81,
   "metadata": {},
   "outputs": [],
   "source": [
    "df_mercadolibre = df_mercadolibre.drop('precio', axis=1)"
   ]
  },
  {
   "cell_type": "code",
   "execution_count": 82,
   "metadata": {},
   "outputs": [
    {
     "data": {
      "text/html": [
       "<div>\n",
       "<style scoped>\n",
       "    .dataframe tbody tr th:only-of-type {\n",
       "        vertical-align: middle;\n",
       "    }\n",
       "\n",
       "    .dataframe tbody tr th {\n",
       "        vertical-align: top;\n",
       "    }\n",
       "\n",
       "    .dataframe thead th {\n",
       "        text-align: right;\n",
       "    }\n",
       "</style>\n",
       "<table border=\"1\" class=\"dataframe\">\n",
       "  <thead>\n",
       "    <tr style=\"text-align: right;\">\n",
       "      <th></th>\n",
       "      <th>descripcion</th>\n",
       "      <th>titulo</th>\n",
       "    </tr>\n",
       "  </thead>\n",
       "  <tbody>\n",
       "    <tr>\n",
       "      <th>0</th>\n",
       "      <td>SI DESEA INTEGRAR VARIOS LIBROS EN UN SOLO ENV...</td>\n",
       "      <td>Libro Técnico Ingeniería Ambiental - Fundament...</td>\n",
       "    </tr>\n",
       "    <tr>\n",
       "      <th>1</th>\n",
       "      <td>Todos nuestros libros los importamos a pedido....</td>\n",
       "      <td>Fundamentos Bases Datos 6ªed - Silberschatz</td>\n",
       "    </tr>\n",
       "    <tr>\n",
       "      <th>2</th>\n",
       "      <td>NaN</td>\n",
       "      <td>NaN</td>\n",
       "    </tr>\n",
       "    <tr>\n",
       "      <th>3</th>\n",
       "      <td>CECSA,EXCELENTE LIBRO</td>\n",
       "      <td>Ingenieria Termodinamica _ Fundamento Y Aplica...</td>\n",
       "    </tr>\n",
       "    <tr>\n",
       "      <th>4</th>\n",
       "      <td>EDITORIAL REVERTE 1980 - 546 PAGINAS - BUEN ES...</td>\n",
       "      <td>Sistemas Electronicos De Datos De C. J. Richar...</td>\n",
       "    </tr>\n",
       "    <tr>\n",
       "      <th>5</th>\n",
       "      <td>TAPA DURA,BUENOS AIRES - ARGENTINA,1970,VOLUME...</td>\n",
       "      <td>Fundamentos De Electricidad Y Electrónica - Ph...</td>\n",
       "    </tr>\n",
       "    <tr>\n",
       "      <th>6</th>\n",
       "      <td>Fundamentos de bases de datos - H. F. Korth/A....</td>\n",
       "      <td>Fundamentos De Bases De Datos - H. F. Korth/a....</td>\n",
       "    </tr>\n",
       "    <tr>\n",
       "      <th>7</th>\n",
       "      <td>Excelente estado completo sin escritos ni subr...</td>\n",
       "      <td>Fundamentos De Radio Us Army Artillery &amp; Missi...</td>\n",
       "    </tr>\n",
       "    <tr>\n",
       "      <th>8</th>\n",
       "      <td>EXCELENTE ESTADO!,LIBROS DANY,ENTREGO EN NUEST...</td>\n",
       "      <td>Fundamentos De Mecánica De Fluidos 2° Edición ...</td>\n",
       "    </tr>\n",
       "    <tr>\n",
       "      <th>9</th>\n",
       "      <td>El vendedor no incluyó una descripción del pro...</td>\n",
       "      <td>Fundamentos De Comunicacion De Datos -  Fitzge...</td>\n",
       "    </tr>\n",
       "    <tr>\n",
       "      <th>10</th>\n",
       "      <td>El vendedor no incluyó una descripción del pro...</td>\n",
       "      <td>Fundamentos De Ingeniería Química - Chalmer C....</td>\n",
       "    </tr>\n",
       "    <tr>\n",
       "      <th>11</th>\n",
       "      <td>EL PUESTO97 LIBROS. ,FUNDAMENTOS DEL DISEÑO DE...</td>\n",
       "      <td>Fundamentos Del Diseño De Reactores. 2 Tomos. ...</td>\n",
       "    </tr>\n",
       "    <tr>\n",
       "      <th>12</th>\n",
       "      <td>EL PUESTO97 LIBROS. ,FUNDAMENTOS DE INGENIERÍA...</td>\n",
       "      <td>Fundamentos Ingeniería Económica. Baca Urbina....</td>\n",
       "    </tr>\n",
       "    <tr>\n",
       "      <th>13</th>\n",
       "      <td>Los libros se retiran todos los días por Boedo...</td>\n",
       "      <td>Óptica  Fundamentos De Física 3   Francis W. S...</td>\n",
       "    </tr>\n",
       "    <tr>\n",
       "      <th>14</th>\n",
       "      <td>ACÚSTICA DE LOS LOCALES, COMPENDIO PARA ARQUIT...</td>\n",
       "      <td>Acústica Locales Karlhans Weisse Gg Arquitectu...</td>\n",
       "    </tr>\n",
       "    <tr>\n",
       "      <th>15</th>\n",
       "      <td>LIBERATE LIBROS        ,Todos nuestros libros ...</td>\n",
       "      <td>Libro Fundamentos De Ingenieria Y Ciencias De ...</td>\n",
       "    </tr>\n",
       "    <tr>\n",
       "      <th>16</th>\n",
       "      <td>EL LIBRO ES FISICO,\\t\\t\\t\\t,\\t\\t\\t\\tTérminos y...</td>\n",
       "      <td>Fundamentos De Bioestadistica Y Analisis De Da...</td>\n",
       "    </tr>\n",
       "    <tr>\n",
       "      <th>17</th>\n",
       "      <td>Todos nuestros libros los importamos a pedido....</td>\n",
       "      <td>Ingenieria Del Sonido - Zafra,julian</td>\n",
       "    </tr>\n",
       "    <tr>\n",
       "      <th>18</th>\n",
       "      <td>LIBRERO IMPORTADOR: Más de 11 años en el merca...</td>\n",
       "      <td>La Agonía De Polemos: La Lucha Por El Fundamen...</td>\n",
       "    </tr>\n",
       "  </tbody>\n",
       "</table>\n",
       "</div>"
      ],
      "text/plain": [
       "                                          descripcion  \\\n",
       "0   SI DESEA INTEGRAR VARIOS LIBROS EN UN SOLO ENV...   \n",
       "1   Todos nuestros libros los importamos a pedido....   \n",
       "2                                                 NaN   \n",
       "3                               CECSA,EXCELENTE LIBRO   \n",
       "4   EDITORIAL REVERTE 1980 - 546 PAGINAS - BUEN ES...   \n",
       "5   TAPA DURA,BUENOS AIRES - ARGENTINA,1970,VOLUME...   \n",
       "6   Fundamentos de bases de datos - H. F. Korth/A....   \n",
       "7   Excelente estado completo sin escritos ni subr...   \n",
       "8   EXCELENTE ESTADO!,LIBROS DANY,ENTREGO EN NUEST...   \n",
       "9   El vendedor no incluyó una descripción del pro...   \n",
       "10  El vendedor no incluyó una descripción del pro...   \n",
       "11  EL PUESTO97 LIBROS. ,FUNDAMENTOS DEL DISEÑO DE...   \n",
       "12  EL PUESTO97 LIBROS. ,FUNDAMENTOS DE INGENIERÍA...   \n",
       "13  Los libros se retiran todos los días por Boedo...   \n",
       "14  ACÚSTICA DE LOS LOCALES, COMPENDIO PARA ARQUIT...   \n",
       "15  LIBERATE LIBROS        ,Todos nuestros libros ...   \n",
       "16  EL LIBRO ES FISICO,\\t\\t\\t\\t,\\t\\t\\t\\tTérminos y...   \n",
       "17  Todos nuestros libros los importamos a pedido....   \n",
       "18  LIBRERO IMPORTADOR: Más de 11 años en el merca...   \n",
       "\n",
       "                                               titulo  \n",
       "0   Libro Técnico Ingeniería Ambiental - Fundament...  \n",
       "1         Fundamentos Bases Datos 6ªed - Silberschatz  \n",
       "2                                                 NaN  \n",
       "3   Ingenieria Termodinamica _ Fundamento Y Aplica...  \n",
       "4   Sistemas Electronicos De Datos De C. J. Richar...  \n",
       "5   Fundamentos De Electricidad Y Electrónica - Ph...  \n",
       "6   Fundamentos De Bases De Datos - H. F. Korth/a....  \n",
       "7   Fundamentos De Radio Us Army Artillery & Missi...  \n",
       "8   Fundamentos De Mecánica De Fluidos 2° Edición ...  \n",
       "9   Fundamentos De Comunicacion De Datos -  Fitzge...  \n",
       "10  Fundamentos De Ingeniería Química - Chalmer C....  \n",
       "11  Fundamentos Del Diseño De Reactores. 2 Tomos. ...  \n",
       "12  Fundamentos Ingeniería Económica. Baca Urbina....  \n",
       "13  Óptica  Fundamentos De Física 3   Francis W. S...  \n",
       "14  Acústica Locales Karlhans Weisse Gg Arquitectu...  \n",
       "15  Libro Fundamentos De Ingenieria Y Ciencias De ...  \n",
       "16  Fundamentos De Bioestadistica Y Analisis De Da...  \n",
       "17               Ingenieria Del Sonido - Zafra,julian  \n",
       "18  La Agonía De Polemos: La Lucha Por El Fundamen...  "
      ]
     },
     "execution_count": 82,
     "metadata": {},
     "output_type": "execute_result"
    }
   ],
   "source": [
    "(#solo efectua el remplao de valores nulos sobre columnas espesificas\n",
    "    df_mercadolibre \n",
    "    .replace(\n",
    "        to_replace={\n",
    "            #columna a dirigir el remplazo\n",
    "            \"pregnant\": {\n",
    "                #Valores a remplazar por x valor\n",
    "                'na': np.nan,\n",
    "                \"missing\": np.nan,\n",
    "                \"NA\": np.nan,\n",
    "                \"N A\": np.nan,\n",
    "                \"N/A\": np.nan,\n",
    "                \"#N/A\": np.nan,\n",
    "                \"NA \": np.nan,\n",
    "                \" NA\": np.nan,\n",
    "                \"N /A\": np.nan,\n",
    "                \"N / A\": np.nan,\n",
    "                \" N / A\": np.nan,\n",
    "                \"N / A \": np.nan,\n",
    "                \"na\": np.nan,\n",
    "                \"n a\": np.nan,\n",
    "                \"n/a\": np.nan,\n",
    "                \"na \": np.nan,\n",
    "                \" na\": np.nan,\n",
    "                \"n /a\": np.nan,\n",
    "                \"n / a\": np.nan,\n",
    "                \" a / a\": np.nan,\n",
    "                \"n / a \": np.nan,\n",
    "                \"NULL\": np.nan,\n",
    "                \"null\": np.nan,\n",
    "                \"\": np.nan,\n",
    "                \"?\": np.nan,\n",
    "                \"*\": np.nan,\n",
    "                \".\": np.nan,\n",
    "            }\n",
    "        }\n",
    "    )\n",
    ")"
   ]
  },
  {
   "cell_type": "code",
   "execution_count": 92,
   "metadata": {},
   "outputs": [],
   "source": [
    "df_mercadolibre['titulo'] = df_mercadolibre['titulo'].replace('NaN', np.nan)\n",
    "df_mercadolibre = df_mercadolibre.dropna()  # Eliminar filas con valores nulos en cualquier columna\n",
    "df_mercadolibre = df_mercadolibre.drop_duplicates()  # Eliminar filas duplicadas"
   ]
  },
  {
   "cell_type": "markdown",
   "metadata": {},
   "source": [
    "#### Platzi"
   ]
  },
  {
   "cell_type": "code",
   "execution_count": 98,
   "metadata": {},
   "outputs": [],
   "source": [
    "df_platzi = df_platzi.drop('Unnamed: 0', axis=1)"
   ]
  },
  {
   "cell_type": "code",
   "execution_count": 97,
   "metadata": {},
   "outputs": [
    {
     "data": {
      "text/html": [
       "<div>\n",
       "<style scoped>\n",
       "    .dataframe tbody tr th:only-of-type {\n",
       "        vertical-align: middle;\n",
       "    }\n",
       "\n",
       "    .dataframe tbody tr th {\n",
       "        vertical-align: top;\n",
       "    }\n",
       "\n",
       "    .dataframe thead th {\n",
       "        text-align: right;\n",
       "    }\n",
       "</style>\n",
       "<table border=\"1\" class=\"dataframe\">\n",
       "  <thead>\n",
       "    <tr style=\"text-align: right;\">\n",
       "      <th></th>\n",
       "      <th>Unnamed: 0</th>\n",
       "      <th>curso</th>\n",
       "    </tr>\n",
       "  </thead>\n",
       "  <tbody>\n",
       "    <tr>\n",
       "      <th>0</th>\n",
       "      <td>0</td>\n",
       "      <td>Curso de Inteligencia Artificial: ChatGPT, DAL...</td>\n",
       "    </tr>\n",
       "    <tr>\n",
       "      <th>1</th>\n",
       "      <td>1</td>\n",
       "      <td>Curso de Prompt Engineering con ChatGPT</td>\n",
       "    </tr>\n",
       "    <tr>\n",
       "      <th>2</th>\n",
       "      <td>2</td>\n",
       "      <td>Cómo y Por Qué Aprender Data Science e Intelig...</td>\n",
       "    </tr>\n",
       "    <tr>\n",
       "      <th>3</th>\n",
       "      <td>3</td>\n",
       "      <td>Curso de Análisis de Negocios para Ciencia de ...</td>\n",
       "    </tr>\n",
       "    <tr>\n",
       "      <th>4</th>\n",
       "      <td>4</td>\n",
       "      <td>Curso de Ética y Manejo de Datos para Data Sci...</td>\n",
       "    </tr>\n",
       "    <tr>\n",
       "      <th>...</th>\n",
       "      <td>...</td>\n",
       "      <td>...</td>\n",
       "    </tr>\n",
       "    <tr>\n",
       "      <th>222</th>\n",
       "      <td>222</td>\n",
       "      <td>Curso de Ecuaciones Diferenciales</td>\n",
       "    </tr>\n",
       "    <tr>\n",
       "      <th>223</th>\n",
       "      <td>223</td>\n",
       "      <td>Taller de Aplicación de Modelos Numéricos</td>\n",
       "    </tr>\n",
       "    <tr>\n",
       "      <th>224</th>\n",
       "      <td>224</td>\n",
       "      <td>Curso de Fundamentos de Matemáticas para Física</td>\n",
       "    </tr>\n",
       "    <tr>\n",
       "      <th>225</th>\n",
       "      <td>225</td>\n",
       "      <td>Curso de Física Mecánica Estática</td>\n",
       "    </tr>\n",
       "    <tr>\n",
       "      <th>226</th>\n",
       "      <td>226</td>\n",
       "      <td>Curso de Matemáticas Financieras</td>\n",
       "    </tr>\n",
       "  </tbody>\n",
       "</table>\n",
       "<p>227 rows × 2 columns</p>\n",
       "</div>"
      ],
      "text/plain": [
       "     Unnamed: 0                                              curso\n",
       "0             0  Curso de Inteligencia Artificial: ChatGPT, DAL...\n",
       "1             1            Curso de Prompt Engineering con ChatGPT\n",
       "2             2  Cómo y Por Qué Aprender Data Science e Intelig...\n",
       "3             3  Curso de Análisis de Negocios para Ciencia de ...\n",
       "4             4  Curso de Ética y Manejo de Datos para Data Sci...\n",
       "..          ...                                                ...\n",
       "222         222                  Curso de Ecuaciones Diferenciales\n",
       "223         223          Taller de Aplicación de Modelos Numéricos\n",
       "224         224    Curso de Fundamentos de Matemáticas para Física\n",
       "225         225                  Curso de Física Mecánica Estática\n",
       "226         226                   Curso de Matemáticas Financieras\n",
       "\n",
       "[227 rows x 2 columns]"
      ]
     },
     "execution_count": 97,
     "metadata": {},
     "output_type": "execute_result"
    }
   ],
   "source": [
    "df_platzi.rename(columns={'0':'curso'})"
   ]
  },
  {
   "cell_type": "code",
   "execution_count": 99,
   "metadata": {},
   "outputs": [
    {
     "data": {
      "text/html": [
       "<div>\n",
       "<style scoped>\n",
       "    .dataframe tbody tr th:only-of-type {\n",
       "        vertical-align: middle;\n",
       "    }\n",
       "\n",
       "    .dataframe tbody tr th {\n",
       "        vertical-align: top;\n",
       "    }\n",
       "\n",
       "    .dataframe thead th {\n",
       "        text-align: right;\n",
       "    }\n",
       "</style>\n",
       "<table border=\"1\" class=\"dataframe\">\n",
       "  <thead>\n",
       "    <tr style=\"text-align: right;\">\n",
       "      <th></th>\n",
       "      <th>0</th>\n",
       "    </tr>\n",
       "  </thead>\n",
       "  <tbody>\n",
       "    <tr>\n",
       "      <th>0</th>\n",
       "      <td>Curso de Inteligencia Artificial: ChatGPT, DAL...</td>\n",
       "    </tr>\n",
       "    <tr>\n",
       "      <th>1</th>\n",
       "      <td>Curso de Prompt Engineering con ChatGPT</td>\n",
       "    </tr>\n",
       "    <tr>\n",
       "      <th>2</th>\n",
       "      <td>Cómo y Por Qué Aprender Data Science e Intelig...</td>\n",
       "    </tr>\n",
       "    <tr>\n",
       "      <th>3</th>\n",
       "      <td>Curso de Análisis de Negocios para Ciencia de ...</td>\n",
       "    </tr>\n",
       "    <tr>\n",
       "      <th>4</th>\n",
       "      <td>Curso de Ética y Manejo de Datos para Data Sci...</td>\n",
       "    </tr>\n",
       "    <tr>\n",
       "      <th>...</th>\n",
       "      <td>...</td>\n",
       "    </tr>\n",
       "    <tr>\n",
       "      <th>222</th>\n",
       "      <td>Curso de Ecuaciones Diferenciales</td>\n",
       "    </tr>\n",
       "    <tr>\n",
       "      <th>223</th>\n",
       "      <td>Taller de Aplicación de Modelos Numéricos</td>\n",
       "    </tr>\n",
       "    <tr>\n",
       "      <th>224</th>\n",
       "      <td>Curso de Fundamentos de Matemáticas para Física</td>\n",
       "    </tr>\n",
       "    <tr>\n",
       "      <th>225</th>\n",
       "      <td>Curso de Física Mecánica Estática</td>\n",
       "    </tr>\n",
       "    <tr>\n",
       "      <th>226</th>\n",
       "      <td>Curso de Matemáticas Financieras</td>\n",
       "    </tr>\n",
       "  </tbody>\n",
       "</table>\n",
       "<p>155 rows × 1 columns</p>\n",
       "</div>"
      ],
      "text/plain": [
       "                                                     0\n",
       "0    Curso de Inteligencia Artificial: ChatGPT, DAL...\n",
       "1              Curso de Prompt Engineering con ChatGPT\n",
       "2    Cómo y Por Qué Aprender Data Science e Intelig...\n",
       "3    Curso de Análisis de Negocios para Ciencia de ...\n",
       "4    Curso de Ética y Manejo de Datos para Data Sci...\n",
       "..                                                 ...\n",
       "222                  Curso de Ecuaciones Diferenciales\n",
       "223          Taller de Aplicación de Modelos Numéricos\n",
       "224    Curso de Fundamentos de Matemáticas para Física\n",
       "225                  Curso de Física Mecánica Estática\n",
       "226                   Curso de Matemáticas Financieras\n",
       "\n",
       "[155 rows x 1 columns]"
      ]
     },
     "execution_count": 99,
     "metadata": {},
     "output_type": "execute_result"
    }
   ],
   "source": [
    "df_platzi.dropna().drop_duplicates()"
   ]
  },
  {
   "cell_type": "markdown",
   "metadata": {},
   "source": [
    "### Guardado de archivos"
   ]
  },
  {
   "cell_type": "code",
   "execution_count": 100,
   "metadata": {},
   "outputs": [],
   "source": [
    "path_platzi = '../datos/procesados/platzi_datos.csv'\n",
    "path_bajalibros = '../datos/procesados/bajalibros_analisisdatos.csv'\n",
    "path_mercadolibre = '../datos/procesados/ml_ingenieria_datos.csv'\n",
    "path_album_strangefruits = '../datos/procesados/album.csv'"
   ]
  },
  {
   "cell_type": "code",
   "execution_count": null,
   "metadata": {},
   "outputs": [],
   "source": [
    "df_platzi.to_csv(path_platzi)\n",
    "df_bajalibros.to_csv(path_bajalibros)\n",
    "df_mercadolibre.to_csv(path_mercadolibre)\n",
    "album.to_csv(path_album_strangefruits)"
   ]
  }
 ],
 "metadata": {
  "kernelspec": {
   "display_name": "Python 3",
   "language": "python",
   "name": "python3"
  },
  "language_info": {
   "codemirror_mode": {
    "name": "ipython",
    "version": 3
   },
   "file_extension": ".py",
   "mimetype": "text/x-python",
   "name": "python",
   "nbconvert_exporter": "python",
   "pygments_lexer": "ipython3",
   "version": "3.10.7"
  },
  "orig_nbformat": 4
 },
 "nbformat": 4,
 "nbformat_minor": 2
}
