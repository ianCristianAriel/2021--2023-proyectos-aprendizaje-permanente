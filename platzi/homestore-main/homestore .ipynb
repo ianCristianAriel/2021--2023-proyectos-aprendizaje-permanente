{
  "cells": [
    {
      "attachments": {},
      "cell_type": "markdown",
      "metadata": {},
      "source": [
        "# Homestore"
      ]
    },
    {
      "cell_type": "markdown",
      "metadata": {},
      "source": [
        "La empresa HomeStore esta pensando en cambiar de instalaciones por lo que el gasto en su renta de locales seria de un total de $8000 USD, un estudio revela que este cambio de edificios favorecera a la mayor afluencia de clientes y representara un aumento en las ventas del 15%."
      ]
    },
    {
      "cell_type": "markdown",
      "metadata": {},
      "source": [
        "Debe la empresa realizar esta acción ?"
      ]
    },
    {
      "attachments": {},
      "cell_type": "markdown",
      "metadata": {},
      "source": [
        "### CSV"
      ]
    },
    {
      "attachments": {},
      "cell_type": "markdown",
      "metadata": {
        "id": "Zk5LiI-So7MS"
      },
      "source": [
        "#### importacion de librerias"
      ]
    },
    {
      "cell_type": "code",
      "execution_count": 1,
      "metadata": {
        "id": "GUUM-oM1iw4L"
      },
      "outputs": [
        {
          "name": "stderr",
          "output_type": "stream",
          "text": [
            "Matplotlib is building the font cache; this may take a moment.\n"
          ]
        }
      ],
      "source": [
        "import pandas as pd\n",
        "from IPython.display import display\n",
        "from datetime import datetime"
      ]
    },
    {
      "attachments": {},
      "cell_type": "markdown",
      "metadata": {
        "id": "549o7yMai-St"
      },
      "source": [
        "#### Importacion de archivos (google colab)"
      ]
    },
    {
      "cell_type": "code",
      "execution_count": 3,
      "metadata": {
        "colab": {
          "base_uri": "https://localhost:8080/",
          "height": 73
        },
        "id": "s2xGdplujEDz",
        "outputId": "665d374a-054b-43db-e3a9-416f7227e4b2"
      },
      "outputs": [
        {
          "data": {
            "text/html": [
              "\n",
              "     <input type=\"file\" id=\"files-0e9a3c7e-5c7d-408f-8d23-f38190522574\" name=\"files[]\" multiple disabled\n",
              "        style=\"border:none\" />\n",
              "     <output id=\"result-0e9a3c7e-5c7d-408f-8d23-f38190522574\">\n",
              "      Upload widget is only available when the cell has been executed in the\n",
              "      current browser session. Please rerun this cell to enable.\n",
              "      </output>\n",
              "      <script>// Copyright 2017 Google LLC\n",
              "//\n",
              "// Licensed under the Apache License, Version 2.0 (the \"License\");\n",
              "// you may not use this file except in compliance with the License.\n",
              "// You may obtain a copy of the License at\n",
              "//\n",
              "//      http://www.apache.org/licenses/LICENSE-2.0\n",
              "//\n",
              "// Unless required by applicable law or agreed to in writing, software\n",
              "// distributed under the License is distributed on an \"AS IS\" BASIS,\n",
              "// WITHOUT WARRANTIES OR CONDITIONS OF ANY KIND, either express or implied.\n",
              "// See the License for the specific language governing permissions and\n",
              "// limitations under the License.\n",
              "\n",
              "/**\n",
              " * @fileoverview Helpers for google.colab Python module.\n",
              " */\n",
              "(function(scope) {\n",
              "function span(text, styleAttributes = {}) {\n",
              "  const element = document.createElement('span');\n",
              "  element.textContent = text;\n",
              "  for (const key of Object.keys(styleAttributes)) {\n",
              "    element.style[key] = styleAttributes[key];\n",
              "  }\n",
              "  return element;\n",
              "}\n",
              "\n",
              "// Max number of bytes which will be uploaded at a time.\n",
              "const MAX_PAYLOAD_SIZE = 100 * 1024;\n",
              "\n",
              "function _uploadFiles(inputId, outputId) {\n",
              "  const steps = uploadFilesStep(inputId, outputId);\n",
              "  const outputElement = document.getElementById(outputId);\n",
              "  // Cache steps on the outputElement to make it available for the next call\n",
              "  // to uploadFilesContinue from Python.\n",
              "  outputElement.steps = steps;\n",
              "\n",
              "  return _uploadFilesContinue(outputId);\n",
              "}\n",
              "\n",
              "// This is roughly an async generator (not supported in the browser yet),\n",
              "// where there are multiple asynchronous steps and the Python side is going\n",
              "// to poll for completion of each step.\n",
              "// This uses a Promise to block the python side on completion of each step,\n",
              "// then passes the result of the previous step as the input to the next step.\n",
              "function _uploadFilesContinue(outputId) {\n",
              "  const outputElement = document.getElementById(outputId);\n",
              "  const steps = outputElement.steps;\n",
              "\n",
              "  const next = steps.next(outputElement.lastPromiseValue);\n",
              "  return Promise.resolve(next.value.promise).then((value) => {\n",
              "    // Cache the last promise value to make it available to the next\n",
              "    // step of the generator.\n",
              "    outputElement.lastPromiseValue = value;\n",
              "    return next.value.response;\n",
              "  });\n",
              "}\n",
              "\n",
              "/**\n",
              " * Generator function which is called between each async step of the upload\n",
              " * process.\n",
              " * @param {string} inputId Element ID of the input file picker element.\n",
              " * @param {string} outputId Element ID of the output display.\n",
              " * @return {!Iterable<!Object>} Iterable of next steps.\n",
              " */\n",
              "function* uploadFilesStep(inputId, outputId) {\n",
              "  const inputElement = document.getElementById(inputId);\n",
              "  inputElement.disabled = false;\n",
              "\n",
              "  const outputElement = document.getElementById(outputId);\n",
              "  outputElement.innerHTML = '';\n",
              "\n",
              "  const pickedPromise = new Promise((resolve) => {\n",
              "    inputElement.addEventListener('change', (e) => {\n",
              "      resolve(e.target.files);\n",
              "    });\n",
              "  });\n",
              "\n",
              "  const cancel = document.createElement('button');\n",
              "  inputElement.parentElement.appendChild(cancel);\n",
              "  cancel.textContent = 'Cancel upload';\n",
              "  const cancelPromise = new Promise((resolve) => {\n",
              "    cancel.onclick = () => {\n",
              "      resolve(null);\n",
              "    };\n",
              "  });\n",
              "\n",
              "  // Wait for the user to pick the files.\n",
              "  const files = yield {\n",
              "    promise: Promise.race([pickedPromise, cancelPromise]),\n",
              "    response: {\n",
              "      action: 'starting',\n",
              "    }\n",
              "  };\n",
              "\n",
              "  cancel.remove();\n",
              "\n",
              "  // Disable the input element since further picks are not allowed.\n",
              "  inputElement.disabled = true;\n",
              "\n",
              "  if (!files) {\n",
              "    return {\n",
              "      response: {\n",
              "        action: 'complete',\n",
              "      }\n",
              "    };\n",
              "  }\n",
              "\n",
              "  for (const file of files) {\n",
              "    const li = document.createElement('li');\n",
              "    li.append(span(file.name, {fontWeight: 'bold'}));\n",
              "    li.append(span(\n",
              "        `(${file.type || 'n/a'}) - ${file.size} bytes, ` +\n",
              "        `last modified: ${\n",
              "            file.lastModifiedDate ? file.lastModifiedDate.toLocaleDateString() :\n",
              "                                    'n/a'} - `));\n",
              "    const percent = span('0% done');\n",
              "    li.appendChild(percent);\n",
              "\n",
              "    outputElement.appendChild(li);\n",
              "\n",
              "    const fileDataPromise = new Promise((resolve) => {\n",
              "      const reader = new FileReader();\n",
              "      reader.onload = (e) => {\n",
              "        resolve(e.target.result);\n",
              "      };\n",
              "      reader.readAsArrayBuffer(file);\n",
              "    });\n",
              "    // Wait for the data to be ready.\n",
              "    let fileData = yield {\n",
              "      promise: fileDataPromise,\n",
              "      response: {\n",
              "        action: 'continue',\n",
              "      }\n",
              "    };\n",
              "\n",
              "    // Use a chunked sending to avoid message size limits. See b/62115660.\n",
              "    let position = 0;\n",
              "    do {\n",
              "      const length = Math.min(fileData.byteLength - position, MAX_PAYLOAD_SIZE);\n",
              "      const chunk = new Uint8Array(fileData, position, length);\n",
              "      position += length;\n",
              "\n",
              "      const base64 = btoa(String.fromCharCode.apply(null, chunk));\n",
              "      yield {\n",
              "        response: {\n",
              "          action: 'append',\n",
              "          file: file.name,\n",
              "          data: base64,\n",
              "        },\n",
              "      };\n",
              "\n",
              "      let percentDone = fileData.byteLength === 0 ?\n",
              "          100 :\n",
              "          Math.round((position / fileData.byteLength) * 100);\n",
              "      percent.textContent = `${percentDone}% done`;\n",
              "\n",
              "    } while (position < fileData.byteLength);\n",
              "  }\n",
              "\n",
              "  // All done.\n",
              "  yield {\n",
              "    response: {\n",
              "      action: 'complete',\n",
              "    }\n",
              "  };\n",
              "}\n",
              "\n",
              "scope.google = scope.google || {};\n",
              "scope.google.colab = scope.google.colab || {};\n",
              "scope.google.colab._files = {\n",
              "  _uploadFiles,\n",
              "  _uploadFilesContinue,\n",
              "};\n",
              "})(self);\n",
              "</script> "
            ],
            "text/plain": [
              "<IPython.core.display.HTML object>"
            ]
          },
          "metadata": {},
          "output_type": "display_data"
        },
        {
          "name": "stdout",
          "output_type": "stream",
          "text": [
            "Saving homestore_clean.csv to homestore_clean.csv\n"
          ]
        }
      ],
      "source": [
        "from google.colab import files\n",
        "datos = files.upload()"
      ]
    },
    {
      "cell_type": "code",
      "execution_count": 4,
      "metadata": {
        "id": "OT0yOD0mkOyU"
      },
      "outputs": [],
      "source": [
        "#Lectura de archivo CSV\n",
        "\n",
        "path_csv = (r'./homestore_clean.csv')\n",
        "\n",
        "datos = pd.read_csv(\n",
        "    path_csv, \n",
        "    sep = ',',\n",
        "    header = 0\n",
        "    )"
      ]
    },
    {
      "cell_type": "markdown",
      "metadata": {
        "id": "dPXj_HCukRwD"
      },
      "source": [
        "#### Lectura archivo CSV local"
      ]
    },
    {
      "cell_type": "code",
      "execution_count": 6,
      "metadata": {
        "colab": {
          "base_uri": "https://localhost:8080/",
          "height": 397
        },
        "id": "wpWc7M56iw4c",
        "outputId": "7babfd75-7968-4584-cf56-0ca5be6184af"
      },
      "outputs": [],
      "source": [
        "#Lectura de archivo CSV\n",
        "\n",
        "path_csv = (r'./datos/homestore_ventas.csv')\n",
        "\n",
        "datos = pd.read_csv(\n",
        "    path_csv, \n",
        "    sep = ',',\n",
        "    header = 0\n",
        "    )"
      ]
    },
    {
      "cell_type": "markdown",
      "metadata": {
        "id": "OQQtpRTNlINg"
      },
      "source": [
        "#### Conversion de CSV a dataframe"
      ]
    },
    {
      "cell_type": "code",
      "execution_count": 8,
      "metadata": {
        "id": "yWTvTmAGiw4i"
      },
      "outputs": [],
      "source": [
        "#Pasaje de csv a dataframe\n",
        "\n",
        "datos = pd.DataFrame(datos)"
      ]
    },
    {
      "attachments": {},
      "cell_type": "markdown",
      "metadata": {
        "id": "su7pUpQIiw4k"
      },
      "source": [
        "### ETL"
      ]
    },
    {
      "cell_type": "markdown",
      "metadata": {
        "id": "ylTi5GSpkzEc"
      },
      "source": [
        "#### Limpieza de datos nulos y duplicados"
      ]
    },
    {
      "attachments": {},
      "cell_type": "markdown",
      "metadata": {},
      "source": [
        "##### Datos nulos"
      ]
    },
    {
      "cell_type": "code",
      "execution_count": 14,
      "metadata": {
        "id": "2cGivBXyiw4x"
      },
      "outputs": [],
      "source": [
        "datos = datos.dropna()"
      ]
    },
    {
      "attachments": {},
      "cell_type": "markdown",
      "metadata": {},
      "source": [
        "##### Datos duplicados"
      ]
    },
    {
      "cell_type": "code",
      "execution_count": 15,
      "metadata": {
        "id": "d_KHA87Hiw4y"
      },
      "outputs": [],
      "source": [
        "datos = datos.drop_duplicates()"
      ]
    },
    {
      "attachments": {},
      "cell_type": "markdown",
      "metadata": {
        "id": "V2VS3JajliUs"
      },
      "source": [
        "##### Convirtiendo formato de valores erroneos"
      ]
    },
    {
      "cell_type": "code",
      "execution_count": 16,
      "metadata": {
        "id": "oXvXdYPviw4-"
      },
      "outputs": [],
      "source": [
        "# Se convierten las comas a puntos\n",
        "# Se transforma el string en flotante\n",
        "\n",
        "def texto_flotante(valor):\n",
        "    punto_dos = False\n",
        "    valor_r = ''\n",
        "    \n",
        "    for i in valor:\n",
        "        if i == ',' and punto_dos == False:\n",
        "            valor_r = valor_r + '.'\n",
        "            punto_dos = True\n",
        "            continue\n",
        "        if i != ',' and i != '.':\n",
        "            valor_r = valor_r + i\n",
        "    \n",
        "    return float(valor_r)\n",
        "            "
      ]
    },
    {
      "cell_type": "code",
      "execution_count": 10,
      "metadata": {
        "id": "ZgX1TTDriw5C"
      },
      "outputs": [],
      "source": [
        "#Convierte las fechas que estan en string y no se permiten pasar a su correcto formato con astype\n",
        "def fecha(valor):\n",
        "    valor= pd.to_datetime(valor)\n",
        "    return valor"
      ]
    },
    {
      "cell_type": "code",
      "execution_count": 11,
      "metadata": {
        "id": "EaaSwqi5iw5D"
      },
      "outputs": [],
      "source": [
        "#Se convierte la columna de la fecha a su tipo correcto de dato\n",
        "datos['date'] = datos['date'].apply(fecha)"
      ]
    },
    {
      "cell_type": "code",
      "execution_count": 12,
      "metadata": {
        "id": "xqkGm_13iw5F"
      },
      "outputs": [],
      "source": [
        "#Se aplica la funcion de conversion de string a float\n",
        "\n",
        "datos['sales'] = datos['sales'].apply(texto_flotante)"
      ]
    },
    {
      "cell_type": "code",
      "execution_count": 13,
      "metadata": {},
      "outputs": [],
      "source": [
        "datos['cogs'] = datos['cogs'].apply(texto_flotante)"
      ]
    },
    {
      "attachments": {},
      "cell_type": "markdown",
      "metadata": {},
      "source": [
        "## Utilidades"
      ]
    },
    {
      "attachments": {},
      "cell_type": "markdown",
      "metadata": {
        "id": "Q1rNtdVdmEeq"
      },
      "source": [
        "### Calculo de utilidades 2"
      ]
    },
    {
      "cell_type": "markdown",
      "metadata": {
        "id": "3XPoGpUWiw5R"
      },
      "source": [
        "#### Utilidad bruta\n",
        "\n"
      ]
    },
    {
      "cell_type": "markdown",
      "metadata": {
        "id": "qvJDYqu2m1xq"
      },
      "source": [
        "##### Ventas"
      ]
    },
    {
      "cell_type": "code",
      "execution_count": 20,
      "metadata": {
        "id": "BhwLx1LGiw5K"
      },
      "outputs": [],
      "source": [
        "#Suma de las ventas totales\n",
        "\n",
        "ventas_2 = datos['sales'].sum()"
      ]
    },
    {
      "cell_type": "code",
      "execution_count": 21,
      "metadata": {
        "id": "Whm4yqJ_iw5P"
      },
      "outputs": [],
      "source": [
        "#se aplica el aumento del 15% a las ventas\n",
        "ventas_2 = float(ventas) * float(01.5)"
      ]
    },
    {
      "cell_type": "markdown",
      "metadata": {
        "id": "WcYOGNK5m55t"
      },
      "source": [
        "##### Costos brutos"
      ]
    },
    {
      "cell_type": "code",
      "execution_count": 23,
      "metadata": {
        "id": "762zfXTEiw5S"
      },
      "outputs": [],
      "source": [
        "costos_2 = datos['cogs'].sum()"
      ]
    },
    {
      "cell_type": "markdown",
      "metadata": {
        "id": "nvx5LfBim-mE"
      },
      "source": [
        "##### Utilidad bruta"
      ]
    },
    {
      "cell_type": "code",
      "execution_count": 34,
      "metadata": {
        "id": "4pJHXTqPiw5T"
      },
      "outputs": [],
      "source": [
        "#A las ventas se le restan los gatos\n",
        "utilidad_bruta_2 = (ventas_2 - costos_2)"
      ]
    },
    {
      "cell_type": "markdown",
      "metadata": {
        "id": "Jg6yS80Miw5V"
      },
      "source": [
        "#### Utilidad operativa"
      ]
    },
    {
      "cell_type": "markdown",
      "metadata": {
        "id": "6fyJ4NzOiw5W"
      },
      "source": [
        "##### Costos operativos"
      ]
    },
    {
      "cell_type": "code",
      "execution_count": 25,
      "metadata": {
        "id": "sz-s7DW9iw5X"
      },
      "outputs": [],
      "source": [
        "gastos_publicidad_2 = -3000\n",
        "gastos_sueldo_2 = -1500\n",
        "gastos_renta_2 = -8000"
      ]
    },
    {
      "cell_type": "markdown",
      "metadata": {
        "id": "5fg5yAxLnV20"
      },
      "source": [
        "##### Utilidad operativa"
      ]
    },
    {
      "cell_type": "code",
      "execution_count": 26,
      "metadata": {
        "id": "ZYwtXjNKiw5Y"
      },
      "outputs": [],
      "source": [
        "utilidad_operativa_2 = (gastos_publicidad_2 + gastos_sueldo_2 + gastos_renta_2)"
      ]
    },
    {
      "cell_type": "markdown",
      "metadata": {
        "id": "Z1V5uJ33iw5Z"
      },
      "source": [
        "#### Otros costos e ingresos"
      ]
    },
    {
      "cell_type": "markdown",
      "metadata": {
        "id": "DCv2eg6vn0rL"
      },
      "source": [
        "##### Otros ingresos"
      ]
    },
    {
      "cell_type": "code",
      "execution_count": 27,
      "metadata": {
        "id": "uFS9IPB5iw5a"
      },
      "outputs": [],
      "source": [
        "intereses_inversiones = 2500"
      ]
    },
    {
      "cell_type": "markdown",
      "metadata": {
        "id": "_otGmpDKn514"
      },
      "source": [
        "##### Otros gastos"
      ]
    },
    {
      "cell_type": "code",
      "execution_count": 28,
      "metadata": {
        "id": "0Hq6iJ2fnyJj"
      },
      "outputs": [],
      "source": [
        "demanda_perdida = -1000"
      ]
    },
    {
      "attachments": {},
      "cell_type": "markdown",
      "metadata": {
        "id": "UavBdzuzoG1Y"
      },
      "source": [
        "##### Otra utilidad"
      ]
    },
    {
      "cell_type": "code",
      "execution_count": 29,
      "metadata": {
        "id": "Z2g3yPExiw5b"
      },
      "outputs": [],
      "source": [
        "otra_utilidad = intereses_inversiones + demanda_perdida"
      ]
    },
    {
      "cell_type": "markdown",
      "metadata": {
        "id": "IVOKPKLFiw5d"
      },
      "source": [
        "#### Utilidad neta"
      ]
    },
    {
      "cell_type": "code",
      "execution_count": 32,
      "metadata": {
        "id": "Xpu_MRRHiw5d"
      },
      "outputs": [],
      "source": [
        "tasa_impuestos_2 = 0.3 "
      ]
    },
    {
      "cell_type": "code",
      "execution_count": 35,
      "metadata": {
        "id": "gTyRICbPiw5e"
      },
      "outputs": [],
      "source": [
        "utilidad_neta_2 = (utilidad_operativa_2 + utilidad_bruta_2) - (utilidad_operativa_2 + utilidad_bruta_2) * tasa_impuestos_2"
      ]
    },
    {
      "attachments": {},
      "cell_type": "markdown",
      "metadata": {},
      "source": [
        "### Calculo de utilidades 1"
      ]
    },
    {
      "attachments": {},
      "cell_type": "markdown",
      "metadata": {},
      "source": [
        "#### Utilidad bruta"
      ]
    },
    {
      "attachments": {},
      "cell_type": "markdown",
      "metadata": {},
      "source": [
        "##### Gastos"
      ]
    },
    {
      "cell_type": "code",
      "execution_count": 37,
      "metadata": {},
      "outputs": [],
      "source": [
        "costos_1 = datos['cogs'].sum()"
      ]
    },
    {
      "attachments": {},
      "cell_type": "markdown",
      "metadata": {},
      "source": [
        "##### Ganancias"
      ]
    },
    {
      "cell_type": "code",
      "execution_count": 38,
      "metadata": {},
      "outputs": [],
      "source": [
        "ventas_1 = datos['sales'].sum()"
      ]
    },
    {
      "attachments": {},
      "cell_type": "markdown",
      "metadata": {},
      "source": [
        "##### Utilidad bruta"
      ]
    },
    {
      "cell_type": "code",
      "execution_count": 39,
      "metadata": {},
      "outputs": [],
      "source": [
        "utilidad_bruta_1 = (ventas_1 - costos_1)"
      ]
    },
    {
      "attachments": {},
      "cell_type": "markdown",
      "metadata": {},
      "source": [
        "#### Utilidad operativa"
      ]
    },
    {
      "attachments": {},
      "cell_type": "markdown",
      "metadata": {},
      "source": [
        "##### Costos"
      ]
    },
    {
      "cell_type": "code",
      "execution_count": 41,
      "metadata": {},
      "outputs": [],
      "source": [
        "gastos_publicidad_1 = -3000\n",
        "gastos_sueldo_1 = -1500\n",
        "gastos_renta_1 = -6000"
      ]
    },
    {
      "attachments": {},
      "cell_type": "markdown",
      "metadata": {},
      "source": [
        "##### Utilidad operativa"
      ]
    },
    {
      "cell_type": "code",
      "execution_count": 43,
      "metadata": {},
      "outputs": [],
      "source": [
        "utilidad_operativa_1 = (gastos_publicidad_1 + gastos_sueldo_1 + gastos_renta_1)"
      ]
    },
    {
      "cell_type": "markdown",
      "metadata": {},
      "source": [
        "#### Otros costos e ingresos"
      ]
    },
    {
      "cell_type": "markdown",
      "metadata": {},
      "source": [
        "##### Otros gastos"
      ]
    },
    {
      "cell_type": "code",
      "execution_count": 44,
      "metadata": {},
      "outputs": [],
      "source": [
        "demanda_perdida_1 = -1000"
      ]
    },
    {
      "cell_type": "markdown",
      "metadata": {},
      "source": [
        "##### Otra utilidad"
      ]
    },
    {
      "cell_type": "code",
      "execution_count": 46,
      "metadata": {},
      "outputs": [],
      "source": [
        "intereses_inversiones_1 = 2500"
      ]
    },
    {
      "cell_type": "code",
      "execution_count": 47,
      "metadata": {},
      "outputs": [],
      "source": [
        "otra_utilidad_1 = intereses_inversiones_1 + demanda_perdida_1"
      ]
    },
    {
      "attachments": {},
      "cell_type": "markdown",
      "metadata": {},
      "source": [
        "#### Utilidad neta"
      ]
    },
    {
      "cell_type": "code",
      "execution_count": 51,
      "metadata": {},
      "outputs": [],
      "source": [
        "tasa_impuestos_1 = 0.3 "
      ]
    },
    {
      "cell_type": "code",
      "execution_count": 59,
      "metadata": {},
      "outputs": [],
      "source": [
        "utilidad_neta_1 = (utilidad_operativa_1 + utilidad_bruta_1) - (utilidad_operativa_1 + utilidad_bruta_1) * tasa_impuestos_1"
      ]
    },
    {
      "cell_type": "code",
      "execution_count": 53,
      "metadata": {},
      "outputs": [
        {
          "data": {
            "text/html": [
              "<div>\n",
              "<style scoped>\n",
              "    .dataframe tbody tr th:only-of-type {\n",
              "        vertical-align: middle;\n",
              "    }\n",
              "\n",
              "    .dataframe tbody tr th {\n",
              "        vertical-align: top;\n",
              "    }\n",
              "\n",
              "    .dataframe thead th {\n",
              "        text-align: right;\n",
              "    }\n",
              "</style>\n",
              "<table border=\"1\" class=\"dataframe\">\n",
              "  <thead>\n",
              "    <tr style=\"text-align: right;\">\n",
              "      <th></th>\n",
              "      <th>invoice</th>\n",
              "      <th>branch</th>\n",
              "      <th>city</th>\n",
              "      <th>type</th>\n",
              "      <th>gender</th>\n",
              "      <th>category</th>\n",
              "      <th>cogs</th>\n",
              "      <th>sales</th>\n",
              "      <th>date</th>\n",
              "      <th>time</th>\n",
              "      <th>payment</th>\n",
              "      <th>review</th>\n",
              "    </tr>\n",
              "  </thead>\n",
              "  <tbody>\n",
              "    <tr>\n",
              "      <th>0</th>\n",
              "      <td>750-67-8428</td>\n",
              "      <td>a</td>\n",
              "      <td>nueva york</td>\n",
              "      <td>member</td>\n",
              "      <td>female</td>\n",
              "      <td>health and beauty</td>\n",
              "      <td>522.83</td>\n",
              "      <td>548.97</td>\n",
              "      <td>2019-01-05</td>\n",
              "      <td>13:08</td>\n",
              "      <td>ewallet</td>\n",
              "      <td>9,10</td>\n",
              "    </tr>\n",
              "    <tr>\n",
              "      <th>1</th>\n",
              "      <td>226-31-3081</td>\n",
              "      <td>c</td>\n",
              "      <td>houston</td>\n",
              "      <td>normal</td>\n",
              "      <td>female</td>\n",
              "      <td>electronic accessories</td>\n",
              "      <td>76.40</td>\n",
              "      <td>80.22</td>\n",
              "      <td>2019-03-08</td>\n",
              "      <td>10:29</td>\n",
              "      <td>cash</td>\n",
              "      <td>9,60</td>\n",
              "    </tr>\n",
              "    <tr>\n",
              "      <th>2</th>\n",
              "      <td>631-41-3108</td>\n",
              "      <td>a</td>\n",
              "      <td>nueva york</td>\n",
              "      <td>normal</td>\n",
              "      <td>male</td>\n",
              "      <td>home and lifestyle</td>\n",
              "      <td>324.31</td>\n",
              "      <td>340.53</td>\n",
              "      <td>2019-03-03</td>\n",
              "      <td>13:23</td>\n",
              "      <td>credit card</td>\n",
              "      <td>7,40</td>\n",
              "    </tr>\n",
              "    <tr>\n",
              "      <th>3</th>\n",
              "      <td>123-19-1176</td>\n",
              "      <td>a</td>\n",
              "      <td>nueva york</td>\n",
              "      <td>member</td>\n",
              "      <td>male</td>\n",
              "      <td>health and beauty</td>\n",
              "      <td>465.76</td>\n",
              "      <td>489.05</td>\n",
              "      <td>2019-01-27</td>\n",
              "      <td>20:33</td>\n",
              "      <td>ewallet</td>\n",
              "      <td>8,40</td>\n",
              "    </tr>\n",
              "    <tr>\n",
              "      <th>4</th>\n",
              "      <td>373-73-7910</td>\n",
              "      <td>a</td>\n",
              "      <td>nueva york</td>\n",
              "      <td>normal</td>\n",
              "      <td>male</td>\n",
              "      <td>sports and travel</td>\n",
              "      <td>604.17</td>\n",
              "      <td>634.38</td>\n",
              "      <td>2019-02-08</td>\n",
              "      <td>10:37</td>\n",
              "      <td>ewallet</td>\n",
              "      <td>5,30</td>\n",
              "    </tr>\n",
              "    <tr>\n",
              "      <th>...</th>\n",
              "      <td>...</td>\n",
              "      <td>...</td>\n",
              "      <td>...</td>\n",
              "      <td>...</td>\n",
              "      <td>...</td>\n",
              "      <td>...</td>\n",
              "      <td>...</td>\n",
              "      <td>...</td>\n",
              "      <td>...</td>\n",
              "      <td>...</td>\n",
              "      <td>...</td>\n",
              "      <td>...</td>\n",
              "    </tr>\n",
              "    <tr>\n",
              "      <th>995</th>\n",
              "      <td>233-67-5758</td>\n",
              "      <td>c</td>\n",
              "      <td>houston</td>\n",
              "      <td>normal</td>\n",
              "      <td>male</td>\n",
              "      <td>health and beauty</td>\n",
              "      <td>40.35</td>\n",
              "      <td>42.37</td>\n",
              "      <td>2019-01-29</td>\n",
              "      <td>13:46</td>\n",
              "      <td>ewallet</td>\n",
              "      <td>6,20</td>\n",
              "    </tr>\n",
              "    <tr>\n",
              "      <th>996</th>\n",
              "      <td>303-96-2227</td>\n",
              "      <td>b</td>\n",
              "      <td>chicago</td>\n",
              "      <td>normal</td>\n",
              "      <td>female</td>\n",
              "      <td>home and lifestyle</td>\n",
              "      <td>973.80</td>\n",
              "      <td>1022.49</td>\n",
              "      <td>2019-03-02</td>\n",
              "      <td>17:16</td>\n",
              "      <td>ewallet</td>\n",
              "      <td>4,40</td>\n",
              "    </tr>\n",
              "    <tr>\n",
              "      <th>997</th>\n",
              "      <td>727-02-1313</td>\n",
              "      <td>a</td>\n",
              "      <td>nueva york</td>\n",
              "      <td>member</td>\n",
              "      <td>male</td>\n",
              "      <td>food and beverages</td>\n",
              "      <td>31.84</td>\n",
              "      <td>33.43</td>\n",
              "      <td>2019-02-09</td>\n",
              "      <td>13:22</td>\n",
              "      <td>cash</td>\n",
              "      <td>7,70</td>\n",
              "    </tr>\n",
              "    <tr>\n",
              "      <th>998</th>\n",
              "      <td>347-56-2442</td>\n",
              "      <td>a</td>\n",
              "      <td>nueva york</td>\n",
              "      <td>normal</td>\n",
              "      <td>male</td>\n",
              "      <td>home and lifestyle</td>\n",
              "      <td>65.82</td>\n",
              "      <td>69.11</td>\n",
              "      <td>2019-02-22</td>\n",
              "      <td>15:33</td>\n",
              "      <td>cash</td>\n",
              "      <td>4,10</td>\n",
              "    </tr>\n",
              "    <tr>\n",
              "      <th>999</th>\n",
              "      <td>849-09-3807</td>\n",
              "      <td>a</td>\n",
              "      <td>nueva york</td>\n",
              "      <td>member</td>\n",
              "      <td>female</td>\n",
              "      <td>fashion accessories</td>\n",
              "      <td>618.38</td>\n",
              "      <td>649.30</td>\n",
              "      <td>2019-02-18</td>\n",
              "      <td>13:28</td>\n",
              "      <td>cash</td>\n",
              "      <td>6,60</td>\n",
              "    </tr>\n",
              "  </tbody>\n",
              "</table>\n",
              "<p>1000 rows × 12 columns</p>\n",
              "</div>"
            ],
            "text/plain": [
              "         invoice branch        city    type  gender                category   \n",
              "0    750-67-8428      a  nueva york  member  female       health and beauty  \\\n",
              "1    226-31-3081      c     houston  normal  female  electronic accessories   \n",
              "2    631-41-3108      a  nueva york  normal    male      home and lifestyle   \n",
              "3    123-19-1176      a  nueva york  member    male       health and beauty   \n",
              "4    373-73-7910      a  nueva york  normal    male       sports and travel   \n",
              "..           ...    ...         ...     ...     ...                     ...   \n",
              "995  233-67-5758      c     houston  normal    male       health and beauty   \n",
              "996  303-96-2227      b     chicago  normal  female      home and lifestyle   \n",
              "997  727-02-1313      a  nueva york  member    male      food and beverages   \n",
              "998  347-56-2442      a  nueva york  normal    male      home and lifestyle   \n",
              "999  849-09-3807      a  nueva york  member  female     fashion accessories   \n",
              "\n",
              "       cogs    sales       date   time      payment review  \n",
              "0    522.83   548.97 2019-01-05  13:08      ewallet   9,10  \n",
              "1     76.40    80.22 2019-03-08  10:29         cash   9,60  \n",
              "2    324.31   340.53 2019-03-03  13:23  credit card   7,40  \n",
              "3    465.76   489.05 2019-01-27  20:33      ewallet   8,40  \n",
              "4    604.17   634.38 2019-02-08  10:37      ewallet   5,30  \n",
              "..      ...      ...        ...    ...          ...    ...  \n",
              "995   40.35    42.37 2019-01-29  13:46      ewallet   6,20  \n",
              "996  973.80  1022.49 2019-03-02  17:16      ewallet   4,40  \n",
              "997   31.84    33.43 2019-02-09  13:22         cash   7,70  \n",
              "998   65.82    69.11 2019-02-22  15:33         cash   4,10  \n",
              "999  618.38   649.30 2019-02-18  13:28         cash   6,60  \n",
              "\n",
              "[1000 rows x 12 columns]"
            ]
          },
          "metadata": {},
          "output_type": "display_data"
        }
      ],
      "source": [
        "display(datos)"
      ]
    },
    {
      "cell_type": "code",
      "execution_count": 56,
      "metadata": {},
      "outputs": [],
      "source": [
        "X_1 = datos.groupby(['date', 'sales'])['invoice'].count"
      ]
    },
    {
      "cell_type": "code",
      "execution_count": 57,
      "metadata": {},
      "outputs": [],
      "source": [
        "Y_1 = datos.groupby(['sales', 'date'])['invoice'].count"
      ]
    },
    {
      "cell_type": "code",
      "execution_count": null,
      "metadata": {},
      "outputs": [],
      "source": [
        "Y_2 = datos.groupby(['sales', 'date'])['invoice'].count"
      ]
    },
    {
      "cell_type": "code",
      "execution_count": null,
      "metadata": {},
      "outputs": [],
      "source": [
        "X_2 = datos.groupby(['date', 'sales'])['invoice'].count"
      ]
    },
    {
      "attachments": {},
      "cell_type": "markdown",
      "metadata": {},
      "source": [
        "## Conclusion"
      ]
    },
    {
      "attachments": {},
      "cell_type": "markdown",
      "metadata": {},
      "source": [
        "Luego de realizar el informe de resulados sin el cambio de renta y luego del cambio de renta, se pudo observar un notabla aumento de 111638 USD en la utilidad neta, por lo que se recomienda hacer el cambio de alquiler."
      ]
    }
  ],
  "metadata": {
    "colab": {
      "provenance": []
    },
    "kernelspec": {
      "display_name": "Python 3",
      "language": "python",
      "name": "python3"
    },
    "language_info": {
      "codemirror_mode": {
        "name": "ipython",
        "version": 3
      },
      "file_extension": ".py",
      "mimetype": "text/x-python",
      "name": "python",
      "nbconvert_exporter": "python",
      "pygments_lexer": "ipython3",
      "version": "3.10.7"
    },
    "orig_nbformat": 4
  },
  "nbformat": 4,
  "nbformat_minor": 0
}
