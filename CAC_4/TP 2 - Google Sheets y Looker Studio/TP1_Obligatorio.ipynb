{
  "nbformat": 4,
  "nbformat_minor": 0,
  "metadata": {
    "colab": {
      "provenance": []
    },
    "kernelspec": {
      "name": "python3",
      "display_name": "Python 3"
    },
    "language_info": {
      "name": "python"
    }
  },
  "cells": [
    {
      "cell_type": "markdown",
      "source": [
        "# TP1 Obligatorio"
      ],
      "metadata": {
        "id": "MMKcbxfPdE4_"
      }
    },
    {
      "cell_type": "markdown",
      "source": [
        "## Google Sheets y Looker Studio"
      ],
      "metadata": {
        "id": "UVyUfWgEdNCl"
      }
    },
    {
      "cell_type": "markdown",
      "source": [
        "### Consigna:"
      ],
      "metadata": {
        "id": "PlZaMm3HdRBx"
      }
    },
    {
      "cell_type": "markdown",
      "source": [
        "*   Preparar los datos: Obtener los datos. Dar nombres de columna y formato de datos apropiados. Crear las combinaciones necesarias.\n",
        "\n",
        "*   Conectar los datos con Looker Studio (sólo las columnas necesarias).\n",
        "\n",
        "*   Además del uso correcto de los sets de datos, se tendrán en cuenta el diseño, el uso apropiado de las gráficas, y su personalización.\n",
        "\n",
        "*   Puede realizar el informe en inglés o español, pero todos los títulos, nombres de dimensiones y métricas deben ser mostradas en el idioma elegido."
      ],
      "metadata": {
        "id": "PHEWsD0SdWo_"
      }
    },
    {
      "cell_type": "markdown",
      "source": [
        "### Contexto:"
      ],
      "metadata": {
        "id": "UO668Olodl4v"
      }
    },
    {
      "cell_type": "markdown",
      "source": [
        "Empresa que ofrece servicios vinculados a redes móviles en 5 países (China, Emiratos Árabes, India, Islas Caimán y USA), solicita un informe que muestre lo siguiente:\n",
        "\n",
        "1. Suscripciones a líneas móviles por cada 100 habitantes de 1980 a 2020\n",
        "2. Suscripciones a Internet por cada 100 habitantes de 1998 a 2020\n",
        "3. Mapa de usuarios de Internet (2001)\n",
        "4. Mapa de usuarios de Internet (2020)\n",
        "5. Top 5 países con más suscripciones a Internet por cada 100 habitantes (2020)\n",
        "6. ¿Cuáles son los 3 tipos de aplicación más demandados en China?\n",
        "7. Top 5 países con más usuarios de internet en los años 2001 y 2020. (TIP: Filtro World y filtro compuesto por 2 años)\n",
        "8. Suscripciones a banda ancha y uso de celular en India, China, Islas Caimán,USA, Emiratos\n",
        "Árabes en 2020.\n",
        "\n",
        "9.  \n",
        "  a)¿Qué país tuvo el mayor número de usuarios con más de una línea de celular por persona en el año 2020?\n",
        "\n",
        "  b) ¿Cuántos países no alcanzaron el promedio de un celular por persona para ese año?\n",
        "\n",
        "  c) ¿Cuál fue el promedio de suscriptores a líneas de celular en este último grupo de países\n",
        "\n",
        "\n",
        "10. Top 5 de nuestros servicios más aceptados en cada país (una gráfica por país)."
      ],
      "metadata": {
        "id": "eFnRmSa4dnxj"
      }
    },
    {
      "cell_type": "markdown",
      "source": [
        "**Fuentes de datos:**\n",
        "\n",
        "**Global Internet users / Internet Users Country-wise 1980-2020**\n",
        "\n",
        "Leer descripción del dataset de la fuente\n",
        "https://www.kaggle.com/datasets/ashishraut64/internet-users\n",
        "\n",
        "**users (Google sheets)**\n",
        "https://docs.google.com/spreadsheets/d/12WCdw5-NKUeg4wYXk5lYtubecDoPjI5td8iP7iuWiKU/edit?usp=share_link\n",
        "\n",
        "**Columnas:**\n",
        "\n",
        "1. country\n",
        "2. service_id\n",
        "3. service_subscribers_percentage: porcentaje de usuarios de celular de ese país que tienen contratado el servicio en 2020\n",
        "\n",
        "**services.csv**\n",
        "https://drive.google.com/file/d/15-RzpivUaahH_TM1-syOfaGJKEN18gQg/view?usp=share_link\n",
        "\n",
        "**Columnas:**\n",
        "\n",
        "1. service_name\n",
        "2. service_id\n",
        "3. category_id\n",
        "\n",
        "**category.csv**\n",
        "https://drive.google.com/file/d/1lpVNiMCU-cb2I32tBu1n2PXS5SnKGyd8/view?usp=share_link\n",
        "Clasificación por tipo de aplicación.\n",
        "\n",
        "**Columnas:**\n",
        "1. id\n",
        "2. category"
      ],
      "metadata": {
        "id": "4tcwP8PJeUip"
      }
    },
    {
      "cell_type": "markdown",
      "source": [
        "**Entrega:**\n",
        "\n",
        "-  Período de entrega: 14 al 27 de mayo\n",
        "-  Se debe compartir el documento con el docente, con permiso de edición, completando el siguiente formulario de entrega: https://forms.gle/TdDzbY8XNsX9Quw88\n",
        "-  Sólo se admite un link por alumno. Si es necesario, puede hacer las correcciones sobre el trabajo.\n",
        "-  Una vez enviado, se mostrará en pantalla la confirmación \"Se registró la entrega de tu trabajo\".\n",
        "-  El estado de la entrega y los resultados de la corrección serán compartidos por la planilla de material del curso."
      ],
      "metadata": {
        "id": "mPN_NFNhfKav"
      }
    }
  ]
}