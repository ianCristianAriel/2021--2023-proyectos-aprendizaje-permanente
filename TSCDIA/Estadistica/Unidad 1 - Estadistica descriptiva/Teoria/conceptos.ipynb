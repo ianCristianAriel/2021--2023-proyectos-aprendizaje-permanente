{
  "nbformat": 4,
  "nbformat_minor": 0,
  "metadata": {
    "colab": {
      "provenance": []
    },
    "kernelspec": {
      "name": "python3",
      "display_name": "Python 3"
    },
    "language_info": {
      "name": "python"
    }
  },
  "cells": [
    {
      "cell_type": "markdown",
      "source": [
        "### Importacion de librerias"
      ],
      "metadata": {
        "id": "1MFegvpDjXAd"
      }
    },
    {
      "cell_type": "code",
      "execution_count": 1,
      "metadata": {
        "id": "48gnl_Ufiw8x"
      },
      "outputs": [],
      "source": [
        "import pandas as pd\n",
        "import numpy as np"
      ]
    },
    {
      "cell_type": "markdown",
      "source": [
        "### Tipos de datos"
      ],
      "metadata": {
        "id": "-SIuGy2Bj-Qt"
      }
    },
    {
      "cell_type": "markdown",
      "source": [
        "#### Categoricos\n"
      ],
      "metadata": {
        "id": "F9S7nCbrkDt6"
      }
    },
    {
      "cell_type": "code",
      "source": [
        "#Ordinales\n",
        "ordinales = ['Gerente', 'Jefe', 'Supervisor']\n",
        "#Nominales\n",
        "nominales = ['Empresa', 'Club deportivo', 'Hospital']"
      ],
      "metadata": {
        "id": "48ZDtqQwkBFp"
      },
      "execution_count": null,
      "outputs": []
    },
    {
      "cell_type": "markdown",
      "source": [
        "#### Numericos\n"
      ],
      "metadata": {
        "id": "QHaVm7fVkjH0"
      }
    },
    {
      "cell_type": "code",
      "source": [
        "#Discretos\n",
        "discretos = [1,2,3,4,5]\n",
        "#Continuos\n",
        "continuos = [1.2,1.2,2.6,2.9]"
      ],
      "metadata": {
        "id": "0OFaw6H5kliC"
      },
      "execution_count": null,
      "outputs": []
    },
    {
      "cell_type": "markdown",
      "source": [
        "### Medidas de tendencia central"
      ],
      "metadata": {
        "id": "Yvd9KErYk38d"
      }
    },
    {
      "cell_type": "code",
      "source": [
        "import io\n",
        "from google.colab import files\n",
        "\n",
        "uploaded = files.upload()\n",
        "data = pd.read_csv(io.BytesIO(uploaded['estadistica.csv']))"
      ],
      "metadata": {
        "colab": {
          "base_uri": "https://localhost:8080/",
          "height": 73
        },
        "id": "FqYlKNWsoBC5",
        "outputId": "3ea615ac-05fd-48e8-9ca9-3f25d4fdf9ee"
      },
      "execution_count": 5,
      "outputs": [
        {
          "output_type": "display_data",
          "data": {
            "text/plain": [
              "<IPython.core.display.HTML object>"
            ],
            "text/html": [
              "\n",
              "     <input type=\"file\" id=\"files-fd25943d-b79d-4206-81ee-d8b665d52523\" name=\"files[]\" multiple disabled\n",
              "        style=\"border:none\" />\n",
              "     <output id=\"result-fd25943d-b79d-4206-81ee-d8b665d52523\">\n",
              "      Upload widget is only available when the cell has been executed in the\n",
              "      current browser session. Please rerun this cell to enable.\n",
              "      </output>\n",
              "      <script>// Copyright 2017 Google LLC\n",
              "//\n",
              "// Licensed under the Apache License, Version 2.0 (the \"License\");\n",
              "// you may not use this file except in compliance with the License.\n",
              "// You may obtain a copy of the License at\n",
              "//\n",
              "//      http://www.apache.org/licenses/LICENSE-2.0\n",
              "//\n",
              "// Unless required by applicable law or agreed to in writing, software\n",
              "// distributed under the License is distributed on an \"AS IS\" BASIS,\n",
              "// WITHOUT WARRANTIES OR CONDITIONS OF ANY KIND, either express or implied.\n",
              "// See the License for the specific language governing permissions and\n",
              "// limitations under the License.\n",
              "\n",
              "/**\n",
              " * @fileoverview Helpers for google.colab Python module.\n",
              " */\n",
              "(function(scope) {\n",
              "function span(text, styleAttributes = {}) {\n",
              "  const element = document.createElement('span');\n",
              "  element.textContent = text;\n",
              "  for (const key of Object.keys(styleAttributes)) {\n",
              "    element.style[key] = styleAttributes[key];\n",
              "  }\n",
              "  return element;\n",
              "}\n",
              "\n",
              "// Max number of bytes which will be uploaded at a time.\n",
              "const MAX_PAYLOAD_SIZE = 100 * 1024;\n",
              "\n",
              "function _uploadFiles(inputId, outputId) {\n",
              "  const steps = uploadFilesStep(inputId, outputId);\n",
              "  const outputElement = document.getElementById(outputId);\n",
              "  // Cache steps on the outputElement to make it available for the next call\n",
              "  // to uploadFilesContinue from Python.\n",
              "  outputElement.steps = steps;\n",
              "\n",
              "  return _uploadFilesContinue(outputId);\n",
              "}\n",
              "\n",
              "// This is roughly an async generator (not supported in the browser yet),\n",
              "// where there are multiple asynchronous steps and the Python side is going\n",
              "// to poll for completion of each step.\n",
              "// This uses a Promise to block the python side on completion of each step,\n",
              "// then passes the result of the previous step as the input to the next step.\n",
              "function _uploadFilesContinue(outputId) {\n",
              "  const outputElement = document.getElementById(outputId);\n",
              "  const steps = outputElement.steps;\n",
              "\n",
              "  const next = steps.next(outputElement.lastPromiseValue);\n",
              "  return Promise.resolve(next.value.promise).then((value) => {\n",
              "    // Cache the last promise value to make it available to the next\n",
              "    // step of the generator.\n",
              "    outputElement.lastPromiseValue = value;\n",
              "    return next.value.response;\n",
              "  });\n",
              "}\n",
              "\n",
              "/**\n",
              " * Generator function which is called between each async step of the upload\n",
              " * process.\n",
              " * @param {string} inputId Element ID of the input file picker element.\n",
              " * @param {string} outputId Element ID of the output display.\n",
              " * @return {!Iterable<!Object>} Iterable of next steps.\n",
              " */\n",
              "function* uploadFilesStep(inputId, outputId) {\n",
              "  const inputElement = document.getElementById(inputId);\n",
              "  inputElement.disabled = false;\n",
              "\n",
              "  const outputElement = document.getElementById(outputId);\n",
              "  outputElement.innerHTML = '';\n",
              "\n",
              "  const pickedPromise = new Promise((resolve) => {\n",
              "    inputElement.addEventListener('change', (e) => {\n",
              "      resolve(e.target.files);\n",
              "    });\n",
              "  });\n",
              "\n",
              "  const cancel = document.createElement('button');\n",
              "  inputElement.parentElement.appendChild(cancel);\n",
              "  cancel.textContent = 'Cancel upload';\n",
              "  const cancelPromise = new Promise((resolve) => {\n",
              "    cancel.onclick = () => {\n",
              "      resolve(null);\n",
              "    };\n",
              "  });\n",
              "\n",
              "  // Wait for the user to pick the files.\n",
              "  const files = yield {\n",
              "    promise: Promise.race([pickedPromise, cancelPromise]),\n",
              "    response: {\n",
              "      action: 'starting',\n",
              "    }\n",
              "  };\n",
              "\n",
              "  cancel.remove();\n",
              "\n",
              "  // Disable the input element since further picks are not allowed.\n",
              "  inputElement.disabled = true;\n",
              "\n",
              "  if (!files) {\n",
              "    return {\n",
              "      response: {\n",
              "        action: 'complete',\n",
              "      }\n",
              "    };\n",
              "  }\n",
              "\n",
              "  for (const file of files) {\n",
              "    const li = document.createElement('li');\n",
              "    li.append(span(file.name, {fontWeight: 'bold'}));\n",
              "    li.append(span(\n",
              "        `(${file.type || 'n/a'}) - ${file.size} bytes, ` +\n",
              "        `last modified: ${\n",
              "            file.lastModifiedDate ? file.lastModifiedDate.toLocaleDateString() :\n",
              "                                    'n/a'} - `));\n",
              "    const percent = span('0% done');\n",
              "    li.appendChild(percent);\n",
              "\n",
              "    outputElement.appendChild(li);\n",
              "\n",
              "    const fileDataPromise = new Promise((resolve) => {\n",
              "      const reader = new FileReader();\n",
              "      reader.onload = (e) => {\n",
              "        resolve(e.target.result);\n",
              "      };\n",
              "      reader.readAsArrayBuffer(file);\n",
              "    });\n",
              "    // Wait for the data to be ready.\n",
              "    let fileData = yield {\n",
              "      promise: fileDataPromise,\n",
              "      response: {\n",
              "        action: 'continue',\n",
              "      }\n",
              "    };\n",
              "\n",
              "    // Use a chunked sending to avoid message size limits. See b/62115660.\n",
              "    let position = 0;\n",
              "    do {\n",
              "      const length = Math.min(fileData.byteLength - position, MAX_PAYLOAD_SIZE);\n",
              "      const chunk = new Uint8Array(fileData, position, length);\n",
              "      position += length;\n",
              "\n",
              "      const base64 = btoa(String.fromCharCode.apply(null, chunk));\n",
              "      yield {\n",
              "        response: {\n",
              "          action: 'append',\n",
              "          file: file.name,\n",
              "          data: base64,\n",
              "        },\n",
              "      };\n",
              "\n",
              "      let percentDone = fileData.byteLength === 0 ?\n",
              "          100 :\n",
              "          Math.round((position / fileData.byteLength) * 100);\n",
              "      percent.textContent = `${percentDone}% done`;\n",
              "\n",
              "    } while (position < fileData.byteLength);\n",
              "  }\n",
              "\n",
              "  // All done.\n",
              "  yield {\n",
              "    response: {\n",
              "      action: 'complete',\n",
              "    }\n",
              "  };\n",
              "}\n",
              "\n",
              "scope.google = scope.google || {};\n",
              "scope.google.colab = scope.google.colab || {};\n",
              "scope.google.colab._files = {\n",
              "  _uploadFiles,\n",
              "  _uploadFilesContinue,\n",
              "};\n",
              "})(self);\n",
              "</script> "
            ]
          },
          "metadata": {}
        },
        {
          "output_type": "stream",
          "name": "stdout",
          "text": [
            "Saving estadistica.csv to estadistica (1).csv\n"
          ]
        }
      ]
    },
    {
      "cell_type": "code",
      "source": [
        "df = pd.DataFrame(data)"
      ],
      "metadata": {
        "id": "TX1u4uaTlEP-"
      },
      "execution_count": 58,
      "outputs": []
    },
    {
      "cell_type": "markdown",
      "source": [
        "#### Promedio / Media"
      ],
      "metadata": {
        "id": "PTSMVfTgk-p0"
      }
    },
    {
      "cell_type": "code",
      "source": [
        "promedio_edad = df['edad'].mean()"
      ],
      "metadata": {
        "id": "gWUkoFHLk8fN"
      },
      "execution_count": null,
      "outputs": []
    },
    {
      "cell_type": "markdown",
      "source": [
        "#### Mediana"
      ],
      "metadata": {
        "id": "V2mocxnepUYP"
      }
    },
    {
      "cell_type": "code",
      "source": [
        "mediana_edad = df['edad'].median()"
      ],
      "metadata": {
        "id": "L9T0ik2BpT5K"
      },
      "execution_count": null,
      "outputs": []
    },
    {
      "cell_type": "markdown",
      "source": [
        "#### Moda\n"
      ],
      "metadata": {
        "id": "MDMbZT8hpdit"
      }
    },
    {
      "cell_type": "code",
      "source": [
        "moda_edad = df['edad'].mode()"
      ],
      "metadata": {
        "id": "y6sQ_wt6ptWm"
      },
      "execution_count": null,
      "outputs": []
    },
    {
      "cell_type": "markdown",
      "source": [
        "### Rangos"
      ],
      "metadata": {
        "id": "odQ_l00Ap9iG"
      }
    },
    {
      "cell_type": "markdown",
      "source": [
        "#### Rango"
      ],
      "metadata": {
        "id": "FSr2TgDtqAax"
      }
    },
    {
      "cell_type": "code",
      "source": [
        "rango = df['edad'].max() - df['edad'].min()"
      ],
      "metadata": {
        "id": "pfDb2EP_qC-P"
      },
      "execution_count": null,
      "outputs": []
    },
    {
      "cell_type": "markdown",
      "source": [
        "#### Rango intercuartilico"
      ],
      "metadata": {
        "id": "TsYzJ6u6y6fT"
      }
    },
    {
      "cell_type": "code",
      "source": [
        "Q1 = np.percentile(df['edad'], 25)\n",
        "Q3 = np.percentile(df['edad'], 75)"
      ],
      "metadata": {
        "id": "seymXvD6p_-Z"
      },
      "execution_count": null,
      "outputs": []
    },
    {
      "cell_type": "code",
      "source": [
        "rango_intercuartilico = Q3 - Q1"
      ],
      "metadata": {
        "id": "6HkmA8Dexq8N"
      },
      "execution_count": null,
      "outputs": []
    },
    {
      "cell_type": "markdown",
      "source": [
        "### Varianza y desviacion estandar"
      ],
      "metadata": {
        "id": "AtOE158Gyvmf"
      }
    },
    {
      "cell_type": "code",
      "source": [
        "varianza = np.var(df['edad'])"
      ],
      "metadata": {
        "id": "4M0c5z_ry02Z"
      },
      "execution_count": null,
      "outputs": []
    },
    {
      "cell_type": "code",
      "source": [
        "desviacion_estandar = np.std(df['edad'])"
      ],
      "metadata": {
        "id": "L-eBQUemzjIb"
      },
      "execution_count": null,
      "outputs": []
    },
    {
      "cell_type": "markdown",
      "source": [
        "### Escalamientos"
      ],
      "metadata": {
        "id": "qRq5W-IRH-Wd"
      }
    },
    {
      "cell_type": "markdown",
      "source": [
        "#### Escalamiento lineal"
      ],
      "metadata": {
        "id": "9NH0DFEnQj47"
      }
    },
    {
      "cell_type": "code",
      "source": [
        "import seaborn as sns"
      ],
      "metadata": {
        "id": "4q4DsWuVYBfn"
      },
      "execution_count": 14,
      "outputs": []
    },
    {
      "cell_type": "code",
      "source": [
        "enteros = [-5,-4,-3,-2,-1, 0, 1, 2 , 3, 4, 5]"
      ],
      "metadata": {
        "id": "yermaEIwaNkK"
      },
      "execution_count": 26,
      "outputs": []
    },
    {
      "cell_type": "code",
      "source": [
        "numeros = pd.DataFrame()\n",
        "numeros['enteros'] = enteros"
      ],
      "metadata": {
        "id": "sQvS-_fjYq1x"
      },
      "execution_count": 29,
      "outputs": []
    },
    {
      "cell_type": "markdown",
      "source": [
        "**Escalamiento min-max**"
      ],
      "metadata": {
        "id": "nA2V3LNeck-V"
      }
    },
    {
      "cell_type": "code",
      "source": [
        "#min-max\n",
        "X = numeros['enteros']\n",
        "Xs = ( 2 * X - min(X) - max(X) ) // (max(X) - min(X))"
      ],
      "metadata": {
        "id": "Lp82nw06ZKm3"
      },
      "execution_count": 30,
      "outputs": []
    },
    {
      "cell_type": "code",
      "source": [
        "sns.histplot(Xs)"
      ],
      "metadata": {
        "id": "qpGltZh4ZpCk"
      },
      "execution_count": null,
      "outputs": []
    },
    {
      "cell_type": "markdown",
      "source": [
        "**Escalamiento Z-score**"
      ],
      "metadata": {
        "id": "Mr9K4H6YcqBK"
      }
    },
    {
      "cell_type": "code",
      "source": [
        "#Z-score\n",
        "X = numeros['enteros']\n",
        "u = numeros['enteros'].mean()\n",
        "D = numeros['enteros'].std()"
      ],
      "metadata": {
        "id": "740K7CDnbfum"
      },
      "execution_count": 33,
      "outputs": []
    },
    {
      "cell_type": "code",
      "source": [
        "Xs = ( X - u ) // D"
      ],
      "metadata": {
        "id": "r5Wi5-1FcKvw"
      },
      "execution_count": 34,
      "outputs": []
    },
    {
      "cell_type": "code",
      "source": [
        "sns.histplot(Xs)"
      ],
      "metadata": {
        "id": "mhpo5vcNcZOI"
      },
      "execution_count": null,
      "outputs": []
    },
    {
      "cell_type": "markdown",
      "source": [
        "#### Escalamiento no lineal"
      ],
      "metadata": {
        "id": "N7xM7ZZoQmPN"
      }
    },
    {
      "cell_type": "markdown",
      "source": [
        "**Funcion tanh()**"
      ],
      "metadata": {
        "id": "V-9edwTJeSRh"
      }
    },
    {
      "cell_type": "code",
      "source": [
        "p = 10000\n",
        "Xs = df.edad.apply(lambda x: np.tanh(x/p)).hist()"
      ],
      "metadata": {
        "colab": {
          "base_uri": "https://localhost:8080/",
          "height": 430
        },
        "id": "D-CeG4zjd48a",
        "outputId": "52cf1895-76e7-4b1e-8409-05b6d41abe74"
      },
      "execution_count": 45,
      "outputs": [
        {
          "output_type": "display_data",
          "data": {
            "text/plain": [
              "<Figure size 640x480 with 1 Axes>"
            ],
            "image/png": "[encoded data removed]"
          },
          "metadata": {}
        }
      ]
    },
    {
      "cell_type": "markdown",
      "source": [
        "**Raiz cuadrada**"
      ],
      "metadata": {
        "id": "p-ZDOlwAfs4p"
      }
    },
    {
      "cell_type": "code",
      "source": [
        "Xs = np.sqrt(df['edad'])"
      ],
      "metadata": {
        "id": "TjbUoDVXfzKL"
      },
      "execution_count": 48,
      "outputs": []
    },
    {
      "cell_type": "code",
      "source": [
        "sns.histplot(Xs)"
      ],
      "metadata": {
        "id": "pPwgM6MWg6QS"
      },
      "execution_count": null,
      "outputs": []
    },
    {
      "cell_type": "markdown",
      "source": [
        "### Procesamiento de variables categoricas"
      ],
      "metadata": {
        "id": "kJ6x_FYihr0V"
      }
    },
    {
      "cell_type": "markdown",
      "source": [
        "#### One hot (.get_dummies en pandas)"
      ],
      "metadata": {
        "id": "salhuoPyh91B"
      }
    },
    {
      "cell_type": "code",
      "source": [
        "nombre = pd.get_dummies(df['nombre'])\n",
        "genero = pd.get_dummies(df['genero'])"
      ],
      "metadata": {
        "id": "ZN0TXp32hxqS"
      },
      "execution_count": 52,
      "outputs": []
    },
    {
      "cell_type": "markdown",
      "source": [
        "### Correlaciones"
      ],
      "metadata": {
        "id": "wJ-GABHUkUpp"
      }
    },
    {
      "cell_type": "code",
      "source": [
        "from sklearn.preprocessing import StandardScaler \n",
        "import matplotlib.pyplot as plt"
      ],
      "metadata": {
        "id": "lCbAiGgYkvh6"
      },
      "execution_count": 75,
      "outputs": []
    },
    {
      "cell_type": "markdown",
      "source": [
        "#### Matriz de covarianza"
      ],
      "metadata": {
        "id": "n4OlCKYskXmO"
      }
    },
    {
      "cell_type": "markdown",
      "source": [
        "**Matriz**"
      ],
      "metadata": {
        "id": "yMZ_Zsmwtbyo"
      }
    },
    {
      "cell_type": "code",
      "source": [
        "#Se unen las dos columnas con valores numericos a un dataframe nuevo\n",
        "df_c = pd.DataFrame()\n",
        "df_c['edad'] = df['edad'].copy()\n",
        "df_c['enteros'] = numeros['enteros'].copy()"
      ],
      "metadata": {
        "id": "x5MFL-BsoBfu"
      },
      "execution_count": 70,
      "outputs": []
    },
    {
      "cell_type": "code",
      "source": [
        "scaler = StandardScaler()\n",
        "scaled = scaler.fit_transform(\n",
        "    df_c[['edad', 'enteros']]\n",
        ")"
      ],
      "metadata": {
        "id": "j6gJCFPXlnf-"
      },
      "execution_count": 72,
      "outputs": []
    },
    {
      "cell_type": "code",
      "source": [
        "matriz_covarianza = np.cov(scaled.T)"
      ],
      "metadata": {
        "id": "jewRmmsunxSi"
      },
      "execution_count": 73,
      "outputs": []
    },
    {
      "cell_type": "markdown",
      "source": [
        "**Mapa de calor**"
      ],
      "metadata": {
        "id": "FkoD7AMjteWf"
      }
    },
    {
      "cell_type": "code",
      "source": [
        "sns.heatmap(matriz_covarianza,cbar=True,\n",
        "                 annot=True,\n",
        "                 square=True,\n",
        "                 fmt='.2f',\n",
        "                 annot_kws={'size': 12},\n",
        "                 yticklabels=['edad', 'enteros'],\n",
        "                 xticklabels=['edad', 'enteros'])"
      ],
      "metadata": {
        "colab": {
          "base_uri": "https://localhost:8080/",
          "height": 459
        },
        "id": "pduqv7QUovHu",
        "outputId": "1e78e6b2-2c3b-4168-b54b-ef73e86b6db3"
      },
      "execution_count": 98,
      "outputs": [
        {
          "output_type": "execute_result",
          "data": {
            "text/plain": [
              "<Axes: >"
            ]
          },
          "metadata": {},
          "execution_count": 98
        },
        {
          "output_type": "display_data",
          "data": {
            "text/plain": [
              "<Figure size 640x480 with 2 Axes>"
            ],
            "image/png": "[encoded data removed]"
          },
          "metadata": {}
        }
      ]
    },
    {
      "cell_type": "markdown",
      "source": [
        "### Fuente bibliografica tomada como ejemplo"
      ],
      "metadata": {
        "id": "k9_sfOR_ttww"
      }
    },
    {
      "cell_type": "markdown",
      "source": [
        "#### Curso:"
      ],
      "metadata": {
        "id": "2PKH8koQt02W"
      }
    },
    {
      "cell_type": "markdown",
      "source": [
        "[Curso de matematicas para data science, Francisco Camacho](https://platzi.com/cursos/estadistica-descriptiva/)"
      ],
      "metadata": {
        "id": "kQD0BPx0t5HR"
      }
    },
    {
      "cell_type": "markdown",
      "source": [
        "**Apunte del curso**"
      ],
      "metadata": {
        "id": "UCXa1jGKuY1R"
      }
    },
    {
      "cell_type": "markdown",
      "source": [
        "[Anthony Ismael Manotoa Moreno / Apuntes de Estadística Descriptiva\n",
        "](https://deepnote.com/@anthonymanotoa/Apuntes-de-Estadistica-Descriptiva-cfa882b6-c07f-43fe-9901-1c2e471ce120)"
      ],
      "metadata": {
        "id": "irNsd5hwucXR"
      }
    }
  ]
}