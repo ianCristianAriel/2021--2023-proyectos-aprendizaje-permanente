{
 "cells": [
  {
   "cell_type": "markdown",
   "metadata": {},
   "source": [
    "1) Escribe una secuencia de instrucciones que permitan leer un número real por pantalla y que muestre si el número es positivo o no."
   ]
  },
  {
   "cell_type": "code",
   "execution_count": 10,
   "metadata": {},
   "outputs": [
    {
     "name": "stdout",
     "output_type": "stream",
     "text": [
      "Numero positivo: \n",
      "Resultado: Numero positivo\n",
      "\n",
      "Numero negativo: \n",
      "Resultado: Numero negativo\n",
      "\n"
     ]
    }
   ],
   "source": [
    "def comprueba_entero(num):\n",
    "    if num < 0:\n",
    "        print(\"Resultado: Numero negativo\\n\")\n",
    "    else:\n",
    "        print(\"Resultado: Numero positivo\\n\")\n",
    "\n",
    "print('Numero positivo: ')\n",
    "comprueba_entero(3)\n",
    "print('Numero negativo: ')\n",
    "comprueba_entero(-3)"
   ]
  },
  {
   "cell_type": "markdown",
   "metadata": {},
   "source": [
    "2) Escribe una secuencia de instrucciones que permitan leer un número real por pantalla y que muestre si el número está en el rango entre -5 y 5, ambos incluidos."
   ]
  },
  {
   "cell_type": "code",
   "execution_count": 11,
   "metadata": {},
   "outputs": [
    {
     "name": "stdout",
     "output_type": "stream",
     "text": [
      "El numero esta entre -5 y 5.\n",
      "El numero esta entre -5 y 5.\n",
      "El numero esta fuera del rango -5 y 5.\n"
     ]
    }
   ],
   "source": [
    "def entre_cinco(num):\n",
    "    if num <= 5 and num >= (-5):\n",
    "        print('El numero esta entre -5 y 5.')\n",
    "    else:\n",
    "        print('El numero esta fuera del rango -5 y 5.')\n",
    "\n",
    "entre_cinco(-5)\n",
    "entre_cinco(-3)\n",
    "entre_cinco(6)"
   ]
  },
  {
   "cell_type": "markdown",
   "metadata": {},
   "source": [
    "3) Escribe una secuencia de instrucciones que permitan leer las coordenadas de un punto (x, y) e indique en cuál de los cuatro cuadrantes se encuentra dicho punto.\n",
    "\n",
    "    a) Si x = 0, deberás indicar que el punto se encuentra sobre el eje vertical.\n",
    "\n",
    "    b) Si y = 0, deberás indicar que el punto se encuentra sobre el eje horizontal.\n",
    "\n",
    "    c) Si tanto x = 0 como y = 0, entonces deberás indicar que el punto se trata del origen de coordenadas."
   ]
  },
  {
   "cell_type": "code",
   "execution_count": 14,
   "metadata": {},
   "outputs": [
    {
     "name": "stdout",
     "output_type": "stream",
     "text": [
      "El punto es la coordenada de origen.\n",
      "El eje se encuentra sobre el eje horizontal.\n",
      "El punto se encuentra sobre el eje vertical.\n"
     ]
    }
   ],
   "source": [
    "def lectura_ejes(x,y):\n",
    "    if y == 0 and x == 0:\n",
    "        print('El punto es la coordenada de origen.')\n",
    "    elif x == 0:\n",
    "        print('El punto se encuentra sobre el eje vertical.')\n",
    "    elif y == 0:\n",
    "        print('El eje se encuentra sobre el eje horizontal.')\n",
    "\n",
    "lectura_ejes(0,0)\n",
    "lectura_ejes(1,0)\n",
    "lectura_ejes(0,3)"
   ]
  },
  {
   "cell_type": "markdown",
   "metadata": {},
   "source": [
    "4) Escribe una secuencia de instrucciones que permitan leer dos números enteros y muestre el cociente de la división entera y el resto de la división entera.\n",
    "\n"
   ]
  },
  {
   "cell_type": "code",
   "execution_count": 3,
   "metadata": {},
   "outputs": [
    {
     "name": "stdout",
     "output_type": "stream",
     "text": [
      "El cociente es: 0.6\n",
      "El resto es: 3\n"
     ]
    }
   ],
   "source": [
    "def cociente_resto(numerador, divisor):\n",
    "    cociente = abs(numerador / divisor)\n",
    "    resto = numerador % divisor\n",
    "    print(f'El cociente es: {cociente}\\nEl resto es: {resto}')\n",
    "\n",
    "cociente_resto(3, 5)"
   ]
  },
  {
   "cell_type": "markdown",
   "metadata": {},
   "source": [
    "5) Escribe una secuencia de instrucciones que permitan leer un número entero y determinar si es cuadrado perfecto o no (piensa la mejor forma de hacerlo con lo que has aprendido hasta ahora).\n",
    "\n"
   ]
  },
  {
   "cell_type": "code",
   "execution_count": 6,
   "metadata": {},
   "outputs": [],
   "source": [
    "import math"
   ]
  },
  {
   "cell_type": "code",
   "execution_count": 12,
   "metadata": {},
   "outputs": [
    {
     "name": "stdout",
     "output_type": "stream",
     "text": [
      "El numero es cuadrado perfecto.\n",
      "El numero no es cuadrado perfecto\n"
     ]
    }
   ],
   "source": [
    "def cuadrado_perfecto(num):\n",
    "    if (math.sqrt(num)) % 2 == 0:\n",
    "        print('El numero es cuadrado perfecto.')\n",
    "    else:\n",
    "        print('El numero no es cuadrado perfecto')\n",
    "\n",
    "cuadrado_perfecto(16)\n",
    "cuadrado_perfecto(2)"
   ]
  },
  {
   "cell_type": "markdown",
   "metadata": {},
   "source": [
    "6) Escribe una expresión que permita determinar si un número entero positivo puede corresponder a un año bisiesto o no. Se consideran años bisiestos aquellos cuyo número es divisible por cuatro excepto los años que son múltiplos de 100, a no ser que lo sean de 400 (por ejemplo el año 2000 fue bisiesto pero el 2100 no lo será).\n",
    "\n"
   ]
  },
  {
   "cell_type": "code",
   "execution_count": 14,
   "metadata": {},
   "outputs": [
    {
     "name": "stdout",
     "output_type": "stream",
     "text": [
      "El anio es bisiesto.\n",
      "El anio no es bisiesto.\n"
     ]
    }
   ],
   "source": [
    "def comprueba_bisiesto(dias_ano):\n",
    "    if dias_ano % 5 == 0:\n",
    "        print('El anio es bisiesto.')\n",
    "    else:\n",
    "        print('El anio no es bisiesto.')\n",
    "\n",
    "comprueba_bisiesto(365)\n",
    "comprueba_bisiesto(366)"
   ]
  },
  {
   "cell_type": "markdown",
   "metadata": {},
   "source": [
    "7) Busca la imagen de un tablero de ajedrez en Google y fíjate en la nomenclatura de las casillas. Escribe una secuencia que lea una letra y un número de teclado correspondiente a una casilla de un tablero de ajedrez y que indique si esta casilla es negra o blanca."
   ]
  },
  {
   "cell_type": "code",
   "execution_count": 15,
   "metadata": {},
   "outputs": [
    {
     "name": "stdout",
     "output_type": "stream",
     "text": [
      "La casilla a3 es de color Negra\n"
     ]
    }
   ],
   "source": [
    "# Función para determinar el color de una casilla en el tablero de ajedrez\n",
    "def color_casilla(letra, numero):\n",
    "    # Comprueba si la letra y el número son válidos\n",
    "    if letra not in \"abcdefgh\" or numero not in \"12345678\":\n",
    "        return \"Casilla inválida\"\n",
    "    \n",
    "    # Determina el color de la casilla\n",
    "    if (ord(letra) - ord('a') + int(numero)) % 2 == 0:\n",
    "        return \"Blanca\"\n",
    "    else:\n",
    "        return \"Negra\"\n",
    "\n",
    "# Lee la entrada del usuario\n",
    "letra = input(\"Introduce la letra de la casilla (a-h): \")\n",
    "numero = input(\"Introduce el número de la casilla (1-8): \")\n",
    "\n",
    "# Llama a la función para determinar el color\n",
    "resultado = color_casilla(letra, numero)\n",
    "\n",
    "# Muestra el resultado\n",
    "print(\"La casilla\", letra + numero, \"es de color\", resultado)\n"
   ]
  }
 ],
 "metadata": {
  "kernelspec": {
   "display_name": "Python 3",
   "language": "python",
   "name": "python3"
  },
  "language_info": {
   "codemirror_mode": {
    "name": "ipython",
    "version": 3
   },
   "file_extension": ".py",
   "mimetype": "text/x-python",
   "name": "python",
   "nbconvert_exporter": "python",
   "pygments_lexer": "ipython3",
   "version": "3.11.4"
  },
  "orig_nbformat": 4
 },
 "nbformat": 4,
 "nbformat_minor": 2
}
