{
  "cells": [
    {
      "attachments": {},
      "cell_type": "markdown",
      "metadata": {
        "id": "t_5ZENSQmjhD"
      },
      "source": [
        "# Estadísticos de localización"
      ]
    },
    {
      "attachments": {},
      "cell_type": "markdown",
      "metadata": {
        "id": "E-HQx3fPmnFF"
      },
      "source": [
        "### Media aritmética"
      ]
    },
    {
      "attachments": {},
      "cell_type": "markdown",
      "metadata": {
        "id": "oy5abY8Nmslg"
      },
      "source": [
        "La media aritmética (o promedio) de un conjunto de datos es la suma de los valores dividida por la cantidad de datos.\n",
        "\n",
        "Escriba la función media_aritmetica(datos), donde datos es una lista de números, que entregue la media aritmética de los datos:\n",
        "\n",
        "`>>> media_aritmetica([6, 1, 4, 8])`\n",
        "\n",
        "`4.75`"
      ]
    },
    {
      "attachments": {},
      "cell_type": "markdown",
      "metadata": {
        "id": "3qrD2UbSnCTy"
      },
      "source": [
        "### Media armónica"
      ]
    },
    {
      "attachments": {},
      "cell_type": "markdown",
      "metadata": {
        "id": "5LCIXifknGbA"
      },
      "source": [
        "La media armónica de un conjunto de datos es el recíproco de la suma de los recíprocos de los datos, multiplicada por la cantidad de datos:\n",
        "![image.png](data:image/png;base64,iVBORw0KGgoAAAANSUhEUgAAAQQAAABMCAYAAACLdMm/AAAABHNCSVQICAgIfAhkiAAAABl0RVh0U29mdHdhcmUAZ25vbWUtc2NyZWVuc2hvdO8Dvz4AAAAmdEVYdENyZWF0aW9uIFRpbWUAc+FiIDA2IG1heSAyMDIzIDIxOjI5OjEw5iyIpAAACPNJREFUeJzt3X9s1PUdx/EnTe/arc3ZdNAyclXbMTkssNFujjYGV63RzrGSKTZqSDBONgYmum7DaIOBdAQS2YxCyOiYrqQsMn7YMMFFbDPnKH94h7NUD1db8U5sr013NHfsrm2O/SF+6Z29Wy3X+1719fjz++l9+87ncq/7fL7fz+d7sy5dunQJEREgw+wCRCR9KBBExKBAEBGDAkFEDAoEETEoEETEoEAQEYMCQUQMCgQRMSgQRMSgQBARgwJBRAwKBBExKBBExKBAEBGDAkFEDAoEETEoEETEoEAQEYMCQUQMmWYXIOmsn9bjL3DgQx+2xevZYu9kxz/dXIj48Iwspn7VGqpyza5RkkkjBIkr/F4r7XPWsG2xhVfaN/Hg6ULq6zay+761VA4fY+fb/WaXKEmmQJC4uj6Cihvy6R7wgq2aLTXLmJMBRAIMj5hdnUwHBYLEVVa1lrpcDy5vkKL5FZRZLzf43DhD+ZTbC02tT5JPgSCJBc7iGrJQdl2Jcaj7rIvur5bx/Xkm1iXTQoEgCYW9bs7goMxuuXzEyyvuHubcUEE5nez42ymGTa1QkkmBIAl1nTvLcP4Cyj+9mxBy4xrKofKbDobfPsFAoQObqRVKMqXmtqPvOOuOnqBr0INvDArySyiafQubV9UQfqORTZ1euoeGCFvzKc0vYNF3f8HmJXkpKU0SCeLxByh1VFD66VdH9neodRynqWM7m+ZVs+UOvU9fJLNS92OvXpp+/whbAzW0PLaWyvFjE+8LLH++lazKHbx6W0ncM4jI9ErdlCHUg2sQbPYllMf81wGvG08kj8rrFAYiZkpdIJx34xyDRcUOsqIagpzs7QGrgzJ7yqoRkQmkLBC6z51lIMNOxbUxc86xHjrOj0KBg7LsVFUjIhNJ0V6GIM4PPRCxcuDo47SPb4r46Q5A0aLFFKWmGBGJIzWBMOamo2+ULMcGXq1bHjVlGDj1ODf1Bai6bhJx4DvB46+d4kJkgraosY4FcsupX1HN/KurXORLJTWB0NeJawRKixbEXD8YxenxQmYJFcbClwQKqtl2X3XSypo1a1bSziUST8pu5CVBSgLB84EbT6SQO2PXvkd6cJ0PQv6SKwtfUmgmvVEiqZCCQAjiOtcD1grK5sY0+d04h2HOtxdMbmifaMoQK3cZ9bWaMoh8HtMfCGPuT+4izHVQbo1uGv6wk66IharJrj9I8pRBRKJN30rFSA/Nf9lD62A/XUNByM5nfv4CVtc+xsrAQda91oFnyIMnBLa8IoquX8XzK5ZpXbyIiVK4dHkGGgvRd+YYew+HuH/L/RSbXU+MkLeDw3vayPv5k/wgdjomk6I+jKbdjnH56di3g0OHW9h79B38Y2bXE63v1V3sOnKIvbvb6A2ZXc3MpD78LAVCXHlUPPgk63+0kHTczzf39vXUr7uVYq3unDL14WcpEETEoEAQEYMCIcU8p/bQNJjccyZt+uttYetb/mSdbXpEnGx92Zn00069D4O0vtyCazJrY2YABcJkJPGCYvi/QcJpdoHSMBLEl+6PV4+M4rsYJGx2HYZRLlwMJi+UTaZAiCvE6X0N/PLZNj4ebOPpJxrY/9bVnzUcSc4nzv/GLhp+vRdXqJdjWxv4zZHeqz/pjPiWS15iJa0PZ0S/TY5+yi2ubJaubmTpanja7FImkHfzehpvXk/jb82uJMWS+OH70vZhAhohiIhBKxUvm+pW6PjdF+Rk+0729UUfHR5047M5mB+1r8NK6ffWsqEkJ0W1wcCZF9jUGfPbjBd7cY7YKc+L3oqeVbyKZ5ZNtN+kn+Z99Wz1L+ePP11LZcxeFc4f5Id/OgDLtvHXqtjXj9J+9BHWue1sfriBuokWe/hO8FS7E1/UqMCH8zyUzyuI/tv/8/yLq9nqbvTj2FmaWl/CFTVrCeI57yNrXjFRFWUUUluzhjtn2Fp8TRkuS34u5lBZtZHKmKNdr22nvXQjGz7HMtnpyOw5i9awe1HMwe49PDp0L8/cNPmlWFkZFmzWHLInGmtmQFZmDtlZsUlx5bVZ8V4LUFDN5rqYzWwjr/NoK2xftTzm2RqJJaUPMxfw8N0bYw76aX7xAPNXxTxJfIZSIMhVKKTugeepi9c89x4O/eqeOI0WKu96jn9NU2UyNV+ATBORZFEgiIhBU4YYwz3HaT43hNfnZ87sHMJDXvjWYzxxw8QX/FLK76TJ2cuA/33CeXZsIS9d2SvZfVvssyolLvVhQhohjDfipNlbwsNVD3BH5pu4vrKcb4x58YRGk/Yv5pevoW72VF7pp/W0j6qqe9hQPMpLviLuvCaI52IgabVxbS31N6bj3s5xrOXU31Y+xQ/vdPRhHjW3137m18hmKt12HC8SZHgsB5vVy86m7YTveo76eePa/b20dfgpq1lqwpboUYZDYMu24Hr5Z+z42jZaln1ahZ+OfYd4Z/Bd2v69kIZnH2Khxn4TSNSHAhohRMvIwWYFLrpxBUooKwAio5/sPQj10ta+n13PtfEfU4qzYMu2AP04+yyU2vOAUcIjQKCNvX/2U/lII3cHdrDrH6YUOAMk6EMBFAjRvAe5u6kF1wednLGVsCgTBt5q5aUAkF3MrSuW8nWzvnlHOnlqdyPN3k46Bu2UFgB9x2h6Lwi5P+YPx+pZmPkxvYPFLEy3Z72li0R9iJ+Tb+7h0RdbePHtE2w9cpCuL9AehcnSwHK8TAsFuf288lEBK3PdNLUHyLqmgg3pMKrMsGLLtfB+Vz+lN0L73w/SnWnn3luuXOzsO7KXj1fv5OnrzSszrSXqw0g/BfmFhD+ys3KJneZ3W7lgdr0mUCCMN7eW3feZXUQcmQuoXx27Su6KkPswhzIforHGT4cbKhwprG2mSNiHhRQEesgqriZr+HW6sh1UDvlhdjp8G6SOpgyTNdZL27423vWcZP+R06TVY0RCHTQ82EDL737Crbc34lLMT0l3v5Wya3MgECQ7w0d3KA1uNaeY7jKIiEEjBBExKBBExKBAEBGDAkFEDAoEETEoEETEoEAQEYMCQUQMCgQRMSgQRMSgQBARgwJBRAz/A+4IGOB+InizAAAAAElFTkSuQmCC)\n",
        "\n",
        "Escriba la función media_armonica(datos), que entregue la media armónica de los datos:\n",
        "\n",
        "```\n",
        ">>> media_armonica([6, 1, 4, 8])\n",
        "\n",
        "```\n",
        "\n",
        "`2.5945945945945943`"
      ]
    },
    {
      "attachments": {},
      "cell_type": "markdown",
      "metadata": {
        "id": "DdCsjI4dnpfd"
      },
      "source": [
        "### Mediana"
      ]
    },
    {
      "attachments": {},
      "cell_type": "markdown",
      "metadata": {
        "id": "Te4Dzd9Bns90"
      },
      "source": [
        "La mediana de un conjunto de datos reales es el valor para el que el conjunto tiene tantos datos mayores como menores a él.\n",
        "\n",
        "Más rigurosamente, la mediana es definida de la siguiente manera:\n",
        " \n",
        "\n",
        "*   si la cantidad de datos es impar, la mediana es el valor que queda en la mitad al ordenar los datos de menor a mayor;\n",
        "*   Si la cantidad de datos es par, la mediana es el promedio de los dos valores que quedan al centro al ordenar los datos de menor a mayor.\n",
        "\n",
        "Escriba la función mediana(datos), que entregue la mediana de los datos:\n",
        "\n",
        "`>>> mediana([5.0, 1.4, 3.2])`\n",
        "\n",
        "`3.2`\n",
        "\n",
        "`>>> mediana([5.0, 1.4, 3.2, 0.1])`\n",
        "\n",
        "`2.3`\n",
        "La función no debe modificar la lista que recibe como argumento:\n",
        "\n",
        "`>>> x = [5.0, 1.4, 3.2]`\n",
        "\n",
        "`>>> mediana(x)`\n",
        "\n",
        "`3.2`\n",
        "\n",
        "`>>> x`\n",
        "\n",
        "`[5.0, 1.4, 3.2]`"
      ]
    },
    {
      "attachments": {},
      "cell_type": "markdown",
      "metadata": {
        "id": "kK6YJ1TSoZLS"
      },
      "source": [
        "### Moda"
      ]
    },
    {
      "attachments": {},
      "cell_type": "markdown",
      "metadata": {
        "id": "yoUEwL-OocWc"
      },
      "source": [
        "La moda de un conjunto de datos es el valor que más se repite.\n",
        "\n",
        "Escriba la función modas(datos), donde datos es una lista, que entregue una lista con las modas de los datos:\n",
        "\n",
        "`>>> modas([5, 4, 1, 4, 3, 3, 4, 5, 0])`\n",
        "\n",
        "`[4]`\n",
        "\n",
        "`>>> modas([5, 4, 1, 4, 3, 3, 4, 5, 3])`\n",
        "\n",
        "`[3, 4]`\n",
        "\n",
        "`>>> modas([5, 4, 5, 4, 3, 3, 4, 5, 3])`\n",
        "\n",
        "`[3, 4, 5]`"
      ]
    },
    {
      "attachments": {},
      "cell_type": "markdown",
      "metadata": {
        "id": "P3ZnYwX6osyU"
      },
      "source": [
        "### Estadísticos"
      ]
    },
    {
      "attachments": {},
      "cell_type": "markdown",
      "metadata": {
        "id": "9PoL4R54ow3s"
      },
      "source": [
        "Usando las funciones definidas anteriormente, escriba un programa que:\n",
        "\n",
        "*   Pregunte al usuario cuántos datos ingresará\n",
        "\n",
        "*   Le pida que ingrese los datos uno por uno\n",
        "\n",
        "*   Muestre un reporte con las medias aritmética y armónica, la mediana y las modas de los datos ingresados.\n",
        "Si alguno de los datos es cero, el reporte no debe mostrar la media armónica.\n",
        "\n",
        "\n",
        "\n",
        "\n"
      ]
    },
    {
      "attachments": {},
      "cell_type": "markdown",
      "metadata": {
        "id": "mHxL9oEgpacb"
      },
      "source": [
        "## Solucion"
      ]
    },
    {
      "attachments": {},
      "cell_type": "markdown",
      "metadata": {
        "id": "YLZDkMWzvY68"
      },
      "source": [
        "La solucion se realizara con la libreria de pandas"
      ]
    },
    {
      "attachments": {},
      "cell_type": "markdown",
      "metadata": {
        "id": "cl1B57VTpecq"
      },
      "source": [
        "### Importacion de librerias"
      ]
    },
    {
      "cell_type": "code",
      "execution_count": 1,
      "metadata": {
        "id": "8pIHS1aBphaN"
      },
      "outputs": [],
      "source": [
        "import statistics as st"
      ]
    },
    {
      "attachments": {},
      "cell_type": "markdown",
      "metadata": {
        "id": "D_p-mpPzvm7p"
      },
      "source": [
        "### Ingreso de datos"
      ]
    },
    {
      "cell_type": "code",
      "execution_count": 6,
      "metadata": {
        "id": "wkV5kKG3vpoM"
      },
      "outputs": [],
      "source": [
        "conjunto = []\n",
        "\n",
        "cantidad_datos = input(\"Ingresa la cantidad de datos a mostrar: \")\n",
        "cantidad_datos = int(cantidad_datos)"
      ]
    },
    {
      "cell_type": "code",
      "execution_count": 8,
      "metadata": {},
      "outputs": [],
      "source": [
        "for i in (1, cantidad_datos):\n",
        "    conjunto.append(int(input(f'Ingresa el numero {i}:' )))"
      ]
    },
    {
      "attachments": {},
      "cell_type": "markdown",
      "metadata": {
        "id": "JNJf-M_gpwX5"
      },
      "source": [
        "### Media aritmetica"
      ]
    },
    {
      "cell_type": "code",
      "execution_count": 10,
      "metadata": {
        "id": "e4dKMKihp2eq"
      },
      "outputs": [],
      "source": [
        "promedio = st.mean(conjunto)"
      ]
    },
    {
      "attachments": {},
      "cell_type": "markdown",
      "metadata": {
        "id": "ggdL6TMdp3SM"
      },
      "source": [
        "### Moda"
      ]
    },
    {
      "cell_type": "code",
      "execution_count": 11,
      "metadata": {
        "id": "YVZtJSN7p5U1"
      },
      "outputs": [],
      "source": [
        "moda = st.mode(conjunto)"
      ]
    },
    {
      "attachments": {},
      "cell_type": "markdown",
      "metadata": {
        "id": "7kDbk6y3v65Y"
      },
      "source": [
        "### Media armonica"
      ]
    },
    {
      "cell_type": "code",
      "execution_count": 12,
      "metadata": {
        "id": "gpwlKRcwwAID"
      },
      "outputs": [],
      "source": [
        "media_armonica = st.harmonic_mean(conjunto)"
      ]
    },
    {
      "attachments": {},
      "cell_type": "markdown",
      "metadata": {},
      "source": [
        "### Mediana"
      ]
    },
    {
      "cell_type": "code",
      "execution_count": 13,
      "metadata": {},
      "outputs": [],
      "source": [
        "mediana = st.median(conjunto)"
      ]
    },
    {
      "attachments": {},
      "cell_type": "markdown",
      "metadata": {},
      "source": [
        "### Moda"
      ]
    },
    {
      "cell_type": "code",
      "execution_count": 15,
      "metadata": {},
      "outputs": [],
      "source": [
        "moda = st.mode(conjunto)"
      ]
    },
    {
      "attachments": {},
      "cell_type": "markdown",
      "metadata": {},
      "source": [
        "### Devolucion de informe por pantalla"
      ]
    },
    {
      "cell_type": "code",
      "execution_count": 16,
      "metadata": {},
      "outputs": [
        {
          "name": "stdout",
          "output_type": "stream",
          "text": [
            "Informe de estadisticos: \n",
            "\n",
            "La media aritmetica es:  1.5\n",
            "La media armonica es:  1.3333333333333333\n",
            "La moda es:  1\n",
            "La mediana es:  1.5\n"
          ]
        }
      ],
      "source": [
        "print('Informe de estadisticos: ')\n",
        "print()\n",
        "print('La media aritmetica es: ', promedio)\n",
        "if 0 not in conjunto:\n",
        "    print('La media armonica es: ', media_armonica)\n",
        "print('La moda es: ', moda)\n",
        "print('La mediana es: ', mediana)"
      ]
    }
  ],
  "metadata": {
    "colab": {
      "provenance": []
    },
    "kernelspec": {
      "display_name": "Python 3",
      "name": "python3"
    },
    "language_info": {
      "codemirror_mode": {
        "name": "ipython",
        "version": 3
      },
      "file_extension": ".py",
      "mimetype": "text/x-python",
      "name": "python",
      "nbconvert_exporter": "python",
      "pygments_lexer": "ipython3",
      "version": "3.10.7"
    }
  },
  "nbformat": 4,
  "nbformat_minor": 0
}
