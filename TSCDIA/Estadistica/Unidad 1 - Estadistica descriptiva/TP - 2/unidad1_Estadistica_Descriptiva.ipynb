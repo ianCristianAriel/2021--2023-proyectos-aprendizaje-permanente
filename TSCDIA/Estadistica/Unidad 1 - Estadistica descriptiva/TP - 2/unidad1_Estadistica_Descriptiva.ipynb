{
  "nbformat": 4,
  "nbformat_minor": 0,
  "metadata": {
    "colab": {
      "provenance": []
    },
    "kernelspec": {
      "name": "python3",
      "display_name": "Python 3"
    },
    "language_info": {
      "name": "python"
    }
  },
  "cells": [
    {
      "cell_type": "code",
      "source": [
        "import pandas as pd\n",
        "import numpy as np\n",
        "from scipy import stats as st\n"
      ],
      "metadata": {
        "id": "MSrbG-AD5Rzs"
      },
      "execution_count": null,
      "outputs": []
    },
    {
      "cell_type": "markdown",
      "source": [
        "# Estadistica descriptiva "
      ],
      "metadata": {
        "id": "BnoUInUi7rj9"
      }
    },
    {
      "cell_type": "markdown",
      "source": [
        "## Practica unidad 1"
      ],
      "metadata": {
        "id": "zmFqkUhn74KS"
      }
    },
    {
      "cell_type": "markdown",
      "source": [
        "### 1) Clasifique a las siguientes variables:\n",
        "\n",
        " \n",
        "\n",
        "*   a. El estado civil, con las siguientes modalidades: soltero, casado, separado,divorciado y viudo.\n",
        "*   b. La nota en un examen: suspenso, aprobado, notable, sobresaliente\n",
        "*   c. Medallas de una prueba deportiva: oro, plata, bronce\n",
        "*   d. El número de hermanos de 5 amigos: 2, 1, 0, 1, 3\n",
        "*   e. La altura de los 5 amigos: 1.73, 1.82, 1.77, 1.69, 1.75\n",
        "*   f. Grado de instrucción educativa\n",
        "*   g. Temperatura de una persona\n",
        "*   h. Nivel de aceite en el motor de un automóvil medido con una vara graduada\n",
        "*   i. Cantidad de litros de agua consumido por una persona en un día"
      ],
      "metadata": {
        "id": "bvVjHFH38B41"
      }
    },
    {
      "cell_type": "markdown",
      "source": [
        "**Respuestas:**\n",
        "*   a. Categorico nominal\n",
        "*   b. Categorico ordinal\n",
        "*   c. Categorico ordinal\n",
        "*   d. Numerico discreto\n",
        "*   e. Numerico continuo\n",
        "*   f. Categorico ordinal\n",
        "*   g. Numerico continuo\n",
        "*   h. Numerico continuo\n",
        "*   i. Numerico continuo"
      ],
      "metadata": {
        "id": "meC8Ppf88NUr"
      }
    },
    {
      "cell_type": "markdown",
      "source": [
        "### 2) La siguiente tabla muestra el estado civil de las personas que trabajan en una oficina, siendo:\n",
        "![image.png](data:image/png;base64,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)"
      ],
      "metadata": {
        "id": "G7xqwgk09LjO"
      }
    },
    {
      "cell_type": "markdown",
      "source": [
        "*   a)Halla las frecuencias relativas y frecuencias relativas en porcentajes.\n",
        "*   b)¿Cuántas personas trabajan en la oficina?\n",
        "*   c)¿Cuántas personas son solteras?\n",
        "*   d)¿Cuántas personas no casadas hay?\n",
        "*   e)¿Qué porcentaje de personas viudas hay en la oficina?"
      ],
      "metadata": {
        "id": "s0YH9vEc9jwj"
      }
    },
    {
      "cell_type": "markdown",
      "source": [
        "**Respuestas**"
      ],
      "metadata": {
        "id": "Arww0mNI8g2D"
      }
    },
    {
      "cell_type": "code",
      "source": [
        "#Se pasa la tabla a una serie de pandas\n",
        "oficinistas = pd.Series([8, 9,3,4,5,1], index = ['Soltero', 'Casado', 'Pareja', 'Separado', 'Divorciado', 'Viudo'])"
      ],
      "metadata": {
        "id": "WOOaIQPQ5s-t"
      },
      "execution_count": null,
      "outputs": []
    },
    {
      "cell_type": "code",
      "source": [
        "total_oficinistas = oficinistas.sum()"
      ],
      "metadata": {
        "id": "iMpTpcHf6fkj"
      },
      "execution_count": null,
      "outputs": []
    },
    {
      "cell_type": "code",
      "source": [
        "#a)Frecuencia relativa de oficinistas calculada por su estado civil\n",
        "fr_oficinistas = round((oficinistas / total_oficinistas), 2)"
      ],
      "metadata": {
        "id": "0B1iUA1V7pGp"
      },
      "execution_count": null,
      "outputs": []
    },
    {
      "cell_type": "code",
      "source": [
        "#b)Total de oficinistas\n",
        "print(total_oficinistas)"
      ],
      "metadata": {
        "colab": {
          "base_uri": "https://localhost:8080/"
        },
        "id": "PC_4M2c17xEu",
        "outputId": "4ff6d7a5-5b5f-41d6-de5e-ee6961401c3f"
      },
      "execution_count": null,
      "outputs": [
        {
          "output_type": "stream",
          "name": "stdout",
          "text": [
            "30\n"
          ]
        }
      ]
    },
    {
      "cell_type": "code",
      "source": [
        "#c) Oficinistas solteros\n",
        "oficinistas['Soltero']"
      ],
      "metadata": {
        "colab": {
          "base_uri": "https://localhost:8080/"
        },
        "id": "dNtB7CdI9J-O",
        "outputId": "a7b0e226-fcc3-4628-9d82-92b2750f7cca"
      },
      "execution_count": null,
      "outputs": [
        {
          "output_type": "execute_result",
          "data": {
            "text/plain": [
              "8"
            ]
          },
          "metadata": {},
          "execution_count": 26
        }
      ]
    },
    {
      "cell_type": "code",
      "source": [
        "#d) Personas no casadas\n",
        "total_oficinistas - oficinistas['Casado']"
      ],
      "metadata": {
        "colab": {
          "base_uri": "https://localhost:8080/"
        },
        "id": "Bde3B4Ob9Z8W",
        "outputId": "3af587c6-9e3b-400d-87f1-88c6e6fdc9af"
      },
      "execution_count": null,
      "outputs": [
        {
          "output_type": "execute_result",
          "data": {
            "text/plain": [
              "21"
            ]
          },
          "metadata": {},
          "execution_count": 27
        }
      ]
    },
    {
      "cell_type": "code",
      "source": [
        "#e) Porcentaje de personas viudas\n",
        "oficinistas_porcentaje = fr_oficinistas * 100"
      ],
      "metadata": {
        "id": "fwDGA0rj9ndc"
      },
      "execution_count": null,
      "outputs": []
    },
    {
      "cell_type": "markdown",
      "source": [
        "### 3)El siguiente diagrama de barras indica el color de pelo de los alumnos de la clase de Mario. Completa la tabla con las frecuencias absolutas correspondientes a cada color y responde las siguientes preguntas:\n",
        "\n",
        "![image.png](data:image/png;base64,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)\n",
        "\n",
        "*    a)¿Qué tipo de pelo predomina en la clase?\n",
        "*    b)¿Cuántos estudiantes son pelirrojos?\n",
        "*    c)¿Cuántos estudiantes hay en total en clase de Mario?"
      ],
      "metadata": {
        "id": "mH5ty65p9rUv"
      }
    },
    {
      "cell_type": "markdown",
      "source": [
        "**Respuestas**"
      ],
      "metadata": {
        "id": "Ur1EI6WXAiG9"
      }
    },
    {
      "cell_type": "code",
      "source": [
        "#Se pasa a una series de pandas\n",
        "pelos_clase = pd.Series([6,4,14], index = ['R', 'P', 'M'])"
      ],
      "metadata": {
        "id": "pBUOUiYp_ilJ"
      },
      "execution_count": null,
      "outputs": []
    },
    {
      "cell_type": "code",
      "source": [
        "# a) Pelo predominante\n",
        "pelo_predominante = max(pelos_clase)"
      ],
      "metadata": {
        "id": "3QI6ckdR_856"
      },
      "execution_count": null,
      "outputs": []
    },
    {
      "cell_type": "code",
      "source": [
        "# b) Estudiantes pelirrojos\n",
        "estudiantes_pelirrojos = pelos_clase['R']"
      ],
      "metadata": {
        "id": "2Ki57MQCAHep"
      },
      "execution_count": null,
      "outputs": []
    },
    {
      "cell_type": "code",
      "source": [
        "# c) Estudiantes en total\n",
        "pelos_clase.sum()"
      ],
      "metadata": {
        "colab": {
          "base_uri": "https://localhost:8080/"
        },
        "id": "6bX-vWhcAWxJ",
        "outputId": "e986e18f-0b8a-49d9-99ec-9fb09d895893"
      },
      "execution_count": null,
      "outputs": [
        {
          "output_type": "execute_result",
          "data": {
            "text/plain": [
              "24"
            ]
          },
          "metadata": {},
          "execution_count": 37
        }
      ]
    },
    {
      "cell_type": "markdown",
      "source": [
        "### 4) El siguiente polígono de frecuencia muestra la media de temperatura diaria en una ciudad polaca a lo largo los siete días de una semana. Completa la tabla y responde a las preguntas:\n",
        "\n",
        "![image.png](data:image/png;base64,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)\n",
        "\n",
        "*    a)¿Qué día hizo menos frío?\n",
        "*    b)¿La mayoría de los días, la temperatura fue bajo cero o sobre\n",
        "cero?\n",
        "*    c)¿Cuál fue la temperatura los dos primeros días?"
      ],
      "metadata": {
        "id": "Co_atOb1-LHL"
      }
    },
    {
      "cell_type": "markdown",
      "source": [
        "**Respuestas**"
      ],
      "metadata": {
        "id": "e02sWXmTBWYh"
      }
    },
    {
      "cell_type": "code",
      "source": [
        "# Se pasa el grafico a una serie de pandas\n",
        "datos = pd.Series([-4,-4,-3,-3,-1,2,1], index = [1,2,3,4,5,6,7])"
      ],
      "metadata": {
        "id": "JUF0OmUCCLKf"
      },
      "execution_count": null,
      "outputs": []
    },
    {
      "cell_type": "code",
      "source": [
        "# a) Dia de menos frio\n",
        "datos.loc[lambda x : x == max(datos)]"
      ],
      "metadata": {
        "colab": {
          "base_uri": "https://localhost:8080/"
        },
        "id": "yNpMTY-SCG9Y",
        "outputId": "7f211e3b-d12b-4413-c645-3c4a02b96251"
      },
      "execution_count": null,
      "outputs": [
        {
          "output_type": "execute_result",
          "data": {
            "text/plain": [
              "6    2\n",
              "dtype: int64"
            ]
          },
          "metadata": {},
          "execution_count": 59
        }
      ]
    },
    {
      "cell_type": "code",
      "source": [
        "# b) Temperatura diaria\n",
        "bajo_cero = 0\n",
        "sobre_cero = 0\n",
        "\n",
        "bajo_cero = datos.loc[lambda x : x < 0]\n",
        "sobre_cero = datos.loc[lambda x : x > 0]\n",
        "\n",
        "if bajo_cero.count() > sobre_cero.count():\n",
        "  print('La mayor cantidad de dias fue bajo cero')\n",
        "else:\n",
        "  print('La mayor cantidad de dias fue sobre cero')"
      ],
      "metadata": {
        "colab": {
          "base_uri": "https://localhost:8080/"
        },
        "id": "YgIOOwtvDkn8",
        "outputId": "651412f4-1b4e-4c10-c7c8-8dd5a2bbd70d"
      },
      "execution_count": null,
      "outputs": [
        {
          "output_type": "stream",
          "name": "stdout",
          "text": [
            "La mayor cantidad de dias fue bajo cero\n"
          ]
        }
      ]
    },
    {
      "cell_type": "code",
      "source": [
        "# c) Temperatura de los dos primeros dias\n",
        "temp_primeros_dias = datos.index <= 2"
      ],
      "metadata": {
        "id": "MXAzyy5qEqmQ"
      },
      "execution_count": null,
      "outputs": []
    },
    {
      "cell_type": "code",
      "source": [
        "print(datos[temp_primeros_dias])"
      ],
      "metadata": {
        "colab": {
          "base_uri": "https://localhost:8080/"
        },
        "id": "SfnQoHMSMjd0",
        "outputId": "20362b65-fb54-41b7-e67d-fda9dc6d75a5"
      },
      "execution_count": null,
      "outputs": [
        {
          "output_type": "stream",
          "name": "stdout",
          "text": [
            "1   -4\n",
            "2   -4\n",
            "dtype: int64\n"
          ]
        }
      ]
    },
    {
      "cell_type": "markdown",
      "source": [
        "### 5)Los siguientes valores indican el número de comidas al día que hace un grupo de quince amigos:\n",
        "3, 4, 2, 3, 4, 3, 4, 5, 4, 5, 3, 4, 5, 3, 4.\n",
        "\n",
        "Completa la tabla y responde a las preguntas que se plantean.\n",
        "Sabiendo que los expertos recomiendan comer 5 veces al día,\n",
        "*    a)¿podemos decir que la mayoría de estos amigos come\n",
        "correctamente?\n",
        "*    b)¿cuántos de ellos comen sólo 2 veces al día?\n",
        "*    c)¿cuántas veces al día come la mayoría de las personas\n",
        "encuestadas?"
      ],
      "metadata": {
        "id": "duotkXcl2CW7"
      }
    },
    {
      "cell_type": "markdown",
      "source": [
        "**Respuestas**"
      ],
      "metadata": {
        "id": "G8a0sWAYNbg5"
      }
    },
    {
      "cell_type": "code",
      "source": [
        "comidas = pd.Series([3, 4, 2, 3, 4, 3, 4, 5, 4, 5, 3, 4, 5, 3, 4])"
      ],
      "metadata": {
        "id": "w_vAbLaoNjjN"
      },
      "execution_count": null,
      "outputs": []
    },
    {
      "cell_type": "code",
      "source": [
        "# a) Comen correctamente?\n",
        "correctamente = comidas.loc[lambda x: x == 5]\n",
        "print('Solo {} comen correctamente'.format(correctamente.count()))"
      ],
      "metadata": {
        "colab": {
          "base_uri": "https://localhost:8080/"
        },
        "id": "n-sCuRGiNMga",
        "outputId": "2c4f38e8-c277-486e-bfa3-41ebfa0b151c"
      },
      "execution_count": null,
      "outputs": [
        {
          "output_type": "stream",
          "name": "stdout",
          "text": [
            "Solo 3 comen correctamente\n"
          ]
        }
      ]
    },
    {
      "cell_type": "code",
      "source": [
        "# b) Cuantos comen dos veces al dia\n",
        "dos_veces = comidas.loc[lambda x: x == 2]\n",
        "print('Solo {} comen dos veces al dia'.format(dos_veces.count()))"
      ],
      "metadata": {
        "colab": {
          "base_uri": "https://localhost:8080/"
        },
        "id": "e8QSzlllPGUn",
        "outputId": "fd35273a-940d-409e-8abc-09a151f76a27"
      },
      "execution_count": null,
      "outputs": [
        {
          "output_type": "stream",
          "name": "stdout",
          "text": [
            "Solo 1 comen dos veces al dia\n"
          ]
        }
      ]
    },
    {
      "cell_type": "code",
      "source": [
        "# c) Comidas al dias de la mayoria de personas\n",
        "moda = comidas.mode()\n",
        "print('La cantidad de comidas diarias mas repetidas es ', int(moda.values))"
      ],
      "metadata": {
        "colab": {
          "base_uri": "https://localhost:8080/"
        },
        "id": "cwFCjcAnPaeO",
        "outputId": "4a69722b-8478-4e41-99b9-db89a581a6ed"
      },
      "execution_count": null,
      "outputs": [
        {
          "output_type": "stream",
          "name": "stdout",
          "text": [
            "La cantidad de comidas diarias mas repetidas es  4\n"
          ]
        }
      ]
    },
    {
      "cell_type": "markdown",
      "source": [
        "### 6)En un instituto se ha realizado una encuesta a los alumnos de 2º año para saber cuáles son los libros que más les gusta leer, y así poder comprar nuevos libros para la biblioteca. Los resultados son los que se muestran en el siguiente diagrama de sectores. Completa la siguiente tabla y, después, contesta a las preguntas que se te plantean:\n",
        "\n",
        "![image.png](data:image/png;base64,iVBORw0KGgoAAAANSUhEUgAAAiMAAAFTCAYAAADr4AztAAAABHNCSVQICAgIfAhkiAAAABl0RVh0U29mdHdhcmUAZ25vbWUtc2NyZWVuc2hvdO8Dvz4AAAAmdEVYdENyZWF0aW9uIFRpbWUAbWnpIDI2IGFiciAyMDIzIDIwOjE4OjU0rQw5cwAAIABJREFUeJzsvWmMXVl59/t71tr7DDWPnqo8leex2z0D3YEQXgKISJA39xLSIJRBQomUfCCgKFHyJYkIQkQRQvkQkg8RiAxS8gbdcAPve0kDDT23Z7s8tKfybJftmuucs/de67kf1j5V5aGboU27be9f67jqDLVr7X3sXv/zDP9HVFUpKCgoKCgoKLhDmDu9gIKCgoKCgoL7m0KMFBQUFBQUFNxRCjFSUFBQUFBQcEcpxEhBQUFBQUHBHaUQIwUFBQUFBQV3lEKMFBQUFBQUFNxRCjFSUFBQUFBQcEcpxEhBQUFBQUHBHSW60wu4p9D8BiALHpfwsEfzp/W6l4Z7gkWwKsiC5+aPpXjvUfXh/tzxFZFwDIfHkd2wAMlfLggmv9e8L81DA4LBILk+XWiFJ/mhbnzspvv5Om4+O0Xzs1f8govV/M6DQuRjIh+HtRsF8ah4nCgeP3elFq5+7rxUEJlff0FBQUHB3UMhRm4XQW3cJEbCPq94AS+KI2y+zZdqfl8QYgzkG6su2KwFRZobelOMaL6Jo4iCipJonYY2QIK0EAkyxGIwYjDYBZLEwJw0AbzgxSLYoCrQebExp1jynxbC7wRUgxgSBOc9Pl+jSvPxcP7hnB2OLDyfn3nzeVHBOI9mYe1qPWod3joyHA6XC5r83LAYtYgajBqMWowBMdcptYKCgoKCuwAp7OBvEzeKEZgXJBLEgicXI3J9/EDzTdkAojJ3wIWxDQML1UsIS2j+oIbIhNOMjDSIAGn+ZB5IEdN86dzSFgoeRVETgTHhN+t8DCf8GkUFjDQjEPNCam6FXufXl69fZIHgEYIwUY96PyfCDAYjAh7U52LLAEbxonPXKyzI5JEQg/EW401+3QUTGSQyhRYpKCgouMsoIiM/T8LH+Pz7sCkbUVTzWMecKBGaSRyV5uYetvOwf0tzawcV1CviQzpCNE9aKFgfIgRNMSK5CFINMQkxgrHNGItfkDrJozaSkeWi6VYbus9TLKaZypmXKpg8UmGdxYZYDKapWCQkgETDzeRiSjWsvyleUpuSWgdGg4iRZiLJhN+pID6PiHiDcZI/li+2yNAUFBQU3JUUYuQtQBZ8F8RDiDIEUQJN1dLc1uc34fkDaB79aG64Ks0HwKtHveI1CB0RQSwYEwRPqp7EZ4gFIsh8RuoTMp+S+QynHqc+FyQ+HC+PjIhISPGY+Z3eSJ4CyvWRGCEmIiKmRIlYYqxEmFw8mfyGE8QbYmPDMbwgnhARMYqaDJ8fV8TM1bAYtRg1qCccQw3G3xhxoYiIFBQUFNylFGLkraCpG5SwQecVIM3C1QVFIPPlpc1ACCEi4fFkmpHl6Q0MGBOqP7x6MuPBWhRL6h2pS0kbCfW0xkxjmpnGDDPJDPWsRiNrUE9r1NMajbRO4hKc82GDd4o6j/d5FMQYoijCWkscx8RxTBRFRHFMKY4plUqUy2XKcZmuli46y+2UTInIRrmQMNj8v8jERCbCicxlmBAQGyI2YvOaFQSbCxCDQXyoo8EpzfrXEEUKoq4ZXhFr5qI2BQUFBQV3D4UYeavISx7mMhcqcxESUQCDZKFuohkBUQMqIZWSiSMjI5WUVFKcuFAS6h2NtEE9bTAzmzI9kzBVm2VyeoKp6UkmpyeZmB5nanaKidkJaskMiU9oZA2SrEHqUjJ1iINSaolTA05CoSx5ZMSEyEgzQhJFEXEpplwqU61WaWltpVqt0NfTQ29XF5VyhdZqCy2VVtqqbXS0dtDW0h4iJmop2RJWIsQQzhchshEGi9UY4wy22SGj+TXRvApFyDtsHN44vGR4cShKLGVKUi46agoKCgruMgoxcjv5CdME4WXNgsz8MQX1ChlBjdjQqeJNECIpKZlxNEiYTqeYakwyWZtkbGqcK2NXGJsY59KlMa5emWR6Zpbp2WkaSZ00S0ldSpKFtIzHoyaPrNggLKJSRGxKVKIKFS1jrZ1bq6rHe0W9kiQJ9STBuRpZluGcQ0RycWIpVyMqLRGlcky1WqWtpY2uzi76evvp7e6lra09f6ybrvZOqpXK3O+yGtFKKy205rUvkl8T5gp2xRKuizi8JGSSkEpCJmm4dgIxpSJbU1BQUHCXUYiR24XMN7iELpLm/fmukubG7pzDmPlUDBCyNAYycXh1eKehbkIss1mNsdkxJmYnGJsZ59K1i1y4fJ5LVy9xZfwq1ybGmJqeZnpiBquWrs5ueru7aO3po1yuUCqVKZVijORFr0aw1gYREUch/WLKxL5EnJUQbO5dEgSR+rBu7x3OObLMkaYJSZKQplnwP8FR97M03AyZazAzO8PF0UucrJ9CjKVardDa1kpbext9/f0MDg6yaFEfHe0dtHe009XWiTVChMH4kG6JjM1TXAJe59aCcRjjERyow4rgVPHqQu0J8/UuNzaLiRRSpaCgoODtRtHaextRPy9AVH34PvcFMTJfrOqyDAykWYr3ijGCsYYGCYlPMEaoJw2matNMTc5wefQyZ8+f4eLlS4xNTjA2Psa1a1dpJAmtra309PXS3tZOjNDR0srgsgEWL1pMW7UVY0KtRjkuYyXKUx6hlmOhbRiEsINiFjQV30hTQOXdPhqKZ71zZD4j0TqZ1kmyBhMT41wcvcSl0YtMzU7hcEzXphkdG6XWmKXcUqajq52evh4Glg8wsHgZqxavYHnfMiq2QmxKlKIYcUIkcZ620VBciyeOLU6zcL3E4NVjpUw5asMQoi0LxUjwQ5FCjBQUFBS8DSnEyG3E55ulc+GrIIg0O2dCRESaxlwCSZLM+WqkkjIlU0xmE1y9doUL5y9w/vwFzp25wPjoBNNjM8xO12mrdNDfs4j2ajsdLV0MLBlgYOkArS0tlCJDOTbEUYQ1ofYDF8RHRITxFrzJ0yAGURu6e1RQETILqQ3eHq/HjRu6+uAM69VjjGIjme/i8Sn1rE49naXuG0zVp7g4ep7TF05zYfQCF0YvMDU7SblaoaunnSXLelm1epCBZctYumgZi3r6aS21UbFVjBOMEywxRoWSjRExuNTjM4dYQ1QqI1E0t75CjBQUFBTcHRRi5DahEIpBvcvbXiU3CAudM5nPSLIk9xANaZxQGGqZmZ3h3LWzjEyeZGTiFMNHDnJ+5ALJdMLsWJ3+9kWsXrKG7mofAz3LWblkNT0tPVRooTVuoxKVSdMUlRQih/eO0HBjiSQi0mjOm0Ocwbi8NTavy8Dn4iH2JCX3hmIkrH3Bpq7N9AlYH1zcAcQaJBLUelJS6r6OMxmJNqils0w1pjl76SynzpxifHKMhs5yeuw4k3qFvsU9DC4dZPWKIQaXDLJ88Qp623uJiamaFlqjVkpawlCCBriaQ2KDbYnQWOfanwsxUlBQUHB3UIiR24SiNLIEh8Mau2BOS7Azy3w618qbeUcjqVNP6kxOTTFyeoTh1w4yfO4gl2uXmJiYoLPaydDgWtrjDlb1r2bdwHo64246oi7abQflrIzULZIarEYI4KKMLErxBHt1mzuV4gXNdK7FNggRgsdHbjqmgI+ULHaouDc816bN/HX7uhciL1hHqC9peqlYxRuPM45MMlISiCGulkg1ZXJmgunZaSbr4xy5vJ/h83s4fekUk1NTtLW20t/fz/q161k/tJ5FPYtZ1jfIos7FlLVM5EpELsbXQnGrrZpCjBQUFBTchRRi5DaheFLNgkupSDAW0/koSebzCSveU2vUOX/xAsdPHOPosdc4ffo0l69cZiaZoXdJHysGVrBu5VrWrVxPe7mDrnI3JVdG6oY4K2HrlrKvEPsSkgqSQRQb0sjTEB9SQXMmJRKc3VWxufU61zmfLvhqFLG5j8kbcN1+LvMuseIU68M0HJW8nkSCGMEGl9eUFIkEiQ1J2qCRNohKEbYijGWjnJk8xcnzJzh3+Ryj45c5f+UcmWZ0dXexZMlS1q1Zz7qV61nau5S+tsV0lruIXASqGAsmml9fIUYKCgoK7g4KMXKbaIqRLB/olvggTKyJ8KrMJLPM1Ge4cu0KJ0+PcGD4IMeOH+Pa2DWqra0MLh1koHuQdQMbWDWwmvZq29z8lZaoBRLFZIL1Fl9XIo0pSQnxglEljg1OlcTpfOokX1vYhPPvWTg+5/pBOmF03uuXr15/vgsH+eVOsN6h3mFthJjQPeTU5wINMILTMPJOTCg6BYhLMWKUjNCmO5VMM6MzTGYTHDl3iAMn93PiwglmkhnaO9sZGBhg/doNbFi9ieWLVtDd1kM1qtJqylSlhC1qRgoKCgruKgox0mRhpGBuwF1zy10wYfaGP5uPKkriE1LJcrdUF6IDokzMTHDu4jlGzpzm0OHDHD36GlevjtHT1cPKFStZtWqI1cvWMFgZpMv3EvtSKAx1HmMsVoLgUBcm9Fozb7WeJ0zAK5GEwlSfO6g2i2W9elxzMJ1pDu5rnmvw5xAE40NaR36MHNFc7FyHBP8PJxnXDeVZ4NlurcU5R5JmiDEYE+Xuroa0kWKcoRrH1F2DWZOg7Z4ZO8W56TMMnznA8YvHOXXhJOevnKelvZVVK1czNLSWDWs3snZwDYOtS+ihPRTrNof3Ne1cmi64ud38vAH/je/t9b7yyvXn+eOuTUFBQUHBT08hRgibKwqSAg6wgrdKZlxw+pTgaWHJZ6yoYrCIRKhanIJTJdMMn9dGNEiYzWpcnhzl8InDHDoyHETI5XE6yx0MLVvDg+t2MLR0DV2VbiraQkvWQtyIwQnWRvk8GM2jDfnUXVWsMcEQLbdsFwPqNIynUxM6dMht1o2ELh/v5lJI2ixQXSBIwrA9MzeA71bIAuGF3rBRC6jxwZAs9wRpRiKMCE0V5NXnSiAM/INgmmbE4BqeSBRbMiRkNKiTxHVcOWXWTHMtGeP4xWPsPLyLI2eOcnX6GuWOKms2rmPLxs1sHdjAxv419Fa7qUgZkwrWx8RROQwUFvCWfHKyR8gwkmFxQdxJBMT8xGJE5ebHC61SUFBQ8FNTiBFyMeJBagQH1FhwsZJEKYmkeMkQHDGCbQ5+I8KpIfMGJxEeATxeM+pa4+rsNQ6fPszO4V0MHxvm/KXztFbbWbd8PVtXbGPzss0sqSylWm/BzkbYJKJiSsRR/OPiEvkm2Iw+zE/YFX2jz+0LYjxy8+P5EX7MMd5oVTovcl6XNz6yFw/iCJEKBVywfjcpmU1J45SarXElucpro8fZdXwPw6cPM55O0dJeZe3ASh5eu50da7exonc5La5Ki22nErfgHXgjZAZSo6hxWEkxJESaBncVqSCmwsLxv/6G+pnm1ZG5yJTkb4HcGFQpKCgoKPgJKcQI82JEkzD9ViJBI0iNJ1Q4OASPUUVUsWIRY5hNUxrqkahMhidNG9TqM1y4fJ4DR4bZtX83R06+RqaOZUsHeOyhx9k8tJm+ch+dpotyvYJMG2zNUvIxJRMTGXtfpgI8Hm8dXlKas+/M3IRjjxdHYlKSKCGtOpJKymhylYMjh9h1ZDcnzp6gXpuhv6Ob7eu28PDmHWwZ2kRvWy9lykQS41XBWNRKHjXyiHi8T1HnsKZEZEosTDHNDzScZ84oboEYab6+qEkpKCgo+OkpxAjNGghP6lI8DmMsxhhU8xH35Jui9yRZAhZMbJnxNRIy1Fom65NcHb/CqZOn2LN7D68dOcbMVI2Oti42rNnEA1seYnDxclptS96WGmNSg0kNkVpKxMQuxri8HuQ+w+cREDXpXKShGaURDbU33io+ciQ2oWYSslJGwyRcGLvA0ZGjHD99nFNnTlCvzbJicJB3Pv44mzdsoL+zm56WTsomzm3mY0QikAg1FieK80okEEuoNtHriohybnxbmmJk4UsKMVJQUFDwU1OIEfKBdDhmtUZCQkkiYkpE3mIyi/iw5XhRaq5BIilaVhqmTp06U/UpRi6McODgfoYPHOLC6YtUpYVNq7aybe2DrFq0hp6WfiIXQypEWIxYjMmLKMUjKpTSCiVXwej9N3XWi8ebBG/S8MACy3qa10PC7J5UEzLjIFY0VjLJqLlZrs5cYf+J/byw+wXOXD5D9+Iutj24kR0PbmXTqjUsauuiRcqUKSMuxrkYlTLeWryQi5Hru4muTz3d+E/lBiFC0a1TUFBQ8LNQDMrL8SipcTTIALC5WZg4g7jgFYIVTBQjBlJJmHUNLkyc4/DxA+w/sIfh4UPUphss71/Bg+se5pF1j7Oia4hyowVmDLErExMBoYjU2wxnElIynPdYoptSAvcbzZk3cwUYaiFvOjYIJhNIPNW4TNnGuEZGI61TVktXtZXeTV10VTvZeXwPh84f4nuvPM+p8dOc27GNRzZuZXXvAN22ixIWvJ+b9tussRW5IdahN65u/os2W5ZvOoOCgoKCgp+GQowsQPNW3aYxqYgi4sGAipD4jNQqiXGMTo9xZvQkB47sYueuFzl7ZoSOjk62bNvCtjUPsGn5VnpMP2YGbEOougpRFiPO4BW8cThL+DgeWVQsVu7HBE0g1IgYvDd5Wa4BNeFrLkaSJEVQWuIy6jzJREJkoC2q4IlwtYy4JDy25mFWDa3mxeODfHf3M+wdPsSl8UuMTY3z8IatrF00xNLWpZTjdqwPkRA/Z2Xf9MldWKg6v06VBaOZm481Lf7v23evoKCg4M1RiJE5BIPFEmOxiBjUhBoF1OEF6prQMJ7R6TH2HNrD3v07OXRwL+NXL7Nq+Qoee+gJNgxtZlHHEqraSjRriTKLTQXJPMYr4nN3Eh/SD6I2bIJGgq273p8bmgBouAah4yeIEI/MaQEvuSyR4J8iHqyCdRCJJfMeQ4yN27GViMc2Pka5o5Vdx3dx7OwR/r8fPM+5c6O888EZdqwzLO0QWq0QeR9akdVgxIbBgdetbUELr8pNgmShG839+e4VFBQUvDnuq5qRNzpVh1KXjAyPeI9xjiiPjKSakeCY1YSL41fZuW8Pzz3/POdHztBqS6xbvpondjzC0Ip1VGwrMSViF2OTmLKrUHYVtC6YzBBLjKjJozAafDmCQkHFgljuzy0tdCo1S0e9CF6aX0OsRAyo92iaERuhHAUzOJemOJchVvCRkkaOKZmhVsloVDNGJs6w78Q+nt/1PONTY6xfM8RD27bz2LYdrFoySEVKSAYlKROZEqIWayPUBU8Ua6L5Ft68JkQldPkg8+2/BoPB3rlLWFBQUHCXUkRGcgxCnEWIKojDozRooJJRI/iGnL50jr0HD/DKS7u4cu4qq/pX8s5tT7B97Vb6W3vD/JgkwqgJXiRqEA+ZppjY4iXYtVuiMLBODcbHGIL3R2rAmRt9QO4TNHTPGJ0//7nSERQvocVWjMeUwJFRVx9iJ5FCpGSipAo+UyqmSiWFzGeUo9UsXttLn+nlmVd+wOH9JxgdvcrY5DWeeHgHa5Yvpz1qAZTMe0QtscahnsRBHIGViFv0zuTWrm/tpSooKCi41ygiI3NPgsuULPUQQxalzDBNnRrX6tcYPn6AHz73I06+dpKSL7N28Voe2fA4mwe30FvuJWpEmDTCav7JWFz4jJ93Y4hK6MrxFusjIhdhfYR1ButzMRJBauebR+4rFIyftxvzEoSZE8UbxYtH85vgEBzg5xI5HkhESFWQTCk5qIghMpZMHLOmzlWmOHLlGD8cfp4DI3vxcYOh9YM88fgOdmzexpK2ZZR9C1YjLBGRxljNRSMWayKshBVqbqOv+BDZooiMFBQUFPysFJGRBUR5KL6epdRMg2nqnJ++xIFjB3jhhR9yZP8wi9v7eM8jT7Fj9Q76S0uouHbsbJmytmCdRTIB8XgJ1vDhlqGiiDUYCTNivHpEQ3mmb1paeLiv9zJpdtLkUREFM9deo/mmH24hRaJh6B4eJ5BFMQ6LRTEZlFJLRSNEoGpiquUyPSs7Wb5sgGcPLeGZXf/NKzv3cHH8AhO1CZ7Y9jiDnStokRYyH94zE1XwmQcPVmx4H1kQusnn+jTLXgsKCgoKfnoKMTKHkrkUNQ6NMmbcLOenr/LSwT1874ff48zxEwz1D/JLDz7JOzc8xtLqUtykIGmZ2FRwmYFMiDUCPMaE1lQlBEdUPJIXZebmnXiBzOTRAA/uPrcT9zJ/+iqhmynMAdL5ol8RvJhcrOTj7iTM8DFYIrFEBiIL4prt2YoFKkQkmtLf2s37dryX1tYWvvP8f3H+5Gmeqf2QxnjGux8zLO8fxBKRuhTnHbHGlE3luoLVeQEy78h6H791BQUFBW+Ke0qMvKmMkyhOa2A8DRJOj57hxSP7+O5zz3Ls6Ak2DgzxoXe+n4cHNtPvOihdM1hXwcZtZFJi1mdEKkQS+nIgtzP3Bi8uTy80nUXD9uqM4sTnnTXkquT+3NI0t16fy9PkVvCSF7aiEqIkGFQELzYvAM7FgWgu+hTrJQwTjIVUQLyG1t0ookzMzOQs7R0VfmHju2g1Fb77/Hc5dvIoz9VexKcp73jkCVYuXUXVtpD6BBRiKUGzbuW6op6ibqSgoKDgzXJP1Yy8uVPJSNJJppMxjl4+w3f3vMoP9uxi5MJlVvSv4KNPfZB3rdxO72yZtpmIqqsglKipMGMFLZUoaUychSJMWbCZzg+pm590oqJ4aT4bPlUbFriO3md4mrUh4VqFAmCPUfKZQAunBodOG5WQtNG8yFV8hmgWfGGMBNFCft01dEYpHm8yXJSRRo4ZP8uxMyfY9doudo48T70yyaOPPcxTj/4CGwY30h53YDWipGXKpkIkcW5Tn0dGZN78LDx6Pxb8FBQUFLw57pnISNjkQyGhqFzfkiIhTTI/z2w+H5JXI6A4amaW41de4wc7X+QHL+/k1KVrrFu7nQ//wq/wwJKNtNaqtNQjqklElFqcMUgkGGvIrOA0fCoP9Yz5bBVtmmmBV58PawM1HjU+t0EHRLAupBZeV4osGMj2hs8vOO8f95If8/K3jrnUlQ8bvTYfDpEIOzcHJjxncqFhckFigCjzWA/OKvVISSJILHijGAFxHuM8JSyRM0TOUbYxD694iIG+ZbT0Wb535Du88MrzpEmKeVJYP7ie9rgD5wSnlkiiZhhn/oI1ozrMJebe6qtXUFBQcFdzT4mRTFKcOiIXE6VxbuMOPna4KMUZF4oSNcZqRJo6nHh87JnRSY5fOcoPDz3H9/e8wOjlCbav3M4Hnvggj614iPJkRHnaEPsqqpCq4sVi45hKZKg7h3jNm2fmYxvBM6P5fS6CREFC+28QLYqq5PdvUQq54Jg6d/9mrpup0vzjegPRuX30pp+d2/zfDG9C6uTCzeaRhab/qSKogMvFXR6CWBBvyi3kUdQK3pggaESIclGoXhCBSAQxivoUrxlSsohRvGZ0dLSzfs06Dl3bzd6ju9i1/2XUJNQeGeeB1Q/SLh1YVSomRtIIvAkiNlYoQSOrYzCUbfmNI1u3mF3zegZrBQUFBfcL94wYAcWRkZFhnIFGFCpCTYiKOJuSkpI5R4ySJZ4082SRZ5ppTo4f53t7f8Czr/6AK9fG2Lr2AT70+AfYvmwLHeMRLUmVspRDDUgkEAmumSZIoYRdkJ5prugGz5C5jUgwaCg1UHPDbnSdz/hNW9Ottip9ned14dcFIuR1fUzelCB5gx/+cdkzDadtfEhWNWkeqinmFg6hu+mQoqRzFywIvZJaypmZO5L3Dm88xDFOHI4Mb5WMhFo2zejFi8SZMNC3iGuTo7y880fMzl7DuIytKx4gLllcVsFmJtT9eB/Mz2JwGlqNofQmrFgLIVJQUHB/cg+JEcGG5lysWMTmrRkmGGKJEdQr4g3qBe88Yg3eOM5cPMeLB17muZde4sKFUbYObeMD7/wgWxdvpjIdUUosVSlj1N5crwBzZl03NcO84d7STDrMq4RQkPnGuZa5TteFj90cRnn93y83veq6x2/69T8Ncqsj/2QbrGjzPF7n9a8T0VlIMzsncykymavvmF+ZzxN6Dq8ZURQxNjHBhSunKCUZD6/aiGnfwInzx9n/2gGOHTrMc3E77dVuqoOdWJtQkjjUtGBAFO8zIhsTibnlIl9PLBYUFBQUBO4ZMSIqRBqjGmFE0FhR9WA9ahUjBuOCOypqkNjgDVwbu8a+fXt48fkXuXL+CptXb+UDj3+QTQNbaElbqdoWKlEZV8/wmWIkgryLYy6ors3ixTdDM4nz47euW6ZjwkV4XZGx8Ack12l+4fM/rh7lJ2Jh8uSnONht2qGbIqR5r1koTFPkGULXFAkm8mSaMjM1xYmjhxifGmXL9lV09K6GqmfjshXECTy36xX27TpAS6kX3tXG2sEy1chgsoSylCibEniD9QZrmoZ3t+d8CgoKCu4X7h0xgiDOgg+fe73N8hqRUD8gKpRMmSzzZDgarsF0bZZ9h/bw8ssvc2nkEptXbuF/PPE+tgxspVpvwdQtZcr4hkdTTxSqIOc6YpAQrr8uIPBmNqKbflZvcdibIyXzr+YWkZVmTcX81+sev629VDce7JbVKbfzF95w3JDmCX0uMle47CWIkfDOJ2BSMA7XqDE8vJuzp0+wceNqllRaKCcJaeYR6eCJtQ9z5fw4+04e46Wdu4jau9CWKkt6llKyFdpowdiISCOMy3uizMJ3reB+Ye/evbS3t9/pZdxViMib7IC8d5iZmWHTpk1E0T2zJf/U3Dtn3nQwdYIaxdkMlzufWh8hasGHfwAZGRPZOHuP7OOZ5/6bMyNnGFq8hg888QE2L91EeaZE1bdQcS1oXYMQsTHGCMHzM9/sWPBpXPNajDfVTHFj/qX52A25lfz3CPNplfnC1JsLTRYGPxYKErnF/dvPXP7lx+dZbsevmouIhM4cL4o3HhWHGkfmGhjrSRvTHD2yn3Mjx1i7apAtq1dS0Qam5qlGlkqpRNS/lvRxQ6ox+88d54VdL+BaDTseeITBnkGssZS0TItWMN40C19+6r8CRSDl7udzn/scDz300J1exl3F+fPnGRgYKAQJcOLECb785S+zdOnSO72UO8a9I0byjVtRvHFznTO7iE0nAAAgAElEQVSiBvEW8RFJ1qBhGszEM7w2epgf7P4ew8cPsrRrOb/8xAd5ZNUj2CRC6tBe7kAagm94KqXQIeG8AzvfxBl2PYMsyE68qSF3uuBAc8eZr3dodo00a00WFsuKNj/96/xP3VA+cqNWam7a19XYvtn/L9x0/rfIE936hW+aZneSSphWE9qmff53IUNtho3BpXWOHNnHyeOH2bJhDRvXrcb6lLIo4qE+WafU2k5npcLGJeuoPw7TzzU4dOo4vuqQKsRbDeX2mLKWiH1M5G2YKfQGtS0/f+FXcKdYtGgRX/jCF+70Mu4qPvnJT/L5z3/+usL0+5W//du/pVqt3ull3FHuHTEC+Sdgj7cOJNiDWx9hfQxqwcKkn+TopUP8n13f5uWjL9PV3ctTDz3FjqGHaUs7MakQE2FmTJhvIiXE5aPYzMIi02Z9Qm7SxXxB65thzmRcmY8oLAgszAmfBZERIRcVqvOmJgs1zQ0dPnNfbxFweVNa6hZnc8u7P/cPQuE9Cikah5cMNSmYlHo6y5HhPZw6cYjN61ezYWg5VeOxKJol+CwLxnMNxSp0lVvZsWozqaTUn5vhxMlj7G8v09fZQc/aTtpLbXjxpF5RH0YL3ShIb4xMFRQUFBRczz0jRoIIyXCaocaDCMYFISKZIXEZSTnl3NRZvn/ge7x0/AXG/Dg7Nj3M1o3b6Da9RLUImwnWGUiViIjIRjQadUwMNjZkeZoGCLNTwm/ndm4zcxIntxmf27tVcZmjFBkmxye5fHEU8WBFyFxGajypONraW+nv7aNcKhNHFoPgMgco1kaoKs6HbiIxglfFmOB34jOHNRZrLQjh5/IOlfBzDmtDCMB7jxGDGEPT5bQpoLz3gGCtxXsfjMrMrdxJb+N1EyHLHGrDdfNkiFVsnLd9+zpHju7j6JG9bNuwhu2b12FdimQNIlFSzVALlXIr+BjXcLREMeoitg+uZvYdT/H/PP9tRoaHOdjWxYr2QXqX9pJJG9aWwlvkgxAWMcH1FbDG4H0YB2BMiKS9bs9R8SmxoKDgPuTeESMozmQkWgdAXIQk4dOqIKhVrtSu8sqxl3nhyPOcnT5DT18/y4dW0N7agU5ATIyqxyBYG+GSMBk2iswtW251bgu5jRtIrmvmYy7z5ZDWBrHQaKQcfe0Izz/7AvXpGjiPU4ePoaEZa9et4ReeeorFixZhvWKjCJzDOU9cCR0f3gUhYawhdSlGDJG1pKlDswxjDC5zZElKuVJC1aNOiSODNYakkSIoNjL4zCEiGCNkzqGQCxbFezd/vTQUE/+8akg8isSEibsKJlKwDkeDNJ1hZOQoJ48Ps2HtCrZv2YDxCaR1IkDVhQLXSMjEIz6jbCMMQtbI6IojHlu9kUZjnG8/9z2O7d7PwY4VLH5iKR19PWgpJNDS5jRmo3jnQy1RFM39vTIUEZL7ic985jOcPHnyls+1trby5S9/md/5nd9h69at/MVf/MVbvLqfD1/5yld45pln+PznP8+mTZvu9HIK7hLuGTECkJHRoI4lokSM94pzisaeGjUOnjnAK4df4eLkBabTaVpsB1EcPEm8ZKSaYizYcgltKK7h8GowxuJweK/5TPvQtZGPlr2pofVnpdnau/BYuqBaVSSPNKhSLpXp6ermWpIxcuIUo1dHWTa0nP6BJZTiEiKGSqWEpg7XSInEYEWQTDHWYGyMErI6mVPSJMGUSpRsRJqmpPUUMYohr8XIUz1WLFmakTVSKi1lUI9PHVEc41QxJre99z6PDkCpZHFOyTKHtTf+lfvZfEluRZplmJInKkM9aaAuA0lJfI2R00c49toBhpYvYdvGtZStQ9M64lKsMeDDSIDp+iy1qQYd5Q46WrvQhiOWlBYUE1d517oHSWcSvvfSS+x67iUGO1fR9+hiqAplKWHzAtpmys7jEe+wxhS58fuQZ599lr179wKQZRkA1lpEhM7OTur1Ot/61reYmpq6k8u8rezatYtvfvObfPazn73TSym4i7hnxEgQBB6PDxuoNZjYoJEymU5y6OIhnt37A147exQpGdauWk+pVmH4wCFW1NeyraeKxh7JwqdkayyUgstqM6weTLTsXOvo3IwbCRmVNy9IdK6CtOljMl/boSSpg0yplkusX7eWwSXLmLhyjf/z/36HsatX2L5lK+/98PsAQ2drJ5p6zpwcYeTYCLXpGfp6+9iwaSPlSpnhQ8PM1Gq0d7Zz5do1+voXkaUps9NTtLa0MDY2wdp1a1i6ZCnHTx3j1KkRxsfGqFarDA4OsnrdaqanEvbu3kdtpk7/on5GJ66xbNUyNm7eQK3WwNqQ5sqyEB25KU3zerWtP9uVw0SGzCUYo0RlweFxPmHk5FGOHtnH4LIeHtyynopVGlMTVK2hWimhSUpSr3H63EkOn3iN8bEJVixdwab1m+js6SGulhEPWvcsqnTyjvUPMXpujJ2HDvPDHz5De2cnWzY/BKVOqlLN4x+CiSxGLejrT64p5Mm9zauvvjr3/erVqzl16hQjIyMMDAwAQaDs2bOH1tZWZmdnOXnyJF1dXfT09LB7927WrVtHf3//dces1WoMDw/jvWfLli20tLS8ped0K65cucLhw4fZvn376z5/8OBBli5dyvr169/i1RXcDdwzYkQAS/B88N7T0DrGRDijnBw/yfcPPcOrr72MlpQHNz3ExnWbKDeqjB+fYvfRXWTLHNvXPEBrpZXZmsNgKccVYqMYNbg01FaAQVSvcwttCoY31UlzS3TBn4Kx+XwaFeIoprurE5N6SjYiMpaezm4W9fQjxiBOOHRgmOe+/wPGr1xjdnoG7xwT18ZZv2E9P/r+s5wcGaGjq4tLV0Z5/IknmJma5uihw3R3dnJt7Bq/9N5fYmrtWl54/nlOnDyBcx7vHIuXLOZ/fPD9dHV2svO5Vzh27Bjd/b1cHB/lPb/8S2zaEvrljQB4arWEcrlMFJkQXbrpnbsdV0qxJYtIzEx9kthAuRpx+PBxDu7byfKBXrZtXEsJhzYaXL1wjliVwaVLIck4ffI4B/bsYmJqgtnaLAcvXsDVp9j20EP0VRdjESJnSGtKf7mPd2x9nKvXZjh6eJj2vg7a+9pZN7iFEiWMgvdKZCyRsTiX4ZxHrGCK6EjBAi5dusTWrVt5z3vew1/+5V/y5JNP8t73vpejR49y9uxZjDF88Ytf5A//8A8B+M///E9+67d+iytXrgDQ3d3NV7/6VX7t137tjp3DP/zDP/C7v/u7ZFlGX18fQ0ND1z3/hS98gT/90z/FufCh5OMf/zjf+MY37sRSC97G3EPzziWMeqeCVYtTx6zMcrZ+mpfOPM/3Dv03p8ZOsXpoDR988ld4Ys2TPLb+Hfzyez/IwPqljDSOM3xlP5eSi2QtKbSBKzsSSVELYoLamLMXb7aRMj/MLV/G7Tyl63ptm+UWzToMg6De47IMQ6jTSBsOnyjTE1Ps2bmbo4ePMrBkGU898U5a4jI/+t6znDkxQnd7F1Njk0xPTPHgtu2sXrkSn2Zcu3wFnzoeefBhFvUuYs+ru9m7ay9rVg7x8Y/9Ojse3MHIyVM8+93vc+3CVVorLcxOzZLVEx56YAdbN29C1eOcw/lQ0FqpxBhD/j+jBe1AtxMJtSKJT4nKFudTDh7Yx55dr7Ksv5eHt22moxITa8bs+DWOHRpm9Ooo3nuS2RnOHD9BJVMeWL6aZS0tNMausH/3ixzc/zJj4xdxmhGZmFgr2LTEuuXr+YUnnqK/t5sDw7t4ec8PuTx2nsxlCIY0S0nSBKd+zkfhRtO5goJb8cwzz/Cxj32Mr3/96/T39/O5z32O4eFhLl68yNNPP02SJHz961/nn/7pn1BVPvWpT3H27Nk7stYTJ07we7/3e3R3d/O1r32NT33qU7z88stzz7/44ov88R//MU8++SQ/+tGP+M3f/E3++Z//mb/5m7+5I+stePtyz4gRUcH4YEJVtS3Eccy0n2T3mZ1898D/5ujYYfpW9LB18zaWtAzQ7fppSztpK7Xx4BPbGXhgCSO1kxy5eJgL0xepmzpaUho+oZElYAwiNh9sZwiXzswJkeZA2dtyLrfasvLje3WkaYaIIS7FlMslImtpNBqkSUIpLhHZmCujVzl/5hxTE1NcuTTKpfOX8Kln7Ep43LhQC7Jx3QY+9n//X2zbuhWLQVTYvHEz//Oj/5OBJUu5dOEiOM+GdRt44tHH2bZlG53tnYxeGmVqYgo8ZEnK1k1b+Piv/zqbt2wiTUMBrDEmFM3GMSKSd9gsRLmd4kRRvHiismWmNsWZ0ydZsqiHRx7cRms5JtKMqjVMj10jmZ2mZC1JvYbLMlauXMX2tRspT9fp9LBjwzoqkefA8C5OnD7GTGOGzCloTGxaaIk7WLt6LUOrVzI2eZkXX32WPftfZXxyLBTPSugwCnmZUHckeZrqpjP9OWizgruXgYEBvvSlL/GJT3yCT3/606gq3/zmN/n2t7/N1NQUH/vYx/jEJz7Bxz/+cZ5++mlmZ2f5r//6rzuy1n//938nTVM+/elP88lPfpIvfelLLFu2bO75f/u3fwPgAx/4AAC/8iu/AsC//Mu/vPWLLXhb8/YSI9ftS3rTf7d6uYc5oy+jBqsRKNTSGmevneHFg8+x5/guugc7ec/73sO61euwWUSUxsQuRhSiFsuioX5Wb12Jqzp2Hd3J3mN7mHKTUFFSychMMJGYn0kjNyz6dc7npg13/narrTh8nzu6zh023Df5pmatJYot3itpmuIJRal4wbswDTipB3ES2yiPUjiWr1jOu975TlatXMlsrU4jSRgcHKSvr58sDakEVOnq6qK7q5s0TcmyLPy+KFxXdZ5yVKal0oI1YXKtd56u7i56urtxTvFeiGw0VzuRph7vwTRnt9zyTf9JuNV19KAeUY+xINYzOnqBc6dPsnr5Mh59YDtt5RjrHdZ7NEvp6epk9crljF88z8lDwxgR1g4N0R6VuHryDL2VVtYMLmdgyWK6ujuCeYgVNLKoNURxTCNJuHD+PBMT1zDGc+HSGV7Z+yJHTx9hJpnCGiEyhkhCK2/mHM57PJqP6svf4KbR3c8pYFRw9/HII4/c9P3Zs2c5c+YMAI8++ujc84899hgAIyMjb+EK52mu6eGHH557bOH6T58+DTAXHfnVX/1VAI4dO/YWrrLgbuDtJUY84MKAO69hqqrTFKcZPg93qweXKS5TvIdMlQRHnYSGZNR8nRk3y+XpUXbu38WBfQforHTw5MPvYvuGbbS2VvFxQiOapRHVSE1K5pSIMov6l7BsaIBKX4X9p/fz6rFXmJBxkpYGtWiWuq2T2hQnGV4zRD2iDvUZBp/7jszfhAWbTfOWz0lpmqf5uRs4ETyWYMEVbmiIxogaXCY4J4iJcAqZehrqSERxkUXKERhFrKO7v5O+xX2UW0q0dbWzbvN61m3ewMZtm1m1fghTsdTSGolPcSgmirCxoZ7WyVwKVlm0ZBErVy4ndQkHDx3glVdf5sDB/YxNXKOnt4uuni7ESvB4UY/zYE2JyJZwTvDeYE0JMKgaRJoRpWZrr1x/g5u0xkLp5tSh4hCjqE8RTRGf4pNZjG8QSYPxq+c4d/IIFU1Z0dNFTzmm7BxRlmGcx2UpXX3ddC/q5dyFM7zy8gucPn6EdHqSLEtJFc6cu8zuXQdprXbznne9j3VDGyhVytgS+DhhdOYCe46+wsilE6xZv5r3vvcXWbx4EcOnDvLC0R9yfvIUQp2Sc9h6ik2DQKt5R42MhiSkJKgm4FLIMsgc3FRPU3A/snv37pu+X758OcuXLweuL4ptpkQGBwffwhXO04yC7Nq1a+6xhetfsmQJENapGryIsixjdHT0rV1owduet1cBq89vKGo8Lu+OEQQjYbaMOoN3ublWDE6UFEdGSqYNUl8j0QYnzp1k586dTFye5IF3bueh1Q/RXenEqCcr1ZlxEMUlrIZbq5ZxPqOjt8rWx7YRl0pcvXSNQxeHWdqxjCUdS4jTmCiztFaqZDVHlmZEJiKyBu8SVE1oXdX5qIk0d1TySb+5/3pzlozK/CyV5tC9m7ot8rZa7xzegVpI8yhGAtSAWZ+RaJjFI1ZZvGwR23dsY3T0EifPnuLy2ChxFLFx40ZaejvIxBG1lNGyQWPQSKn7hKgSEVcinGZ0L+nm8Xc/wdXJaxx57TDHTx0HYOWalTz25OP0Le2j4RoQgSnZcC4a9K2REAUJPi82FPy+4V4rXBcZWHARtFmZI6A+JfMeK4I1wXXWRA4lY/zqZS6dO0Zr7Bhavoz22GAaNUy+8XtpcH70HF4yWioxq1evYP9Lr7D35RfoEEPf4qWs3LGDkdMjRO0V1m3awtJlK/CtFRIrzKTTnJ+4yoXJq0xn46zdtIL1D25mxtXofaWf//Xd/81zwz9g5bIlLN5WZVHUD6nBRGUkgjT/Gx2RgSrWS5hp4w25K9zP8q+m4B7j9OnT/Nmf/RkPPPAAf/d3f4cxho985CN0dXXR1tbGv/7rv/Lud78bEeEb3/gG1WqVD33oQ3dkrR/5yEf4kz/5E7761a+yadMm9u3bNxctAfjwhz/MV77yFf7qr/6KP//zP+c73/kOn/vc53j66aeLVveC63h7iZGFhLaRvICz6eqpaD4dVUxeNCpBwXjJSGjQkAYjF0/y4u4XOXvuDANLB9m0djM9Ld3EGuUbv8fZLB+e57HehhSPsSGIbjzbHtnK7JVpzr52npcPvsiaZWvZuHwDscYY9ZQqMc57Mq/YqBTqIRZspjfOhml6tmuzVfhG36/8G83/gS78+TlnEwGv+Zg+a1Hvae1s5cFHHqRvcS8bt2wEA2ma0VKtsH3HNtrb27h88TJj42NExrJy1So6e7rY8chDdC3uZcOmDYg1tLRXefSJR1i+fIC1mzfQIER8VqxfxYc++mFeO/IaU1NTtLW3MbR6iBWrV+J8xoOPP0T/wGKG1q9b6E37U7/dTUHWvC7zVveKyb9aA0nmUJ8SVSIUh0RCXBUujV7m5OnDiKmzdNlSWtvKiEsQHxw/0nqDM2eOcejwfnp7O3lg6xa2r99EPNtg/85dvPTKizz2rl9k1UPb6BpaQaW9hfbeTlwseGOYrdc4cvo1Lk+PMbB2FUNb1hC1VYicpyOq8vDG7Rw9fYJnd77Mj176Pmu7Bula1UlLqQWXn5cxlrmmcNEQJFIBMeFWNPoWAE899RR///d/z6VLlzDG8Nd//ddz5mFf+9rX+O3f/m2efvppADo7O/nHf/xHVq5ceUfWunHjRr70pS/x2c9+lt/4jd+gp6eHRx99lFdeeQWA97///fzRH/0RX/ziF/mP//gPAN7znvfwla98hT/4gz+4I2sueHvy9hUjTW6Y5GYMWAk1pKFTIUxk9YRBaOMzY+w8+Cqv7nsFW4547PHH2LJxC1EpAgfW2FCI2kwXSBiohihZ0wDLeCRS2nvbGHBLmJ2ZZu+x3TTSGusH19PQCm22SqlSRlNlNq1TtjFRFKPZfDWJLKgtme+oELzMa6xmwGCBa8nrUipFGBGadaCqSkdHB+945zuIoiepVGKSJMGlSiNJaW1vZ8u2bWzdBlEcIUioDfGeRQOLeVQewyOkWUa1rY0nf/HdpEnozBEDLstQhIGhlaxcu4Y4LuGcC+ZNAqWoyjve/RQuC/b7auRn3k8VyIziTbg2RsEqiA9ixKiiLqVkDKZcIvV1Um2g4pgYm+TMxVNgU1YsX0ZPdztZVqOR1oitJxZlbPIaB3bvgaTO0uUrmLlwhcgKq5avYGZ6mv3Dw+w6epB3LFtC19AAWMHFhtm0wbUrV7kyNcbE5CRLly5h09r12JYS02kN40I31eJqB49u2MrIyGnOnDzJngN7Wd43xEBfB6qKMYZIFItgMRhywzwTHmka6BXcu9zKiXXh1NrnnnsOgDVr1vCtb32LXbt2sX79+usKQj/60Y/y/ve/n3379qGqbNu2jfb29rfmBF6Hz3zmMzz99NMMDw/z4IMP0t3dfd3zX/jCF/j93/99hoeHWbZsGVu2bLlDKy14O/M2EyPNSMiNIYXw0dIQZqmISJ5/9CAOcjEy62Y5eu4oe4/tY7w2xkOP7mDzls20t7XjfBYcQjX8z18wIeyPosaFz6sRuDQhjmIk8qTO0dJXZdMjG4jKwujERVqnWljcvhhrgotpZA3OOzKJsHk9SPPjvSw8rVxsBKeSPBuVf9+MCvy44sUs8yTNTprI4r2QZSAmQhUajQxEMFEcilFNuJ4u86EuRML1M9aiEmbtiA8pkP+fvTeNkew8y79/z3Jq7a5ep5fp6enZ95mMPV5wAsF6X7EF8cGIhARHIiEQBT5ECgECiRARXwAFRQGx/CFkUVAWIpAcBQUU+AN6cRLi2LHHs3n27unu6X3v2s55lvfDc6q6ZzzOYmNP265rVK61q885Ve7nOvd9XddtnMOYMK/GAzqSZPNZarUYawwOh7GBhKhshFISY4IwVmUC0XkpkgcvPF56rPThK+BEWg0K9yU+zMKRHu8tngShDQtrc9yYGkNoy87BHnq7CihlMS6ByJL4BGdi5uenWZqdoTdfYGVimtH5eURGsuvgPvYePkw9l0EW20iKEXFegYRaXOPspfMkzrB9eIgT+3ZR6u5EWIeIDd3ZIk4E4ued5OTOfazc/xD/9z++wVNnnmL37sNkO7ppy3YhnATjyehARKQQeCROSiSpQ0uIF8vlWniNoVQq8fDDD9/xuWKxyEMPPfTKbtD3QX9/P/39/S/4/NDQUDPorYUW7oQtRUa8BJxv6ikCW/BNzURT1CjCIDYrDCiHwOO8YW5thjPXTnN16grtfe0cPHqQjq4OatUaOtJkdCZd9RUImZIDF3QWUmCTBOXAS0nNlPEqkB5RgMP3HaC8UmN+fIHVmRV2bduNy3oil6VYLGBjRy1JiEQUSJNPXTHQrI5sbr1sJiSbAyi+12IkJCid5p2IlJQRBrF57zHWolSgPY5QBVJahsqRDfuptcR5gbEOm4RfKFVoFXgBMgrEplJP0BEIpcnmIpxzOOsRUlIzFplmnagoQmpJkpgQ9CVevO4hNKBcyj1TRxGNuH2P1BJHjDV1rEpYXptnZn4cEcVsH+xlW3uRyNQwcR2LxbgYZ+rkpaC3p4uhgQHmrl5nYr1MNopYWlxDtOU5vvMBjj/0IKLUTqZUYrFSprpeYWl5mXUbMzDYz8i+PWTb26jHNaxxSCdxlTr1uI7SirZIofIdvPHwCa5euMbZy+M8efEZuod2sn+ogHaSyAsiF6W9coEXEovEyyBQFq3iyOsamUyGHTt2PK+y0EILrwdsKTICmxZobtUyhoKJAxfK4s5bvLTgHcYlVJI1RqeucWXyEqvxCgdPHKB/Rz9SpUPdvCOrdEoQGoFl4Wy8eUYvHFJKYluFdKKtVYZCqYBwnkI+R4/uYmlimacuPcVgaYh9g/vRURSG0ZkEISXKeWQjIM2nDaF0YW0QkoZ2pLmfm+6/ELz3KCWxVmJs0GcI4TcYjBBhEq8Q4C31xAQrsJRIHUSkDo9Nf7/1HiE83odqiZJyw70igrnDmATjQGuNIwStKa2wNszqEcqn79nQ9ry41VSkrRjlw7Tf8C6BIFkZvheiabzxrK4vMz45ihEVhncN0FHKYStr4Cw+iZmbn+bGxBiry4t05nMc3DnCqVP3MNvTQ0FH1Oo1lp47R12AKObp6O+lpiXzlTWujl6nXq8xODjIPfvuo1gsoLIZbFxHWUs2lyOJYxCebJSFxCBFsF4Pl3o4eeQIo3OLnL1+nqHxA/T199Ot2tFOo50DFFYJXEpIXNo0VDRadi28HnH//fffIv5soYXXE7YUGWksyg1jxa1IF6imUcWBcFiRUEvKLK0vcGnsOUanr7NtuJeDxw5S6ipRrVeb0e7SB53IRlCZD7ZU4ULeSBTqFdYa8BDpCJSlwjpSKpz0dGzvoFAoMLewwMWJ57DWsW/HATpzXUTZCGMTvJBIL5EuXOMEEnFLteTWPaNZ/fleC1EcB/IgUtaiVVi+mjwAEVpRgJAS74JIUkRpS8U4hBREWiGExBiDlgqkwHqXRrWHiovW4ashG2fxXmBt0OhovSl3xHviukGIdFLvi2zVCEA7gXIidRiFixUeIxtlo9CWq1TWmFmYwfuEwW3d9LQVkLaOjys4Z1idn+fKmdPMzkyT1KuMLy9TmZjkwfvu48jJ40zdvMnZZ66iukuMHDsCbUWq3rOwtsrNhTmqSZ3evm3s2b+XfL6AswYhZXBN4UmqVbxzqGwWJWRwfBlPRnjapOTU0WOcnrjB42fPc2b0LIf2HaCjJxu+A07ihUwJqcDe1r5roYUWWng9YkuRkQ22sbGiCRHSVWHTAotHRjKkkfqYmq0yPjXGc9eeY6m8yKGTh9ixcwipJMZbIh2lIVybmE7q1PFsXBtvyUUR2UxENalicCQEHYbWEU5A1VUQec2Jh45z49wEizOL3Fi4ge1xdGU7QWUwiQAD+WweU0uQXpBVWYRLyw2b2zY0tqVx+zY6sumuUhIpN5xFjYqOT1mcVBIvPNa58JZKgZI4IbCE9pOQ4baQEqE0zoNNwv5LIZBpm0X60BrJRhmklGEKbypQ9TZtnUmRynxE2DbkpqC2H/6jV1YgXBD4khHUnAENTkHNxKjIU6uUmZoZR9gqQ4N9dLdnyCYGaROiTIQpV5kau8bq9E129fRi63WuLy2jncM7g4+grC3RYBe79+9j+Mhhat7x3NUrrNYqdPX1cvLECfr7+yCdQaQzES5OUr2NRPmgFfLe461FZ7JI4cEnJLFhoKubE0cO8/ToVa6OPse18cvsKvXSIRX4kOQrCS1A5x1SqEaDCtWqi7TQQguvQ2wpMhI0EH7D3ik2WiqNtopzQfvgMMQ+IfYJq/VVnrt+kRs3b9DV3c3IyC4KxSJ1k5DP5siqbFOx3oBPz+qbglkBOlLNTJBMLvFgLSgAACAASURBVMIKiySc+RqfoKKIOAlaivZ8G0cfOMri+DKLU8vcWLpBpVBmoKMfndUbWgztEWllRAuNEDItyrNJG5NqBdytlZHb1/XNU28bpGSjpdFIohUIqZqUzgPWBpFr83WNN04TUVUajNrs+GzuFXjwFgQStXnjNnPGVADzUiK7hBdo51FChjC3ah0iD1pS8wlJ5CibMhcunyYpL3F413Y6inmyOFQ1RpoYRx0T16murVBfXKLmQBjLvp072b57J1MLc6xloXv/TrpOHCDX0cHs0iKLSyssra1S6uzgwO49FNvb0ErjXAjbk06ENhwuVEiijc8hjb8B75A+VHZE7DiwezdHDu7jzOWrXL1+gXuG97Gtuw1nLNKn9l5PWumCzZN9W2ihhRZeb9hilWHf/O+tBYIgYrTe45XASUfV1IhJqPoa43MTXBq9TKVW48jhY+zbcwCJCkJOZ8OC0tRDNFURaSNgw+lC2rbxIq2WpK2cBh9yOKQWiIyg5qrYyLBtpJft+wew+Zgzo6d5duw0y26JOFujwjoua/FZS81XSUhw0uIav6PhHnqeg+i2Q+Lv/NDtlzuiqbO49XL7mtekfB5kasT5Ya+/94Z8bwgP3lhcPcEnMXhLlBHUkzqxrRG7Nc5ceJKxiYt0dmbp6W5DYaBaQdQTaiurlBcW0FrS39+PsIZLZ89hazUG+vq4OT3F6UvnmVxdxLbniQsR1xdmGJubxUrJyZP3cs+JN9BeLJJVGuVBuXCRzcJVQ1QLTtx6sanlOlIZpBN0F4oc2jVCUQtGr11kdPwK1aQcPn9nwTm0kERCpY6ql3DwWmihhRZe5dhSlZEA/7xbXqSsSaZhZ06QWIuVnuXKKheuXeTKjat0dXVz7MAJOvKdmMRQUDmEgTiuI6KQ4tpoQzTIQOAaGytzM6qd8LhENs9YnQsx9UpoLIaarYD05LozDEX9LFcWmVweRy0L+kp9lKISSVynGBXJRwV8HKbZSt9oPd06OG0jpfTWNs7tS5Tf/OQmNAjF7cva7a+/XSjbICGbtbAbB/8HvxZ31Pr8oPBpC8iGY1rUVHwN4esIKlw4+xTzs+McPzTMnsE+ChlLpm4oL80zff0681MTGFelY6CTgf4+9h06zLm1dZbXV3nmzGmqGRg5eYzt+3azFFeZW1yjWo/p7ulhZHAnHYU2lLOh3eIcuHTejQhUNTV1beiNbjsEoWMVXFSRh65MgWMjuznXe4bx0RtcvnKBozsPUexsQzkXLiroc5JU/yS22rlBCy200MIrhFcFGdlYowXWOWJvcAoSYZlYuMnZq+dZrZf5kUMPMTK4G2k0GsjpPA6bjnI3aUk9rb5sSjqV6WotaMyNAZAI71ENMuJFcDu4sA0ZpREKqqaCEJJcT5aD9+1jZXGN8mKZ0cXrDHfvoCffQ2LqSCNQQhOpLDhCDHi6BXdQkbzwYRHPf6iBBsm4jdPc+cWbfkZsev6FiM4PgpdyXu8FqKxGZiCxNWJTIfHryEzC2MVnmBs9xxuO7+fAvu0oE0N5gcpqmasXz3D9/HNIa1ipLLH+3Dr3/8gD7Du4j2w+Yn5xAaMFu3Zup3v3MDcXFpifLNO7fYhdu/bQ2d5BMVtMCYfHOxPE0aS6mmYL5bYP4A7kyxNEwZEWFL1iV9c27t1/gMXJacZvjjK1NE1P5wB5lUWkhEQKgfAmEELZSJ1ptWpaaKGF1xe2IBnZDHHLTSc8sTUkWLwSlE2V0akbjE2P09Xfw6GDR2gvlIKTRRLcH4KQvio8Trq0NZP2KoQM9tvm7wgzVRse0o2KgUzvyw1NiyDU8IUjSeoYV0O2a0q5IlGbZvrqFE+c/zaHdxxmd+9unPcUdHBmSJ+msDb3sdE7uXWvb+cfd1zsNz/pN5wZjbwK/0Jr261ymVve/yVpP14skRGeiouRIsbKGqgY5as8d+5JJkcvcN/RPezd0UUmWcHWKnhrmJoe5eyZ77B92wCHDhxgfPIGz557luvXr7Nrzy4O/sh9DJs6ZDQVn3BxdJSp5QVG9u5j3/AIhc4utNBgXBA6yzRIj5CnIlUgis65VHMkgqC6cYz85mMlQCic8Ajr0HVLu5Ic2THC+Z4eJiZvcHnsCkP9e4gKhSCotcESLLxN3/dOU41baKGFFl772OJkJKCZDSLSyoaQWDwLK4uM3bzBcmWVY4eOMTgwhLSanM7isazVVpGRQEcSSwjpErJBQELlQ/iNmSBO+E0VE4HwMuSFuNBS8c4jUUgtMc5Si6sggrPHE4b2VZM6+c48I4eGWZpf5Nunv019T52jO482BbhOhDNivL9FByrwTefQD3NyfDvfaFQ6vl+V43bpiAf8i3fn3lKZ+WHhhccoi5UJQiQIX+Xa5TOMXznD7u1dFM0al564TEZY+vq20d7VxdzN6ywvz3LkyAGG9gxT6ulgubzK2NQ4s9V1urp2o3UbUwuzzC0vYDOKN5x4A3v3HwoNuNgTZSTGJCBlcB8JBz4IVZES71yYO9TcL3ELgdsMJxQyUnhiiGtoYgbaSmzv7eXc5Wucv3yR/XveQMdQD1mfBWtTQbNNy3OaW6Yat9BCCy28TrClyMhmJw2p26BxuyEmdemlEleZnJ1kdGKMtco6nd2dtLe3hzNdLzDWolWEUgLnTVO4KQjvIza7a5rzbzaWZ9H8J9NLsLx4gh0TEayuTjictAghMM4gc4FeRGgeePP9XHzyEucvnqdernNk5xF6cr1ACLgKws9UvijkJnfPHTQfNDetqWG4hcncYYFs+m38bYLgF1hMEd+fwLwgNm9Po2yw0dHg9lu3/wqPg6wnETHWlBm/epZrF5+hsyBwlUWePneemYnrZBQcPXGMI0ePUdSefCHixs1xtg1tp6uzi6iYx2UjTFazZGqcu3KZSlxjeHiYQ2/YSWe+DWFDy8wbi43LRLk8XkucS27ZRuk9ztrmbBkhZDqF+NaDFo6vwHiHlxItNNIK8ipDT7GTXUPDtJcuMDU/xeT8JLv6d9OmcjgPyqlw3D3p5/8ijn0LLbTQwqscW0oxZ9N/CJ+GhimEUQgjEQ4clkTG1ESFpdo8Y1PXmZi6Qd+2bYzs2EkmilBa4oTBS0c2m0FHGikUSmhkYyCZb4RqpYJV6fAilOcb7Y6wpnocgWxYYfEqTPQ1PsFLj84olFYh28NbBJBVEeCpmio+6zjxxuMMH9/BrJ3l2up1psw0lVyNii5TE1WsdiHm3IUkWSMsVlqctBiRYFIHDsqDTCf2prWihpNFu/B0A5vbO43hsGHYXHrhNrHqJjT1Iz/kRQDS+TR9tnF0XepOsjgZovsNMcbX8SIBkQAJwid4V8O5depmgfPPfZuro2fo7MqwtjbHc889S6m9wMk3HKOtkOfis2eYvznN7j17Gdm1i4mJCR7/1jf57+98m6n1Zfr27kQW80zOzrCyusa23n727dlPd2c3mUwuuFe8RUWhyoWwSFxaKQsHIOhHXNivNHpfQDOyXTYvvvmYEB7vbLBx+wxZn6Woi4zs2M2OnTtZKi9xbeYqi7U56qqKETGJS/Be4cngvKLFRl5bWFhY4JFHHuH3f//3b7kNcOnSJR555BE+8YlP3OWtbKGFu48tVRlxKRlRZJBe4g04Q2OGGBaDEXUqfo2p1Umu37xKLa7wwP0PsGdkD1IKrE8QKgSENUSHSmme13xI57qkQeMANDw0jdsen2adhIdteo0Mz5v0TFYKlVpiJZGIQAtEjpBTEVn237+fhZsLLE4u8a0rEwy0DXJk51FKmQ4q5Qo5smQijbUeJ0LpHsA5u9Eako1qSNom8A3tSyOgrMmzmtvbvLp919m05KVn5S/02h8UTXKUHj3nG2QkrfaIMHhQyLB4J9ahhEgH7hmkdjjKXLnyNNdHz3Bg5xD1pTlu3hyjKBw7d+7k0J5dSOs5e/Ys65U6ezq6OHryHnLt3dxcWGBmfYVcdxu6VGR+ZYmBoe08/KY309XTEwLG6gleRchM1CziqDTFFm+aybabOfrmbBd4AU1MegClCgfTO49GYxOHtBF927azZ98+rsxNc23yCrPlmwx0doVBhSbCe4U1OkzylS0y8lpCrVbjscceY3l5mfe973388z//M2trawAsLS3x2GOP0dbWdpe3soUW7j62FBmBBgkIaOZ/EOafGG9wWGqmyvj0DUYnRunu7WFk5wiZTKhIIPwd1tPb1REbDz+/KXL78z/46hx0ryH9y0uLExDLGrqYoWu4i0KpwHrtEk+ef5LEGk7uOUkmyuKNReo8UkV4I5oESAkdWkoIvL1td9Kzd0TQqtyyj7etmC+w97e93w/42hdC2gpym1pNIJC+kaAhUidTSlC0wMiQcOukw/gaF66c4croJXbvGmbXjkGWpWW+s5vF8VFmb9ykJBWV1TI93X10betHthXpzhcoDA0xsLrM3MoSVVPDOsu2/j52jYzQ0dmJ9R7rPFrp79k6Avfi9n3T96SRoxoOhsR7QXuhjUP7D/Dkc2eZnBpncnqcvT07acuFcLV6DIlxRHrL/e/Ywv8i+vv7eeaZZygWi897bm1tjdOnT3Po0CF6e0MrN45jLl++THt7O8PDw5w+fZqTJ08CUK1WOX/+PM45jh49SqFQeEX3pYUW/rextf76bXaANASYciN8zHmLF55ypcz4xDgzM9McO3mM4Z3DRDpCvLil5H8FoVKSYFwcKicqTM511DDCERUytGXbOHr/EfK5PDOTU5yb0BwYOoDXBUyckPdFIp9af5EbAtpNQo7GzcZcnXAdFkLhVWht3Y0D0MhnaW4LaeVGpoTEo1SGxCfENkFkBVb7YNOWjguXLnDu4rMc2LODo4f2kreGvl37yJUrfHt2lhsXr7A0MYmTsO/YEQZ27yJWknUMZemZsTXKLmagbxvDu3bR09uLcA5nbRCgig2S97Jhc+tLBiJiTAJO0tvZRX9PLzfGxrl88RJHBw/R3d9LTjsQHq1Bqbv3/W3h5cfMzAzHjh3j4Ycf5j//8z+bj1+8eJG9e/cyNzeHlJI//dM/5QMf+ADXr1/n2LFj/MzP/AxxHHP69Gnm5ub46le/yq/8yq8wPz8PQFdXF3/7t3/LL/zCL9ytXWuhhZeMLaUZubUWksZkp/V/lw60i12ducU5pqZvYoyhf2CAUnspnVlzFyHCNhphSESCVw6hPFYYar5C1ZWp+jIum3Dk/kMcefAQq36J/+/0f3Jm4hnquQo2a7DShDqQD5UP4VJXjxPh0syQD1ZlKy1GJhiV4IT9oSo5/9toEKNmsLkH6UXQ/3iJMx6lNNl8ltjHVF0Vk0k4M3aW7176LtuHBzi4azcFGVGIMgjjGN4xzKlT9yN0xOTMLO09Pew+eoSoo501m7DuLeNLC0wsLVDs7mTv/gP09vam1lyFEIIom0V4j6nXX7Z9D/och3cO72zITdEhZE84aM8VObR3Px3FNm6MjrGwuEBsg2ZEaoHW8kXbolt4deM73/kO73znO/nc5z5Hb28vH/zgBzl//nzz+X//939nenqad7/73UxPT/Poo48SxzF///d/zxe+8AW89/zyL/8yExMTd3EvWmjhpWFLVUYa/hV8Ook2FUR44XA4vPRU61VuzkywsLhAd08Pg/0DRCrCu/Azd/MPeoicD/HzBoNAYGVDPxEqOzKrqNkKPTs6Ac+ZJ5/lzNgz1GyVw33H6FV9qd1TgBHpbJS0QiLCXBkB+FRk66TDimA9lcLd6rB5hRGGDjqaOS7Na4IoWWliW8c7R5RVVOw6F69c5KlzT9Lf38XRg3vojrLoah2PRUcRqqODvUePsFxd4dkzp5mqrDK2MEtPMcv50VGWkzqD+/bx4JvexFBXF3nAGoNPEpz3RJlM0xGjX+Y2iBAiDLqzHucMKIGSEi0Ebdk8B3bvZfu2PibHppiZmaa2q0ZeG7LKp45iB2qLnR+08LJjYGCAj3/84wBcu3aNj370o/zTP/0Tb3vb2wDo7Ozk9OnTKKX4zGc+w9raGr/2a7/GO9/5TgC+8Y1v8Jd/+Zd87Wtf473vfe9d248WWngp2FJ/+QQitbqmKpH0TDu4WQxeOKr1MpPTkyytLjE8soOBgQEyUSaIVF/syNj/JfhGZjhgnSV2IfmV1LGTCIPBULNVKq5Cz44uHvx/7mfwwACTq+OMLV1jrj7DGsvEUQ2TSbDKYIXFNdofbJA26RuZKXezQbWBUMQKbhoIOhEvBDa9JM7hhMd6g/MJE2NXOP3UN9m7Yxs/fv8b6I4URQcFNCIJduxYeGRXG3sfvJehe49ybX2J//v0E5wbu0bVJnR19XBg915G+rejnSBJDEiJiiKkUhhrMda+IixVConWGqUk1lkSYzCJwycWZaGnWGKwZxv1SoVr168wtzyP8QaLAWE3aW1aeD3h1KlTzdsPPPAAAOPj483H7r///lRovfH4/fff/7yfGRsbe9m3tYUWXi5sKTIiN1VGoEFEXNqiMcSuzmp1lcmZSeaW5unq7aLUWUJJhXACa91d3HqBsw4cRCJDJCKkV2mIWRiiZp1FakGU1VRdsPZmShGH7z3IyTedIM7XuL5ylZlkklW5RDWqEOsaRsU45Uh5WpoKG9o3yqnmRXh1W6DIKwvp/abBcuHzs9JjpCdRnhoJMqvwIuHi+dNcePpJ9vb38MajB9mmBR3eE8UJyhqy2QwGS1VYyllJZriP7SePUtw5SD2ryXaV+NE3v5n/98cfpjsqwFIZYgOATysjSoUhdA1brncv7/fDW4t3LrSHlErj5AXCelTi6Mzk2Te8k862IpM3x5ldmCH2MXVbw/kkNdK0CMnrDd/97nebt5966ikARkZGmo9tdnQNDw8D8OSTTzYfe+KJJwDYsWPHy7qddwOPP/44jzzyCI888giLi4u3PHe7VbqFVze2VJvGOYfHI4VMUy89SIEXjoSEmBozi1NMTE+wrb+Hkd0jRJkotEHu9t9wL4IF1yuUVyHUTCpcqqBwgFIeISRaaaSQWGdQQhIVI4rFAkoqZm/M8czEU/QW+zm04wjtUTsZ8ggvkC6LtDK8mROBkFgZsi6kSCcV3639B5W6Z5xPw+kkWClIhMeSQNZjVcLl5y5w8ewz7Brs4uSJA+RMAktr5ERwFvlMBFkFRES5DAvVZS5dvEo1qbLvxDG2dfdy/PAxuoslSFICpDQiEmEysk2nNLv02lqElM2zy5cDgtRJZD1eSVASASgBER6cRwrFvuFdDA0OMjk5x+TUBAf2rpEpFvDe4L0BkXnZtrGFrYmpqSk+9KEPcc899/BXf/VXKKX4+Z//+Tu+9qd/+qdpa2vjH/7hH/jxH/9xhBB8/vOfJ5/P85a3vOUV3vKXH//n//wfHnvsMQB+9md/ll/91V9tPrfZNt3Cqx9bqjLiXPCHSiHxPkS/e+ExwhITsx6XGZscY2FlngOHDzAysjOcNYiQF6HV3eNWAtAiQpMBqxBOon0GTQbtM6FaIrNoNN6n26tVKHMoMDIh35el/+A2fJflqetP8PTYkyzLJWrZMmWxxrpbw+hQJUlMgjMOjURbiYgFwoqNOPm7sP/CeaQL6bJChlyYOnUSVcfnHD4yXB29wKVLz7Kjv5N7Du6jRwmK1RrFxCBcgiho4qxnzdZIFMysLPDs+bNcunwJISWnTp3innvupdTWjksMWBcqY4hwWwiiKApVkbQyEVonL//cFyWDrsc6h0vt6EHz41GJR9QSutvaGdzWR5zUmJyeYGltAS8NXhjMbQmwLbw+cOrUKT71qU/xjne8g5mZGT7+8Y9z+PDhO752cHCQz33uc0gpefTRR/mlX/olvPd89rOfvaWa8lpApVLhscceo729HYAvfvGL3/O1586dY3JysvnY+Pg4586do1arUavVOHfuHBMTE6yurvL4448zOzsLwPr6Ov/93//NtWvXmj8bxzHnzp3jxo0bxHHMt7/9bU6fPv2831utVnnqqaf4zne+Q6VSed7zo6Oj/Md//AdnzpxJ51u18ELYUpURKRpBZQIhJU5YDIbExxgM80tzjE2O4YSlrVQk+H99UzERrJt3q1Uj0upFqnkRhGF4aQZFkyPclnzqU8GnEx6jDaLdc+iBA6iCYnF2jkuzF9he3MFQaRgRQ4xC1C2xM+SiHNlIU69ZvAOl797eAzjvUN4jtURIj/MJXjrQILRnYWGK66MX6O7McezQbjrzGh1XUdbihKMmDHFOk0hPPUkYHxtjYmoCmVE8cM8pdo3spFRqJyM11BOssQipg9uqGQd7F9H4bMVGOG34Tgg0IRGuPcowPDhAe6mNpbVllteXqdsqWigErarIaw1DQ0O3LEKbbz/44IPN+8vLyzzzzDMcPHiQwcFBAA4ePHjHBeyRRx7hJ3/yJ3n22Wfx3nP8+PHmgv1awle+8hXK5TIf/OAH+cpXvsJ//dd/MTU11Tw+m/H000/zoz/6o7zrXe/iM5/5DAC/+Zu/yT/+4z/yzDPPYIzhvvvu49SpU0xMTDAzM0MURXz0ox/lE5/4BHNzcwgh+MQnPsH73//+pq36gQceYH19veluevvb394kRd/PYv2e97yHT3/6081tPHnyJP/6r/9Kf3//y3rcXq3YUpURKWTqFPHIxlkmBkuCw7C0usj0/DTFUpG+gT6kVsHS6/zGQnC31qNGJLpvCEuDnVU4uWHN9WJDF8MGO/EixMzLDCEiPmc4/iPH2H9qH/VshdNjT3N28lnKmXXifJ2qruDyFp+xJBisB6VDmundQsg/ETgJxlsSW0coS6GgULLO3NwY42MX2NZT4Ojh3bQXFFpadE4HUauJsRmo5GDWrPH05bOcu3yB9mKeN93/APcdPc5AsUQbiihxSGODHkRJnPYYaTHS3T3JjL/1jm9kxyNQXhA5QcZL2rM5dg4N0dFZYnFlgYWVBWJTR6o0wfVuE6oW7go6Ozt5+OGH77jQ3gnFYpGHHnqIN77xja9JIgLw+c9/HoC3vvWtvPWtb8U5x5e//OWX9J7PPvssH/zgB3n/+99PkiR85CMf4d3vfjd/9Ed/hPeeP/uzP7vl9U888QRvectb+Ou//ms6Ojr40pe+xJUrV76vxfrxxx/n05/+NA8//DCPP/44v/M7v8MzzzzDH//xH7+k7X8tY0uRESEE3nmcC7qRUOkItZLEJyyXl1mvrtGzrYe+/j6UDpoM1yQjd99T4puOiEbGum/UbQCx6fzd3zL4zwlHYmN0JEFCbOv0DHSz78Q+sr0RT155gqeufYep6iSVaA3R4aiqKuuuhshLjPTE1nDXFjMBTkli6an5BCcdmYwAW2V9aZrFm9co6Jg9O3oY6G1DqYS6rZBIg9EO2ZYljjyTS9NcmxylklQ4fs8JHnrjQ3SV2nG1Gq5aw9fqCGOQeKQSeEUQySqPk3czZeX25NqN4QLSp/ODbNC3dJbaKRYLLCzPMzV3k0q9HCzRd//r20ILWwLz8/N8/etfZ3h4mAceeKBpc/7Sl770kt73zW9+M7/927/NH/zBHwBBKPwnf/In/O7v/i5dXV3PE8meOnWKj33sY7zvfe/jp37qpwCYnJzkX/7lX1hbW+MXf/EXeec738k73vEOHn30USqVCl/72teaMQIXL17k61//Oj/3cz/HxYsX+dCHPvSStv+1jK1FRhB4x4abhiBi9cJTjassrixSrVfo7O6gVGpHplN0G6LXlz1h83tvfDofJjiASBNSG9deuFvsyk0ikrqFPB5nPabmgvYDUBlJti3i0H0HOXjffspqlWsLl5mu3aSer+LbLUm2TpJLqKuYukvuWmXAA0ZCVVhi5ckUIxAJs1NjzI1fpU0aDg7301lQ1CtLqMghC5K6iInzgkURc+baRS5eOk9bIcvDb/5R7jl5gnwhh5SEVFuRUjkBQomgJ3IG4y1SS+RdzejYCHqDdE5Q+kxzQKFx+NiQjTKUOkvUTZ2p2SnWKit4LK2qSAstBHz5y18mSRKiKOK9730vf/EXf4HWmv/5n//h+vXrL/p9t23bBtDUkDXub35sMzZXqkqlUvP297NYP/jgg3zgAx+gVqvxh3/4h/zYj/0YP/ETP3FLmF0Lt2JLkZENCBAea00QA3rHWnmN2flZqnGNfCGHihRCiubpqBTqLldGNlc6QhCZa178JhLiNl1sCHSTIUdEioicKBDZDDhBYgxVUyUqKo6cOsieE7uoZ6tMV24ysXKDil4nycWs+xVc1iCymyszryycgFg4Yg02I4m9YXl5gaXZSWRtnR29nfR1tpFxMdLXkZEnVoZK1jMRr3F2ZpzF9VVGBgc5efAQ2zo6MLUKSVILybJaIIoZfD7CZSRWEY6tN+Asynvu7jdgU6uQ27Q7fhMh8ZDLZtm+fZC29jaWlhdZL6/hvUO0yEgLLQAbLZpr167xd3/3d3zqU5/CmGDd/17VkcYQQggupZcL389iXS6X+chHPsLk5CRf//rXede73sWNGzf4vd/7vZdtm17t2GJkZGMcu3cek84VMS5htbzC4vICiY3JZLJIIVFCo1AhOr05o2WzkPG2+83TVQcYIAHicNu7TS/34T7utsc3P7/5krZghMNJ07wEsmFvmSHzfELims9rocjrAhodphb7kDyL8sQyJt+dY8eB7USdkqcuPsGTF77NUjJPkq1jojpGNiLh3W0Xm555p/v0vONC037shE/tyKk42Hsah9UThvKZ9GJT8tVIXjXSQE7gI8vc/BTTk6PkpGfn9j4627LY6hrSx+SKEbEwLNbX+e6V83z3ygV8IcO9p+7lviPH6crkQzvGO5SWiKzGZQSx9BgNifJYFfQiWgikdfh6gjfmLpKRRgsubEEja0XeQcuUibJsH9xOV0cX62vrrK2tkdgE6xtHfuNfCy283nD9+nW++c1vMjIywtraGuvr66yvr/PNb34TuLOrZvv27QD827/9G3/zN3/DRz7yEb7xjW+8bNu42WL9hS98gS9+8Yu37eN15QAAIABJREFUWKz//M//nN7eXn7jN36DUqnEww8/jBCCTKYlUn8hbCk3jfMGhEvXSxXmmbgwe2V5fZG55Rl6ensYGthBUZfQLoNA4pSjLmMkHtGII0eyydOA8BKBDsP2fB1EBU89kB+fRVJEksMaD8KilMfaBO8FSuaIYxfivpXEeYOSHiEEzgNeglBADCLBmASPQOss3gmkiACFT7fKWhsC0KREaYn3FmcsSoAhQWYlmSgisUlYjCNBEseISFLqKyGlZHp2mgtXzlGurfGGQ2+gK9uNqSYoBDrKYazBJAatFUIGcqeEDNuKRIS+R1Nr4z3YVH8hvSeyoDwoJ/ACrIREChIV2jHOW6SHjJBo68AbpKzjZJ311UWmJi6SdwkDgz109RRB1KkmZWzWYTTMl1eYXZpjeX2Zvt5eDu3eRXehnSwSnySAIyPD1GJngn0X75vTi8MeiHRAn0vTb/1dSzH1QuCRgT540CmRk94hfKiQWQkGgUdRauuikCmysrDA6mqZtUqZTLGEkAmC8F2TNPpT4Xfc1TZkCy28QmiQjbe97W20tbU1H3/ooYfYs2cPZ86c4dy5c3R2djaf2717N29/+9v50pe+xPve9z7279/PQw89xLe+9a2XZRsbFuv3vOc9PProowB0dHQ0Lda//uu/zle/+lU++9nP8tnPfhYIU5s/9rGPvSzb81rA1iIjOIT0kITTyUhqqj5Mw12uLrG0vsTQyDA7BnfSptsxcbBL+shSp4oSHs3m8K/0fN8rQCCEplqpslaewvl5kOtICcKVELaLjO6imGsnmxM4WyWOK1gHSiQInyMT5bEmwfkYnQkEITGefKYLKRSWBCGreGKEiBAihKBJPBKBtSF3QngRKjrWYa1BCI8UIIRHRIFAGVyIwCcQiVCBMFRMBV3UnPqReynmLzI/Ocfo3BVsz0625QfAJJSrNQQClZFYHxPJKK02WYTYHJuvmmftXjaEoBZtAUTIDPHhbD/lhxjtqXqDV56cUsRxHWcTMsqjdZ2VtZvM3BwFu8bQ8BClUgHv61iZUM/Aqq9x8co1Zpbm2D7Yz32n7qWv1EkGibIWoQRCCgQb/dtQzNpU3UrREAYLGQjXplffBYTIe4dAedDOIVwgIl7YUE2SEiMFDklOF8iKHEklYXVljdVKlfZ8gpZJ+n0JO7SRStz8NS208JrGhz/8YT784Q/f8bmrV6/ecn+z9fmLX/wiv/Vbv0WtVuPUqVPkcrkXfG1HR8fzbNNzc3PN23eyVX/yk5/kk5/8ZPP+97JYd3V18a1vfYvz588zPj5OqVTi5MmT5PP5H+QQvC6xpciIFDKdrdYwv0qkkBibUK6VMc6gI42WOiSd4sMAvfRaNmsPcFuaBwDGWObm5hgbv0Bib2L9EtYlZFU/0vbSWRpk7+79ZPM56vEqYMlITT0pk8tohDRg62QihxAJiVvHWLA2ixMJi6s3KVdnKJXaaS92Yp1FyRzGJAgipNDhdhrM5ZzB2Do6nTCLN7g0p0QIEYot3mO9xeFRSuGsQ0iBzimOnjzC+s41FqbmOX3pNDs7VtjffxCZkbRl2/CJI6kmRCpCWAEGtFQQakip4Nbh0spHyDxxkP7XinQhFI3MjOAGyRC2S9kEb2qAIcoolqsLPHvuO0hT495DR+jsKOHjGgiDl561Spnz45e4MT9F39AA+/buo6+jAyp1BJ4o2ihhbv70xPMe2XoIx1KE4xrupAF0jbLGRpNMCEkkNbkoS1KPWVxYpB7X07Th2/NS0sreFt//FlrYCtg85+eVQMNi/UI4cuQIR44ceQW36NWLLUVGhGgMyQuQQiClol6ts15eJ7EJmWwGHWk8oU3S1HA0/1aLW86eN/8NF2m6axQpkIqlhRVWV5cY6G2nqy0il9c4VaVuY1B1hLdoDTIT4X2Vmq2itMDLmGqyilCOtqiI9xVi67g5c4WJm5cYGtrO0NBO2otdZJUldg5BhFZRcHwIQWzLOG9BOgwgnUKRQ4oM+ND+ETK4hay1hAqAxluHiiKstSit6OrtQkrFzalpvnH2GyxXVzi273hwlxiJVhFJ3ZLxmogsympApATEYUXI53DSI4VApTHzXggSJbHpID4vQsJq5Dz5jMKYhGp1lXw+QyarWC0v8OzFp5mameDE4f2UuttJ6jW0q5PYmMXlRW4sTGJMwql772Xnnp3ktQbj0CpCWId3PhCwVynEpkvzhk9FUCFAJ7TFPERa09lRQknJwuIilVoVREvC2kILLbw+saXICPggRoVQlpdhQa7V66yV10isIZPNEKVkBBpuGr8po6GhF5FseBpCu0ZK6O7qpNC+j3qSo5ZMUy6v0D/Qx57h/eSybeicxPkya5VZ5uamqMcJ3R0D9HRvJ4qyTM9Ps7A4gaOGwNNZ7GVb705WylWm50dZWJkEVcHLOr3dAzgnieuOSOepVGt0d/bQt62PxYU5FhfnSUwd7x093b30dQ2T150IqTHe4n0403beIqXGptbg8ByoSBPXYnzkOXbvcWROcXb8DFVV5fCOwwzkB8npAnbJIVBkVQYXp0dEpvZpaXHK4IRHO4W2Gu9Dy8GLxozgNCsDAUmCqdXQWcgrsPEqFZPw7HNPMjk7yoGj+9izfzdaC7wxLC0vMjp2hYqp0jG0jQcOHaW0rZNytYyphxZSpCOkD2LlVyC1/WVBg3vIIELaeHCDlYRbDnCeSCn6+vooldooV9ap1qo4fzfzc1tooYUW7h62FBlpujgQOO+a96v1KmvlNYxNiDIRKgq6hwYBET6km4a//ZvTTTdBeBJXR2Wgo9BOuVYIOgpvKeRzlEptodEj6iwsTzE2foHllXmSxDA1Pcn2wUWGd4ywuDLJ5OxVooxlcXEeITSHD9yLlHlqyRKWMus1x2o5R5QTTN2cY2W5TCHfTq0WMzKyC8MaV65eYWlpESGhVqvS3dGN3e3YMZAjnwstFmc9QspQuhce6wxaaYwzlGtlCrpApDNY7YgyEccfOo4rOebmZymuFsEKdhQyRNks9XJC5AwKnRaPNjt7bNCtEAbdeTwWgU0j7aUHLcB7h1ZhOrJLamTbJMtrq5y58BSTixPsObyTvYd3oRQsrcxTX15meW6aalJhYMcAe44fRBQy2CSmmMuR1OLUrOTCcDv16m5FNIofzfDVxvdQbDRaJKHCpKWkr7eXrq5OyrU61biCdSaIdFpooYUWXmfYUmQkGCI8SiqMdVhvsd5SqVVYL6+RmBid0cGB4kJbQXqB8CCRqQpCclvBPJyppkFqWiu0UsF2qQRSSaQQwXHiLdV6mfGbo0xO3WD79j7aSyXGRqe4OnqJQluW3v4Osm3DGLcOqsbs7AI3Z0fZt+sIXV1FltcdHV1tbB/qp1TqYmr6Jqvr8+iMZNvANnJFxej4ZcZvXqenp4vhoWEWFuaZmprh+o1rdBT7yWULgRB4ixYSmc63sc5Sj2MyKkOUzRCbBOc92fYs9ThGRHDkvqMszy0zc3mWeM4gejS9ahvFQjs1l6CdT4+Ux4kQtCV90DlIn9aTPGw2bnjRMEN7dE6TyUbU62tUTJWZ1UkWq7PsPryDPUd3IfOS+ZlpLnz3aQpCsn/fXnYeHKGjsw2V0STWIKRHOEkxl8fVEkwtIasjlG44oF69aIb8N3mIaLIT4T0KGQYJek+pvUixLc/S+hrVuIpx5lW+9y200EILLw5biowEhCF5iDCK3riEaq1CuRo0I1KClOBdKGkHC6RI01g3k5CN2S+NMjkEzYhLZa9Kabzz1JMY7z1aaSrVMvMLc6xX1qjUigglqNWr1GuecnWdKA+r5WVq9SWEcuhIsFZexroYqSS1ep1cIU9PTw9KRWGIm3Bs29bNgQMHWC+XGR1bQkeSwe2D7N69i7b2AovLyywszbO0ukRXVx/eW7y3wZUjJc57pJJ4QuKo1mEyrXUWpRTZbJaqqSK0oHf7NjIyx+LYMk9ee5L+XD9HR47jdRcqlmgbckwaK590gZwJH+zHCIf0Igy9Sx3ATjqQlqpKMK5CrKvMLo6xWJvh2IOH6OhpI/YVLp25xOL8HIWiZrC3jx17dhBpjbMxXjgiJYidI6nWkDpDJBQiyuCdxxqHUuKOha1XC8Tz2UgqFg7fP4VEeQHOEGmFUpJ6UqOWBDLSQgsttPB6xJYiI6kJgaYWJNWilqtlytUyOquQWobeelMQuBHcJcQmIuI3L2rhNUKKkHTpIdKZYMd1IIlQZLDek8QOZwV4Rb2ekMt5ujp7UCqPNY7r10ZZXp2iozNDLldAqTImdsTGYr1A6zxK5nBeYWJLXHdY4ykWSxQL7ayvV8FLlIqIdAakxFoPXpHJZEGAcTFShpwVTxD2itRNo9oKWOupx3UyOoh5rbNY71BKY63DOEupt4NirkilWub05adZF2vcs/8eCrk2dF3RpttRicLXCfHzXiIiReINSqZn79aBkBgcsTfURUwia8SqzJnLT1OuzHDixD46uossLc6wtLrI4tIspY427j9xglIuj7RBBGyEAG/S/BjI6QjhwuIthcQ5A/JVzEKAZsiIZ5OGOjRnBA6cS6sjoR2mZajI1U0tVEa8wW/KbvVpy0zgQ/unlTPSQgstvEax5chII8myaYqRUIkr1OIauXwuzc6woa1iXLP9kv7Iph/ceKR57UnttgIpNEniSGIbKgJe4R0U8510dfZRq6+Sz3XQ3TWA7M6Ry7SxurZOeW0aJXN0dvQSRZpZsY41oESeQq6LQq6LlaUas9MrlEodSFEAn8VaCWjaip10lHpZWakyN7eKVrPMzMyTxDC4vZ+Ozg4QBDeMC7kkUoa0CesdUmiUVsGB4kldRWH3pFNgQ/UncQnZUoajbzpCRa9zc2mcaEkx2LadvmIfykty5NE2Q4YIU7PUvcFlgoYkKzQYi0scKitwok6sDeu6wpnR0zw78Sx7d/dDp2JyaZKl2Sly2Qwn33Ccbd3dlPL5UFmxIsS1S99MJ41EI/elYX8VqChKP/lXq4izQRpCFS6k0oZHBR6ERLiQZis9RFKS0aHlGJs667UydRvj0p+4k5XX39Y+a6GFFlp4rWBLkREBNCZ0eBFyL4yzGGuw2GD7VOBIWxiosHAjkKGEQCOh5NZ3DdfOeSQaLTLUvSQT5cnn2nEoHAqtsrQVu+nfNky5vMzy4iorS9fJZdrZMbSHfK6T9mIvi8sxczNrRJHC1DVZXcS7PKW2AoXsHLNT80RynpGRIpFqI6tLOBPhbUQx18XgwC5qFcfqUpnV5et45+nuGqC/f4i2tnYiHeE9ON9Y0MJkYiEkYlN0RSOnPWSASFxiyYgMUiu88hgZ4zOO/ffsYXlxhbnJGSbHJtjVtYddpT30qQHaowhrLEiBDZGqxEmdCIfWnjipBRKUBZupc3b0NI+f+W+yJUV+oI1zoxfwqyvs6e9neHA7naVOtBQ4G1JlNUH8KoQMYpTNXMO/0LL76sPmpiD45uQB0WDWNIY5ShygAK0kSgmMS1irrlGt1+C1OQ2+hRZaaOF7YkuRkQ1tRyhJeyCxhrqJMc4itAhj43FY79AEIhIWNblJM7L5/dJVAYEQ/z977x4jyVWecf/ec05V9WXut93Z+y5e29hr4wA2hBDFST4h54IUFARBODjmIkUoUUSIgiyIgiAoBiJFATlSLMAGDAYJiARfnHxRLjaCBIJDbIzXeG2v9zJ7v87Opbur6pz3++NU98zsLgZ8YWe9/Vjtmenuqa6q7p3z1Ps+z/MarBhELNamrF+3iXptkInxdRgyNDgyN8C6yS2kTjgzf4pWq4X6hHo6wujgOKmpMzQwiEkKsjRhfNgj2mBscJp6rYbZnnJ05AjNgQGGG2sw000a6RhjQ2uw2sAlKdOTGZkd4MTJk7TbHer1BhPjE4wOj5GkGUgkTlH+GIPPjUTXkOiyxXtFQmBc7CyGosyhyhBZ9AvUhusMJYrUDfvLAzy460HmJhZ4+aYaBkdNUpI0i7HzpgBbUuKxFqwtKG2OJoEn9u/km9/9V451TjJWH+bQ0RlGnGHT5ASXX7adwayBeo8WHu9LjCpibayAhO6MH1mabHu+t/+ixpI6BOh99Hq1Dql0TgGMFRJrcc5Qasnc4hlanUUudgFvH3300cezweoiI8syzOiRkYJO0aHUEpOYynER0Gqo2FItZDkROXtV6xIWCyKUXhFxrF+7mbUTm8iSaURTylwRI6SuztqpjaxftwFU8KXD2SaOhIHGEGPjI7ikJEsSvBeKIsFoncQ6tm4cYuP6lwBRlzIxqqxf28G5BGcsvgyktsn01CATI+spvSdJHNa4KHYlWmijo8VgjUV68fb02hrdo4yUJbY3XJogqvhOEacAWyGUgUVtIZlhdHKc8cEp9tb3sXhokccP/ojLxreztrmGsgjgLLl2sC7EQXi+QymLmLrwo707+f/u/yf2HH6K0XVjrBlqsHZ4gOu2X8H04DBZoYROWUWgQ2ISrMSsVw0hzpfRmMOxnIwo0T581rt1cULje9HtEioxcyS20+Lj+NhaNKZbGYkaqMVOi07R6VORPvro45LE6iIjCKpxamwkI0pZFuRFjveexDqsjY6PoEsVlG5+Q3cebXdbZ1dJloiOQcSRJgPYLEF9g1AmOGPiawaBqq1gxWFMBsFRBDCSUksGMTYHFaxYMBm+SChVcUlKYtI41yAIqXWkjQYhBEIIqPcEhDTJSLJ6T+2SFx28lliRKirFVHblyNDUd49VznOEcVn35GA8pqaVM0PIkhodn2NNQmbq4IQdL7uWcmPJvkf38/2nvs/aoWm2rN3CUDJEKGMLLE8ghJzCt9i3fzf/cv//yxNP/oD1W9fxi696OdfuuIq1YxNkGFgsMeJwSBSlmliBQgLBFzFDBKGXB9bNBJOl96tnPrlomcjyul5Er1InoTpuRYMCHqMGa8DaGAFf+BIf/AXZ7z6eOwYHB3nb2952oXfjokIIgT/4gz84ZwbMpYgsy3oD9y5VrCoyIt0/513ngELpi7hQh5KaTTE22lx1RQR8/O2fdE0dNReCMQmQ4ikrggCpybBYPB5nGrFVop1qPpsFtVhjcS5FJKHURbwveuQEmxGDyTqUZR4n8hobKzcqoDEB1kq172qqbcd9ciZDxMQQssqCjBq0O9AEei2buOIFludqgdLxi2DAJgllUaClYG1KTeoYTUhDjaIoKLxnaHSYK17W4EcPP86h0wcwC7DeradpmzgHLVMQbIe58gwPfP9+Dp+e4Zdecx2vfMV1XH3llTSzOplJyefbaKFYJxDipFrF421ARAkhEhHnHCYolP5st3W19xdxReQ86HEuoarK6VJXrUfGIkFTCZUOqv9H+WLFwsJCbzprHz8dbr31Vu6+++7+5x74+7//+wu9Cxccq4qMRHTtjJGaBB/wZfxDbazBGBv5Si/qkrMSupZvqlszAaothhCqUSEWj0HUxMG+RikpKH2OSwLWWggORLCSQkgovRI8cWElISAYSTEkqFiC92gAaxzOuipZVLEmBrFpiNkmAN5rz4ocncoWY8BT9PYXpWfpdMbFmTG6XBmzlF+hKGoCpSnJQ4GIQ9SQt3NSWyeVFEqDJVZt8lCQDqbs+MUdHDt8hBOHTjIzO8O6oWmGGgMUdDh66gAPP/pdZouT/Or/80v80itfzmizQaKWtBOgWKSmBptmlHmBBiJZDD4SPyvRCdQVri5/P3rqziUaor3+zco/Tr2qyYq7ZUkkurSFn+Fz9tPNgXlGgqTLCMeK/Tj7FyPzEokTiY1U76EqMYLWx1tV21vOWZYVkl5UZO3FhhCi662Pnx6hyorqn7e+bR9WGRlRfJzDAgguXmX7EC28nlja1qp9IQLGoMYQRPGiKIboU+h+uE3UifRyRjwaPIGAiMNRj0JZC8pCpdEIRH4iRIms9GSJMSyt2+pJEZOgklACQT0h5BgCzppILEL36rcS2KpS/fuLJXyN7aBQ2ZM1sERQNNpErQjGdJfa+F9QRXrzT6rno4hJ4vGEgJE4DFAlDtnDGIqiiLbgNCEItEMBKCMbJ5BGwoFdB1icbbMmG8WHeR56/NucOLmP1772F/iFq65iOGuSFELNZrggtMt5xHoMBYlTEpMiAVQMGKlEyLHaQwjo0u72ILJErrpn2IpEAiMS5/BUWSR4D2XMPpEkIYigRhAfKzIQIhEikiKprEcaqlvljRVjK8FzFD2LSFUJi600Iya2A4PHl/EcWdN9T+J++xBADcYlWGcrOYgnflDjMMRY3VNMtf8x9VbjzCVRhIAVRcoC7bTB+2Vtyu556b7Pz9M/sj4uOSwuLgLQaDQu8J700cePxyojIwGliFkNUpl8Q7xJAAmRXBiJt0hIpIoqj8PgjEYyEqsrBtTRveIU47HGVzWSFMRRqQ5B20BXryEELFR5GAEBE90qKhIXC+KCq13iYxSb2BgWRlz4pEqF9QEgTiBGTFXdiMREe06fauHCRblKCPExExfKwhe958bfj0m1YiKpUe2+jsEZgxGLqqGWxepPQJEkHlMZQtTDuIRQKt4ozclRZp94iu8++r+kj3lCcRo6s/zSK67llb9wNQOmRloaHAlSxPZRmqSotEHamCRA8CA1jLHx+l5DVbiSniVZz1lU46JrRPGEmKsSFPEKTih9QQiKcy6e2+AJvsCHkjJxSJaSWIuUVT/LgoYQyYJUpw/p1ZCikDREwiQGMZUGKShe43stqgQf0OBBA1aqSlyIpSo1FrUODeDLkiIEnHMENE5iDtVnrxLrLlnVY/VHq1ReJJAYwfgSzTtoKHuEs1sf6VZeXhwG6EsTv/u7v9urAkAkBTt27ODd7343w8PDL+hrHzhwgG3btnHHHXfwzne+8wV9recTs7OzfOpTn2L//v1cd911/P7v/36sVvfxosWqIiPdjktcQCDaVSVWQro1ea3+MC+vIFQOhvj7XbUny8r9suxPe7dVkCxZHCoXxJLNo2sJjq+jvYWgWhLUVts31Va7S4VF1bFUaO++YnU0uuT7QaKjIqj2Fk8xgrEWY6J9Wb3iNT4nVPstEue3xIm6lt6ZUkWCqzJXolZFq5kzhEiagocQoNMpaLU65O2C+bl58rygLAL79h9lfrFg9uQhTh/dx8uvvox167YimhG8BRwaTDVNuKoyEF8jVGTALruqP+8bfN67Y1XDGCF4JRRFtGwHwYpSaklZeqxJMM5Urx3wWqCl4lwNoSIgzsbMlKJEg4+ziJytdDrdd8pUb30kHUGlSvWNVRMNnnanhRCoZwlOhFDGdNRIgGNp2Wvobbf0MYjP2C4poddSC9XnzNhYNfIaKFUIGDAWERffy2UR8n28ePD1r3+dsixxzqGqeB+Fyp///Od56KGHSNP0BXvtT33qU7znPe+5qIhIWZa89rWvZd26ddxwww18+MMf5oEHHuCuu+660LvWxwuIVUVGoBJpiiwJ/6SaVbOMeMQrzooI9K6244ImFEv9t3P69tV2sD0e0n1EUUQDgq8WxyVl5ZJtWHqEonep21NvgKglqOttVKoX6VUDtNJOVIP5jImx4FRD+oqQU3gfG0sa209U5CJWZUxvwRKN1Q9CrLTgFRcslgTB4H2gyHNai23arQ5F7snbOcFDWZTkuceXgfZiJ07hDcr06Ga2T7+Usj3P0YNPM3t8hlPHA3bdGEXeiQZjAUKJRbECliQu6lrG1tpz6H3GdlRFtkIgFAGTWawY1JeICqEoEZE4rVgCpRaEQlGNJCkUiphI6MQ4rDUVYSoJVby9TSLp8z7+4VOkarUoxhiMc4iWVcUGQiirkD3oljpCXlIWJS7NqDUb5EVJ8GWVllu1qmRJp+S9j6RWhFKVUqFE8JIQbIqaFJX+ld+LGUUR9WCPPPIIN910E4899hj3338/r3vd6wBotVrs3LmTEAJXX331OW2V48eP8+ijjzI9Pc3ll1++4rE9e/awe/duJicn2bFjByJCWZa88Y1vpNlsrnjuE088wb59+xgbG+NlL3vZqtNsPPDAAxRFwX333Ye1lptuuolf/dVf5c477yRJkgu9e328QFh9ZESWi07BmOhiEZGqdVERhZ74IPbxYzk7TqFdKSVcLm+UZT8vPd6tmpguETnLqLNc6Hg+oWSXjiiCLquk9Co1VUknakd0aZ97w/7iNq1YRGyPhBni1bUGC+Iw6qLWIRCv5osYjlaWHl8o+XybYmGRsgzkeUHeySnyAoIgYvGlxjh5Sam7hHqziR1yZFmNxDpCUUIZqKeOK9a/lIce/Db79yxw2YbA+NAAXnOc9Xg8hHiurAqGLIbGVefu2V7ZRwFwSdleZP70LK2iTW18iPrwAKIlEJg7fZL2/BymWccMNkgGmpw4dpqFU/NMTG1gYHgc77WntdEQpx1HYiF4X1JqwLqAsY7ERq1HT0xa6TtSR5xmHArKIu9SJE6dOs1Cq8XwyCjNwUEwSlm0KjJaUuZEHYt1iHEV8azIsxiCgMcS1SVCEIeaFGwKxp31yerjxYhrrrmG17zmNXzlK1/h6NGjAHzjG9/g7W9/O8ePHwdgdHSUO++8kze+8Y0A3H777XzgAx/oVVXe8pa38IUvfAER4R3veAef+cxnetu/7rrr+Jd/+RfKsmTHjh3ceOON/Od//ifee9785jfz1a9+tffcK6+8kvvvv581a9b8vA7/J2JycpK//Mu/7LVl1q9f/4JWj/pYHVh1ZKTnJKi+McZira2G3C0JCLuiw0hEui2WKOzsBoN1r0S7Lo5KxnrWrRIxEqpOfXeM/U9aUfWs50nPotl9ldhZ6r7q0quD9nInoNr1qu0TfKVbkFj5EARCDD7rtEo67Q6hVIoiUBaBvB3vK9oFUjqMTwgleB8QtSSuTr3WpF5vxGwTm/YEndY4yjIgeaweOB8wPhByJU3r7Ljilzl86Gl27TrKSy9fz8RInWDaWFNA6dFSCd4g6hAsIgE1XUL4LBA8WnaYO30NEvI7AAAgAElEQVSCg0/tZnbhDGPrJtl42WYa9Rrt+QUOPf0EJ08cJx0eYGrrJkZrUxzev4u9j+/h6pe9ikZjIB67szFILvhYVbHC/Nwsc2dOU8tqNAcHyep1BBOrUxrdP/gSn5exSlMJXYwNiAbyVosD+59iZuYAW7ddxvYrX4qzEMq8l+5rRKKwNpSE4KHSpsRblzRXomuEoBbFYWyKMe6n+Nz1cbHiwIEDqCoPPfQQ//7v/w7AVVddxeHDh3nrW9+KiPD5z38eay3vfve7ueWWW3j1q1/NzMwMt912G7/yK7/CRz7yET796U9z11138cpXvpIbbriBz3zmM9x444381V/9FV//+tf52Mc+xu23386f/dmfrXj9++67j69+9au87nWv48///M+59957+fSnP80999zDe9/73gtxSs6La6+9lmuvvZYjR47wuc99ji996Uv8xV/8Rb8q8iLHqiIjvTaMaq8dYozBWoc1lTS0smTIUsxl70vvz/jZEZ9A7I90NR6BpepK/E2tRKexuvHj9/HcykjVJxJFJV/Sl+hymkK05YaoAbGYOKfExNVJg1YylwQJlqJTUBYe9T62VzolZa605ju0WwWiFisJThLAoj7DFCk112SgNkiW1kmTtGrjRBtxCAq54Gwas0s0WpRt0Ej4qqm6VqJ4tjPXoVlby/RUxsHDj/PUniO4yycZanhqNrpACBrbIj4OHhS7ZE/9WVGpWkALWmdOcvzQfuZac5S6wOhYjcF1azl5dIbTh/dyZnYW5hOGJxukOsRwXdiwdpiRhsX4FgkW4wsUidkuRtHgOXF4D4cOzjAxMUFi11FLR6KINUR3lQSDlgVU2p3QyQElqdcoOjmiOcODGcXEEEPDGWgL7bQxzmKMixOfMbgkRazDq6HUED/LJg5jRKPTKmpiFB8iXbXWrbpyeR/PLzZs2LDi5ze96U28/OUv56677mJubo53vetd3HzzzQB8+9vf5o477uC+++5j165dANx0000AvP71r+euu+7iS1/6Eq95zWsAePzxx/nXf/1XXv/61/OOd7yDoaGhXhWli1e/+tU89NBDJEnC/v37OXjwIECvGrPa0Gq1ePjhh5mZmaHT6Vzo3enjBcbqIiPQE112Gx1dm2XvqvFsASvRddIbSLaMSciy7Ua5QzirOrIS3drIjxVarnhoacHtaQkIiPjq9SqxqprKBdT9WaIbSC1aKnle0ml16HRK5ucD83MF7U4JKiQuQ9RS5gFfRH1GzTRJbEbN1amlDRKXYbCxDVDG17MkGL8k+rUKYFAF4y3qYzvFBIuWVT6CgPi4l04M4lJ8UZBmY4yNbWTXUw/SLo5z3TXrkZrHGcU4hQLwS1qPZw0Fg0fLNr51BskXaDqlWDzN4uwxmBhg4dQRnG/RcCWzi3OIX0T8IjXp0JAcExZITE67lXPkyCHOzJ6kVk8ZGhrAoJw89CRHZvZx5sR+yvYJtrzkJTQHBlmYO8OxY8fI2wWNWoOJtWtJ63WOHpihvbjA4OgICwsLpEmCCQVO26SSY6VDyAsWZxc5eeIUZ2YXSLMGY5NrGBmfIKk3MWKiWDV4VKNY1YrFiSDqwccIfWukyqPp48WKbqUiTVOuu+66Xgtm//79AFx//fW9595www3ccccd7N27l3379gFw2223rdjek08+yate9Sre8573cPfdd/OhD32ID33oQ2zatIm77rqLK6644px9+JM/+RMeeOABxsfH2bhx4wtynM8XtmzZwj333MPhw4fZsGEDb3rTm7jyyisv9G718QJhVZGRbhaHqvSscM4lOJdgjInaCB9iTlSXNFRMQyQuvuql5zjpNV+kW20JlSO3S2SWSidRWyqESpjazaUwJlpyjSyNQIuCyCX7rqn0Hd3naKWqFSwGF4lHMPhOoGh5Ou02nVZOZ7Gg6JR4r2gwLM6XtOY9gqNWq5E2h2jWBkgGaliTIsEiwWJIcCRRrFpG4SYh7pcxkfBoGSsuXYWvVO0qg11yJamNol0vMQtDDaLx6j5NM/JQUIQWQ8MTNAbGeGzXowwOBa65YppOKLHGEkzMWEmsYO1zWUw1ViV8joQOjoLBgTqLoU1n7hTFwjCLs8dIpGAgg9n5SEaK9mlOHdnHvif24JKUweFh9u+fYf+ep/Flh+HhAZwfJ00sZes4vnWcduFYPG3Iz9QpFxz7Z2Y4dfo0eEHU0p49ytrpaU7M7GHfvr0MDAxS+JLJqSnyPGf37t0kpmRsqMbs7Cx7d+/m6JGjhGBxrs7Rg/vZuG0b67dsI6k3oQiIcbgkxQNaFkhiEPVomZMI1J0jqcSv3X8NSy6sfvPmxYCPf/zj572/SwoefPBB3vWudwHwP//zP0CspszNzfXu6xKWbtVjYWGB97///XzkIx/hW9/6Fl/84he5++67ue222/ja17624nU++clP8sADD/DhD3+Y97///dx555384R/+4fN/oM8Rn/jEJyiKotc6Wrt2LRs2bGDXrl19MvIixqq6FIuBXQDaIyPWOpIkBksVeUFRlJU9rqpjRHNNRUAsGixGEyQ4RB1xtRQsFoKiZUkoC8q8jc9b+LINIY9X5SHgVWI5HYvgQB3BQ7tVkOehKrUnPdEmmqDBEXyC+Awpa5SLlsVTntOHWxzZN8f+p06y9/Hj7H38JPuemGXmqQUOPd3h5EFonWpCe5KarmPD6EvZsfV6dmx5Bdund7BuaCsjbg1NHaVWDlEvh2mEEep+mLQYxOUNXKdB0mmQFA1smcYMkEJilSQYRC0GiwmxGiOBavqvQQJYtZGEBMFotFEbDGWuhBAnHAd1vOSyKxkemeTJ3fs4faZNqZZW4SFNILUE42O42bOtjghEe69GEWtnkWYtYWSwQdlZYPbEUYrWHLXMUMsclG18ewEp22jRwkmJ0zaduWOcOLKX1sIxxkYy1k+PMLV2mPHxBpktyFzBpvWjbN08RS31HD34BMcPPcVo07J9yzSZFOx78jFOH9mP8W18ZxHxHdZOjDIxOoiTmFVjtKA9e5y9u37I/qcfZ3gw4+qrL2fN5AgLp49xcO9TnD5xGJ8vYrQgMSFm/oYC0RKHx4QSioKatQzUaqTO9txIUhHs5enC/ZDGFyduuukmBgYG+PKXv8wXv/hF7r33Xr7whS9Qr9f5zd/8TX77t38bgL/+67/mhz/8IX/zN3+Dc45bbrmFT3ziE0xMTPDud7+boaEhbrzxRkTkvILPLqnZu3cvX/va1/i7v/s7gFUXxz41NcWdd97JwsICAN/5znc4cOAAL3vZyy7wnvXxQmJVVUZgSZhqJM5hEZFq4q3DF76ySFYKkZ611sSGTZAq9Mz1HCrQXXwFi6vyHwJWo81XwpLbxZBgJe3NgzFiYqx7CISQo0FQEsQ4jEbrXLvdptVuk3dyNFdC4SnaUesRyig+JTjwDkKClRoN16Q2MEDmmjibAVHbYYLH5dpbiIRIKGIkbJdYuFgh0aW2T/d0dJ96btC59NpYS1N/4/dLYVpxJs7yBa+3LIoBSbhs+w4OHniEx3cdoHHVSxhMa3QQarUUKbWXfvrc1kwlzzu0O22SNCWtG46eOsrMTI4vS5qjY7Tarai0l25FjBhQJkpScwwMZpw6WXLq1BGMdMgyGBoZJK1ZnPHUUmFwsI4POfOzJyk68+StGmdOWdoLcxStBdqLCxSdFqKeqclxLrsiWimPHTuCLwvKskORtynyNs7C1NQ4mzdvoJYc5/SJk3QW52nNz8LkFEkto/RR+2OyGrVaRksUzQvwJYkRGrWMNEn6FZBLENPT03zuc5/jHe94R29Y2vDwMHfffTebN29m8+bNvO997+NjH/sY//iP/wjAjTfeyCc/+UkgOnHuvvvu3mycNWvWnLcKc8stt/DpT3+aT33qU3z2s5/l1ltv5bHHHuM73/nOz+dAf0q8+c1v5p/+6Z/Ytm0b27ZtY+fOnXz84x9n8+bNF3rX+ngBsSrJiBEhGIOIxwQTradJim8HyjJOo+1GrHctsyqGmLPtUFzPQhsL3wENGq/8xdFVcPass2WIP0kGpHHKe9DogAguVhNyQ7vVYa6zSJkXdFod2u0ORadAgyJicT7D+AS0hhFHzdXIkiZZvUli64gm4B1GU6i+p6iyQzRgxeOku6BXRKEX3RmZhqjBqFkSyC7jHaJVm+lsQqHRWSS6PMDtvGc/BnZJJcKRKuRLLJCRJcOsn76Cwwce50dPHGbH5VvxBHCeWmIxpWLDM2z+JyAeikGNI5gEU2tgGwlnZvZy8vRp1gwMUh8YZqFdkJdQliCSgM3wweIR0nqNNevWggROHjvKzIEDlHmbK6+6nLSWoSKU3scguQClD9VN6XRyBpoDTE6uZWJyir379tPuFNF2axN8WYJYggpiE7JGk3qjibGnKIoSn+cUnQ6tTpu02aRWr2MTR+E9vtSYIyLxM+59SaeTU+TRNjzQaJJl2bM/eX2sWnTzRZ4Jb3jDG3jd617HD37wA1SVa665hsHBwd7jt99+O3/8x3/Mzp07WbduHVdffXXvsf/+7/9m586d7N+/n6GhIa677jrq9Tqwsupx3XXX8dRTT/GDH/yAHTt2sGbNGv7hH/7heTzS5wddV9HevXt58sknufrqq1m7du2F3q0+XmCsPjJiYkXEdK96jaFeq5PVavjTnrL01RX88g5TXL6tdThJCWXAlzG0KnEJ1lg0BNSHKssiDsJz1lULvoJY2h0oKq1Fp53TabUpOgV5XpK388rhAuoheEU0IbF1srRGLW1Qd8Ok0qyIgxCH3thofS1cVSWpgspCjK031bEaA0YDomXPbNxjFVX1Q7tfe8korCAeQaiSWZdcQr3Tc5ZbWbS32eopUm0jjrTXKq5cpHIhaUbwTRqZY82E8OSTP6A973nFdVdSy1LaZRunJbWfQHeeES6lKFNa3pBLQqgNMjgxgtm/j7n5I2xcN8Hg5AaOz3UItkEZEoJmqG1SkJJ7S6cEdXWGJ9aCcSx2CuY7gcWWxwdLoQmn53KOnZhnaHiYrDmGmy/ImqNMja/FkmBdSq3exKYn8SYlF4cmDYrQoZAEkjrq6qjNUFejUMvJ0wscPHSMEydP49UwMDRKfWAYxVCUAVs5nApVisJTCniFoox6kq71uo9LF81mk1/8xV/8sY+vX7+e9evXn/exq666iquuuuonvsbk5CS//uu//qz38eeJblWoj0sDq4qMRNfushUSRcRQr9ep1+toN3abrgh1JcoyhmapVyDmdFjJkCDkrZzE1EiNi/NPvINCaLXaLC606HRaHDt+koVWTq1WxxpH8AqearJvRs0mpK5GltVIXRYn6XbbRGoRn2FChjFJHOxWzSfRqrrhS0W9VnN1lvQBqiGuTHSrELokEOgGunWFuMuyS5bOGj1LcujmqkhXRBsRR98sE0WuLKD0KISK9IgIElsfkbAlWIYQXzDYzGg2TvPDR3fSHBjgmmu34kSxzqClf1ayEcUQxNEqhY6k2OYYpj5MfXiK4TWbWCyE+ug0JhtBbRNTG6VVJsy2oDRNNBlG0yHamnDw2BmOHjlEe3EB55qMTE6SDU8zlg0zcbrDieMn2L3nKNuvHGds7Us4vQin5gILi8dIxDExOcVoNgjpAKQDtEuDuiYhJORSQ9MBvKlh6sNMbtjKXLvk9OwZ5p/Yg3qhOTLBxNqNZM0RcDUwEJIMtQl5WdIpFdOog2lTquDSGkla7+eM9NFHH5csVhUZ6UG7i7QiQkVGGoBU4+mriPhQlSE1fs3LnETBmQQrDrzg80CZB+bn2mjeoWh75udalHlAgiGUoD4GgJ05XZAXJbXRlObgEFm9RmLTuK2uZkOiOwYvaE4ciiYWI0msgEiCrTQrqqGafRItxamxGGtQjdOJY64JVRWoajuprVJcKwJRtZs02mV61ZAlJ9BSbUNxVbupqo4sW9eWp8J2sdKqHBNCwrKfYvyaRrGruqqOA2Xp2LjxGsqy5H++v5PStrnu6q2oOVet8tND8CZBagNMb7mcsZEpxqfWkA0Msnbz5QyOrWFidAJNagxNbGSTZDQnRrHNcSY2ZKTJKENTk5AOMTi+nkIzirzNyNAAayYmaA4NMKDK5WaQwwcPgQj1sY00BgYhHWV+dpb2wgLOJjSn1pE0moyHhJfWhxmZnCKkTaytMb3lctLBMSbWrSEZHGO8NkBSH+Lk8eO0FzqkaYOR8UkGR0chqVHgkDRBxVGqwUusYDlXY66VM7fQIakNkGQNEPMczl8fffTRx8WLVUdGuoPXNNCrBCRpSpqlcWJuAMQhJICrsswCBAi5p1OUzLUWmT+zyOypOfCGzNaRkKKFoTUXLbVOMpr1IepZk1pWp1lvsnbkJYiEaFkNipaKKV2PjAQfrbHOJDHky1RW5BBtyVSEwmhs/XgPEgJGNJInLVANPSJRjdypdDKW4OMgui5FiMSjIiJdkUhFRFTOJiOG5WFxK6Ddc3veu3vfe6qhbhWPMT1dSmw1qVp8UIwdIE0MW7ftYHbxKN/7/mM0Gwk7Nk6TiolD51a8p0uvImc/UrErFcHahLRuWbOxRrLOx0NKhdE1GxkeX0vDpZgS1mwZYnzzSygtmCxjbNiwYf3lFEYoDKwbmmLDpssxKM5GC20oclSV0akGI2u2VgPvLGId67eOU+YdxJfRnmwtvvRMDYwztcWhxoKxWIH1m4dYs2EzaZYSQokkCVMbRhgdnybkHmtrkGYEaygRglSuLHGx+WYtQqBdlswcPsKh4yfIRoaoNQYxNqlmLkUhsUAvv++cPlsfffTRx4sIq4qMKHExDEEx2p2tKzTrGc2hBi5L2HfoCHv3H2Hb+Bi2o5w5vcB8cYbS5PhFRdqOou1pLbRpLZY4k2LrKfVsgGZtiInxGjJqyZI6aVKPw+3KSChMkGoBFkyItmEjrqpYxByOXsCYSm96rfRyPOJBhF5lxyC4qpFjCOpjZacakherJzGaPfTcLvFrT+dRSXB7GScrFqezyYhZ9vhKnG8Zk7O+N9X24jaWjjsukJYQwJruMy1pNsRLr7yBJ3b/H7t2nWDt4ATJUIaTmO6qPo4JNtVvGKqsl+oVhaibgcodFASjHrFRt+F9CQqZa+KlQHzMTTFpRmoN+IKyVNQkSOpIE4dDe79nJTalVD3iUkQVEY8kCSD4TgctgawGzqGm7GXSWJeCS6LgtShiUJ2Jwmjr0qpNaGNXzdiKOCvgCN4QbIoksZpEUMRXlSYLmhrm/SIHjs1wav4Um6enaNSapCYlISUh/p5gWGqs9dFHH328eLGqyAh0R95H54sTSDEM1OoMjwzRHBrisSd209TvMbc5YZARQu4ppQMuYPOUrGwymDSYHKqTTdRiiikOqaK4pbrKRw3kprL8xoXc9B5f3t9YlvPQ1WAsU45K9b8VHKBLLDA9y0usnsSrazRqUbq/v+wV6E0WXrHBipDoWb+znHkss+z+9Gd76dmKxuCz6vXoEhJdErcaEx023Th9Y2oMD63j8pckHDuyhz0zc9S2pYwONkCgLFtYI6SJxRc5oSywspRGG29VposIlCVO6ImTrXVxv7AkNsFYXXGikyQh6RE4oIxtPYdbfmBLYmeJBqkuXOZ65y5xFkirX1gp601T291UnFxccUAnKYJCAalrVNUvoTQWbww+xG0kQUlCIGhBoZ5QSyjKBU7PnyRIYGh4iIF6g4yUjCTuf5fgdg+jO8eoHzbSRx99vAixqshIJAYxhMtUOR8GSyIpA+kQ9WSA44unmD2+yJlGi0ZznLHBCbKmRY3HlTUy38SqizoMYj4H3a8a59tEYlIt/NoVoMaMkjj07cL/wV9JUM7VewDPSij6419PEZaqFpFhraQrkQBVREkheEFMQpoMMzQ0zbET+2nWzpBuqVNLFeMsQTuUBJCyqo5E/QlVvSQyhFBtv5qeK0t7dU5lQM7z7fnu+9kOHrrzinpff8zTnuneroOq8kMpVatLQVSxKF5iQ6yTt2jnLbJ6xvjoGAP1gTi1WWNFJG55KfW3jz766OPFjNVHRoLg1CAerDgsCZk0GGtMUg9N0nKRzVNbueaK6xhiFCkMXnOKvEMmdVLTiOJSH6rlM6aIGqJTQavY9F74V7dHr+dZ+C5JLFUFVqIS1SqxRYUhhIARQ+JqDA1OIGWHnY/u4tSJ07zi5dsZHnR0Fk9T5B3qSYZJUtQ7VNOq9aPRsUNJtC11X/cifReq8lUvlK/XaosVpaABX0UG53kUSw8NDLFmcg3NenNFFa6PPvro41LCqoqDx8dI8i5ZEDU4TaiZBmsGppmoTVEr69S1QV0a0LGUCyDtjAEzRk2GEJ8gPoGQgq+CxUob01D98lZMdRWqfSKyEs9wJa4QQiRwggMc6mM8fpIMMDW1DTFj/N9DT/HYrj0stHPUKq4WK1dePYhFq9aMdofrSQHSIZKSi7QSIMu+yjJesayV5lWrUDk4s7DAwkKLRnOA0eFRakltWTpuH3300celhVVWGVmpYZAqK6QmdaYG1rJhbDN75DjlvKdseRJvSDTBlBXBqNwIIoLtlrgr+29QBTFVz/3sKPSzWxKXOrrC2JXnI7qoZVlGilRDC8EYg8exffsrUC343oM7Uea45up1pKkhFGVs8SC9r0IMV4vtmbKiIavqI/mzYXklhG5wXdeaDRgBa1gscg4cPszxEycZn97EQHOIzNZwYvufwD766OOSxCr7yx/79d0E0Cg2NKRSY6wxwZrBNaSaUiwWECDLajjJ8B3QHNTGq22pZtsYuiLA7uTebpvh/LTjIr0m/7khOoYUDd3ZOcQMFY3UsQyBLBvlqh2v4uEfnOH7Dz1BVhOuuGwdmUnBWILGpNkQFFNlmfSmHb4YluLeYeiK+2LIrwGnzLcW2HfwILNz82y9fJihxjCZSXHdicp99NFHH5cYVlWbJhaxPUE8pSnxJhBMTCwdSAeZHp9msDZAa3GBM/OnaectggFjEpyt46jFab3BgbfxFmLOgyWJQ+a0a801VZumEgz2KyM/EXGGYRSwhiA963I0YCeIJJTBgKmz/fKX0xzcwFNPn+TkrFLSwEuCl0CwBWpzghQxMwWDdh1OFzm6ipHuT3EAYSCIEgx4URbzNqfOnEGsY83kNCPNEay6JbdWH3300cclhlX1119EUeMJzqOp4m0gSKyWpDZlanyKNZOTHD95hCMnZihth9IUBAOFjwtkN33VEK28BImC1kA1vCW6OKSy83YHtKwQtV7S+MnHL70qRjyXRhyIRazFE/BYsto4W7e+gjTdwJNPnebEKU8RLAUeTUqC7RCkQ5CAV0sIKUpyUYs4Y0WPnnZ1yYFENHSJUhA4s7hIq9NhZGSMtWvWM1gfxpQGLbutnXPRt/T20UcfL2asLjJiIZiSYEo0CQTr8XgCisUwWGswNjrCydmjHDy5j8K16EiLXHI8Hh+0Ih0sDyyNqObDdIWx3QwJg1RTcC/1P/bLdTNLKbDLoVV+ijFxuF83w0PExGoJHozi1YAZpNncyODANubn6uzZe4bZeU+whkJzSmnjTUmpgdJbVOrEqcmr6iP5M0JWnMZYSVKkCkQLBjq+ZN+hAxw7dYrRsQnGRyfIbIbVaGmXStfUJR/d75ff10cfffTxYsOq+svf/eMdpMRTUFLiCdXyaBkdHGbD9BqGRuucWjzCbH6ckOZ0tEUQj1hZkUkKPMPPS8/tt+lhibotX/D0mW/LIzZQxESrbukDZekwMsLw8DaGR17C7BnDvpmTnJnPyX0AK3hRCgWxNUpN8cFydmD8RYWei+bcT1XFhWmXBXsPzHD89GlGxycYGRrFYHDGkbrsYj76Pvroo49njdVFRqBXpo7lfl95OgwJjrGBETZOr2NouM6Bo3s5dHIfhW1T0gETMFZ6f/TPDiTthaYuv+hf9tyqW9PH8pMmdBO7lpS/VWbGip8rCiEEVEN1dZ/ifYoxQwwMrCPNJtj52H52Pr6XUh1FiFN6TVpHbUZRQlme6+C5mKDL/gOt7Efx566ld25xgROzs2TNJtPrNzIyNIbTBBOqMYSXfIWujz76uBSxusiIGkzoxrF3o6MEq45EHQ1bZ3J4lOGBBidPH+HwiRm8aWMSjc6bavFU0RULg8qyW89qee7c24t4HXyeIOcWQGDpB6mICGffqrxRpRd7b2xCGaDdCRhbZ2RsPVljkkd3zvDY4weZb1mKkOLVUoSASRzGChcrJeyertD9XkGW9QyVQB4Kdu/bw8EjRxgeHWNiYpJa1oiJwV56IwL66KOPPi41rC4y4i2mdJhgMdgYDY/DqcMFi/EwUGuwZnKcJFHmFk5Rhg4uieFZQX1M9BQfhbDiUfGohN4NCUtDzZZXTy55IgLLRalLH43ly+wz3RQwqBq8j8P/RASvgaJUrGuyffsvUKuv5cH/3c3Bw4uUoY7HIYlDbQCrF3VhYClRZFm2iFJZn5VSPU/t3cPMoUMMj44yOjJOYpNqHtOq+qfYRx999PFzxerKGfGCeIs1AWuIMe7qcN5gg1AqDNUH2LxhIxNPjbIwP8vs7CkGa9OIBlTLGCzF8vC0peZPV4B5flzEq+ALCl32dblW5OwKhoLGhloIAV8WuCRFrKX0bUIeyNJBXvrSV7Pzh//Fk08eZ83EBmqDNRBPXrQJvoNzF+/7oFq1+yry0XXUdCtx8/PznDx1Cps4ptetY2J0EmfSal5Pv0VzMWNkZIQPfvCDF3o3LiokScKHPvSh3hDISxlnzpy50LtwwbG6yIiCdAmJlTi2XW2MiA/gjGNkcISN0xsYHx7jyLFTHDl4iKn1l5GZKpCrCjcDKnNDZdnVJbOliK5YYnvRmSrPsUjyTP+oftqtXqh/mGcLVzn/z6I/5jkQvGJMQpqA9wVKgXVSVUkMPiSk2RjbL7+eE8eeZteTB9l+2VqGBh0mVUypvRbHSndP9VrSa4Is22M5dxF/Vm/gc28RLemOFNudslcPfwUAACAASURBVEusyHlRdj29mwNHjzC1dh3rpjfQaDQhgDUuBsiFEC3pfVx0KIqCm2+++ULvxkWFj370o9x88819MgJ84xvfuNC7cMGxusiIASoS4qpgMkViRgMBtSWJCGtGJ5geWsuexx7hxIETFJMF1IQQFO/9UrNBpUoUsZiqhdC9Xu3FjgixfQMYVUxYEtH+bFimqzjnofNt78dlwF6of5hneY5WuEKWPaZSHeN5rL/V2TYWgkLQHIJBDBixqApFYRkamsZaw86d/83p+RNcf8MVjA0lJB78fAtVixGHLw3GJIiJ2xJKxBSxFaeBOHXZAsmywXuBZ3cO5ayvPxsUobRQEHBBSTQQig5IINQt81LyoyMz7J+d5YqXbWd6YhMZGTYYjErlGuu3ai5WLCwscNlll13o3bio0G632bZtW9+yDqRpeqF34YJjdZERq1U+g2DV9OaeBBNTOwttETRntDnM1smtPKy7mT1yhla7hR8oUR9n0JjqEtUQM0VslFQS1BBUCNC7oC6NVu16xfmAkWcbyf3jFsKzF++zbTtnVSTOR2Z+Ljjf655NjqpKxfn4FkTSgBJCCSaeD9WAENNaUYuQoQhZbYz6wARPPP0EgxMZL7t6C77MSa1FSgs5GMmADF/kqBiS1KDiESniue6m6WJQbIyWj+/us0SXxv7sUBG8AW8F0ykxZYmUOZoECpcyc/oEe8+comw0mJzezNqxDQzIAA0yRCEYRZI+Gemjjz4uTawuMtJza1R5E1plj1SLjKrHCDSzBhvXbmDD2nUcPX6Mo8cPMjK2BtEMZ9Kl9ah3YR/D0CRUbZgV+RhLpXV9Xhj62Yv3ee7vVh3OVzG5YLqB5e2QZX2un7JS0BVrxt81kZn0zm4kIiFALatjTMn8whmuvPIX2L0Xvv9/O0kTw46tG0iciRWuEMhSIYjHhxxjPOA5N0lmieQ9P8bgZ78Fg+CsxZqC4Etc6ggZdPA8ObOXPYcOMDI+yfrpTQxnQ9QkxQWwIkjiECN96dKLDH/6p3/K008/fd7Hms0m99xzz895jy4OqCpf/epX+e53v8vg4CA333wz27ZtO+d5X/7yl8myjN/5nd+5AHvZx/OJVUVGouPFs6TcqAiJCkYELQFjSF3G9LppNm/dyO6ZB9k9s4vpzVsYqk2CD5XwtZrKqwYNVRy8RoeH6BIhMaqxZynxYv6F75Isu3JfQX662ocLfXWsXdHGz4QlKlO1T7AshbxIbKeoVG4bIXWDOFewedNLOXnyCE/vPsq26U0kqUE0kDRqlGUBvk1SNxBKfNEiSaiqIQCuarsttxxfmNg0URAfcKWQGkcwhtIESieczhd4+uAMp2fnuPq6a9i6fjODWYOMysYugrGmd+b6fOTFg29+85s8/PDDAJRlCYC1cer18PDwhdy1VY1bb72Vb37zm7ztbW9j9+7dXHvttfzXf/0X1157be85O3fu5NZbb+W9731vn4y8CHChV74VCAS8eELXfks3b0uQYDDBYNUiCCMjI2zcvIH6YMLumR9x+OQ+1BZo9+pZJF6dVwEketZFf1z2NRb4tSIizwvOXkrODu5YfjvbHrsacLa996e7rdQ7RBIo6kAdaALqCN4QSiF4g2pKKFMSO8RLr7iBWjbFY7sOcmLOk0tCSCyuJgTTAtfB2AKhxKCV8yRuWzEEYekzcwFXcuMV6RTxrU0T2kZZFOXQmVn2HTlKktbZtnErG8bXUpcEh8WKRSQSkaCr5TPQx/OFBx98kKIoKIqCLVu2ALB3716KouD48eO95x0/fpwHHniAXbt29e7L85xHH32Uffv2oao89NBD572vi1arxf/+7//yve99j8XFxWfczmrG448/zj333MP999/PBz/4Qe6++25+7/d+j49//OO95+R5zs0338zU1NQF3NM+nk+sqspIEMVLAPWYYJZcMBpH1qcmw5tAETrUshrT69eybvNavv/oTp7a/xjrpzYxKAnaWyCr6kh1vdmVbsSai2I0ahqoMiHMc17LzhZBnr24/DhdBtU+dknKhbw2fm6sbGnPTRXlEokJGKxRisIjxuBcLeaR+IzhofWIWI4efoqiPMQV2zeQ1FOM5BhfEooFnDHYpOuMssSqiOn28VACcgFV+QIkGIqioAwBqVtyscxKwROHDzFz7Dhj41NsXbeF0dpwtKur4MQQRChDiHTO9N00lxpuv/12PvCBD+B9TL17y1vewhe+8AWefvppduzYwW/8xm+Q5zkPP/ww3/rWt86579ixY3zjG9/g7W9/e4/gjI6Ocuedd/LGN77xvNs5duzYhTzkZ8SZM2e4+eab2bRpU+++9evX88Mf/rD38/vf/35++Zd/maNHj16IXezjBcCqqoyoKEFCdM5IiBRBNbZpgiExGVYSJBissUxOjrNt+yZqA4Y9Mz/i6IkZlBylBAnVrJvugiW9toigCAEhRAeNEl00z3kt+3EkYln/R+iWe1beCGdZV3/et2UVGnk2N4+Ir46BqtWzvMoiWGvwIRphrIkVk+BTWouGWn2Skcmt7NpzlB89fYDT7Taz7XnUedQUKJ1KtErV8nFELm2IKbvLXvsCQDS6t2xQQvAUVsgzx77Zkzz01BPM5wWbN29j/eR6GiYjDSY6abBLeST9/swlh+985zvcdtttvPa1r+Vb3/oWt956K/feey9/+7d/23vOv/3bv3H48GFuvfXW8953+PBh3vrWt5LnOZ///Of54he/iKpyyy23MDMz84zbWY24/vrrufvuu3s/7927l89+9rO84Q1vAOA//uM/+Od//mc++tGPXqA97OOFwKqqjHRneEjVPomLY3WlqALBEHxc5IwYhocG2bRhmul14+zbf4AjR/eydeIyVByKq4oq0iMkXaEqUhGRZZUI7VVRXiCcs+ku8wn0yjUxS/18T/454LkKZroEr4uuimTpHJc+IEYQI5SlRmdTMFhXx5iM5pChObqeH/xoF2LbXHPFJA0HmXNoJ8f7EiGtWkK2+qSEntZIe5qbC7Oqi/dYwFtLR2Aezw/3Ps3DTzxBfXCE7duuYGJonJSEtLIjS/c8GTCyqq4N+vg54Ctf+QoAN910EwCvf/3rueuuu/jSl77Eb/3WbwExUO3hhx/GWsvjjz9+zn133XUXc3NzvOtd7+plnXz729/mjjvu4L777uNXfuVXzvmdiwGqymc/+1ne97738Ud/9EfcfPPNnDp1ine+85185StfoVarXehd7ON5xKoiIz3tQVfY2XXXdAWLGjNDnDisBBq2xvo1a3nJ1k0cODDDseMz5H6exGV4n2NIUfWIDyTiop9dfY+MdM0fsUHSi9B6HnB+76uiWBN1LEVRoBpwzhJCrOIkiaHIS7z3WGvj/ongnKUsS0LQ3j52H1++7e7vxeNUQlCCBpytdAmVJkEkEq8QIvlJnMV7HzNaDCBLtMwYExNFqxZI0HgMilIUJUYEYy2gBF9ijcFaR54XWOswRigLj2pAVTE2nm0lOmaMSUgSS+E7eJOxYcuVzC2e4KFHdjHY9Axsn6KWpuCVPPe9TwkK4iQek4BYE6sxF6pTU7m2QlDUGorEcPjMGX749FOcnF/g+u3XsmX9VgbTQWywmEorAkTx9AtNhvtYldi3bx8At91224r7n3zyyd73119//TkEYvl9+/fv793XxQ033MAdd9zB3r17n3E7qxVHjhzhrW99K0ePHuXee+/l137t1wD48Ic/zMaNG3nkkUd45JFH/n/2zjU6rqs8/7+99zlnZnSXLMmydZdlyxfJ18SOSUJMk5gACS3rD5RLu4CGxaLtYtF2rcLKop/oh9CWLkpZ9MoliwJJQ6FpC4RcSAi52LFz8VW2fJFsybIt32VZ0sycs/f+f9hnRiNZdpwEcLDnSSYanTlz9j5nJtrPed/nfV4GBgYYHx/n4Ycf5oMf/OBVnnURbwZvqVsx9+dYuj/MwiJyZERM5VA8z8f3EvnONXNra1nU3kZDbTUnRgYZOLyHdDiKESFGRBg0kY3QaJCuVw3kQvoacGmg3OPNwRb8nFl+6ip6cou+M2cTeJ6PMRCGEWEYok2EVBAkFEpZjAkxJkIIg5QW0BgbuYcJnQW+0FOvmZBsdgJjI5QnkNJi4n2UAmNCwjCNReP5AmsjwiiDRaN8EUsWQiwRUlmkslgiLCHaZImiNNpkEcLgeRYhNcZkEfHxpbQIYZwDq9FgLTbuGSSkQUqNkBGICM93VSRRZLBWYY1PIlnFsp61JEvnMHD4JGdHs2S0j5ZJjF+CVgEZbdACrJwiI0pe5aVcgBagFS5FoyT7hwbZd+gw5RXVLGpfTNOcJpIiiTTKpZqki+64Lsdw9ZhUEVcLDQ0NAGzZsiVP+qMomqbpkPLiP9OF25qbmwEnls1hy5YtADQ1NV32OG9FaK256667aG1tZevWrXkiArBgwQLq6+v58Y9/zI9//GOGh4fZv38/TzzxxFWccRG/Cry1vp1WIuNqGWAqMiI0VrpwvLFxQsVKMFDmp2hvaGJxWzvjF06zactTDB8/CCoEpREeCE8SWU1oco3zdF5jICjsXnPlvhqXOAEut6CoeOGNQu2s7qWHjkBJV/aaSYdIKfE85YiJ1hhjSKfTWAue56GUiqMVJnYujF1nhSAIApQSCCGw1iIEJBI+Qjj1uTHG9Y3RjoTlfjdGY4yOj+kCDFEUYoyLRFhr8uK6kpIAayMymQye5+F57vjGmFgTEpHNZvA9p+fIZjQgkJJYUxKBCEGEMckx8SegQPhY4xMEFXR1raasfD6HBs9x7Pg4k1kPEZShPR88hVECbTVSCYS1WH31K1G0iSDwCH3J8JmTvNrby+mz52lr7mBhSyfVpVX41kPhI4RHbE0LgBSi6ER5HeLuu+8G4P7772fXrl18+ctfxvM8Pvaxj13xMe666y7Kysr4z//8T77//e/z4IMP8r3vfY9UKsW73/3uX9fUf2149NFHGRgY4M/+7M84dOgQfX199PX1ceTIEf70T/+UH/zgB/nHLbfcwvvf/37+/d///WpPu4g3ibdUmkZa534qYpIAca8Z6fKHVii0tRgLnvRRJkuJSNJe28Sqxcs42DfAwKH99A/toaG+mYpkCZYQIX2EBY27axciDvfHGoOpBnq/CtOp2chITHeEQEmLtXD6zBlOnTpDmA1pbGygvr6OyGg8JdBak81EeL4imUgSRU4Pkc1GKCXxPB+tLUrl9BERWrs7CikFyUQJmWyW8fFJSkpSSOmR0214no9SAToyGBM5cqMkoDHaYIzAWoEQHp6nsNZijEDgIaUk8BMYI9A6JIpi3xbhYY0jWWEY4UmfIEgSRu56SCHBFAh0hWaqlZx0aSYrkUKitcFYj0RQgw0ynDxzhDB9jmRXJVJ6CKNJJgN0GGEw+MpVW9nI/goiW28cVjj3VeMLJoh4efdOdu7ZQ3VVDTd030B7fSsqkvjCR+K5qIgQWOFIo7AxKS7ykesKGzdu5POf/zx/+7d/y3//938DsGHDBr72ta9dcaXIvHnz+M53vsO9997LRz/6UQAqKyt54IEHaG1tzetMfluwc+dOxsfHWb169bTtGzdu5Cc/+clVmlURv268pciIsBJpBEJGCOKIiNDuj7a1IJTTHxiB7wdoE4LJMidVxbK2RRzoXsKZ0VEODu2lqbGTRW01CKtQQuArzy2swiDjMlCbr2QgNp96s4Hy2dIzU88zGTf38fEJXtz8Ctu3bSedznDLrbfyjg23EiQ8otCAUPh+Sdws0JGPMNQYHaKkRIeuD4+SAqMtxii3iBlDpHM1LB4CQZh1VSy+8jg5coLBoUFKSsqYN28eVZXlWCA9kcXzJVJKtHZ36Uq5LrLpyTRaW4IgwGjDhQshWA/fC5BCEoUhxhh8P4HEID3PfTaRJJvWKM+Zn1lrEVJCLhoSO7VOEUHpKpuUjzUByHLKKzywitHzx9g/cIbO9nnMqSxlIj2GJCLpe4TZEKUkQihM5CIlVwMWML4i6wuOj51l5/4+LkymuaFnFcs7l1JfUk1gFJ50EREjBKaA/0pryUmsi9KRaxOXcmL90pe+xGc+8xl6e3uZP38+y5YtA1x57swmcl1dXbM2lnvf+97Hxo0b2bFjB9Zaenp6KC8vv+x73qq47777LtLQXAoPPvjgr3k2Rfym8JYiI9KANfHdsrRxyaZxvpqCvOjUWlBWkcAn0iGe9GmsaWBl91IGRobYteswBw7tYV59J2VBEiXiOh1tMGhErBXJVXwIGy8Duf9f39RiEJdo5u/Sc3f/ThHj+YLTp0/xyivb2bunjzDU1NQ0sGL5chob64kiyGYNvu/eOpk16MgiFfheEixk0iGep1DCJxtl3TlIie8liCJDNmNJBD6BHxBmNcI68eqLm7fzxBNP0LO8h7vvfjdUBuhQEwQpjNFEYRQbcCmMhihrSGegtNTHk4p0WhAEbl6ZtEYpF2mRwoCJBbfWYEJJJmPITFrKyl0ucDJj8BIWTxITkVzn5NiYzkp0FGKjEKUUnleBJUlpqUJHij0HdnN+fJx1N3SR8hU6yoBSWOmEtL5QFCT4fuOwAkh4nM1eYOvuHRw+Psy8+fPpWbyMudVzKJEBZaSQ1hERHWtMEALPGNdZ8CqbthVx9dDY2EhjY+ObOkZpaSnr16//Fc2oiCJ+s3hLkZF8axrhUgVWkvcbcTREucoNqxAWPKuQ1kdpTZmXoqWxkc6FrRwYOMLg8ABHjg3S2VKL70EUapQwCGEw1qBcbgDIVdL8ilaBQme1/F2/++n0FZYjQ0c5dvQE8+c1MzmZ4ejwCEeHTzGnpoYjw0fZu3c/JSmflSuX4Pul7Ny5n+MjwyxevIi2tjaOHTtNf/9BRkfPUFNTy4rlSwiCJDt37ebc2VHKyqrJhpOMjY1RWVlDT/dCRkfP8/LLuzhwYBBPlVBT9RKLuhYydv4Cx0eG6O5eTGfnQrbv2MW+vn46OjpobW3m4MF+JifdOMePj9LUVEtlZRm9vf2MjY2RSHjU1dXS1rqA+roajh8d4eCBQcbOp8lkDW1tDSzobCdI+ciYhMTMknxqzLrP1BOWbDiJlB4mUoSRjx/UUDMnyZlzp9m+ZxtByrBu9UKktYQmS0kywfiZC2ANfipZUB79m4UFtIQ9h/t5etPzjF4Y55Yb1tK1YCElXsK5s8bfAyshismIwDkAY4tEpIgiirh+8ZYiI3nYvA1U7CXh7qKt0UjpIa3EaoOwkkAlXRdXEzGnvIqO1hZaWw9zYO9p9h/uY968hSSCErR24kwn2TWuYbuYKgX9lZf02os3a21JT2Y5eHCIifE0N7/tFk6ePMVLL21jaPA4nZ0LOXz4OP/7v48ihKC0tII5tXU89fRz7N2zhw9+MEU2K3nq589w+PAgmUyaRCLBiZFRlixZyjO/2MrOnTtoaJhPOp1m5Phx6urqsR/4XZTyOHPqPCaSnDx5jl079yNEkn19ffzimaf4g49+iOamTrZs3s4jj/wfG9+5Ec8r4dlnX2Tbtm3U1dVy5sxZ7rjjHVRUVLB581aiKOL06TMkggQbN25k/bpVbHlxGz9/8lmk9EkEJUxOrKKpuZXyShV/rI5UQq5kW+Z/KqEoCVIYawgjgeeVoCRoa2luXYJmnD37DpBKGJYvbnWVUlqjPA+hXarGhaMvE5K2zIifTH0B8o4oM3iBpSDQRX73aa9HEk5NjPHK3t30Dx+hsbODJQuXUl9ZR1Ik8LWHMQbrEdvtxV184rLsnN1MEUUUUcT1iLdWNY1z+Y57rEknmiRAksAjwMNDCYGSjkg4jwsPKQOkSFCmylk8fxGrl60iWZ5i/9F9HBjpYyw6BWocRRqhM2CNExxKQRZLaDTa5FI3rxeFxl4wXXiSi7jE/XEMnD07ysjICUpKSunoaKOpqQkpFEePjjAxMUFbRyvzG5s4c3aUk6fOcWT4BMPDx2huaaeyqo7Nm19l5859tLZ1cfvtd5NKzeGJJzbTu/sQgV/BmTMXiLRl9eob6Vq8jBMnT/HyK70kU5U0tbTg+UkWLFjEbRtuo72jA4tEygRCJjBWYa0HIkCqJEIEWBTnzo+RzmRZumwZS5Z10drewtp161n/trfT3NLBmbMX2LZtDy+93MeOHf0cPXaKObVzufW2W1h700rm1JVhrCWKLFM9a3yE9RBGxdVRYDQIAqz2wfgo4aMjQTpt8P0KFi1cTVlpIy+/cpD+Q6eJbJKslfilKYQPoQmxQmKsJNKWSEcY62Jq2lrn/kp8jnG/HGct73oXGQSRkBgrIAKRtRAaJ84VFh1Isp4layMiqzHCEklLWhnGpOalg3vZ2reb0qoq1qy6kYXNnZTJUhKiBKWSCOmDlC4zFX/VXc2RcNuLbKSIIoq4TvHWIiOSmIwIhJRI4cdEJIlHAl8GeEIhBfi+wvOVE0VKD0+lKKGc9so21ixezYKFHZzLnGFr3/McOrkH642hVBpps44iSA8jPSIBoQ2JbIjhEiH+mc7pM18s8EFxt9AFaZ+C/Y0xHD9+nNOnTjExMcG2bbs4dGgICwwfPcKRoyPMqa2jvbONbJRm6Ogw+/bv5/TZ07S0tqK8BIcHj5LORExMhhwZHuHsufOcOHmOM+fG0bH2ZfmKHt73/95Lz4pl+ImA02dPIz1BeUU5Vliqaqpo62hjTm0NQkmU7yGURxhZEB5SJdDGLeBSKYSE7uXdfOwTH6FzYQeT6Sznzp9ncOgImaxBekmOj5xldDRNVXU9QbKUkZMnOHlmhInMKJOZybgfjcL1rFFI4yGth8D1IJI4AbOJJIIATwWud42BhJcC7SMpp6NjNYnEPPb2jXD6bEQWn4ywaB8iYTFCglAYATrXeFEaDDb2h1XTHm58F5kxQqIRGAtEFiKD1RaNIx0ZacgKQyi0IyMSstIw4VmG06O80LudoTOnae9cxIrFK2iobCAlSvBFEisDjO9jPFfO6wnwLfgIlJAI6cWEpIgiiiji+sNbK00jZv7yGoJEUfhEkZClGC2YXzufVT3dHD51jKHjffQdLqOxupLSxFznfokC42PxUFJiPBNbjUsU8rVGnQWXiqhMtye31jA0NMTZc2eQCvoHBsC6MtnjI8e4MH6WRELQ2jqfhnlzGR4+yvj4BMlkQHNrE4lkgDYR6ewkFy6cx/cU8xvnsWBBJ/Pnz2PnrmNYNH6gSKUkiYQE4Up4LQYhnBDWGX9aEomARELhSoM1URShPFd1pHWEHyisjdA6pLaukjm1FfT27ucnP3mUw4PDLFvaTcO8ek6fPoe2htraKrqXLaK0rITePdt58uePc2zkMO9733voXNSB5+WENFMRo8Juv8LmSqAL5cVgyXXpDSgtrWHx4lWcHjnIocERBLVUV/gkvYTTFhnnaeJcYmXs/OrSewIZ9y4UMWnMpWgsIu5RpJBIXPTCCDAStLKOeGQzKCGcPX3ojPQy0nI6O8kr+3s5ODxEbX0DXQuX0lAzn8DGET3hI+KQn8n3R5rhalMMihRRRBHXMd5aZOTNwAqIFEonqUpWsqa7h4PHDzJyeojBY30MNrVQPq+cCplCag8ihbDSlbD6Fi01xur4bv3NrAwz3zuVvtFac+zYEaIow4YNt7N0yVKMFTzzzLO89NJL9PcfYNWaxXR2ttHS3Mju3XvIZiN6lq9g4cJWgiBJw7w6jh0bprauisVdi5FSUVZeTllZKb17XgKhAWcO5/mKIPDwA4lSgrLyElKpgBMnjtG3r5eOjg4qKkpRCvbt20OQSNI/cBhrQ4Rwi7jWIWGYQessYaQ5eeo050bPEASKBQvawCr29PZiNIxdOEtDQw2LujrQdoKTp4Y4cfI450bPAQYpvYtLDC+bGYs9RITrRRNFgFWUlFRjaxs5ffow2OOklrTjez5aZ8BaFBqhLFIQkxFnny/A+Z3kie6UY67AorRAxikbrQRaSiJlMcrtEwiJCCOEcrb4EZrIl/QNDPDU5uc5e36M5avWsqyzm9ryOjzroeLoT67ztLDiIv1JEUUUUcT1jmuHjCCwVkFkSaokTVW1rO1ZyuDRPg70D7F19yZKVAVddZV4ViBCgY2cCZfwLEK5sLwTFrzR6pqCu+1CE7V4AT4yPMTxkWGqaypYtqyL1atXAIKRkSNs276Vvr4++vuXs6x7CYuXLmLnrp2kM+M0NTYwZ04lpaUlrFy1hGPHhjhwsJcjRwZIpUpYvGQJXYsWYskQBJJEwkPrKHZRzcZ27YYFnW20tTWzf/8eJibP8973vpfORQtY0NlB754dnDh1EiE8EikPpCaTHccKTZD0MNb1kqmvn8Pchjr29O7l5Ve2EgQpxsfPkUyWMHJihBMnjjMycowLF0ZJpgI6OtpomFeP50uM1XHfnILrc9lKplxZtPOYETIg0iHWSMrK67BWs2//dpA+a1YsxVcKYZxzrTAmXx7uPhWDsJpYoRFHZHLVPfFo2kVItILIE2Q9iFypC741JKR0ZnGRgcDDBIqzmXG27t3JgeEhWtoWsWLJSlrqW0mpFJ728PHjGl6QXkHq7qJTnnVjEUUUUcR1gWuIjLiup0oqfK1JSUlPawfHVq7g1OkT7DvUS11VC7WVbfh+FSlPQKSnKkFl7PPgahziI4ppP2ZHHPIXhemHi3fBul47K1eupLS0jJbWJrTJ4vuK7p6F/G7mPSSSScrKSjHGsHz5MsLQuaiuWb2MklIfKzTd3R2Uld1F/8ARzp0dIwgCmltqmVNXyg03Lqe6JkVHZwtBUtDR2cjtd9xKVWUVc2orSCRTvOs9dzI0OIjnecybX0N5WTnvvOt2jgwPU1FRTUlJilOnTtLY1MK8eXWsXrOcVIli4cIOPA8WdM7jXe/eQFPTPLSG2jnV9PQswmhJ0/y5jI+NUVrmobwWyspSdC1uo7W1ASEsUaTxvCv4yk3zjXOExFqFtgrfL0UgSWfOUVJWR+WcZrbtHECKBKuXLCBQEhmTIbGqYAAAIABJREFUEEd+AGExJgJrnfvpRYPFZd4G0AYjBZGCrO+qZDxjEZHFhhFKCiIsWllGozRb9uzklb29lFRXsmbNWroX9lBTUoOnfQISJGUSExEnf2KTtwKNsyVndpYr4SkSkiKKKOL6wzVFRrQFoRQ2ikgIaExWc/PSVZw6c4afb3qFwROH2TO8F29+CXN9H+HFCZm4zw25stDCTsGvuTgUEpDZcg5TpaMLOtvpWNCONa4vTBiGSKVpb2+hY0E7fuATRpZ0OktLy3za2xtjAzTXSC2bMVRXl1NXt5ye5d1Y49JMudRHW9s8brppNcoTpFKKFSuWsWTJYufWqpxI821vW4e4eS3GWDzPiWpvrl5LIggwRjr/MWvIZDW+J3nHO27mbTevwfd9rDUkk4p1a1eybOlyAHxfuP4z1iOV9NChRkjhOvFGIb5v8QNnZT/VDO4S1zTmdNP1IjndjauCiSKLlAFClhIamN+8mAsTES9vO0AgFMsWzKcslUACURQ5NZEAa3XcrycuJc6XdReoko0FqzFIIiHQMm5HYA3CGEwY4gUJjCcY1Wl2Dvbz2Au/5PSF86y+cT09Xd001jSSkqV4WpIQSXyRQIupZozTiIiY5UoUuUgRRRRxHeKaISM5rwetnSYgCCU+kgXVTdy64iZOnM3w4o59vLRvC+WlVaTqk5QlSvEiD4mP0sIpFnNHe12EJLfPzP1mNm+zrmDC6Urx/CBPSoLAxj1hcF1vI4Pv+SQTbgHW1uB5Am0MJhv3V1PxtrgLsLGSZEmAUpLJdAYpchbvEVoLpFLIuM+PUgJt3LJfWpZwmRBtSMfN+pIJBViUJ1AqQEpFGEZkMwZrNJ7nrOpdx10RC2FBKInvu+69Kk7tZC6EWGvx/ct/3aZ5xF20UaJUQBhp0ALfS6GUhw4naGnr5lAk6D98grrqCvy5FSSCAM0kwjpre4mO+YfrTzTFG3MRMfJ+NjmrdmFBYfGMRRrnUxMJQ8ZXnMhO8sKeHfQeHqCtcxFrV66lua6FpCghsAl8FB4BwigU7ppjbL4x3kWnOMupF1FEEUVcL7h2yIiASGkiNEnhoSYUNgyoKE2wsG4hN3aPceDoCQ6fOMDL/eUEnmVh9SIqgkqk8QjwMbgogwvvOyJi4wYiSrmfb6bFg2sRbuLOvBIhRXx854URhi6NUZJKkM1GZNIG3xd4yi3Gxmps5Pq9KCVj4hW5tIQ1YA1S5uapQVqkknjxeQnhyJEQIiYxLkJjrcEYR5Q85fxuPeV0ImHWde/1PIvvKTw1lWoACHyPwHfXRQiLUjauxrEI6bQZIu51o5S6/PXLRU4KWMmUCsc11JPCxzn0arSWSKnwfJ/G5sWkR48wPDJKWVkJVV6ANj4ybspnrEFYplxg82kRkx9bC4NRCuErdy7WIA2oyDphq+8R+ZKzOs2WA3vZ2tdHeU0d625Yz7L2pdQkq/FtAp+AAA9pXMQtJ1q1cTYo93yqtsi9YMXVs7MvoogiiriauHbICJZIhGjPIELwrA8mAO1RG3is6Oxh8PwZfvzcz3n1wCZSgaC+spLKklJU2qIiiRGKUGhiR3rAebVaK5BWvemOqo7QuAiCtRZr3DLr5SIGNldyCoGvCk7OCW0lFuk54aXVOl5Y3VylJ+Nl1S1xQeDH40wRlEKY+E5fKYkxJh5GEPgBjhBoJBB4Hoipr4kQooAhFGhs8imYi81YfN93c85bmRbOpTAu4N47VW0yRUjImaIJH6zEEiGswAiFUh4VlT6+MJw9O8jBwydoa6mlsiyJkKBNBmGES9fkRsrJfOLckAW0L8H3IeFhwknQmkBJPOHmFvmSszbL1oN9/GzT85xNZ3jbuptZvXQ19WW1pESKpEziaQ9pBcJMfZ5CxO0NmCIkuSqeiy5ZkZEUUUQR1xmuGZcldz8foslghAUVAEkIA5K2lIbSetYs62F5zyK8VMihE3sZONHHWHgaoUKsDrE6itMkzotDShF3hHWLtzGX8ROZ1RBtlv2mT3qW9bvwl1kW94sKUGYnAL9SzJxnfqiZWplZynZzBMQ1GuKiE5hBYuyMgWL96dRPKxBWIkzsomp8sAHYJKXlcympaKDv4DF27B5gIiuwMkWED8p3HYFz3XJz0xIiP0WR9NGBIqND0BoVGXwDvqfQEtIKdg4N8MjTT3L45Em6lvawZsU6GmuaqJBlJEmgjETmbO4LP29R8FNMnW0hihykiCKKuF5xzURGBBYvXljcLb1PrluuZ32qggoWN7Tz9tU3Mj52mgO9/bz46i9JZZLc0FJKiZKY0GCsF5MOG0cUXJrBGgDrIgOzjO4eMzUis+3njjP70jOrYOIym3LjTukefjV4rXnOHL/w99f7ntyvhulMJydcJe/74oqSRLylQM9jrfMikZZkWT1+6gR9/QOkSgN6lrSQ9AI0IKxG4VIuRoi4AMrVsxjhHFzTOovAUpJMIk2EjUIiT6GTHsfOn2HLnl3sOXSIOU2trFu9nqVtS6n0q0iYFIEM4qO7GU//qkynWfmt1sYfXyE5K6KIIoq4vnANkRFIoFyeX0is70LjJnK6Qc9KKmWSlc0LCW8cIzo3Sf/OAbaEz1PpVbK0aSXKq0BndaxJMBit40iJmLmyXAaFi6ngYkIxc3vBcS/iEzPfL6bzhGn75Z6+Fhm4HApKPS7r/3GZ989Isbw2pqIqNk9ICt8fE5I4pTJ1+DgFImK/EAvGJtCijPktS8hGGbbtOkBZaYKlCxvRoY41NTIfcxG5ceNoiRGuKaMiTulYi5YQCsPJyXGe27mNl3p3M6e2gZtvuIWVC5ZTl5xDSifxZQqJ7yznZyGGVrr0Uy6x5bhrQYrmzXxsRRRRRBG/5biGyIjAMxJpFBpLVlhE4AysdNwjNWEFc1Ula1q6mVw1AaObONx/gKf0Y3ieT0dDD55XjjI+xpAXnIKavs7OisJUxYyY/KX2v6h8JOc5MXVWF6d2Zqu9mBKQXuRwesWYmvMlZZSvUfaRq0m5+LwuMdS0SFKctChYyIU1BTGR6cezF5EmQRhZvEQVKpmguXUJ/ZkL7DswSMPcauZUJLFZkx9R5McSWOGIghDgS4UyhiibceQopRgZH+XpHS/z0+ef4dxkhvU3beDWFetpLm+gVCdJiRIkCXTuIAXXQ+Q0MPEYJnemNketClJ8RWvWIooo4jrFtUNGrEBEErQiUoK0ZwilxUrnnukDJdbHNymsP4e3LVuLDH1+euEJdh3ahhd4iDVJ2uZ0k1QJpFSu2kS7e1nnT3G5xcIWrJczCMWs/OAi8QdMiwxc8kwvfl9sWCFs7IvxhiBmnMJliJSd8UvhmDMbBc72ZmtnvJxbjU1eRzH1spl2zCnR6fS5OHWJj7YSKQWJVA0dnUs5e3IffQcOsbSzicqkzAtH3b8ijsa4CJQOI5ACFUfCQiE4dWGULX07efSFZzh2/hwrV63jplXr6JzbSoVNkdABUvqktQHl/FWmCbFy48U/bcEZ5qprft2SnyKKKKKItzquGTKCFaAl0kikD5GIGLcZLJYyIUhY8I1CmYBqz0NWJli7QnF+YoKf/+Ip9hzaSUP1AqpSjVSlfAIvCTClEbEWK4wTx5K763Wpgtw/0xdZVzIxtbRO3eMXTJorW4Vm02bMIDmWOHUxc6G/Qthc0uL1yk9y6ZLXsT/E85yRhpr1GPkrPW1fcdGYAiklYWSIQkPSL6O8Yh6CDOdO97Nv/yEWdzZSXZ4ApiqRckQnVpKgTYiWEi/wOD8+zvPbXuEnW5/l6LlzLFmxittu/R26WrsoVyUEoSIQPtYobF5PNJWOKfx83bZcvdP078JMpUwRv32oqanhO9/5ztWexm8VUqkU3/3ud99ENPfawYkTJ672FK46rh0yInBWm8oJTwMhSMWdWRO4nqlGW6RQ+FKRsJa51fW8fe3NoA1P/fw59h7aTUXpXLoXrKIuOdfZeGtFIpEkG2YJTQS+QEtASIT1UCZA5gzTBAULrABkfMc+E/HyIwyiMBpic/vPJB6Fzy+/XAnemBdK4ZF//X8acoSk8FcxJeKcZf/CrIzjERfP0pegQ0MUCawsQSMIEoZUBewf2k7aTLJqZRslCY0vDEJLiBSeTWGMJCs0OqGJfMvYxAVe6t3Jz557loETJ1i8cjW3v+1ddLevoipZgxcFKBmghI+1kkDiOiLHs3UV0FPnIwRIlItexdtl7CsiXo+3XhFvSVhraWhouNrT+K2CEIKGhoYiGQGOHDlytadw1XHNkBELWN89E1hSCFI4zwxpnUdHpOI0gAA0pERAe30LeuV6wguG5zZt55evPomWETcsXku5qkS4gyJkhBUhkTQxGfFQNgArkcJzolly9mWQSyXMXDdzugiBQQgNRIB2JAI/PonCQP+VaC+mb3rTa9pvZFHMzTSXq7iCuec5zGwRJeeS6hmDEhJlA9JZgxc0UFVXyvDpY2zd+wqUZVjR00RpAHZCo9OCUj+BUAEZockEIaPpC7y8Yxe/+OVmjp4dY3n3Ot5+y0Z6OtZQk6wlIEB6PkJ5GKOQ2qIct0QqCTnzMjF96jO35bNNM2VCRfzW4ezZs2zcuPFqT+O3Cv/xH//BHXfccYkKxesL+/fvv9pTuOq4ZshIoQ5QYFEUSjEFYFDKdzUbwuChXJWN8Gib28KGmyWRgU1bXmbTq09gbZoblq2nLFlFOswQBCV4IoWJNFaDEAplFUJrrAXpKcBZpbuAjPOaEORaxs9M1eS0E7l76YITua5WpCs93ynSMiUSLWR5Fms0yoYIpQg8S2QkWa2RKsnCpWvI2HNs3b4PPxWwtLMRD4kKJNYDlMYLPE5kzvD8y1v55TObOX1mnJ7uG9hw27vo6lxOeaqGgADfvRMnbBYIaRGmMJ106TN9fS8UUUQRRVwfuHbISIxcmkMUUJP8oh8vZhKBLzy0AauhPFXKwtZ2pAKpIl7YvJVNO55gLDpH14LV1Fc2k5IegS1F2SQqEvhCoiRoG6JNFi0FQrjOvI57TGkR3BxyJlhubiI/t6ntOXfWImbDzEiKmE5KhEVKi5QGYzWRsQhpsFGadDoiVVZOd/fb2blTsGnzIIoKeha3o4Is2SjEkOHk+XO82rebFze/yrlzEyzp6uaWm25l8YIuasqq8GSARKFQMR2J6a6wrvfeDJ+zIoooxHPPPcff//3fA/DNb36Tmpqaqzyjty7S6TTf+ta36Ovro7m5mT/6oz+adr0effRRnnrqKTo6OvjEJz5BMpm8irMt4leBa8aB9WI4zUa+EsNKp+swIK0koQKSKoFCIowgKQPaG5u47eZ1rLtpOZPiHI9v+TGPv/y/7Du9mwtqlEiFGG0QoURlJV4o8a1CSYElxBIi0LEORIOIEIRIIoQIESJ+nteJOAJi8d3DKq771ew1q0viz7UwFBYLhY3QGD8ilJOko1GETJMMQGpDOGbwdBXLFr6d8mQHe/vOcexMxKgRjHohx7OnefaVF/n5U88yei7N6hVrufud72PVkjWUeCUQGnyrCPDcZ24lUoAQ1rnhS1EMNxdxWfzLv/wLjzzyCI888gg/+tGPfmPjdnV1UVtb+xsb783CWssdd9zBAw88wJw5c3jkkUdYtWoV58+fB+DLX/4yn/zkJ0kkEnz3u9/lrrvuusozLuJXgWssMjIj5J8XbLi7aRE3W7NGoCQkpEJaSWgNxhqSwqezpR18CIOIX2zZxPaBTYQqxEsoOqsVZcEcfOMhsk4Qaz2BDBRaxmEWCpIuhePn5pdrYR8nkiwSG0dHikvZDBRatlyE6Z+1xZAhAhlBYIiyIRJLQgX4NgAtUKEioZIs7VzP8XMH2Ttwgo6l1YTyAlt3vsjTzz3L5Khh7Zr13HbrO1iyoIfSoAKjBT4JAqNQUrnvEa7MWIg4GjdDH1JEEYWYmJjgkUceoby8nLGxMR588EE++clPAtDf38/k5CSdnZ0kEgkA9u3bRxiGdHV14Xnuz/SpU6fYvXs38+bNY9GiRQBks1n2799PeXk5DQ0NvPrqqySTSVasWJF/fXx8nAsXLpDJZNBaMzAwQFVVFY2NjQAMDQ1x/vx5FixYgJQyf7zm5ma2b9/OypUrAadrGBwcpKamhhUrViDl9HvZQ4cO0d/fT11dHd3d3W+YnG/ZsoU9e/Zw5MgRUqkUn//855k3bx4/+9nPuOeee7j//vv54Q9/yIYNG5iYmKCjo4Onn36ad7zjHW9ovCLeGrg2IyPT7qxzqRAXJbFGYCOLiQxCg49HUgYkRYKUKKVUVNI+r4MNN9/KbW9fT119CXsOvMgvNv03fUObGWcYWT6OKguJVJbQRhirMMbHmACsj7U+WA/ykQ6bT80ITEEKiak0ThGz4wqF9hYIpSDjSaLAR/g+2hqiTIgKIWV9gkghs5KK0hqqahoYzWqe2b6d7z32U/5303Oc04aVa97G79z2bro6elAiAC0pD8pJiAAZCTwrUUYgjSMjrsuzLXBIKaKIi/E///M/jI+P86lPfYrOzk5+8YtfcOzYMQC+8pWv0N3dnY+WjI2N0d3dzbve9S6UcqnbL33pSzQ0NLBhwwa6urr4yEc+grWWgYEBuru7+cAHPsCqVau46aabWLlyJR/+8IcBWLduHcPDw2QyGZLJJK+++ird3d381V/9VX5uf/EXf0F3dzd9fX35433605/mzjvv5M4770Rrzfvf/34WLVrEHXfcwerVq1m2bBkjIyP5Y9x77720t7dz++23s3z5clavXj3t9deDiooK/uZv/oZUKgVAIpGgtraWIAjYunUrALfddhsAJSUl3Hnnnfz0pz99Q2MV8dbBNUZGxOUfsSeIFC4iIo3As56TJFoPqX0CW0IJZbTXtXH72lu5be2NNNSWMDS8k83bH2X34LOc0v2kU2fIJMbIelm0lBjro02AIYElwBIAHlgPYVXc4I1ZoiWz9ywp4vXBCoGVHhkkaS0QXhJPpcBIhLYIozHhJFZPgMjiJSWnxs7y0188zWObXuQCHjesfwd33HE3Ha2LKUlU4ZHEI0AZDxEKiEAYET8sGOd4W9jer4giZsP3vvc9AD7wgQ/wgQ98AGMMDz/8MAAf+chHAPjxj38MwNNPP00Yhvz+7/8+Qgg2b97Mfffdxy233MJzzz3HJz7xCR588EG+8pWv5I+/ZcsW3v3ud/PP//zPVFZW8tBDD3HgwAG+973vUV9fTxAEvPTSS1c83yeffJLjx4/ziU98gp/+9Kf88Ic/ZOPGjTz55JPce++97N27l+9+97uA08J861vfYsOGDTz33HN87nOfY9u2bXzpS196Q9dqyZIlfPKTnySbzfIP//AP/N7v/R6tra3ceeedHDt2jMbGxmlRl+bm5jyxK+K3F9dYmuZytRkuRSKEc+jE5uzHHUlRFqSWKCzlfjm+VJTUBaTWelSqUra++jIjI/28kJ0gYyfpWXgTZZVz0eMR1ko8kcSiiKzIJV+QQiKFRaCxVmOtjcP6Obhi4HzNZ9EO/A1DWIGNBBIPgcUIiVQK6YcYFZEhg/WzWD/L6ckRDp8ZYFffNo6PnKChtY01a1Zw64q30zlvKUmRRAmfIOGIqtASJQQClXewn/oc49qoiyp9iijC4dSpUzz++OM0Nzezdu1aEokE999/Pw899BCf/exnWb9+PW1tbfzsZz9Da81jjz0GwIc+9CEA/uu//gsgr4245557+Pa3v81DDz3Ee97zHgDWrFnD3/3d3wGOzDz88MMMDw9z2223EQQBUkrWrFnD888/f0VzrqqqYvv27SilOHnyJNu2bcP3fYaGhjh69Gj+vIB8Gqmvr4/HH3+ce+65h3vvvZeKioo3dd201vT29rJ7924WLVrE+Pg458+fp6SkZNp+qVSKs2fPvqmxirj6uKbIiJgWKp8ql80tD6Iwx5nzgoh3UkKihEVYi2c9lE6QoJqyumWUrEpR7pXz7CubOHjkMM/veoowMCxqXkV5MBcfDxsKrPUR1sfkRLNCgjWu2CNX4TNt0ZpJRoopmzyu+DJMUQIvkgjjYYwGT2ICj6zIohIG4YeEjDGePcmeo9vZun0Tx84cp6O5hZWrV3PjmnV0NXRSIstIuHgIPjmhqkR4gry1qiAu6c3pfF6rW3MR1zMefvhhwjDE930+9alPYa3F8zw2b97MwMAA7e3tfPjDH+b+++9n06ZNPPbYY3R2drJmzRoABgcHAbjvvvumHffAgQP55/Pmzcs/f7MkAODGG2/Mp4gAPvvZz/LMM88wZ84cmpubp+27bt06/vzP/5wHHniAL37xi3zxi1+kpaWFb3/722/KCC6VSvFv//ZvAPzu7/4uX//611m5cmVeyJrD6Ojob5VAt4jZcc2kafKEozDpEedFriwRYvGUxVcaz0T4oSCRTlKha+isWcJtqzey8bb3sHjxMkYnz/HMS0/y9JafMHhqFzo4jQ1G0WqcSIWEIiJSBiMhtIYw0oBECIW75HJKripiQoJ2rlnXe7D/NW1H7KwPYSFhJKWRIBFaCDVaaDIJzblgglPBKIeyh3nuwHM8t+cZzqRHaGudz+3rbuE9N97JirolVFFOIvYRmSreVflCbHuJ+YnL9fEp4rpHLkXT39/PN77xDb75zW8SRREADz30EDCVqvnqV7/KwYMH81ERIL+gb9myJW7eaYmiiJMnT77hOY2NjeWfz5biKBSnfu1rX+OZZ57hr//6rzl58iSf/vSnp+07Pj7OF77wBYaHh3n88cf5+Mc/zuDg4EXk6UrxT//0Txe9t6enh71799Le3s6hQ4dIp9P51/bt20d7e/sbGquItw6uGTLiEItExRQRcSUP8U1twc1tXBGaf4BFKYsnI6SN8I3EC33URECpqaalZiE3L38H77z1PSxftgJjsuzYvYVnX/wpu/Y/y/nsISJ/lIyaIKMyZEWGUGbAM8hAgpqSsBamZHKiVvKPIqZjFvIhzEUPicHTmhKgMuHjK0vGjJNNpDnNKV4afJlHX3mcp3c+w8jECbq6F3H3O9/J79xwM4trWplrK6gwCRLWx8NDCYUQMRERAiPASouRhd+ZKecYaS9nZ1/E9YqBgQFeeOEFWltbGRsb48KFC1y4cIEXXngBgAcffBCA7u5uenp68imZQjJy9913A3D//feza9cuvvzlL+N5Hh/72MeuaA5BEJDJZNi+fTvz588H4IknnuBf//Vf+cIXvvCaqZsccTl8+DA/+tGP+OpXvwpMpSb/8R//kdraWv7kT/6EiooKNmzYgBCCIAiuaH4z0dTUxDe/+c18v5bx8XH+7//+j7Vr17Jy5UpaWlr4/ve/D7jr+9RTT+UFu0X89uIaIiO5+1cz7WGxcYv4GRGT2dYNa0EbMAalFJ7vbK3QgsAGzC2byw1dN/DeDXdz1y130FRXz9Dh/Tz7ws944ZXHGDzdSxicQZVPQMk4WXmeUE5gvYiICG0NrqqnwADN5uZevLd2mD3yMY2EMNtDI6RGmywRk8hkGhuc59zkIHsGXuKXLz7Ott0vESQTrL/pVu7Y8E5uWL6WtvoWykRAQluSRhKg8HAC55x7rhEWLS2RBB0/TIH2R1iQ9vrzzi3itZEjGx/84AcpKyujtLSU0tJS1q9fT0dHBzt37mT37t3AVHRk2bJlLFu2LH+MjRs38vnPf55HHnmEnp4e/vIv/5INGzbwta997YrmcM8992CtZeXKlbS3t/OhD32I8+fP8+lPf5of/OAHrF+//rLv/9jHPkZ5eTnf+MY3+PCHP8ytt94KwObNmwH44z/+Y2666SYeeOABbrrpJj7+8Y9TX1+f17C8Xrz3ve/lIx/5CIsWLeLmm2+mra2NlpYWPvOZzwDOMO5zn/scGzZs4MYbb+S+++6jq6vrDY1VxFsHwl4zXYoMdkZ0YXrHExGbY00ldPL/zVW42CwmSrtqCRUghE+kLSGAJ0iTYdKmyYgMJ86NsG3Xq2zevImD/QdJZ0JaO7pZtnw9bc2LqEzVILI+XhTgmxQ2LfG0jycDhJWA6wKMcPb0QFx143H9LmkzUmlixu+XTbcZsBmEykAyy3l9hv5T+9h9eAe9h3dz9sIZGpsaufWmm1nbvYb5FfXUeCXUqBKCrI37yiSwyscKmdM1Y7BomyvcFQhkPsmmCnmS+w9Ciuv347uO8Qd/8Af56pJfF4aHh+nt7WX+/PnTyMqVYMeOHYyNjXHzzTcD8PLLL5NOp1mzZs0VuZeePHmSHTt20N3dzdy5c2fdp7e3l6GhISoqKli5cmW+NPdS+MM//EO+853vXNKPZGRkhF27dtHc3Jz3VclhbGyMV155hQULFtDU1PSa83+r4+tf/zof/ehHqaqqutpTuWq4pgSseVIhZtkMedPO6WuZWzyEFQjjI43EoDHCYlQarTTaapRQBMairKSEFKXljVQuL6GubA6bXtnMtr072De0g5Hx4yw+1cOi1mXMr26lKlGH1B4m9LA2bjUfjyuQWGviOVwjnPBNwRZch0sREQoZZB5GaNIiQ0aNEtnzDB7fzXNbHmPw6D4qqyu4bXkPa1ffzNKFq6gpqSNBQAqFMZZxPYYnLAkpkUZNIxQGmzPujYd240pcd+R8w91iiqaIXzMaGxvzRmWvF8uXL5/2e04ce6Woq6vj9ttvv+w+S5cuZenSpa97bpfC3LlzL0l8ysvL814jRVwbuKbISL5Tic0RkqneJYVL3KzllxZsLgbvKbQMiUQGLTIIqyHuSRIIH4yHFwpUopZVi1ZTXlFNY1srW3q3sG9gH1tefYqjw4dYtXgdi9tWUJ2ah0qUYKRAG4ExvksD2FyqZqqHvMkvugWRmxlneall71IxA3GJ5xftfFEkYvYZXPL1K+FTYuauOfO3XBpGT02F+GxnlkVhsWjA5NNvkQoZY5T+03s5ePhVDg9sZ3LsKIva5tKzuJu1y9/GkvZV+FRhMwHJRICylmw4iZFgpEEQEtgAaZxOxE4bkzyRzEet+TfyAAAgAElEQVTXcgVRudMo8pEiiiiiiDeEa4iM5NIxiqkETb4dHbn2dJdaL0Susla5NvCe9BAicM3QhEEhsdYi8VHKB6MQaPxEkmRrknl1DbQ0NbF5x4u8umMHx48fYfNkhuOnjrOgdSkt8xZSWlaFjBKoKIEMAzwd4FsfqRXaWLQwGC+MFzWZDwBM9R6W8SI9vSw599RI0LnLkFvMC7QMeU1vwZsKj2OldWRATMUBCuuU8gPN3BZvl0YgZ8wpFzDItwiyeSWPu94xhTIYhBeBCLHGglEo6yGtB8YVRguRS21pZ/uuQozMkI3GOZ85x4FT+3hxzwscPryHksCycmkPt65dy9L2Jcwtm0eFV4k0CUTg4StJaCKsUHh+KYgIaeOoyLQr7s7SFJBDAVO+ublLUGwrVEQRRRTxhnFtkRHhtBizRQIcEbnMaiFA+rgrInDmaCSAAkV4XHZvrcBLKBTOCjzheVRUllJdVk199Xw6m5ewa+9udu7tZdOrv2T/kX0s6FzCoo6lzJ/TSllQRSIqI5yIMJkALwoQRmE9m08RSSGRUjlKEpMIa41jHPlIwVTUwAktXWAnfznsFAkp2Jy7INNed+dlscJFHC4mHLmfl9A8W0dEpJm2aVq0xhayn1x34/zpGKwIMTLtSJ8IsEiMNQgUnnRiUistVkUYOUlGjDE6OcLwyEH6h/ex/8gexsPzLF7YzLLOLlZ0ddPVtoi6sjpUqJAEJIPApeSwKKniCIgG4SORjvzEqTsbn62d5XuTIyJ5u5hpLxRRRBFFFPF6cA2REbhcPcMVrREFb3fURU172QqbTwEJEd+tY5FWIBGUyhSttU3UVFTT0dhK0/xGXt21jcGjw7y4+RcMDx2me8kqOuYvYl5lM4lkOZEJMTaLZwP8IMBTHpExbkE2FiklQjg7txxZsHkSIgq4gZuXFzOAPIWwF8l4py+k8VvdTvH9fxzGmHpnwRHyNa0zrrWwTl+jCr1SptPCnFTai6+dBKzJjeWhdYTGQ0iQ0scKiGyI9bJYX2BlhFEhxktzZuwYA0f20j/Uy9EThxi9cIrKmlLWrVzFiqXLWdK2hPryelJ+CmUDEp5zEHFEZPpZ5WqZBNPFp7PEf2ZHkYAUUUQRRbwpXGNk5NePnPJ7pgJcIgkQlOATJMopm9/OnPIquloX0HtgL6/s2M7hoaNsOTPKSOMRFrR00dLQQW1FA8nSEnQmDTqJZ1IoLaY0FNYyZbplp6c9YNpCqAyoXDgCnN/KTOFnXMGTO960c7MKrOtKm4sGXBRnEmLGu+L5SI1RWYzMAKZAD+Me0kqEkSjcQ1rhckq5FIwUCJHEWEU2DB2pCQw2CMnKDNoLmTQXuJA5w6mRYxzo7+VA/x7GJ0apr6tm9eJVLO1aRGdbB/Vz6qlKVpO0SXx8pFXOCLcwRJSb92t94EUUUUQRRfzaUSQjbwCFRCT3XAEJfISwRFYSCEmqso66ympaGubT2tDEqzt3MHB4kKNH+zky1M/cuka6OpfQ0tRKeaqGpKgiYSvw/ARCSIyxGOOSBVLGooRCYecMzUa+GV+8wZENgxVTQk8rHMkxBeLPnPpS2iA2gXUrdj7NkheWFEZMpg0NQmNlFmQWgXGi3AIiYo1EKOmiTcZgLPlIiYzFwRjrrNyF04/oICIjznM2OsP5ibMMnz7MwOA+ho8eYvTcGWoqKlm3bg0ru5fT0thEfXUNlakyPJRLe1kXtfKlMzEr8L2dPvtiZKOIIooo4qqiSEbeAFzDuxmExAqIInwrSCif0AomMiHSU7RUNlDVXc6CxlYOHR1k555edu3pZejYXk6NDrLvSD01lXP/f3v3GhxVff9x/P07Z69JNgnhlpgEUFvSkoD8UaCKThkVhnHkAR1nHEwUKbZVpzNaZ6xjO33gZUarTil1eNAZp4NcdUatM7QwtfQBjlKKPBDUaMQS7hCSIOS+mz3n939wdpdE8IKEHPn/Py8Hs9k9u/s7SeB88rt8f1xZOY3acVNJOiVEIjHwwfcMDi5RJ46xDtYzuXokbm7OR+6iD4CTCxBBcAhCiJMLFH6ucqgd8rHQ3xI82/cxxsMUNhHMh5F8kBky/2PIUuT8ehjX2mCH22GBKT+5NrfqBS/X6xP0UgRzc3w8k8XPZrEmi0lYBiP9tPcfY3/7p7R2fEZH7wlOfn6M/nQ3FWVjmD11BvVXT6P+qgZqJ0yiOFqE9bO4PiTcGBE3WLEUtRFiJorrOsFUGDtsqs2Q9ufbLCIio01h5ALk68MZY84JJPnfsINrrCGCS8xG8H1LhChu1BAfF2X8mLFcVTuZhh/+gOb/NrPvwH85frKVT/Z/yKflnzK5po7K8TVUV1ZTUTaORKIY60fwBvtxvRiuE8PxozjW4thIbtJosE+wbwy+MWfDg83PrnRyH4OrsbE+GPfszNX89F4b9CiY3InkdxnGkpuncnYCav6V86HE2FxRNy8ISfneFOsExeh84+M7Pr7x8Jyg98NxgzkvWT+LN5jBjfpYm+F0TzuH21v59MhHtJ7YR8/gKWLFLhXjyvifSf/D9O/P4Ae1P2RiyUSKnBIStpjoYAwcD2sGcX0H1zpETISoieDg4A16GGuIRJyhnTz571xwDpfmx0ZERL6GwsgF+tJAYiyOm5vbYX1cxyERi+PnxjmynkfMixCNRikal2TsmDFMubKWg8cP0NL6KZ8d2M+RtnY+OPQfPm37kIpDY6kaV0P1+BomlFVRmqgg6ZZgbBIHD2wMY2wQSojkBlucIQEjnxtM4aM1+VDCkCU0Qy/BTmGC59n5Kbly+vmPJt9rcvY+AMd3g2qz2UiwFDa38sXDw3cG8c1grqR6lkGTwboeJgqeGaR3oJee7Bk62o9w8uRB2k8d49TpE6QHe0imIkyv+R5TJtdy9aQp1E6sZXzJBMZExpH0i4n6CSLZCMZ3sFELTgSLH6zuwcUxBuOD71mcL6SNsxN0NXNERCRMCiMX4MvKFudZ6+Ph4RqDMS6OGwk2UDMGx40Qd30GjUfapsFNUltRzfiKsXxvytWcPN3BvqMH2Hf4AIePHKPt2GGOHD5AS1E5VRXVjC+roryogorUeCaUV1GaKMclqHcScaNE3BjWuFgbrFqx1ubqYeQDRjBMka8UanK7vQX1O4Ij80M+QaCyhaW41gz/iAO+9fFtrvx+7vmuBRw/V7XU4jsWz8mSdTIMOml8N4sXGSRt+0nbfrq7umg/1caJjuOc6T7FkaP7OHP6OOVlxVROHMuU2qlcPXkyV1bXMqF8LOXJUordImI2TjSbIOJHifgurnHAAc9asA6u42LcoAckX/ck4rrnrXWn7hARkfApjFwAY8yXBhIL4IJxg5UoPkFvgckV0nABxxhc4xN1YgyaLIMMEiNOsriIsSXjqZxQQ93VP6StvZ1jR45z9MhxTrZ10NFxnMOtrVjPoTxVQXVVLRPGVVFWUk5JUYqS4lKS0WLibpKIiQeTNU0QPqxnsD4Y38GxTlDYy8+V7LJBEbVCMHEi4LiFMHPORFWbW+GDwViLY30cx2CMQ9b6DDKA52axDhjXYl2LZwYZtBkydoC+gR66+k/zec8pOs+c5Hj7MY6fPEbfQA/xZITS8jjfnzqDqydPYkpVLVdUTKSqbBxj4qXEsi4xP0qCOK6N4JpcWw14Notv88Xq3OFzUnO3Xffs9+2Ls12GfIe//Q+HiIh8awojI8jH4HG2hkYw9eJssbVgDqcLxsGYoMprjBi+8cjiEYsUUV4+hqtKr2KgJsOZrjOc7Gjn6InjtLWf5NjxYxxvO8GH+3djDjmUlpdTVl5GsqiIeCzJ+LJKxpVXUpwoIRFPEnUjuE6EiIkSNTHcXBBxcxvyGT9YWmt9sJ7FM2b4qE1hXsWQ2iomKPQGFsd1iURcfN+jd6CX/kgP2UiaLFkyg2l6z/TQ1X2Gru4z9A/0MjDQR09vF93dXfT19wE+Fakirrm6nu99/2rGV1ZQXlbC+FQFpfEUJW6ClEmS8GO4WYPjmaDXwxAEHSfDoOMxiIeHJW7iRIhj8tVr8+cwJHPYL54XZyfanrNCSURERoXCyIgxuSGOfI2O4I+TW7lxdoUJuBhc3GDjPBMprGdJ+Fk832IcF7/IMFiU5apxfZyZ0k3XwBnaTrdx5OQRjrQfpe30SU51neLw6U/pOtGF50Np8VjKiseRiBWRiCcpShSRKiqlonwsY1IVxNw4ju8E4cSNE41EcU2w7BXAMx6+yeYam1sJYy3W5oqwOQ4Gy+BghsHBQeygxWYsAwP9fN51ilMDbfT6pxn00vT39dN1uovuz7vo7+3DT2cpLUoxpnQMlRVlVI6bQtWESiaMHc/EiROpqqwklkjg4FLkJInaCG7WIeG7RKyLyUKwHhis6+ObQQadDBknTdpk8K3FxWJtdGgUORs+vvCtGv6pAoiISJgURkaMyQ2FmFwvgjPsN+38xE+TL/Jpcr0nhU1bIGpjYMHLQhaL60SJRopJpGKUp0qYMGEsV189mTPpM3T0dHLydBvHO45z8tRJzvT0cOrzHs6cPsPJzpMM9PXjeT7xWIJUSSmp4lISsQQRN4pLJHhtN0IkEiyDdV2DE/XA9YZMbrX4vo/ve1gvF0p8izc4SCaTIZvN4nse6XSant4uOntOMOD3kEhEScaLKIoWUTGhhDEl4xlTPIaJZROYOGYiEysmUDOumrGlY4lH4rmtcAzWi+A4UaJ+DMczOIMm6L0BCl+83P5BwTIicm3N76cTrBbKTzL+ovNurKuRGhGR0CmMjJCglpiD4+Xnc5rcx7N1PcDP9ZQEAwmW3DXUAr4hO+jjezaovRExuK6D5wR1O4wJluS6LsSLYpQmSqgZV4n/ven0ZfroPPM5nV09nO7up/PUaTpPddDV1UV//wAD6TQD6W66ek+RzWbJej6Dg1myXhbrByuCjGPxbD8+6cIF2eTOy/o++JaI4xKNRIPwkts7JxaNEotGceKWyeOqKCsvoaS4mLKSMsYUlzMmVc7YkgrGFJVTUVxBaSJF0k2QNAmiNhrMXwnKo2LcOI6JBYNcuYmyBoJhIWODKq1BkVhwHBwcItYFG8XHEjG5TRLNufNdCic01JAhNBERCY/CyAhyfIPJ5sJI7qJprcU6wQZ4Qb2NXI0O6wSBxOSqphqD7/hk8cE1OG5QIh0DroGYdTE2Rsy6+CZB2ouT9bPB0EkUqsur8caAh6E/k2YgM0A6M0Bfup/u3m66+rrp6u2ib6CX/kya3oE++tJ9pDMDDHpZfOvhe4P4vpfrgHBwjMmtsQn+uMYhHk1QlCwiGU9SFE+SKimhNFVKIpkgkUwSTyZIROMkYkmS0TjxSIyYEyVqoiRNnJgTDXb39Q02v5rHccHaXPl6Dx8/CHFR8CzDholcxwl6l6xDxI/h+i5RPx4sp45EMRGHfLH7IQVr+WISGRZCVGhERCRUCiMjJbfQxOQ3vA22ccE3BGtrjI8li48fzGkYspzWOLkS6xEfm9u1189Ngw3KqgejEkknHuyzYoMaHr7v4WWCXoVIJChi5lsfG7OQBExQ5yNjB0n7aXozffRlesn4g6SzadJemoyXzoURi/UIyrbnyrgbwDVO0AtiXFwcopEoiViCqBsl5kZIxBMkE0mi0RgYF9845BYUk+sgwvgWfIgYh6h1gz4hh8Ixvu+RHczi2CyOAb9Q7TX4zycII65xiRDMIYn4Lk7WxWSDxOL7FhImN4RzdrO+8/WQnK83RD0kIiLhURgZKblhBSJDbjsUdvd1cv+3+Yt07nMnt/tt7rIM5COKkyva5ZzdnC8XTKy1OMbFiUbxjMV6FscxOM7Z6qt+rjfBGp+kE8NGiiiPphgsHsTPV0Q1ueqo5BKUdbA2Qr7u+9nTcApzYFzj5GqXgMkVfXOMk5uQEQHjFmqU5J9vHIPJb1Bnc5Vgc9VdjTG4rotrIsF5GpNrU9AkHx/fBlNSjTFDYo4Jko6bm6Njc3NICu+cW8F03m+UKdwq3FDdM7kI8Xiczs7OsJtxWYnFYnz++edfOsfr/xPP88JuQuiM1U/CyLBnr7PAkGtesFFdfi7D8N/AzZDLogl6J86zU8rQY4bWzzifL9ZByc9VsVg86+du2VybghcKeh8AnKCK65D3GfpqQ6fkmiFtN8PuMec875w2nnMC557M+U4v+EnNl6435x6Y73A6Z9+coYdo+a6MvF/+8pe4rht2My4rp0+fZsyYMQojBGHk6aefpry8POymhEY9IyMlf30759+jfNWR4TUtzn2iweR+p7+g9/ua+4NXDXoWXByCKZ7nlDPLzbL46nf/Qhw659aFXebNl9z+snvyrTTDDzjnyzm8FYodMhpOnz7N+vXrw27GZeXuu+9m5cqVX1vZ+v+D1atXh92E0CmMjKDz/5365pfoS/WXstCHcZn/pb/c2y8iIud37pC6iIiIyChSGBERuUTa29tZsmQJS5Ysoampadhjv/nNbwqP7dq1i87OTpYsWcLvfve7S96u0Xyvb8Nay2uvvcajjz7Kk08+yf79+8855uOPP+bll18OoXVyKWiYRkTkEunr6+PNN98sfP70008zZcoUfN9n9erVdHV1AXDvvfdSXV3N3/72N7q7u7/Ra9fV1dHZ2UlHR8cFt2tgYOCC3mu0LV++nLfffpt77rmH/fv3M2PGDHbs2MGMGTMAyGazPPHEE6RSKZYtWxZya2UkKIyIiFxiiUSCgYEBduzYwZQpU2hubqarq6twP8DEiRN5//33KS4uHvbcAwcOsH//fsaPH09DQwPGGDKZDL29vfT09JBOp4nH4wB0dHTw0UcfUVVVxdSpUwHIZDLs27ePVCpFbW0te/bsoaGh4bzv1d/fT3NzM77vU19fT1FR0Sh8dYZraWlh/fr17N+/n0mTJgEQiUR4/vnnWbduHc888wyrVq2ira2N++67b9TbJ5eGhmlERC6xyspKamtr2bFjBwA7d+4E4Lrrrisc09bWRkNDA8uXLy/ct2LFCq688kpuueUWZsyYwaxZs2hra2Pu3LkcPXqUdDpNIpEA4Nlnn6WyspL58+dTV1fHXXfdhbWW1tZWGhoauP/++1mwYAELFiw473tt3ryZSZMmcd111zFnzhxqamp47bXXRuPLM0xXVxdNTU2FIAJQXV1NX18fEPQibd++nXvuuWfU2yaXjsKIiMgomDdvXiGM/Pvf/+YHP/gB48aN+9Lj33nnHf7yl78wf/583nnnHX7961/z/vvv8+yzz7JhwwYmTJhALBZj9+7d7Ny5k8cff5wbb7yRd955h+XLl7Np0yZWrlxZeL1t27Zx4sSJYQEk78SJEzQ2NpLJZFi3bh0bN27EWsuyZcs4cuTIyH8xvsLs2bNZs2ZN4fODBw/y8ssvs2TJEgCqqqqoq6ujoqJiVNsll5bCiIjIKLjhhhvYu3cvPT097Ny5kxtuuOErj49EglH0lpYW3nrrLRYvXkxLSwuPPfYY06ZNIxaL4TgO1157baEHY9GiRQAsXrwYgFdeeaXweuXl5ezZs4fnnnvunPfaunUr3d3d3HnnnTQ1NbF06VIaGxvp6+tjy5YtI3L+F8pay5o1a5gzZw4rVqw4ZwKw/N+iMCIiMgrmzZuH53n84x//4OOPP/7aMDJ37lx+9atfMTAwwJNPPslNN93EggULaG5uPufYQ4cOARR6R37yk58A8NlnnxWOmT179pdWiT18+HDhmLw5c+YAQc/EaGtra2PBggX84Q9/YNOmTd/ZVT8ychRGRERGwTXXXENJSQkrV67EWsu8efO+8vje3l5++9vfcvToUd566y3uvfdeDh06xOOPP37OsZWVlQDs2rUr2BvKWrLZLO3t7YVjHOfL/7mvra0FYPfu3YX7du3aBUBNTc03P8kR4HkeixYtYvLkybz33nvcfPPNo/r+Eg6FERGRUeC6LnPnzuXdd99lzJgx1NXVfeXxf/rTnxg3bhwPPvggpaWlzJ8/H2MMsVgMCDaaS6fT7Nmzh9tvvx2AZ555hg8//JAXXniBSCTyjZe9Llq0iJKSEl599VU2btzIpk2b2LBhA8lkkttuu+3iTvwCbd26ldbWVh5++GEOHDhAS0sLLS0toz53RUaXlvaKiIySefPm8a9//Ysbbrjha7c3eOCBB9i8eTNr1qwpTOicOHEizz//PBDMC1m1ahUzZ87EWstjjz3Gc889x1//+lcA5s+fz4svvsjJkye/tl1VVVWsXbuWFStW0NjYCEBZWRlr1qxh8uTJF3HGF+6DDz6gt7eXWbNmDbt/4cKF/P3vfx/Vtsjo0a69IiIXqamp6ZJtlNfc3Mzhw4cpLS1l5syZJJPJwmN79+6lu7u7MORz9OhRmpubueKKK6ivr7/g9+rt7WXv3r1Ya5k+fTqpVGrEzuOL7r77btauXas9pwg2ymtsbNSuvSIi8t00bdo0pk2bdt7H8hVJ86qrq6murv7W71VcXMz111//rZ8v8m1pzoiIiIiESmFEREREQqUwIiIiIqFSGBEREZFQKYyIiIhIqBRGREREJFQKIyIiIhIqhREREREJlcKIiIiIhEphREREREKlMCIiIiKhUhgRERGRUCmMiIiISKgURkRERCRUCiMiIiISKoURERERCZXCiIiIiITKWGtt2I0QEbmcPfjgg3R1dYXdjMuKtRbHcdAlCJLJJM8//zzl5eVhNyU0kbAbICJyuevq6mL9+vVhN+Oycvfdd7N27VqMMWE3JXSrV68Ouwmh0zCNiIiIhEphREREREKlYRoRkUvkkUceobW19byPFRcXa2jna3z88cfs2rWLZcuWFe6z1vL666/zn//8h1QqRVNTE1dddVWIrZSRoDAiInKJvP322+zZsweAbDYLgOu6GGMoKyu7qNeuq6ujs7OTjo6Oi27nd1E2m+WJJ54glUoNCyPLly/n7bff5p577mH//v3MmDGDHTt2MGPGjBBbKxdLYURE5BLZvXt34faVV17JgQMHOHjwINXV1cOO6+jo4KOPPqKqqoqpU6cOe2zfvn0cOnSIiooKrrnmGhzHIZPJ0NvbS09PD+l0mng8TiaTYd++faRSKWpra9mzZw8zZ84EoL+/n+bmZnzfp76+nqKiokt/8hfhmWeeYdWqVbS1tXHfffcV7m9paWH9+vXs37+fSZMmARCJRHj++edZt25dWM2VEaA5IyIiIXr22WeprKxk/vz51NXVcdddd2GtxfM87rjjDqZOncqtt97KrFmzqK+vp62tjblz53L06FHS6TSJRAKA1tZWGhoauP/++1mwYAELFiwAYPPmzUyaNInrrruOOXPmUFNTw2uvvRbmKX+te++9l+3bt3PPPfcMu7+rq4umpqZCEAGorq6mr69vtJsoI0xhREQkJDt37uTxxx/nxhtv5J133mH58uVs2rSJlStXsmXLFl5//XUWLlzItm3bWLFiBZ988gnr169nw4YNTJgwgVgsNqz3BWDbtm2cOHGC5cuXc+LECRobG8lkMqxbt46NGzdirWXZsmUcOXIkpLP+elVVVdTV1VFRUTHs/tmzZ7NmzZrC5wcPHuTll19myZIlo9xCGWkKIyIiIcn3UCxatAiAxYsXA/DKK6/wox/9iPfff5+VK1eSzWY5duwYEAzpTJs2jVgshuM4XHvttcNes7y8nD179vDcc8+xdetWuru7ufPOO2lqamLp0qU0NjbS19fHli1bRvFMR5a1ljVr1jBnzhxWrFhBU1NT2E2Si6Q5IyIiITl06BAAjz/++LD7P/vsMwAeeughtm/fztixY6mtrf1Grzl79mxc1wXg8OHDhfvy5syZw+rVqzl48OBFtz8MbW1tNDY2cvLkSTZt2sTNN98cdpNkBKhnREQkJJWVlQDs2rULay3WWrLZLO3t7bz44ots376dp556ivb2du6///5v9JqOc/af9XyAGTqUs2vXLgBqampG6jRGjed5LFq0iMmTJ/Pee+8piPwfojAiIhKS22+/HQhWj3z44Ye88MILRCIRli1bRnd3NxDMi3jjjTdYtWoVQGEvl1gsRjqdLiwdPp9FixZRUlLCq6++ysaNG9m0aRMbNmwgmUxy2223XeKzG3lbt26ltbWVhx9+mAMHDtDS0kJLS8t3ev6LfDMKIyIiIVm4cCGPPfYYb775JtOnT+fRRx9l/vz5vPjiiyxbtoxUKsVLL73E0qVLuemmm4Bg0isE80ustYXlu+dTVVXF2rVrcRyHxsbGwkqdNWvWMHny5FE5x5H0wQcf0Nvby6xZs2hoaCj8+cUvfhF20+QiaddeEZGL1NTUdFHVVI8ePUpzczNXXHEF9fX1hfvb29vZu3cvDQ0NTJw48Zzn7d27l+7ububNm/eVr9/b28vevXux1jJ9+nRSqdS3butI0UZ5Z61evZrGxkbt2isiIuGprq4+pxAawPjx47nlllu+9HnftOpocXEx119//bdun8ilpmEaERERCZXCiIiIiIRKYURERERCpTAiIiIioVIYERERkVApjIiIiEioFEZEREQkVAojIiIiEiqFEREREQmVwoiIiIiESmFEREREQqUwIiIiIqFSGBEREZFQKYyIiIhIqBRGREREJFQKIyIiIhIqhREREREJlbHW2rAbISJyOXvggQfo7u4OuxmXFd/3cV0XXYIgkUjwwgsvUF5eHnZTQhMJuwEiIpe77u5u1q9fH3YzLit33303a9euxRgTdlNCt3r16rCbEDoN04iIiEioFEZEREQkVBqmERG5RB555BFaW1vP+1hxcfGID+10dnZy33330dDQwFNPPTWiry1yKSmMiIhcIm+//TZ79uwBIJvNAuC6LsYYysrKvtFr1NXV0dnZSUdHx9ceOzAwwJtvvsnp06e/faNFQqAwIiJyiezevbtw+8orr+TAgQMcPHiQ6urqYcf19/fT3NyM7/vU19dTVFQEQCaTobe3l56eHtLpNPF4HIB9+/Zx6NAhKjweMYAAAAP+SURBVCoquOaaa3AcjbjL5U0/wSIiIdq8eTOTJk3iuuuuY86cOdTU1PDaa68BMHfuXI4ePUo6nSaRSOB5HnfccQdTp07l1ltvZdasWdTX19PW1hbyWYhcHIUREZGQnDhxgsbGRjKZDOvWrWPjxo1Ya1m2bBlHjhxhw4YNTJgwgVgsxu7du9myZQuvv/46CxcuZNu2baxYsYJPPvlEy4rlsqdhGhGRkGzdupXu7m5+9rOf0dTUBMC7777L6tWr2bJlCz//+c+JxWI4jsO1117LpEmTeP/994lGoxw+fJhjx44BfKP5JCLfZeoZEREJyeHDhwGYPXt24b45c+YAcPDgwfM+56GHHqK+vp7GxkaOHz9+6RspMgoURkREQlJbWwsMn+i6a9cuAGpqas45/sUXX2T79u089dRTtLe3c//9949OQ0UuMQ3TiIiEZNGiRZSUlPDqq6/y4x//GGMMGzZsIJlMcttttwEQi8VIp9Ps2bOnsP/NwYMHeeONN1i1ahWA9neRy556RkREQlJVVcXatWtxHIfGxkbuuusurLWsWbOGyZMnA7B48WKstcycOZNly5aRSqV46aWXWLp0KTfddBMAO3fuDPM0RC6aekZEREbBl1ViXbJkCQsXLmTv3r1Ya5k+fTqpVKrw+B//+Ed++tOf0t3dzcyZM/nvf//L3r17aWhoYOLEifz5z38uHFtdXa1eErksKYyIiISsuLiY66+//ksfnzFjRuH2+PHjueWWW0ajWSKjRsM0IiIiEiqFEREREQmVwoiIiIiESmFEREREQqUwIiIiIqFSGBEREZFQKYyIiIhIqBRGREREJFQKIyIiIhIqhREREREJlcKIiIiIhEphREREREKlMCIiIiKhUhgRERGRUCmMiIiISKgURkRERCRUCiMiIiISqkjYDRARudx1dXXx+9//PuxmXFbi8TjPPfdc2M34Tvjoo4+44447wm5GqIy11obdCBGRy9k///lPKioqwm7GZcVxHHzfD7sZ3wlnzpzhxhtvJBaLhd2U0CiMiIiISKg0Z0RERERCpTAiIiIioVIYERERkVApjIiIiEioFEZEREQkVAojIiIiEiqFEREREQmVwoiIiIiESmFEREREQqUwIiIiIqFSGBEREZFQKYyIiIhIqBRGREREJFQKIyIiIhIqhREREREJlcKIiIiIhEphREREREKlMCIiIiKhUhgRERGRUCmMiIiISKgURkRERCRUCiMiIiISKoURERERCZXCiIiIiIRKYURERERCpTAiIiIioVIYERERkVApjIiIiEioFEZEREQkVAojIiIiEiqFEREREQmVwoiIiIiESmFEREREQqUwIiIiIqFSGBEREZFQ/S/T9wTmt16bjQAAAABJRU5ErkJggg==)\n",
        "\n",
        "*    a)¿A cuántos estudiantes se les ha realizado la encuesta?\n",
        "*    b)¿Cuántos alumnos prefieren los libros de terror?\n",
        "*    c)¿Qué libros son los que más gustan? ¿y los que menos?"
      ],
      "metadata": {
        "id": "r2gM49-93ApN"
      }
    },
    {
      "cell_type": "markdown",
      "source": [
        "**Respuestas:**"
      ],
      "metadata": {
        "id": "bJxHQB_CTNvH"
      }
    },
    {
      "cell_type": "code",
      "source": [
        "libros = pd.Series([3,24,30,21,12], index = ['Poesia', 'Terror', 'Aventuras', 'Misterio', 'Teatro'])"
      ],
      "metadata": {
        "id": "JJJWkLAWTPtg"
      },
      "execution_count": null,
      "outputs": []
    },
    {
      "cell_type": "code",
      "source": [
        "# a) Total de estudiantes encuestados\n",
        "totalestudiantes = libros.sum()"
      ],
      "metadata": {
        "id": "26SAIltPTlJG"
      },
      "execution_count": null,
      "outputs": []
    },
    {
      "cell_type": "code",
      "source": [
        "# b) Preferencia por libros de terror\n",
        "libros['Terror']"
      ],
      "metadata": {
        "colab": {
          "base_uri": "https://localhost:8080/"
        },
        "id": "PFwM_LhHTtvM",
        "outputId": "4608fb7d-1b03-48a4-f64a-26b4fbc21756"
      },
      "execution_count": null,
      "outputs": [
        {
          "output_type": "execute_result",
          "data": {
            "text/plain": [
              "24"
            ]
          },
          "metadata": {},
          "execution_count": 96
        }
      ]
    },
    {
      "cell_type": "code",
      "source": [
        "# c) Libros que mas gustan\n",
        "libros.loc[lambda x: x == max(libros)]"
      ],
      "metadata": {
        "colab": {
          "base_uri": "https://localhost:8080/"
        },
        "id": "Usyu2Of8T19a",
        "outputId": "a45554ab-ea63-47bd-bc69-2a41a683e08f"
      },
      "execution_count": null,
      "outputs": [
        {
          "output_type": "execute_result",
          "data": {
            "text/plain": [
              "Aventuras    30\n",
              "dtype: int64"
            ]
          },
          "metadata": {},
          "execution_count": 99
        }
      ]
    },
    {
      "cell_type": "code",
      "source": [
        "#c) Libros que menos gustan\n",
        "libros.loc[lambda x: x== min(libros)]"
      ],
      "metadata": {
        "colab": {
          "base_uri": "https://localhost:8080/"
        },
        "id": "PiNzOFi6UUPs",
        "outputId": "bd7ef422-618b-4786-b0b2-c901c133072b"
      },
      "execution_count": null,
      "outputs": [
        {
          "output_type": "execute_result",
          "data": {
            "text/plain": [
              "Poesia    3\n",
              "dtype: int64"
            ]
          },
          "metadata": {},
          "execution_count": 100
        }
      ]
    },
    {
      "cell_type": "markdown",
      "source": [
        "### 7) A 40 estudiantes se les pidió que estimen el número de horas que habrían dedicado a estudiar la semana pasada (tanto en clase como fuera de ella), obteniéndose los siguientes resultados:\n",
        "![image.png](data:image/png;base64,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)\n",
        "\n",
        "Construya la tabla de frecuencias correspondiente y obtenga las medidas\n",
        "de tendencia central (media, mediana y moda).\n",
        "TIEMPO (en días): 15, 12, 20, 22, 14, 14, 15, 27, 21\n",
        "\n",
        "*    a) Determine el tiempo promedio requerido y el desvío estándar.\n",
        "*    b) Determine el rango y la mediana.\n",
        "*    c) Otro estudio contable emplea el mismo promedio para terminar las\n",
        "auditorías con un desvío de 4 días. \n",
        "¿Cuál de los dos estudios es más\n",
        "homogéneo en cuanto al tiempo de finalización de las auditorías?"
      ],
      "metadata": {
        "id": "Y3ycO30K3es4"
      }
    },
    {
      "cell_type": "markdown",
      "source": [
        "**Respuestas**"
      ],
      "metadata": {
        "id": "V6HDXEeia5CN"
      }
    },
    {
      "cell_type": "code",
      "source": [
        "horas = np.array(\n",
        "    [\n",
        "    [36,30,47,60,32,35,40,50],\n",
        "    [54,35,45,52,48,58,60,38],\n",
        "    [32,35,56,48,30,55,49,39],\n",
        "    [58,50,65,35,56,47,37,56],\n",
        "    [58,50,47,58,55,39,58,45]\n",
        "     ]\n",
        "    \n",
        ")"
      ],
      "metadata": {
        "id": "QDI_XQGrVWJx"
      },
      "execution_count": 30,
      "outputs": []
    },
    {
      "cell_type": "code",
      "source": [
        "frecuencia_absoluta = sum(horas)"
      ],
      "metadata": {
        "id": "z-7cU2cjXaV5"
      },
      "execution_count": 31,
      "outputs": []
    },
    {
      "cell_type": "code",
      "source": [
        "frecuencia_relativa = (horas / frecuencia_absoluta)"
      ],
      "metadata": {
        "id": "E1FaS-JuXfi2"
      },
      "execution_count": 32,
      "outputs": []
    },
    {
      "cell_type": "code",
      "source": [
        "media = horas.mean"
      ],
      "metadata": {
        "id": "0Qh0dWbrXzhv"
      },
      "execution_count": 33,
      "outputs": []
    },
    {
      "cell_type": "code",
      "source": [
        "mediana = np.median(horas)"
      ],
      "metadata": {
        "id": "WgXa5RNuX9Xz"
      },
      "execution_count": 34,
      "outputs": []
    },
    {
      "cell_type": "code",
      "source": [
        "vector_horas = np.ravel(horas)\n",
        "moda = stat.mode(vector_horas)"
      ],
      "metadata": {
        "id": "JwYxQ_VHaAM7",
        "colab": {
          "base_uri": "https://localhost:8080/",
          "height": 183
        },
        "outputId": "895999bb-a265-4649-a10a-d1b1774cfc62"
      },
      "execution_count": 36,
      "outputs": [
        {
          "output_type": "error",
          "ename": "NameError",
          "evalue": "ignored",
          "traceback": [
            "\u001b[0;31m---------------------------------------------------------------------------\u001b[0m",
            "\u001b[0;31mNameError\u001b[0m                                 Traceback (most recent call last)",
            "\u001b[0;32m<ipython-input-36-9af91830b1f2>\u001b[0m in \u001b[0;36m<cell line: 2>\u001b[0;34m()\u001b[0m\n\u001b[1;32m      1\u001b[0m \u001b[0mvector_horas\u001b[0m \u001b[0;34m=\u001b[0m \u001b[0mnp\u001b[0m\u001b[0;34m.\u001b[0m\u001b[0mravel\u001b[0m\u001b[0;34m(\u001b[0m\u001b[0mhoras\u001b[0m\u001b[0;34m)\u001b[0m\u001b[0;34m\u001b[0m\u001b[0;34m\u001b[0m\u001b[0m\n\u001b[0;32m----> 2\u001b[0;31m \u001b[0mmoda\u001b[0m \u001b[0;34m=\u001b[0m \u001b[0mstat\u001b[0m\u001b[0;34m.\u001b[0m\u001b[0mmode\u001b[0m\u001b[0;34m(\u001b[0m\u001b[0mvector_horas\u001b[0m\u001b[0;34m)\u001b[0m\u001b[0;34m\u001b[0m\u001b[0;34m\u001b[0m\u001b[0m\n\u001b[0m",
            "\u001b[0;31mNameError\u001b[0m: name 'stat' is not defined"
          ]
        }
      ]
    },
    {
      "cell_type": "markdown",
      "source": [
        "### 8) Considérense los siguientes datos:  3, 8, 4, 10, 6, 2. Se pide:\n",
        "*    a) Calcular su media y su varianza.\n",
        "*    b) Si a los datos anteriores los multiplicamos por 3, ¿cuáles serán la nueva\n",
        "media y varianza?"
      ],
      "metadata": {
        "id": "CFiRv2OZ4BeK"
      }
    },
    {
      "cell_type": "code",
      "source": [
        "datos = pd.Series([3,8,4,10,6,2])"
      ],
      "metadata": {
        "id": "auHNfS_0s4Ca"
      },
      "execution_count": null,
      "outputs": []
    },
    {
      "cell_type": "code",
      "source": [
        "# a) media\n",
        "media = datos.mean"
      ],
      "metadata": {
        "id": "nkhb2NcMtIIb"
      },
      "execution_count": null,
      "outputs": []
    },
    {
      "cell_type": "code",
      "source": [
        "#a) varianza\n",
        "vrianza = datos.var()"
      ],
      "metadata": {
        "id": "zdNYNQVvtLIV"
      },
      "execution_count": null,
      "outputs": []
    },
    {
      "cell_type": "code",
      "source": [
        "# b) \n",
        "datos_dos = datos*3"
      ],
      "metadata": {
        "id": "LGprRW3vtl9k"
      },
      "execution_count": null,
      "outputs": []
    },
    {
      "cell_type": "code",
      "source": [
        "# media\n",
        "media_dos = datos_dos.mean()"
      ],
      "metadata": {
        "id": "YlRAfe2Dt4NL"
      },
      "execution_count": null,
      "outputs": []
    },
    {
      "cell_type": "code",
      "source": [
        "#varianza\n",
        "varianza_dos = datos_dos.var()"
      ],
      "metadata": {
        "id": "GI-UVWA1t6RK"
      },
      "execution_count": null,
      "outputs": []
    },
    {
      "cell_type": "markdown",
      "source": [
        "### 9) Con el fin de estimar el tiempo (en días) requerido para terminar auditorías de fin de año, un estudio contable selecciona una muestra de 10 clientes obteniendo los siguientes valores:"
      ],
      "metadata": {
        "id": "FPToXkDb4LPR"
      }
    },
    {
      "cell_type": "code",
      "source": [
        "dias = pd.Series([15,12,20,22,14,14,15,27,21])"
      ],
      "metadata": {
        "id": "R7qyJ4IXuDSu"
      },
      "execution_count": null,
      "outputs": []
    },
    {
      "cell_type": "code",
      "source": [
        "#a) timepo promedio\n",
        "timepo_promedio = dias.mean"
      ],
      "metadata": {
        "id": "lqX4NUFAuV09"
      },
      "execution_count": null,
      "outputs": []
    },
    {
      "cell_type": "code",
      "source": [
        "#a) desvio estandar\n",
        "desvio_estandar = dias.std()"
      ],
      "metadata": {
        "id": "lntA-4ozulA-"
      },
      "execution_count": null,
      "outputs": []
    },
    {
      "cell_type": "code",
      "source": [
        "#b) rango\n",
        "rango = max(dias) - min(dias)"
      ],
      "metadata": {
        "id": "Ht49u6k7uvuG"
      },
      "execution_count": null,
      "outputs": []
    },
    {
      "cell_type": "code",
      "source": [
        "#b) mediana\n",
        "mediana = dias.median()"
      ],
      "metadata": {
        "id": "MMwg7GVivNva"
      },
      "execution_count": null,
      "outputs": []
    },
    {
      "cell_type": "code",
      "source": [
        "#c) comparacion de homogeneidad con estudio b\n",
        "desvio_b = 4\n",
        "\n",
        "if desvio_estandar > desvio_b:\n",
        "  print('El mas homogeneo es el estudio b')\n",
        "else:\n",
        "  print('El mas homogeneo es el estudio a')"
      ],
      "metadata": {
        "colab": {
          "base_uri": "https://localhost:8080/"
        },
        "id": "Sv0tRXNuygfv",
        "outputId": "b5be6ddc-ba11-4616-d68d-5296db5080b1"
      },
      "execution_count": 26,
      "outputs": [
        {
          "output_type": "stream",
          "name": "stdout",
          "text": [
            "El mas homogeneo es el estudio b\n"
          ]
        }
      ]
    },
    {
      "cell_type": "markdown",
      "source": [
        "### 10) Las temperaturas máximas en una ciudad durante el mes de julio fueron:\n",
        "\n",
        "28, 29, 28, 30, 30, 29, 30, 31, 29, 29, 30, 31, 31, 31, 32, 33,\n",
        "34, 34, 35, 31, 31, 32, 32, 33, 33, 31, 32, 32, 33, 33, 34.\n",
        "\n",
        "Calcular: \n",
        "*   media \n",
        "*   Mediana\n",
        "*   Moda\n",
        "*   Rango\n",
        "*   Varianza\n",
        "*   Desviación típica"
      ],
      "metadata": {
        "id": "wA5-Mkdi5g6_"
      }
    },
    {
      "cell_type": "markdown",
      "source": [
        "**Respuestas**"
      ],
      "metadata": {
        "id": "4Jl4ejbo0rpH"
      }
    },
    {
      "cell_type": "code",
      "source": [
        "temperaturas_julio = pd.Series([28, 29, 28, 30, 30, 29, 30, 31, 29, 29, 30, 31, 31, 31, 32, 33,\n",
        "34, 34, 35, 31, 31, 32, 32, 33, 33, 31, 32, 32, 33, 33, 34])"
      ],
      "metadata": {
        "id": "AX3Z9HMwwpUu"
      },
      "execution_count": null,
      "outputs": []
    },
    {
      "cell_type": "code",
      "source": [
        "media = temperaturas_julio.mean\n",
        "mediana = temperaturas_julio.median()\n",
        "moda = temperaturas_julio.mode()\n",
        "rango = max(temperaturas_julio) - min(temperaturas_julio)\n",
        "varianza = temperaturas_julio.var()\n",
        "desviacion = temperaturas_julio.std()"
      ],
      "metadata": {
        "id": "1vL6q6UXwwwR"
      },
      "execution_count": null,
      "outputs": []
    }
  ]
}