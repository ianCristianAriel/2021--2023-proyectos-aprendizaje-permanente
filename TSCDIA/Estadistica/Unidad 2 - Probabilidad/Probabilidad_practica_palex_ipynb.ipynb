{
  "nbformat": 4,
  "nbformat_minor": 0,
  "metadata": {
    "colab": {
      "provenance": []
    },
    "kernelspec": {
      "name": "python3",
      "display_name": "Python 3"
    },
    "language_info": {
      "name": "python"
    }
  },
  "cells": [
    {
      "cell_type": "code",
      "source": [
        "from collections import Counter"
      ],
      "metadata": {
        "id": "CTC9MUloxrKN"
      },
      "execution_count": 18,
      "outputs": []
    },
    {
      "cell_type": "markdown",
      "source": [
        "# Probabilidad - ejersicios de aplicacion: "
      ],
      "metadata": {
        "id": "0GdWnlkeY_7O"
      }
    },
    {
      "cell_type": "markdown",
      "source": [
        "1) Se lanzan  dos monedas.\n",
        "*    a- Identificar el espacio muestral\n",
        "*    b- Identificar los eventos para los que la primera sea cara y los eventos para los que la segunda sea cruz."
      ],
      "metadata": {
        "id": "FjxKYNgoZGCO"
      }
    },
    {
      "cell_type": "code",
      "source": [
        "#a)\n",
        "S_monedas = [('Cara', 'Cruz'), ('Cara', 'Cara'), ('Cruz', 'Cruz'), ('Cruz', 'Cara')]"
      ],
      "metadata": {
        "id": "zOqM-_LEvawv"
      },
      "execution_count": null,
      "outputs": []
    },
    {
      "cell_type": "code",
      "source": [
        "#b)\n",
        "primera_cara = [('Cara', 'Cruz'), ('Cara', 'Cara')]\n",
        "segunda_cruz = [('Cara', 'Cruz'), ('Cruz', 'Cara')]"
      ],
      "metadata": {
        "id": "D8NW97Wrvyvx"
      },
      "execution_count": null,
      "outputs": []
    },
    {
      "cell_type": "markdown",
      "source": [
        "2) Lanzar una moneda y un dado\n",
        "*   a- Identificar el espacio muestral del experimento\n",
        "*   b- Identificar el evento en que la moneda caiga en cara"
      ],
      "metadata": {
        "id": "QMp5GjhjZsZk"
      }
    },
    {
      "cell_type": "code",
      "source": [
        "#a)\n",
        "dado = [1,2,3,4,5,6]"
      ],
      "metadata": {
        "id": "0TcXayKkwhDb"
      },
      "execution_count": null,
      "outputs": []
    },
    {
      "cell_type": "code",
      "source": [
        "moneda = ['cara', 'cruz']"
      ],
      "metadata": {
        "id": "dPZtDzlLwqk3"
      },
      "execution_count": null,
      "outputs": []
    },
    {
      "cell_type": "code",
      "source": [
        "S_moneda_dado = []"
      ],
      "metadata": {
        "id": "Vh_XyUMCwK9z"
      },
      "execution_count": null,
      "outputs": []
    },
    {
      "cell_type": "code",
      "source": [
        "for j in range(2):\n",
        "  for i in dado:\n",
        "    S_moneda_dado.append((i, moneda[j]))"
      ],
      "metadata": {
        "id": "G2BhyCA8wnG-"
      },
      "execution_count": null,
      "outputs": []
    },
    {
      "cell_type": "code",
      "source": [
        "#b)\n",
        "b = ['Cara', 1, 'Cara', 2,'Cara', 3,'Cara', 4,'Cara', 5,'Cara', 6]\n"
      ],
      "metadata": {
        "id": "y72K6Q3Qx82c"
      },
      "execution_count": null,
      "outputs": []
    },
    {
      "cell_type": "markdown",
      "source": [
        "3) En una urna hay una bola roja, dos azules y tres blancas\n",
        "*    a- Identificar el espacio muestral.\n",
        "*    b- Identificar el evento en que se ssque una bola que no sea blanca."
      ],
      "metadata": {
        "id": "wXBOtheOaAqg"
      }
    },
    {
      "cell_type": "code",
      "source": [
        "#a)\n",
        "S_urna = ['Roja', 'Azul', 'Azul', 'Blanca', 'Blanca', 'Blanca']"
      ],
      "metadata": {
        "id": "iNeCNdrSyz1X"
      },
      "execution_count": null,
      "outputs": []
    },
    {
      "cell_type": "code",
      "source": [
        "#b)\n",
        "b = ['Roja', 'Azul', 'Azul']\n"
      ],
      "metadata": {
        "id": "Lykzh0YNzSHt"
      },
      "execution_count": null,
      "outputs": []
    },
    {
      "cell_type": "markdown",
      "source": [
        "4) En una urna hay cuatro bolas rojas, dos azules y una amarilla, si se saca una al azar, cual es la peobabilidad de:\n",
        "*    a-Bola roja\n",
        "*    b-Bola azul\n",
        "*    c-Bola Negra\n",
        "*    d-Bola amarilla o azul"
      ],
      "metadata": {
        "id": "NwYEDBKJwjq4"
      }
    },
    {
      "cell_type": "code",
      "source": [
        "urna = ['R', 'R', 'R', 'R', 'A', 'A', 'Am']"
      ],
      "metadata": {
        "id": "60TAxFnUxKn3"
      },
      "execution_count": null,
      "outputs": []
    },
    {
      "cell_type": "code",
      "source": [
        "contador = Counter(urna)"
      ],
      "metadata": {
        "id": "HuBUYPoUxyTw"
      },
      "execution_count": null,
      "outputs": []
    },
    {
      "cell_type": "code",
      "source": [
        "Pr = contador['R'] / len(urna)"
      ],
      "metadata": {
        "id": "o0PKTpCLxYOx"
      },
      "execution_count": null,
      "outputs": []
    },
    {
      "cell_type": "code",
      "source": [
        "Pa = contador['A'] / len(urna)"
      ],
      "metadata": {
        "id": "vUtfc8z8x6q5"
      },
      "execution_count": null,
      "outputs": []
    },
    {
      "cell_type": "code",
      "source": [
        "Pn = contador['N'] / len(urna)"
      ],
      "metadata": {
        "id": "B9IMdYjZyFql"
      },
      "execution_count": null,
      "outputs": []
    },
    {
      "cell_type": "code",
      "source": [
        "Pam_a = (contador['A'] + contador['Am']) / len(urna)\n"
      ],
      "metadata": {
        "id": "2jFwpx5XyM84"
      },
      "execution_count": null,
      "outputs": []
    },
    {
      "cell_type": "markdown",
      "source": [
        "5) En una urna hay 6 bolas amarillas, 4 azules, 2 rojas y 4 negras ¿Cual es la probabilidad de?:\n",
        "*    a- Sacar una bola negra.\n",
        "*    b- Sacar una bola amarilla.\n",
        "*    c- Sacar una bola de un color primario.\n",
        "*    d- Sacar una bola verde."
      ],
      "metadata": {
        "id": "UjAy3YNWy1Yb"
      }
    },
    {
      "cell_type": "code",
      "source": [
        "urna = ['Am', 'Am', 'Am', 'Am', 'Am', 'Am', 'A','A','A','A', 'R', 'R', 'N', 'N', 'N', 'N']"
      ],
      "metadata": {
        "id": "PTlxE6q1zjnE"
      },
      "execution_count": null,
      "outputs": []
    },
    {
      "cell_type": "code",
      "source": [
        "contador = Counter(urna)"
      ],
      "metadata": {
        "id": "qwVQ30vDz0u6"
      },
      "execution_count": null,
      "outputs": []
    },
    {
      "cell_type": "code",
      "source": [
        "Pn = contador['N'] / len(urna)"
      ],
      "metadata": {
        "id": "N76cg6piz9yw"
      },
      "execution_count": null,
      "outputs": []
    },
    {
      "cell_type": "code",
      "source": [
        "Pa = contador['Am'] / len(urna)"
      ],
      "metadata": {
        "id": "TRyif0a60E7e"
      },
      "execution_count": null,
      "outputs": []
    },
    {
      "cell_type": "code",
      "source": [
        "Pp = (contador['A'] + contador['R'] + contador['Am']) / len(urna)"
      ],
      "metadata": {
        "id": "ymVFtIW-0Mma"
      },
      "execution_count": null,
      "outputs": []
    },
    {
      "cell_type": "code",
      "source": [
        "Pv = contador['V'] / len(urna)"
      ],
      "metadata": {
        "id": "hkt5RrUk0gB8"
      },
      "execution_count": null,
      "outputs": []
    },
    {
      "cell_type": "markdown",
      "source": [
        "6) Se lanzan dos dados al azar, calcular la probabilidad de que:\n",
        "*    a-La suma sea cuatro\n",
        "*    b-Que los dados caigan en el mismo numero"
      ],
      "metadata": {
        "id": "pAWFyshu7A-n"
      }
    },
    {
      "cell_type": "code",
      "source": [
        "dado_a = [1,2,3,4,5,6]"
      ],
      "metadata": {
        "id": "idQo6PqU7bz-"
      },
      "execution_count": null,
      "outputs": []
    },
    {
      "cell_type": "code",
      "source": [
        "dado_b = [1,2,3,4,5,6]"
      ],
      "metadata": {
        "id": "G6kDQSl77gYN"
      },
      "execution_count": null,
      "outputs": []
    },
    {
      "cell_type": "code",
      "source": [
        "S = []\n",
        "for i in dado_a:\n",
        "  for j in dado_b:\n",
        "    S.append(((i), (j)))"
      ],
      "metadata": {
        "id": "Db6TbB-Y7lXc"
      },
      "execution_count": null,
      "outputs": []
    },
    {
      "cell_type": "code",
      "source": [
        "#a)\n",
        "def suma_cuatro(valor):\n",
        "  contador = []\n",
        "  for i in valor:\n",
        "    if sum(i) == 4:\n",
        "      contador.append(i)\n",
        "  return(contador)"
      ],
      "metadata": {
        "id": "-Dxb7NlFIz2m"
      },
      "execution_count": null,
      "outputs": []
    },
    {
      "cell_type": "code",
      "source": [
        "Pc = len(suma_cuatro(S)) / len(S)"
      ],
      "metadata": {
        "id": "Tuh0kFlh7_nB"
      },
      "execution_count": null,
      "outputs": []
    },
    {
      "cell_type": "code",
      "source": [
        "#b)\n",
        "def mismo_numero(valor):\n",
        "  contador = []\n",
        "  for i in valor:\n",
        "    if i[0] == i[1]:\n",
        "      contador.append(i)\n",
        "  return contador"
      ],
      "metadata": {
        "id": "DLV3XfyeKIHw"
      },
      "execution_count": null,
      "outputs": []
    },
    {
      "cell_type": "code",
      "source": [
        "Pi = len(mismo_numero(S)) / len(S)"
      ],
      "metadata": {
        "id": "0afinBePKlqF"
      },
      "execution_count": null,
      "outputs": []
    },
    {
      "cell_type": "markdown",
      "source": [
        "7) En una cena asisten 28 hombres y 32 mujeres comieron flan 16 hombres y 20 mujeres, los demas comieron torta, si elegimos al azar uno de los comenzales, calcule la probabilidad de que:\n",
        "\n",
        "*    a- Se hombre\n",
        "*    b- Sea mujer o halla comido flan\n",
        "*    c- Halla comido torta"
      ],
      "metadata": {
        "id": "gOtZgrEGsP-G"
      }
    },
    {
      "cell_type": "code",
      "source": [
        "h = 28\n",
        "m = 32\n",
        "fh = 16\n",
        "fm = 20\n",
        "t = h + m - fh - fm "
      ],
      "metadata": {
        "id": "n4ceJE3ms5X2"
      },
      "execution_count": null,
      "outputs": []
    },
    {
      "cell_type": "code",
      "source": [
        "#a)\n",
        "Ph = h / (h + m) "
      ],
      "metadata": {
        "id": "u7At3RhetLEo"
      },
      "execution_count": null,
      "outputs": []
    },
    {
      "cell_type": "code",
      "source": [
        "#b) Se utiliza la formula de sucesos no exluyentes\n",
        "Pmf = (m / (h + m)) + ((fm + fh) / (h + m) ) - (fm / (h + m))"
      ],
      "metadata": {
        "id": "RF2q5A4VtV9G"
      },
      "execution_count": null,
      "outputs": []
    },
    {
      "cell_type": "code",
      "source": [
        "#c)\n",
        "Pt = t / (h + m)"
      ],
      "metadata": {
        "id": "PpnNFtnruNgB"
      },
      "execution_count": null,
      "outputs": []
    },
    {
      "cell_type": "markdown",
      "source": [
        "8) En una urna hay 5 esfera azules, 2 rojas y 1 verde; si sacan al azar dos esferas consecutivas **con remplazo**, cual es la probabilidad de que:\n",
        "\n",
        "*    a- La primera sea azul y la segunda verde.\n",
        "*    b- Las dos sean rojas."
      ],
      "metadata": {
        "id": "RFrv8BdeQGcf"
      }
    },
    {
      "cell_type": "code",
      "source": [
        "urna = ['A', 'A', 'A', 'A', 'A', 'R', 'R', 'V']\n",
        "contador = Counter(urna)"
      ],
      "metadata": {
        "id": "Z8cjfOBMQnZH"
      },
      "execution_count": null,
      "outputs": []
    },
    {
      "cell_type": "code",
      "source": [
        "#a)\n",
        "Pa = contador['A'] / len(urna)\n",
        "Pv = contador['V'] / len(urna)\n",
        "Pa_v = Pa * Pv"
      ],
      "metadata": {
        "id": "2EZGAWmLQvQQ"
      },
      "execution_count": null,
      "outputs": []
    },
    {
      "cell_type": "code",
      "source": [
        "#b)\n",
        "Pr = contador['R'] / len(urna)\n",
        "Pr_dos = contador['R'] / len(urna)-1\n",
        "Prr = Pr * Pr_dos"
      ],
      "metadata": {
        "id": "keZAh_YwRp3_"
      },
      "execution_count": null,
      "outputs": []
    },
    {
      "cell_type": "markdown",
      "source": [
        "9) En una empresa se fabrican balones siendo el 60% de football y el porcentaje restante de basketball, si sesabe que la probabilidad de que un baloncesto de football y basketball sea defectuoso en un 0.05 y 0.03. \n",
        "\n",
        "*   a-¿Si se selecciona un balon al azar cual es la probabilidad de que este sea uno de basquetball sano?"
      ],
      "metadata": {
        "id": "ciSGwjxsZ-KZ"
      }
    },
    {
      "cell_type": "code",
      "source": [
        "balones_f = 0.6\n",
        "balones_b = 0.4\n",
        "balones_f_d = 0.05\n",
        "balones_b_d = 0.03"
      ],
      "metadata": {
        "id": "YxBlVVKTS1B8"
      },
      "execution_count": null,
      "outputs": []
    },
    {
      "cell_type": "code",
      "source": [
        "#a)\n",
        "Pbs = balones_b * (1 - balones_b_d)"
      ],
      "metadata": {
        "id": "u1hWbw49a27q"
      },
      "execution_count": null,
      "outputs": []
    },
    {
      "cell_type": "markdown",
      "source": [
        "10) En un curso el 80% de los estudiantes aprobo matematicas, el 75% aprobo ingles, y de los estudiantes que aprueban matematicas el 90% aprueba ingles, \n",
        "*    a-¿Cual es la probabilidad de que al escoger un alumno al azar que aprobo ingles, ademas el mismo tenga aprobado matematica?"
      ],
      "metadata": {
        "id": "NBSQLaewFnks"
      }
    },
    {
      "cell_type": "code",
      "source": [
        "Pm = 0.8\n",
        "Pi = 0.75\n",
        "Pm_i = 0.9"
      ],
      "metadata": {
        "id": "kmujz8beGc_i"
      },
      "execution_count": 3,
      "outputs": []
    },
    {
      "cell_type": "code",
      "source": [
        "#P(B/A) = P(A∩B)/P(A)\n",
        "#P(A/B) = P(A∩B)/P(B)\n",
        "\n",
        "Pmi = Pm_i * Pm\n",
        "Pi_m = Pmi / Pi"
      ],
      "metadata": {
        "id": "D42D-ZXLGn4W"
      },
      "execution_count": 11,
      "outputs": []
    },
    {
      "cell_type": "code",
      "source": [
        "Pi_m"
      ],
      "metadata": {
        "colab": {
          "base_uri": "https://localhost:8080/"
        },
        "id": "4jcMRRYhhcjM",
        "outputId": "f3c865b8-7b24-45e2-f851-81a1679b6e7a"
      },
      "execution_count": 12,
      "outputs": [
        {
          "output_type": "execute_result",
          "data": {
            "text/plain": [
              "0.9600000000000001"
            ]
          },
          "metadata": {},
          "execution_count": 12
        }
      ]
    },
    {
      "cell_type": "markdown",
      "source": [
        "11) En una clase 40 de los 50 estudiantes entrego todos los trabajos, de estos 40 tienen una 0.8 probabilidad de aprobar, ademas de los que no entregaron los trabajos solo aprobaran 3. \n",
        "\n",
        "*   -a Si un estudiante no entrego todos los trabajos que probabilidad hay de que pierda la materia"
      ],
      "metadata": {
        "id": "b3OjmmYUrLCV"
      }
    },
    {
      "cell_type": "code",
      "source": [
        "E = 50 #Cantidad de estudiantes\n",
        "Ee = 40 / E #Estudiantes que entregaron\n",
        "Ene = 10 / E #Estudiantes que no entregaron\n",
        "\n",
        "\n",
        "Pea = 0.8 #Probabilidad de aprobar de los estudiantes que entregaron\n",
        "Pnea = 3 / 10 #Probabilidad de aprobar de los estudiantes que no entregaron"
      ],
      "metadata": {
        "id": "tCELE9J2rtHT"
      },
      "execution_count": 15,
      "outputs": []
    },
    {
      "cell_type": "code",
      "source": [
        "#P(B/A) = P(A∩B)/P(A)\n",
        "#P(A/B) = P(A∩B)/P(B)\n",
        "a = 1 - Pnea"
      ],
      "metadata": {
        "id": "fu8RA8hxsFtL"
      },
      "execution_count": 16,
      "outputs": []
    },
    {
      "cell_type": "markdown",
      "source": [
        "12) En una urna hay 5 esferas azules, dos rojas y una verde.\n",
        "\n",
        "*   a-Si se sacan dos esferas consecutivas sin remplazo, ¿que probabilidad hay de que salga una azul y verde?"
      ],
      "metadata": {
        "id": "s4QYofO28uD6"
      }
    },
    {
      "cell_type": "code",
      "source": [
        "urna = ['A', 'A', 'A', 'A', 'A', 'R', 'R', 'V']"
      ],
      "metadata": {
        "id": "f8BIC4lv21zK"
      },
      "execution_count": 17,
      "outputs": []
    },
    {
      "cell_type": "code",
      "source": [
        "cont = Counter(urna)\n",
        "Pa = cont['A'] / len(urna) #Probabilidad de bolas azules\n",
        "Pv = cont['V'] / (len(urna) - 1) #Probabilidad de bolas verdes\n",
        "Pav = Pa * Pv + Pv * Pa"
      ],
      "metadata": {
        "id": "33GXdYqk6kem"
      },
      "execution_count": 20,
      "outputs": []
    },
    {
      "cell_type": "markdown",
      "source": [
        "13) Tres maquinas A, B y C producen 10%, 30% y 60% respectivamente del total de las piezas producidas en una fabrica. Los porcentajes defectuosos de produccion son de 1%, 2% y 4% respectivamente. Si seleccionamos al azar una pieza.\n",
        "*   -a ¿Cual es la probabilidad de que sea defectuosa?"
      ],
      "metadata": {
        "id": "aWW9QbI2-C7R"
      }
    },
    {
      "cell_type": "code",
      "source": [
        "Pa = 0.1\n",
        "Pb = 0.3\n",
        "Pc = 0.6"
      ],
      "metadata": {
        "id": "3L938XSFHj2P"
      },
      "execution_count": 22,
      "outputs": []
    },
    {
      "cell_type": "code",
      "source": [
        "Pda = 0.01\n",
        "Pdb = 0.02\n",
        "Pdc = 0.04"
      ],
      "metadata": {
        "id": "qiSqqTSiHvRn"
      },
      "execution_count": 24,
      "outputs": []
    },
    {
      "cell_type": "code",
      "source": [
        "Pdf = (Pda * Pa) + (Pdb * Pb) + (Pdc * Pc)"
      ],
      "metadata": {
        "id": "R31XOz6-H3wp"
      },
      "execution_count": 27,
      "outputs": []
    },
    {
      "cell_type": "markdown",
      "source": [
        "14) El 0.1% de una poblacion esta infectada con una bacteria, y la prueba para detectar la presencia de la enfermedad da positivo el 99% de las veces sobre personas infectadas y el 2% de las veces en una persona sana. \n",
        "*    a- si una persona dio positivo en la prueba, ¿Cual es la probabilidad de que este infectada?"
      ],
      "metadata": {
        "id": "v8XkJs5eNggt"
      }
    },
    {
      "cell_type": "markdown",
      "source": [
        "P(P | I) = (P( I | P ) * P(I)) / P(P)"
      ],
      "metadata": {
        "id": "y0Q3dobEYcHJ"
      }
    },
    {
      "cell_type": "code",
      "source": [
        "Pi = 0.001\n",
        "Pc = 0.99\n",
        "Pin = 0.02"
      ],
      "metadata": {
        "id": "Nx2AfWg5OFK0"
      },
      "execution_count": 29,
      "outputs": []
    },
    {
      "cell_type": "code",
      "source": [
        "(Pi * Pc) * Pi / Pi"
      ],
      "metadata": {
        "id": "lYRG6pVUQHZw",
        "colab": {
          "base_uri": "https://localhost:8080/"
        },
        "outputId": "a63f3d8e-2873-4bf0-a252-abeb9104b0f1"
      },
      "execution_count": 32,
      "outputs": [
        {
          "output_type": "execute_result",
          "data": {
            "text/plain": [
              "0.00101010101010101"
            ]
          },
          "metadata": {},
          "execution_count": 32
        }
      ]
    }
  ]
}