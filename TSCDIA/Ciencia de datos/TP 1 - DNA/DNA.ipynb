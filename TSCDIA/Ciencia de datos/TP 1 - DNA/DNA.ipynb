{
  "cells": [
    {
      "attachments": {},
      "cell_type": "markdown",
      "metadata": {},
      "source": [
        "# ADN"
      ]
    },
    {
      "attachments": {},
      "cell_type": "markdown",
      "metadata": {
        "id": "rQCONatD2Xri"
      },
      "source": [
        "## Ejersicio:"
      ]
    },
    {
      "attachments": {},
      "cell_type": "markdown",
      "metadata": {
        "id": "Z_yyenqr2fFp"
      },
      "source": [
        "Debido a la gran cantidad de crímenes y casos sin resolver, la policía local ha decidido implementar su propio sistema de reconocimiento de sospechosos con la técnica basada en el uso del DNA.\n",
        "\n",
        "Para esto la policía mantiene dos listas de información; la primera contiene el nombre de las personas registradas en la región (nombre y apellido), la otra, un cromosoma representativo del DNA de cada una de esas personas.\n",
        "\n",
        "Por simplicidad, un cromosoma se considera como una cadena de 0 (ceros) y 1 (unos), de largo 20.\n",
        "\n",
        "El método para determinar el sospechoso, es el siguiente:\n",
        "\n",
        "*    Se obtiene una muestra del cromosoma del autor del delito (20 caracteres)\n",
        "\n",
        "*    Se busca en la lista de cromosomas, aquel cromosoma que es más parecido a la muestra. El más parecido se define como el cromosoma que tiene más genes (caracteres) iguales a la muestra.\n",
        "\n",
        "*    Al terminar la búsqueda, se muestra el nombre de la persona cuyo cromosoma es sospechoso, con el porcentaje de parentesco.\n",
        "\n",
        "La informacíon inicial del programa se debe ingresar directamente en el código, es decir, nombres y cromosomas, en cambio la secuencia encontrda en la escena del crimen, debe ser ingresada por el usuario.\n",
        "\n",
        "Desarrolle un programa que lleve a cabo la búsqueda descrita a partir de una muestra de entrada.\n",
        "\n",
        "Recuerde que como se trata de dos listas, la información del nombre como la de los cromosomas, deben estar en la misma posición en ambas listas.\n",
        "\n",
        "Consideremos, personas como Pedro, Juan y Diego. Sus secuencias serán\n",
        "\n",
        "*    00000101010101010101\n",
        "*    00101010101101110111\n",
        "*    00100010010000001001\n",
        "\n",
        "Ingrese secuencia: 01010101000011001100\n",
        "\n",
        "El culpable es Pedro con un parentezco de 60%\n",
        "\n",
        "link: http://progra.usm.cl/apunte/ejercicios/2/adn.html"
      ]
    },
    {
      "attachments": {},
      "cell_type": "markdown",
      "metadata": {
        "id": "XKOQq1TE2h2X"
      },
      "source": [
        "## Solucion"
      ]
    },
    {
      "attachments": {},
      "cell_type": "markdown",
      "metadata": {},
      "source": [
        "### importacion de librerias"
      ]
    },
    {
      "cell_type": "code",
      "execution_count": null,
      "metadata": {},
      "outputs": [],
      "source": [
        "import pandas as pd\n",
        "import seaborn as sns"
      ]
    },
    {
      "attachments": {},
      "cell_type": "markdown",
      "metadata": {
        "id": "SAe1DufT3dhm"
      },
      "source": [
        "### Creacion de DataFrame"
      ]
    },
    {
      "cell_type": "code",
      "execution_count": 71,
      "metadata": {
        "id": "jzZfjZqI24Tw"
      },
      "outputs": [],
      "source": [
        "# Se crea lista con los nombres y sus respectivos codigos de ADN\n",
        "nombres = ['Pedro', 'Juan', 'Diego']\n",
        "adn = ['00000101010101010101', '00101010101101110111', '00100010010000001001']"
      ]
    },
    {
      "cell_type": "code",
      "execution_count": 72,
      "metadata": {
        "id": "8l0f8tMi2ySk"
      },
      "outputs": [],
      "source": [
        "#Se almacena la lista en una serie de pandas\n",
        "ciudadanos = pd.Series(adn, index= nombres)"
      ]
    },
    {
      "attachments": {},
      "cell_type": "markdown",
      "metadata": {
        "id": "SjQ2khbu3iaH"
      },
      "source": [
        "### Conteo de considencias"
      ]
    },
    {
      "cell_type": "code",
      "execution_count": 73,
      "metadata": {
        "colab": {
          "base_uri": "https://localhost:8080/"
        },
        "id": "BxKl9xVT3Bjn",
        "outputId": "7449ad98-fb9c-4ce5-99aa-dce89bec2663"
      },
      "outputs": [],
      "source": [
        "# se almacena una cadena numerica relacionada al ADN\n",
        "dna = str(input('Ingrese el DNA: '))"
      ]
    },
    {
      "cell_type": "code",
      "execution_count": 62,
      "metadata": {},
      "outputs": [],
      "source": [
        "# Funcion que cuenta la cantidad de considencias\n",
        "#Solucion obtenida de: https://gist.github.com/Fhernd/f6c11fc2c970ffe44ffc2cb261bb6ec1\n",
        "from collections import Counter\n",
        "\n",
        "def caracteres_comunes(cadena_1, cadena_2):\n",
        "    contador_1 = Counter(cadena_1)\n",
        "    contador_2 = Counter(cadena_2)\n",
        "    comunes = contador_1 & contador_2\n",
        "    comunes = list(comunes.elements())\n",
        "    comunes = sorted(comunes)\n",
        "    \n",
        "    return len(comunes)"
      ]
    },
    {
      "cell_type": "code",
      "execution_count": 80,
      "metadata": {
        "colab": {
          "base_uri": "https://localhost:8080/"
        },
        "id": "SdJo8A5Y4xha",
        "outputId": "22712be7-a827-49f4-f905-3edcdd02653a"
      },
      "outputs": [],
      "source": [
        "#Se inicializan las listas que se utilizaran para almacenar el adn ingresado y cada uno de los adn previamente almacenados\n",
        "i = []\n",
        "j = []\n",
        "\n",
        "# En cada iteracion se pasa a la funcion el codigo de adn ingresado por teclado y se recorre uno de los adn registrados\n",
        "for adn in ciudadanos.values:\n",
        "    i.append(adn)\n",
        "    j.append(caracteres_comunes(dna, adn))\n",
        "\n",
        "culpables = pd.Series(i, index= j)\n",
        "\n",
        "#Obtener el maximo culpable\n",
        "culpable = ciudadanos.loc[ciudadanos.values == max(culpables.values)]\n",
        "#Se obtiene el adn del culpable\n",
        "culpable = culpable.index\n",
        "\n",
        "#Obtener la relacion de considencia de adn del culpable\n",
        "porcentaje_considencia = ( max(culpables.index)  * 100 ) // 20"
      ]
    },
    {
      "cell_type": "code",
      "execution_count": null,
      "metadata": {},
      "outputs": [],
      "source": [
        "#Se verifica que el porcentaje de considencia sea mayor al 60%\n",
        "\n",
        "if porcentaje_considencia > 60:\n",
        "    print('El culpable es ', culpable[0])\n",
        "    print('El porcentaje de relacion del ADN es de', porcentaje_considencia)\n",
        "else:\n",
        "    print('Es DNA no esta registrado')"
      ]
    },
    {
      "attachments": {},
      "cell_type": "markdown",
      "metadata": {},
      "source": [
        "### Grafico de porcentaje de considencia de ADN"
      ]
    },
    {
      "cell_type": "code",
      "execution_count": 82,
      "metadata": {},
      "outputs": [],
      "source": [
        "#Se agregan a una nueva serie los usuarios con porsentaje de considencia superior al 50%\n",
        "\n",
        "p_culpables = pd.DataFrame()\n",
        "p_culpables['Nombre'] = ciudadanos.index\n",
        "p_culpables['ADN'] = ciudadanos.values\n",
        "p_culpables['Porcentaje'] = culpables.loc[culpables.values == ciudadanos.values].index * 100 / 20"
      ]
    },
    {
      "cell_type": "code",
      "execution_count": 83,
      "metadata": {},
      "outputs": [],
      "source": [
        "#Se dejan solo aquellos registros donde el porcentaje de considencia es igual o superior al 60%\n",
        "\n",
        "p_culpables = p_culpables.loc[p_culpables.Porcentaje >= 60]"
      ]
    },
    {
      "cell_type": "code",
      "execution_count": null,
      "metadata": {},
      "outputs": [
        {
          "data": {
            "image/png": "[encoded data removed]",
            "text/plain": [
              "<Figure size 432x288 with 1 Axes>"
            ]
          },
          "metadata": {
            "needs_background": "light"
          },
          "output_type": "display_data"
        }
      ],
      "source": [
        "#Se grafica los sospechozos y la probabilidad de considencia (si esta es mayor al 60%)\n",
        "sns.barplot(data = p_culpables, x= 'Nombre', y='Porcentaje');"
      ]
    }
  ],
  "metadata": {
    "colab": {
      "provenance": []
    },
    "kernelspec": {
      "display_name": "Python 3",
      "name": "python3"
    },
    "language_info": {
      "codemirror_mode": {
        "name": "ipython",
        "version": 3
      },
      "file_extension": ".py",
      "mimetype": "text/x-python",
      "name": "python",
      "nbconvert_exporter": "python",
      "pygments_lexer": "ipython3",
      "version": "3.10.7"
    }
  },
  "nbformat": 4,
  "nbformat_minor": 0
}
