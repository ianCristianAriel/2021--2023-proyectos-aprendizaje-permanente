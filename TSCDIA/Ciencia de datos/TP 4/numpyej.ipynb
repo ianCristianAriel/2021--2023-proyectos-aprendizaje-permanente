{
  "nbformat": 4,
  "nbformat_minor": 0,
  "metadata": {
    "colab": {
      "provenance": []
    },
    "kernelspec": {
      "name": "python3",
      "display_name": "Python 3"
    },
    "language_info": {
      "name": "python"
    }
  },
  "cells": [
    {
      "cell_type": "markdown",
      "source": [
        "Numpy\n",
        "\n",
        "Proceso de instalación\n",
        "\n",
        "\n",
        "Creacion de arreglos a partir de listas\n",
        "\n",
        "\n",
        "Con numeros prefijados\n",
        "\n",
        "\n",
        "Con numeros aleatorios"
      ],
      "metadata": {
        "id": "kKCYdyUGi7iX"
      }
    },
    {
      "cell_type": "code",
      "source": [
        "#sentencias de importacion de input-output y google colab files\n",
        "import io\n",
        "from google.colab import files"
      ],
      "metadata": {
        "id": "KQqZF9JnL4P3"
      },
      "execution_count": 1,
      "outputs": []
    },
    {
      "cell_type": "code",
      "source": [
        "# El filename es el nombre del archivo.\n",
        "uploaded = files.upload()\n",
        "data = pd.read_csv(io.BytesIO(uploaded['Filename.csv']))"
      ],
      "metadata": {
        "id": "5QuJS-EIL7Zr"
      },
      "execution_count": null,
      "outputs": []
    },
    {
      "cell_type": "code",
      "execution_count": 2,
      "metadata": {
        "id": "CcjiGRdki57i"
      },
      "outputs": [],
      "source": [
        "#importar numpy\n",
        "import numpy as np\n"
      ]
    },
    {
      "cell_type": "code",
      "source": [
        "#crear un arreglo unidimesional\n",
        "arreglo1=np.array([1,2,3,4,5])\n",
        "print(arreglo1)"
      ],
      "metadata": {
        "id": "xB6hGrSApaHk",
        "outputId": "85a4718f-09d3-4069-ec45-bdc27727f88b",
        "colab": {
          "base_uri": "https://localhost:8080/"
        }
      },
      "execution_count": 3,
      "outputs": [
        {
          "output_type": "stream",
          "name": "stdout",
          "text": [
            "[1 2 3 4 5]\n"
          ]
        }
      ]
    },
    {
      "cell_type": "code",
      "source": [
        "#crear arreglo de dos dimensiones\n",
        "matrix=np.array([[1,2,3],[4,5,6]])\n",
        "print(matrix)"
      ],
      "metadata": {
        "id": "u9I_UUfLqOJV",
        "outputId": "330c89d5-7bbd-442e-d33e-e97b6cc65b76",
        "colab": {
          "base_uri": "https://localhost:8080/"
        }
      },
      "execution_count": 4,
      "outputs": [
        {
          "output_type": "stream",
          "name": "stdout",
          "text": [
            "[[1 2 3]\n",
            " [4 5 6]]\n"
          ]
        }
      ]
    },
    {
      "cell_type": "code",
      "source": [
        "arreglo3=np.array([matrix, matrix])\n",
        "print(arreglo3)"
      ],
      "metadata": {
        "id": "ddmTvQ-Hq6jV"
      },
      "execution_count": null,
      "outputs": []
    },
    {
      "cell_type": "code",
      "source": [
        "#uso de arange\n",
        "a=np.arange(10)\n",
        "print(a)\n"
      ],
      "metadata": {
        "id": "WFW-rsl6wItU",
        "outputId": "400b8287-d75a-45c5-e131-9bfdccfe3fa7",
        "colab": {
          "base_uri": "https://localhost:8080/"
        }
      },
      "execution_count": 5,
      "outputs": [
        {
          "output_type": "stream",
          "name": "stdout",
          "text": [
            "[0 1 2 3 4 5 6 7 8 9]\n"
          ]
        }
      ]
    },
    {
      "cell_type": "markdown",
      "source": [
        "Ejercicio:\n",
        "Crear una matriz de 3 filas y 5 columnas,\n",
        "\n",
        " completados con los numeros del 1 al 15.\n"
      ],
      "metadata": {
        "id": "5vHddKiAsJb6"
      }
    },
    {
      "cell_type": "code",
      "source": [
        "matriz = np.arange(1, 10).reshape(3, 3)\n",
        "print(matriz)"
      ],
      "metadata": {
        "id": "hgA-HKnTwr0G",
        "outputId": "b830ff3c-33d9-4a67-e0da-aa76cbcd513f",
        "colab": {
          "base_uri": "https://localhost:8080/"
        }
      },
      "execution_count": 6,
      "outputs": [
        {
          "output_type": "stream",
          "name": "stdout",
          "text": [
            "[[1 2 3]\n",
            " [4 5 6]\n",
            " [7 8 9]]\n"
          ]
        }
      ]
    },
    {
      "cell_type": "code",
      "source": [
        "# creando un arreglo con 0\n",
        "arreglo=np.zeros((3,5))\n",
        "print(arreglo)"
      ],
      "metadata": {
        "id": "hwku0ppPo7Hp",
        "outputId": "d022b96d-495e-4a87-8313-5c58c7647a93",
        "colab": {
          "base_uri": "https://localhost:8080/"
        }
      },
      "execution_count": 7,
      "outputs": [
        {
          "output_type": "stream",
          "name": "stdout",
          "text": [
            "[[0. 0. 0. 0. 0.]\n",
            " [0. 0. 0. 0. 0.]\n",
            " [0. 0. 0. 0. 0.]]\n"
          ]
        }
      ]
    },
    {
      "cell_type": "code",
      "source": [
        "# hacer lo mismo pero con una matriz"
      ],
      "metadata": {
        "id": "ssGAhkBZq3sq"
      },
      "execution_count": null,
      "outputs": []
    },
    {
      "cell_type": "code",
      "source": [
        "#creando un arreglo con 1\n",
        "arreglo=np.ones(10)\n",
        "print(arreglo)"
      ],
      "metadata": {
        "id": "z0jRy_rfpbq9",
        "outputId": "00525386-f769-4271-a25b-9b44232a31e7",
        "colab": {
          "base_uri": "https://localhost:8080/"
        }
      },
      "execution_count": 8,
      "outputs": [
        {
          "output_type": "stream",
          "name": "stdout",
          "text": [
            "[1. 1. 1. 1. 1. 1. 1. 1. 1. 1.]\n"
          ]
        }
      ]
    },
    {
      "cell_type": "code",
      "source": [
        "#creando un arreglo con un mismo numero\n",
        "arreglo=np.full(10,7)\n",
        "print(arreglo)"
      ],
      "metadata": {
        "id": "Q1ToBpr-plpZ",
        "outputId": "39c8b9ff-6865-4c13-a000-6ca8f89a277c",
        "colab": {
          "base_uri": "https://localhost:8080/"
        }
      },
      "execution_count": 10,
      "outputs": [
        {
          "output_type": "stream",
          "name": "stdout",
          "text": [
            "[7 7 7 7 7 7 7 7 7 7]\n"
          ]
        }
      ]
    },
    {
      "cell_type": "code",
      "source": [
        "#Crear un arreglo con valores uniformemente espaciados\n",
        "arreglo=np.linspace(15, 20, 7)\n",
        "print(arreglo)"
      ],
      "metadata": {
        "id": "qXOf0XEwrsvf",
        "outputId": "becf7f44-05b6-43f2-842c-d1c06421203f",
        "colab": {
          "base_uri": "https://localhost:8080/"
        }
      },
      "execution_count": 11,
      "outputs": [
        {
          "output_type": "stream",
          "name": "stdout",
          "text": [
            "[15.         15.83333333 16.66666667 17.5        18.33333333 19.16666667\n",
            " 20.        ]\n"
          ]
        }
      ]
    },
    {
      "cell_type": "markdown",
      "source": [
        "Crear un matrix de 4 filas y 5 columnas\n",
        "\n",
        "\n",
        "\n",
        "\n",
        ", lleno completamente del mismo valor 5.\n"
      ],
      "metadata": {
        "id": "bnV275Eox2jl"
      }
    },
    {
      "cell_type": "markdown",
      "source": [
        "# Numeros aleatorios con NumPy"
      ],
      "metadata": {
        "id": "OUREH8VPrPDX"
      }
    },
    {
      "cell_type": "code",
      "source": [
        "# generar arreglo con nros enteros valor inicial,valor final, tamaño\n",
        "x = np.random.randint(0,100,size=25)\n",
        "\n",
        "print(x)\n"
      ],
      "metadata": {
        "id": "KXfg9pn0vL0I",
        "outputId": "c400533e-0f95-4934-cfe5-27246354296e",
        "colab": {
          "base_uri": "https://localhost:8080/"
        }
      },
      "execution_count": 18,
      "outputs": [
        {
          "output_type": "stream",
          "name": "stdout",
          "text": [
            "[57 30 17 26 58 20 25 75 52 47 71 47 58 92  9 94 63 45 23 27 81 79  5 91\n",
            " 85]\n"
          ]
        }
      ]
    },
    {
      "cell_type": "code",
      "source": [
        "#nros aleatorios entre 0 y 1\n",
        "b=np.random.rand(3)\n",
        "print(b)"
      ],
      "metadata": {
        "id": "nwCOp2tHw0X8",
        "outputId": "99a61507-c6b0-4412-a5d9-3ebdee1d719d",
        "colab": {
          "base_uri": "https://localhost:8080/"
        }
      },
      "execution_count": 19,
      "outputs": [
        {
          "output_type": "stream",
          "name": "stdout",
          "text": [
            "[0.58824842 0.74934526 0.19708077]\n"
          ]
        }
      ]
    },
    {
      "cell_type": "markdown",
      "source": [
        "Crear un arreglo tipo matriz de 3 filas y 7 columnas con numeros aleatorios entre 5 y 6."
      ],
      "metadata": {
        "id": "wMhpKaP22fX_"
      }
    },
    {
      "cell_type": "markdown",
      "source": [
        "# Operando sobre arreglos"
      ],
      "metadata": {
        "id": "FwhG9gRDxCWj"
      }
    },
    {
      "cell_type": "code",
      "source": [
        "a=np.array([1,2,3,4,5])\n",
        "\n",
        "b=a**3\n",
        "\n",
        "print(b)"
      ],
      "metadata": {
        "id": "uMhgdRS4wax4",
        "outputId": "83612cf8-8f99-41c9-f08e-ce675e266186",
        "colab": {
          "base_uri": "https://localhost:8080/"
        }
      },
      "execution_count": 30,
      "outputs": [
        {
          "output_type": "stream",
          "name": "stdout",
          "text": [
            "[  1   8  27  64 125]\n"
          ]
        }
      ]
    },
    {
      "cell_type": "code",
      "source": [
        "#podemos operar vectorialmente, siempre que sean de las mismos tamaños\n",
        "c=np.array([6,7,8,9,10])\n",
        "\n",
        "d=a+c\n",
        "\n",
        "print(d)"
      ],
      "metadata": {
        "id": "jRTgWiJfxnpk",
        "outputId": "9d1ecdda-0e0c-4c72-f92b-fcf227a2d1ad",
        "colab": {
          "base_uri": "https://localhost:8080/"
        }
      },
      "execution_count": 31,
      "outputs": [
        {
          "output_type": "stream",
          "name": "stdout",
          "text": [
            "[ 7  9 11 13 15]\n"
          ]
        }
      ]
    },
    {
      "cell_type": "markdown",
      "source": [
        "### Ejersicio 1"
      ],
      "metadata": {
        "id": "Kao7YdHAQY0m"
      }
    },
    {
      "cell_type": "markdown",
      "source": [
        "Crear un matrix de 4 filas y 5 columnas, lleno completamente del mismo valor 5."
      ],
      "metadata": {
        "id": "CWBbBD5KP9WS"
      }
    },
    {
      "cell_type": "markdown",
      "source": [
        "Solucion 1"
      ],
      "metadata": {
        "id": "4V5uMMWkQpGC"
      }
    },
    {
      "cell_type": "code",
      "source": [
        "arreglo=np.full(20,5)"
      ],
      "metadata": {
        "id": "x4Fy8QTLyCwV"
      },
      "execution_count": 15,
      "outputs": []
    },
    {
      "cell_type": "code",
      "source": [
        "arreglo.reshape(4,5)"
      ],
      "metadata": {
        "id": "xrIZ6vU3QGKT",
        "outputId": "173502e6-6131-4582-8ccb-e5fd47ef8981",
        "colab": {
          "base_uri": "https://localhost:8080/"
        }
      },
      "execution_count": 13,
      "outputs": [
        {
          "output_type": "execute_result",
          "data": {
            "text/plain": [
              "array([[5, 5, 5, 5, 5],\n",
              "       [5, 5, 5, 5, 5],\n",
              "       [5, 5, 5, 5, 5],\n",
              "       [5, 5, 5, 5, 5]])"
            ]
          },
          "metadata": {},
          "execution_count": 13
        }
      ]
    },
    {
      "cell_type": "markdown",
      "source": [
        "Solucion 2"
      ],
      "metadata": {
        "id": "XHv2AsYbQrM9"
      }
    },
    {
      "cell_type": "code",
      "source": [
        "arreglo=np.full((4,5),5)"
      ],
      "metadata": {
        "id": "Wc7lSoAUQsuh"
      },
      "execution_count": 16,
      "outputs": []
    },
    {
      "cell_type": "markdown",
      "source": [
        "### Ejersicio 2\n"
      ],
      "metadata": {
        "id": "iulD3UQhRWxF"
      }
    },
    {
      "cell_type": "markdown",
      "source": [
        "Crear un arreglo tipo matriz de 5 filas y 3 columnas con numeros aleatorios entre 5 y 6.\n",
        "\n"
      ],
      "metadata": {
        "id": "32NMpD5FRdvx"
      }
    },
    {
      "cell_type": "code",
      "source": [
        "x = np.random.uniform(5,6,15)\n",
        "x.reshape(5,3)"
      ],
      "metadata": {
        "id": "VYgatgrQRejT",
        "outputId": "b0691370-327d-4c46-be4c-7f2d2aeaa989",
        "colab": {
          "base_uri": "https://localhost:8080/"
        }
      },
      "execution_count": 29,
      "outputs": [
        {
          "output_type": "execute_result",
          "data": {
            "text/plain": [
              "array([[5.88493122, 5.66374089, 5.08734571],\n",
              "       [5.87848769, 5.73749652, 5.86823158],\n",
              "       [5.10747963, 5.78314602, 5.23319442],\n",
              "       [5.59156099, 5.10242451, 5.35630898],\n",
              "       [5.18448384, 5.64149876, 5.97762866]])"
            ]
          },
          "metadata": {},
          "execution_count": 29
        }
      ]
    },
    {
      "cell_type": "markdown",
      "source": [
        "### Ejersicio 3"
      ],
      "metadata": {
        "id": "TwfvkJsqUAMS"
      }
    },
    {
      "cell_type": "markdown",
      "source": [
        "Crear un arreglo denominado altura de tamaño 50. Debe de generar aleatoriamente las alturas entre 1.5m y 2m.\n",
        "\n",
        "Crear un arreglo denominado peso de tamaño 50. Debe de generar aleatoriamente los pesos entre 50kg y 100kg.\n",
        "\n",
        "Calcular el índice de masa corporal en un tercer arreglo."
      ],
      "metadata": {
        "id": "-9orsgkWUCMr"
      }
    },
    {
      "cell_type": "markdown",
      "source": [
        "Formula de IMC tomada de: https://www.texasheart.org/heart-health/heart-information-center/topics/calculadora-del-indice-de-masa-corporal-imc/"
      ],
      "metadata": {
        "id": "1OTZBI2QWM6a"
      }
    },
    {
      "cell_type": "code",
      "source": [
        "peso = np.random.uniform(50,100, 50)\n",
        "peso = peso.round(2)"
      ],
      "metadata": {
        "id": "71BxKUUxUdSF"
      },
      "execution_count": 44,
      "outputs": []
    },
    {
      "cell_type": "code",
      "source": [
        "altura = np.random.uniform(1.5,2, 50)\n",
        "altura = altura.round(2)"
      ],
      "metadata": {
        "id": "n1by6_x9Uncr"
      },
      "execution_count": 45,
      "outputs": []
    },
    {
      "cell_type": "code",
      "source": [
        "IMC = peso / altura ** 2\n",
        "IMC = IMC.round(2)"
      ],
      "metadata": {
        "id": "793zxXCiUC8j"
      },
      "execution_count": 42,
      "outputs": []
    },
    {
      "cell_type": "code",
      "source": [
        "print(IMC)"
      ],
      "metadata": {
        "id": "v9QAsbStVbJN",
        "outputId": "a2bb5e14-4d95-48c5-f8da-bb2632416930",
        "colab": {
          "base_uri": "https://localhost:8080/"
        }
      },
      "execution_count": 43,
      "outputs": [
        {
          "output_type": "stream",
          "name": "stdout",
          "text": [
            "[19.03 31.3  29.89 24.77 12.82 27.23 15.31 28.76 15.9  32.8  33.51 28.53\n",
            " 16.25 29.76 25.96 21.21 25.72 20.41 35.45 27.88 32.39 24.87 20.1  25.85\n",
            " 27.24 36.66 30.28 29.61 22.56 38.12 20.69 31.22 33.89 28.89 28.71 37.43\n",
            " 25.36 27.89 21.5  15.68 23.65 19.64 23.62 27.93 28.99 26.78 24.42 28.42\n",
            " 21.79 24.52]\n"
          ]
        }
      ]
    }
  ]
}