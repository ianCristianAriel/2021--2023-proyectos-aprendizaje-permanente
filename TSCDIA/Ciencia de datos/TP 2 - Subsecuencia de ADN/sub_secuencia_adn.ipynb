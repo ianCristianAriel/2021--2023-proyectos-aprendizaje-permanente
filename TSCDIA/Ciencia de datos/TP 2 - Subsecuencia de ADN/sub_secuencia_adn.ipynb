{
  "nbformat": 4,
  "nbformat_minor": 0,
  "metadata": {
    "colab": {
      "provenance": []
    },
    "kernelspec": {
      "name": "python3",
      "display_name": "Python 3"
    },
    "language_info": {
      "name": "python"
    }
  },
  "cells": [
    {
      "cell_type": "markdown",
      "source": [
        "# Secuencia de ADN"
      ],
      "metadata": {
        "id": "7Nl2cLv6diH-"
      }
    },
    {
      "cell_type": "markdown",
      "source": [
        "Escriba una función con la que se pueda buscar una subsecuencia determinada en una gran secuencia de ADN, entregada por el usuario.\n",
        "\n",
        "Considere la siguiente secuencia:"
      ],
      "metadata": {
        "id": "mIbd4RHSdmqd"
      }
    },
    {
      "cell_type": "markdown",
      "source": [
        "\n",
        "\n",
        "```\n",
        "\n",
        "secuencia = 'gtgggggggtttatgcctttagaacagcagactactgataactccaatcctgggttgaaaatgccaagggcgccagagagccaaacgatgagcgttggaccacaaacgataaaaactcactttctccgtggggtgaaagcgattctttctggcccgtatccgccagcacttaaagttgcattcggcgcggccctaccgctgctaattggggtaattgtcctaggattgtacgtaacgcttggcgggcacagccgcaagaaagcccacgcagccgcgatagatgctttggtcgagaagcacgaagcatgctacaaggtccaagcaaagattgcacacggcaggcttgccttacagtccgctgtggtgtctgttgcggatgccagcatgcaacaactccagttcgtgcagcaaggaattctcatgtgtgtcggagagctcgacgatatgcagaagttccggacccgactggataatgaaatcagtgccatcaaccagcgaattcccagcattgtcgaggaggtaagaaaacacaccgacgatgcgcttgagtggaatcttgctagaaccaagaacattttagagggcactgaagagcgcctgaaggatatgggcaatgagttggtgcgctacctagacgatgctcgcgccctcattgaaaatgcacgtatagctgcaggatcaatgcaacacctcgttggtgatgaggtgagaaagcagcttgctgaggttctagtaaaagttgcagaagtaagtaatggctttattgcgcttaagaagagtgtatctggctatttggaaaaaagcagtggacttgttgctagggaagttagggcaatcctggatgaccgcatgcgaagcctgcggaccatgtacaaaatgtgggatgcagaacaaaactccgtagtcagcgtgtgtaccacgctccaaaaggcaagcatggaggctgccgcggtagcaagt'\n",
        "\n",
        "```\n",
        "\n"
      ],
      "metadata": {
        "id": "Bn2t2zsMdn_F"
      }
    },
    {
      "cell_type": "markdown",
      "source": [
        "\n",
        "\n",
        "\n",
        "`>>> esta_en_adn(\"ttt\", secuencia)`\n",
        "\n",
        "True\n",
        "\n",
        "`>>> esta_en_adn(\"aaaaaa\", secuencia)`\n",
        "\n",
        "True\n",
        "\n",
        "`>>> esta_en_adn(\"hola\", secuencia)`\n",
        "\n",
        "False\n"
      ],
      "metadata": {
        "id": "dHdShWDQeZXD"
      }
    },
    {
      "cell_type": "markdown",
      "source": [
        "## Solucion"
      ],
      "metadata": {
        "id": "WS3_1UIgfG3f"
      }
    },
    {
      "cell_type": "markdown",
      "source": [
        "### Importacion de librerias"
      ],
      "metadata": {
        "id": "yy9eCMrBfT3X"
      }
    },
    {
      "cell_type": "code",
      "source": [
        "import numpy as np\n",
        "import seaborn as sns"
      ],
      "metadata": {
        "id": "PuA75lhEfFao"
      },
      "execution_count": 1,
      "outputs": []
    },
    {
      "cell_type": "markdown",
      "source": [
        "### Trabajando con la gran secuencia de ADN"
      ],
      "metadata": {
        "id": "R8EV4kI5gtA7"
      }
    },
    {
      "cell_type": "markdown",
      "source": [
        "#### Funcion que analiza la gran secuencia de ADN y la sub-secuencia de ADN en busca de considencias"
      ],
      "metadata": {
        "id": "9bhY6ElchD4Q"
      }
    },
    {
      "cell_type": "code",
      "source": [
        "def analisis_dna(subsecuencia, gran_secuencia):\n",
        "  if subsecuencia in str(gran_secuencia):\n",
        "    return(True)\n",
        "  else:\n",
        "    return(False)"
      ],
      "metadata": {
        "id": "A_mW_su6go2p"
      },
      "execution_count": 16,
      "outputs": []
    },
    {
      "cell_type": "markdown",
      "source": [
        "#### Variable con la gran secuencia de ADN"
      ],
      "metadata": {
        "id": "z-LaaReFg0nN"
      }
    },
    {
      "cell_type": "code",
      "source": [
        "secuencia = 'gtgggggggtttatgcctttagaacagcagactactgataactccaatcctgggttgaaaatgccaagggcgccagagagccaaacgatgagcgttggaccacaaacgataaaaactcactttctccgtggggtgaaagcgattctttctggcccgtatccgccagcacttaaagttgcattcggcgcggccctaccgctgctaattggggtaattgtcctaggattgtacgtaacgcttggcgggcacagccgcaagaaagcccacgcagccgcgatagatgctttggtcgagaagcacgaagcatgctacaaggtccaagcaaagattgcacacggcaggcttgccttacagtccgctgtggtgtctgttgcggatgccagcatgcaacaactccagttcgtgcagcaaggaattctcatgtgtgtcggagagctcgacgatatgcagaagttccggacccgactggataatgaaatcagtgccatcaaccagcgaattcccagcattgtcgaggaggtaagaaaacacaccgacgatgcgcttgagtggaatcttgctagaaccaagaacattttagagggcactgaagagcgcctgaaggatatgggcaatgagttggtgcgctacctagacgatgctcgcgccctcattgaaaatgcacgtatagctgcaggatcaatgcaacacctcgttggtgatgaggtgagaaagcagcttgctgaggttctagtaaaagttgcagaagtaagtaatggctttattgcgcttaagaagagtgtatctggctatttggaaaaaagcagtggacttgttgctagggaagttagggcaatcctggatgaccgcatgcgaagcctgcggaccatgtacaaaatgtgggatgcagaacaaaactccgtagtcagcgtgtgtaccacgctccaaaaggcaagcatggaggctgccgcggtagcaagt'"
      ],
      "metadata": {
        "id": "qZpnqSxpgiLe"
      },
      "execution_count": 2,
      "outputs": []
    },
    {
      "cell_type": "markdown",
      "source": [
        "#### Se tranforma la variable en un array de numpy"
      ],
      "metadata": {
        "id": "_62S3fchg8T4"
      }
    },
    {
      "cell_type": "code",
      "source": [
        "adn_vector = np.array(secuencia)"
      ],
      "metadata": {
        "id": "KKgyjOeSgMNF"
      },
      "execution_count": 3,
      "outputs": []
    },
    {
      "cell_type": "markdown",
      "source": [
        "#### Ingresando subsecuencia de ADN"
      ],
      "metadata": {
        "id": "O18b1NMQhlqC"
      }
    },
    {
      "cell_type": "code",
      "source": [
        "subsecuencia_adn = input('Ingrese la subsecuencia de ADN: ')"
      ],
      "metadata": {
        "colab": {
          "base_uri": "https://localhost:8080/"
        },
        "id": "BnOEoKwchlZ6",
        "outputId": "362b472c-64a1-4add-a8ac-db2985a5e0b2"
      },
      "execution_count": 20,
      "outputs": [
        {
          "name": "stdout",
          "output_type": "stream",
          "text": [
            "Ingrese la subsecuencia de ADN: hola\n"
          ]
        }
      ]
    },
    {
      "cell_type": "markdown",
      "source": [
        "#### Comprobando existencia"
      ],
      "metadata": {
        "id": "h5TmLD8akbBI"
      }
    },
    {
      "cell_type": "code",
      "source": [
        "analisis_dna(subsecuencia_adn, adn_vector)"
      ],
      "metadata": {
        "colab": {
          "base_uri": "https://localhost:8080/"
        },
        "id": "k8hzXyOHiZaB",
        "outputId": "0e226a7a-e8a7-4c2a-b70b-49c4e133e2db"
      },
      "execution_count": 21,
      "outputs": [
        {
          "output_type": "execute_result",
          "data": {
            "text/plain": [
              "False"
            ]
          },
          "metadata": {},
          "execution_count": 21
        }
      ]
    }
  ]
}