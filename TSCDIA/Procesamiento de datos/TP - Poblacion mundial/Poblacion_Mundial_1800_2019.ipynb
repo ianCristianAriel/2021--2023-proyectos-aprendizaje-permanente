{
  "cells": [
    {
      "cell_type": "code",
      "execution_count": 3,
      "metadata": {
        "colab": {
          "base_uri": "https://localhost:8080/"
        },
        "id": "H9bzWKG020XF",
        "outputId": "6b5c201a-75a4-4fe5-a470-683144c242f4"
      },
      "outputs": [
        {
          "name": "stderr",
          "output_type": "stream",
          "text": [
            "Matplotlib is building the font cache; this may take a moment.\n"
          ]
        }
      ],
      "source": [
        "import pandas as pd\n",
        "import matplotlib.pyplot as plt"
      ]
    },
    {
      "cell_type": "code",
      "execution_count": 6,
      "metadata": {},
      "outputs": [],
      "source": [
        "# Cargar el archivo en un DataFrame\n",
        "df = pd.read_csv('./Datos/poblacion-mundial.csv')"
      ]
    },
    {
      "cell_type": "code",
      "execution_count": 7,
      "metadata": {
        "colab": {
          "base_uri": "https://localhost:8080/",
          "height": 1000
        },
        "id": "R8d7bCgR3hUQ",
        "outputId": "e5b2b884-9cf1-4556-c870-07af75146d6e"
      },
      "outputs": [
        {
          "name": "stdout",
          "output_type": "stream",
          "text": [
            "Nombres de los países presentes en el dataset:\n",
            "Afghanistan\n",
            "Albania\n",
            "Algeria\n",
            "Andorra\n",
            "Angola\n",
            "Antigua and Barbuda\n",
            "Argentina\n",
            "Armenia\n",
            "Australia\n",
            "Austria\n",
            "Azerbaijan\n",
            "Bahamas\n",
            "Bahrain\n",
            "Bangladesh\n",
            "Barbados\n",
            "Belarus\n",
            "Belgium\n",
            "Belize\n",
            "Benin\n",
            "Bhutan\n",
            "Bolivia\n",
            "Bosnia and Herzegovina\n",
            "Botswana\n",
            "Brazil\n",
            "Brunei\n",
            "Bulgaria\n",
            "Burkina Faso\n",
            "Burundi\n",
            "Cambodia\n",
            "Cameroon\n",
            "Canada\n",
            "Cape Verde\n",
            "Central African Republic\n",
            "Chad\n",
            "Chile\n",
            "China\n",
            "Colombia\n",
            "Comoros\n",
            "Congo\n",
            "Costa Rica\n",
            "Cote d'Ivoire\n",
            "Croatia\n",
            "Cuba\n",
            "Cyprus\n",
            "Czechia\n",
            "Democratic Republic of Congo\n",
            "Denmark\n",
            "Djibouti\n",
            "Dominica\n",
            "Dominican Republic\n",
            "Ecuador\n",
            "Egypt\n",
            "El Salvador\n",
            "Equatorial Guinea\n",
            "Eritrea\n",
            "Estonia\n",
            "Eswatini\n",
            "Ethiopia\n",
            "Fiji\n",
            "Finland\n",
            "France\n",
            "Gabon\n",
            "Gambia\n",
            "Georgia\n",
            "Germany\n",
            "Ghana\n",
            "Greece\n",
            "Grenada\n",
            "Guatemala\n",
            "Guinea\n",
            "Guinea-Bissau\n",
            "Guyana\n",
            "Haiti\n",
            "Honduras\n",
            "Hong Kong\n",
            "Hungary\n",
            "Iceland\n",
            "India\n",
            "Indonesia\n",
            "Iran\n",
            "Iraq\n",
            "Ireland\n",
            "Israel\n",
            "Italy\n",
            "Jamaica\n",
            "Japan\n",
            "Jordan\n",
            "Kazakhstan\n",
            "Kenya\n",
            "Kiribati\n",
            "Kuwait\n",
            "Kyrgyzstan\n",
            "Laos\n",
            "Latvia\n",
            "Lebanon\n",
            "Lesotho\n",
            "Liberia\n",
            "Libya\n",
            "Liechtenstein\n",
            "Lithuania\n",
            "Luxembourg\n",
            "Madagascar\n",
            "Malawi\n",
            "Malaysia\n",
            "Maldives\n",
            "Mali\n",
            "Malta\n",
            "Marshall Islands\n",
            "Mauritania\n",
            "Mauritius\n",
            "Mexico\n",
            "Micronesia (country)\n",
            "Moldova\n",
            "Monaco\n",
            "Mongolia\n",
            "Montenegro\n",
            "Morocco\n",
            "Mozambique\n",
            "Myanmar\n",
            "Namibia\n",
            "Nauru\n",
            "Nepal\n",
            "Netherlands\n",
            "New Zealand\n",
            "Nicaragua\n",
            "Niger\n",
            "Nigeria\n",
            "North Korea\n",
            "North Macedonia\n",
            "Norway\n",
            "Oman\n",
            "Pakistan\n",
            "Palau\n",
            "Palestine\n",
            "Panama\n",
            "Papua New Guinea\n",
            "Paraguay\n",
            "Peru\n",
            "Philippines\n",
            "Poland\n",
            "Portugal\n",
            "Qatar\n",
            "Romania\n",
            "Russia\n",
            "Rwanda\n",
            "Saint Kitts and Nevis\n",
            "Saint Lucia\n",
            "Saint Vincent and the Grenadines\n",
            "Samoa\n",
            "San Marino\n",
            "Sao Tome and Principe\n",
            "Saudi Arabia\n",
            "Senegal\n",
            "Serbia\n",
            "Seychelles\n",
            "Sierra Leone\n",
            "Singapore\n",
            "Slovakia\n",
            "Slovenia\n",
            "Solomon Islands\n",
            "Somalia\n",
            "South Africa\n",
            "South Korea\n",
            "South Sudan\n",
            "Spain\n",
            "Sri Lanka\n",
            "Sudan\n",
            "Suriname\n",
            "Sweden\n",
            "Switzerland\n",
            "Syria\n",
            "Taiwan\n",
            "Tajikistan\n",
            "Tanzania\n",
            "Thailand\n",
            "Timor\n",
            "Togo\n",
            "Tonga\n",
            "Trinidad and Tobago\n",
            "Tunisia\n",
            "Turkey\n",
            "Turkmenistan\n",
            "Tuvalu\n",
            "Uganda\n",
            "Ukraine\n",
            "United Arab Emirates\n",
            "United Kingdom\n",
            "United States\n",
            "Uruguay\n",
            "Uzbekistan\n",
            "Vanuatu\n",
            "Vatican\n",
            "Venezuela\n",
            "Vietnam\n",
            "Yemen\n",
            "Zambia\n",
            "Zimbabwe\n"
          ]
        }
      ],
      "source": [
        "# Consulta: Obtener los nombres únicos de los países en el DataFrame\n",
        "paises = df['Entity'].unique()\n",
        "\n",
        "# Mostrar los nombres únicos de los países\n",
        "print(\"Nombres de los países presentes en el dataset:\")\n",
        "for pais in paises:\n",
        "    print(pais)"
      ]
    },
    {
      "cell_type": "code",
      "execution_count": 8,
      "metadata": {},
      "outputs": [
        {
          "name": "stdout",
          "output_type": "stream",
          "text": [
            "Población de Argentina en el año 2019: 44781000\n"
          ]
        },
        {
          "data": {
            "image/png": "[encoded data removed]",
            "text/plain": [
              "<Figure size 864x432 with 1 Axes>"
            ]
          },
          "metadata": {
            "needs_background": "light"
          },
          "output_type": "display_data"
        }
      ],
      "source": [
        "# Consulta: Obtener la población de un país en un año específico\n",
        "pais_consulta = 'Argentina'\n",
        "anio_consulta = '2019'\n",
        "poblacion = df.loc[df['Entity'] == pais_consulta, anio_consulta].values[0]\n",
        "\n",
        "print(\"Población de\", pais_consulta, \"en el año\", anio_consulta + \":\", poblacion)\n",
        "\n",
        "# Consulta: Obtener la evolución de la población de un país a lo largo de los años\n",
        "pais_evolucion = 'Argentina'\n",
        "poblacion_evolucion = df.loc[df['Entity'] == pais_evolucion, '1801':'2019'].values[0]\n",
        "\n",
        "# Gráfico: Visualizar la evolución de la población\n",
        "anios = range(1801, 2020)\n",
        "plt.figure(figsize=(12, 6))\n",
        "plt.plot(anios, poblacion_evolucion)\n",
        "plt.title('Evolución de la Población de ' + pais_evolucion)\n",
        "plt.xlabel('Año')\n",
        "plt.ylabel('Población')\n",
        "plt.grid(True)\n",
        "plt.show()"
      ]
    },
    {
      "cell_type": "code",
      "execution_count": 10,
      "metadata": {
        "colab": {
          "base_uri": "https://localhost:8080/",
          "height": 545
        },
        "id": "pOZO9lWIEMBq",
        "outputId": "7754b222-e72e-458b-ccd6-2ec75c04f07f"
      },
      "outputs": [
        {
          "data": {
            "image/png": "[encoded data removed]",
            "text/plain": [
              "<Figure size 864x432 with 1 Axes>"
            ]
          },
          "metadata": {
            "needs_background": "light"
          },
          "output_type": "display_data"
        }
      ],
      "source": [
        "# Solicitar al usuario el ingreso de un país\n",
        "pais_consulta = input(\"Ingrese el nombre de un país: \")\n",
        "\n",
        "# Verificar si el país existe en el DataFrame\n",
        "if pais_consulta in df['Entity'].unique():\n",
        "    # Obtener la evolución de la población del país a lo largo de los años\n",
        "    poblacion_evolucion = df.loc[df['Entity'] == pais_consulta, '1801':'2019'].values[0]\n",
        "\n",
        "    # Gráfico: Visualizar la evolución de la población\n",
        "    anios = range(1801, 2020)\n",
        "    plt.figure(figsize=(12, 6))\n",
        "    plt.plot(anios, poblacion_evolucion)\n",
        "    plt.title('Evolución de la Población de ' + pais_consulta)\n",
        "    plt.xlabel('Año')\n",
        "    plt.ylabel('Población')\n",
        "    plt.grid(True)\n",
        "    plt.show()\n",
        "else:\n",
        "    print(\"El país ingresado no se encuentra en el dataset.\")"
      ]
    }
  ],
  "metadata": {
    "colab": {
      "provenance": []
    },
    "kernelspec": {
      "display_name": "Python 3",
      "name": "python3"
    },
    "language_info": {
      "codemirror_mode": {
        "name": "ipython",
        "version": 3
      },
      "file_extension": ".py",
      "mimetype": "text/x-python",
      "name": "python",
      "nbconvert_exporter": "python",
      "pygments_lexer": "ipython3",
      "version": "3.10.7"
    }
  },
  "nbformat": 4,
  "nbformat_minor": 0
}
