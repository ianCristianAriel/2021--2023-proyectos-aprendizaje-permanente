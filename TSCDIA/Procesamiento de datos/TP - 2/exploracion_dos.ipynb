{
  "nbformat": 4,
  "nbformat_minor": 0,
  "metadata": {
    "colab": {
      "provenance": []
    },
    "kernelspec": {
      "name": "python3",
      "display_name": "Python 3"
    },
    "language_info": {
      "name": "python"
    }
  },
  "cells": [
    {
      "cell_type": "markdown",
      "source": [
        "## Importar librerias\n",
        "\n",
        "\n",
        "\n",
        "\n",
        "\n"
      ],
      "metadata": {
        "id": "LCfXITxbzPlb"
      }
    },
    {
      "cell_type": "code",
      "source": [
        "# Importar bibliotecas necesarias\n",
        "import pandas as pd\n",
        "import matplotlib.pyplot as plt\n",
        "import seaborn as sns"
      ],
      "metadata": {
        "id": "4GesU5sYzUiz"
      },
      "execution_count": null,
      "outputs": []
    },
    {
      "cell_type": "markdown",
      "source": [
        "## Carga de CSV desde colab"
      ],
      "metadata": {
        "id": "lqwUqTu0zXBc"
      }
    },
    {
      "cell_type": "code",
      "source": [
        "#Subida de archivos a colab\n",
        "#sentencias de importacion de input-output y google colab files\n",
        "import io\n",
        "from google.colab import files\n",
        "\n",
        "uploaded = files.upload()"
      ],
      "metadata": {
        "id": "vJdDivzkzb-v"
      },
      "execution_count": null,
      "outputs": []
    },
    {
      "cell_type": "markdown",
      "source": [
        "## Tranformando el CSV"
      ],
      "metadata": {
        "id": "8A9yyNXL3PcB"
      }
    },
    {
      "cell_type": "code",
      "source": [
        "# Cargar archivos CSV\n",
        "precios_df = pd.read_csv('precios_20200412_20200413.csv')\n",
        "productos_df = pd.read_csv('productos.csv')\n",
        "sucursales_df = pd.read_csv('sucursales.csv')"
      ],
      "metadata": {
        "id": "YI9vaVwHzY7a"
      },
      "execution_count": null,
      "outputs": []
    },
    {
      "cell_type": "markdown",
      "source": [
        "## Consultas sobre el data frame"
      ],
      "metadata": {
        "id": "X5HYHaJh3TnB"
      }
    },
    {
      "cell_type": "code",
      "execution_count": null,
      "metadata": {
        "id": "lD9dFp33zHmV"
      },
      "outputs": [],
      "source": [
        "# Unir DataFrames por clave principal\n",
        "productos_precios_df = pd.merge(precios_df, productos_df, left_on='producto_id', right_on='id')\n",
        "sucursales_productos_precios_df = pd.merge(productos_precios_df, sucursales_df, left_on='sucursal_id', right_on='id')\n",
        "\n",
        "# Eliminar columnas innecesarias\n",
        "sucursales_productos_precios_df.drop(['id_x', 'id_y'], axis=1, inplace=True)\n",
        "\n",
        "# Mostrar las primeras filas del DataFrame resultante\n",
        "print(sucursales_productos_precios_df.head())\n",
        "\n",
        "# Estadísticas descriptivas del DataFrame resultante\n",
        "print(sucursales_productos_precios_df.describe())"
      ]
    },
    {
      "cell_type": "markdown",
      "source": [
        "## Graficos"
      ],
      "metadata": {
        "id": "NHApffTB3heU"
      }
    },
    {
      "cell_type": "code",
      "source": [
        "# Gráfico de barras de los precios por sucursal\n",
        "sns.barplot(x='sucursalNombre', y='precio', data=sucursales_productos_precios_df)\n",
        "plt.title('Precios por sucursal')\n",
        "plt.xlabel('Sucursal')\n",
        "plt.ylabel('Precio')\n",
        "plt.show()\n",
        "\n",
        "# Gráfico de dispersión de los precios por provincia\n",
        "sns.scatterplot(x='provincia', y='precio', data=sucursales_productos_precios_df)\n",
        "plt.title('Precios por provincia')\n",
        "plt.xlabel('Provincia')\n",
        "plt.ylabel('Precio')\n",
        "plt.show()"
      ],
      "metadata": {
        "id": "tG1rsmBO3jbG"
      },
      "execution_count": null,
      "outputs": []
    }
  ]
}