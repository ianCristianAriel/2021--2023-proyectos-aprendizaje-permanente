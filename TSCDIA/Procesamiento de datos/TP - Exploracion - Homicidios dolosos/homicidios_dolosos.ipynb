{
 "cells": [
  {
   "attachments": {},
   "cell_type": "markdown",
   "metadata": {},
   "source": [
    "# Estadísticas criminales históricas. Homicidios Dolosos\n",
    "Series históricas de víctimas y tasas (cada 100 mil habitantes) de Homicidios Dolosos para el total nacional y para cada provincia."
   ]
  },
  {
   "cell_type": "code",
   "execution_count": 48,
   "metadata": {},
   "outputs": [],
   "source": [
    "import pandas as pd\n",
    "import seaborn as sns\n",
    "import matplotlib.pyplot as plt"
   ]
  },
  {
   "cell_type": "code",
   "execution_count": 101,
   "metadata": {},
   "outputs": [],
   "source": [
    "path = './Datos/snic-homicidios-dolosos-provincias-series.csv'\n",
    "df = pd.read_csv(path)"
   ]
  },
  {
   "cell_type": "code",
   "execution_count": 102,
   "metadata": {},
   "outputs": [],
   "source": [
    "df.columns = ['indice_tiempo', 'victi_buenos_aires', 'victi_caba',\n",
    "       'victi_catamarca', 'victi_chaco',\n",
    "       'victi_chubut', 'victi_cordoba',\n",
    "       'victi_corrientes', 'victi_entre_rios',\n",
    "       'victi_formosa', 'victi_jujuy',\n",
    "       'victi_la_pampa', 'victi_la_rioja',\n",
    "       'victi_mendoza', 'victi_misiones',\n",
    "       'victi_neuquen', 'victi_rio_negro',\n",
    "       'victi_salta', 'victi_san_juan',\n",
    "       'victi_san_luis', 'victi_santa_cruz',\n",
    "       'victi_santa_fe', 'victi_sgo_estero',\n",
    "       'victi_tierra_fuego', 'victi_tucuman',\n",
    "       't_delito_01_v_buenos_aires', 't_delito_01_v_caba',\n",
    "       't_delito_01_v_catamarca', 't_delito_01_v_chaco',\n",
    "       't_delito_01_v_chubut', 't_delito_01_v_cordoba',\n",
    "       't_delito_01_v_corrientes', 't_delito_01_v_entre_rios',\n",
    "       't_delito_01_v_formosa', 't_delito_01_v_jujuy',\n",
    "       't_delito_01_v_la_pampa', 't_delito_01_v_la_rioja',\n",
    "       't_delito_01_v_mendoza', 't_delito_01_v_misiones',\n",
    "       't_delito_01_v_neuquen', 't_delito_01_v_rio_negro',\n",
    "       't_delito_01_v_salta', 't_delito_01_v_san_juan',\n",
    "       't_delito_01_v_san_luis', 't_delito_01_v_santa_cruz',\n",
    "       't_delito_01_v_santa_fe', 't_delito_01_v_sgo_estero',\n",
    "       't_delito_01_v_tierra_fuego', 't_delito_01_v_tucuman']"
   ]
  },
  {
   "cell_type": "code",
   "execution_count": 51,
   "metadata": {},
   "outputs": [],
   "source": [
    "#Establece que los graficos se muestren luego de la celda de codigo que los ejecuto\n",
    "%matplotlib inline\n",
    "sns.set_style(style='whitegrid')\n",
    "#Se elige el tipo de contexto como notebook\n",
    "sns.set_context(context='notebook')\n",
    "#Se define el tamaño por defecto del cuadro de os graficos\n",
    "plt.rcParams['figure.figsize'] = (11, 9.4)"
   ]
  },
  {
   "attachments": {},
   "cell_type": "markdown",
   "metadata": {},
   "source": [
    "Exploracion del CSV"
   ]
  },
  {
   "cell_type": "code",
   "execution_count": 5,
   "metadata": {},
   "outputs": [
    {
     "data": {
      "text/plain": [
       "int64      25\n",
       "float64    24\n",
       "Name: count, dtype: int64"
      ]
     },
     "execution_count": 5,
     "metadata": {},
     "output_type": "execute_result"
    }
   ],
   "source": [
    "df.dtypes.value_counts()"
   ]
  },
  {
   "cell_type": "code",
   "execution_count": 6,
   "metadata": {},
   "outputs": [
    {
     "data": {
      "text/plain": [
       "(21, 49)"
      ]
     },
     "execution_count": 6,
     "metadata": {},
     "output_type": "execute_result"
    }
   ],
   "source": [
    "df.shape"
   ]
  },
  {
   "cell_type": "code",
   "execution_count": 7,
   "metadata": {},
   "outputs": [
    {
     "data": {
      "text/plain": [
       "indice_tiempo                 False\n",
       "victi_buenos_aires            False\n",
       "victi_caba                    False\n",
       "victi_catamarca               False\n",
       "victi_chaco                   False\n",
       "victi_chubut                  False\n",
       "victi_cordoba                 False\n",
       "victi_corrientes              False\n",
       "victi_entre_rios              False\n",
       "victi_formosa                 False\n",
       "victi_jujuy                   False\n",
       "victi_la_pampa                False\n",
       "victi_la_rioja                False\n",
       "victi_mendoza                 False\n",
       "victi_misiones                False\n",
       "victi_neuquen                 False\n",
       "victi_rio_negro               False\n",
       "victi_salta                   False\n",
       "victi_san_juan                False\n",
       "victi_san_luis                False\n",
       "victi_santa_cruz              False\n",
       "victi_santa_fe                False\n",
       "victi_sgo_estero              False\n",
       "victi_tierra_fuego            False\n",
       "victi_tucuman                 False\n",
       "t_delito_01_v_buenos_aires    False\n",
       "t_delito_01_v_caba            False\n",
       "t_delito_01_v_catamarca       False\n",
       "t_delito_01_v_chaco           False\n",
       "t_delito_01_v_chubut          False\n",
       "t_delito_01_v_cordoba         False\n",
       "t_delito_01_v_corrientes      False\n",
       "t_delito_01_v_entre_rios      False\n",
       "t_delito_01_v_formosa         False\n",
       "t_delito_01_v_jujuy           False\n",
       "t_delito_01_v_la_pampa        False\n",
       "t_delito_01_v_la_rioja        False\n",
       "t_delito_01_v_mendoza         False\n",
       "t_delito_01_v_misiones        False\n",
       "t_delito_01_v_neuquen         False\n",
       "t_delito_01_v_rio_negro       False\n",
       "t_delito_01_v_salta           False\n",
       "t_delito_01_v_san_juan        False\n",
       "t_delito_01_v_san_luis        False\n",
       "t_delito_01_v_santa_cruz      False\n",
       "t_delito_01_v_santa_fe        False\n",
       "t_delito_01_v_sgo_estero      False\n",
       "t_delito_01_v_tierra_fuego    False\n",
       "t_delito_01_v_tucuman         False\n",
       "dtype: bool"
      ]
     },
     "execution_count": 7,
     "metadata": {},
     "output_type": "execute_result"
    }
   ],
   "source": [
    "df.isnull().any()\n"
   ]
  },
  {
   "attachments": {},
   "cell_type": "markdown",
   "metadata": {},
   "source": [
    "Intercuartilicos"
   ]
  },
  {
   "attachments": {},
   "cell_type": "markdown",
   "metadata": {},
   "source": [
    "Entre Rios\n"
   ]
  },
  {
   "cell_type": "code",
   "execution_count": 50,
   "metadata": {},
   "outputs": [
    {
     "data": {
      "text/plain": [
       "<AxesSubplot:ylabel='victi_entre_rios'>"
      ]
     },
     "execution_count": 50,
     "metadata": {},
     "output_type": "execute_result"
    },
    {
     "data": {
      "image/png": "[encoded data removed]",
      "text/plain": [
       "<Figure size 792x676.8 with 1 Axes>"
      ]
     },
     "metadata": {},
     "output_type": "display_data"
    }
   ],
   "source": [
    "sns.boxplot(y = df.victi_entre_rios\n",
    "            )"
   ]
  },
  {
   "attachments": {},
   "cell_type": "markdown",
   "metadata": {},
   "source": [
    "Probincia de santa fe"
   ]
  },
  {
   "cell_type": "code",
   "execution_count": 49,
   "metadata": {},
   "outputs": [
    {
     "data": {
      "text/plain": [
       "<AxesSubplot:ylabel='victi_santa_fe'>"
      ]
     },
     "execution_count": 49,
     "metadata": {},
     "output_type": "execute_result"
    },
    {
     "data": {
      "image/png": "[encoded data removed]",
      "text/plain": [
       "<Figure size 792x676.8 with 1 Axes>"
      ]
     },
     "metadata": {},
     "output_type": "display_data"
    }
   ],
   "source": [
    "sns.boxplot(y = df.victi_santa_fe\n",
    "            )"
   ]
  },
  {
   "attachments": {},
   "cell_type": "markdown",
   "metadata": {},
   "source": [
    "Probinvia de buenos aires"
   ]
  },
  {
   "cell_type": "code",
   "execution_count": 47,
   "metadata": {},
   "outputs": [
    {
     "data": {
      "text/plain": [
       "<AxesSubplot:ylabel='victi_buenos_aires'>"
      ]
     },
     "execution_count": 47,
     "metadata": {},
     "output_type": "execute_result"
    },
    {
     "data": {
      "image/png": "[encoded data removed]",
      "text/plain": [
       "<Figure size 792x676.8 with 1 Axes>"
      ]
     },
     "metadata": {},
     "output_type": "display_data"
    }
   ],
   "source": [
    "q1 = df.victi_buenos_aires.quantile(0.25)\n",
    "q3 = df.victi_buenos_aires.quantile(0.75)\n",
    "\n",
    "\n",
    "sns.boxplot(y = df.victi_buenos_aires\n",
    "            )"
   ]
  },
  {
   "attachments": {},
   "cell_type": "markdown",
   "metadata": {},
   "source": [
    "Probincia de Cordoba"
   ]
  },
  {
   "cell_type": "code",
   "execution_count": 48,
   "metadata": {},
   "outputs": [
    {
     "data": {
      "text/plain": [
       "<AxesSubplot:ylabel='victi_cordoba'>"
      ]
     },
     "execution_count": 48,
     "metadata": {},
     "output_type": "execute_result"
    },
    {
     "data": {
      "image/png": "[encoded data removed]",
      "text/plain": [
       "<Figure size 792x676.8 with 1 Axes>"
      ]
     },
     "metadata": {},
     "output_type": "display_data"
    }
   ],
   "source": [
    "sns.boxplot(y = df.victi_cordoba\n",
    "            )"
   ]
  },
  {
   "attachments": {},
   "cell_type": "markdown",
   "metadata": {},
   "source": [
    "Se observa como claramente la probincia de Buenos Aires se encuentra muy por encima de las demas probincias en cuanto a nivel de delitos."
   ]
  },
  {
   "cell_type": "code",
   "execution_count": 67,
   "metadata": {},
   "outputs": [
    {
     "data": {
      "text/plain": [
       "<matplotlib.lines.Line2D at 0x7fd4c3a71000>"
      ]
     },
     "execution_count": 67,
     "metadata": {},
     "output_type": "execute_result"
    },
    {
     "data": {
      "image/png": "[encoded data removed]",
      "text/plain": [
       "<Figure size 792x676.8 with 1 Axes>"
      ]
     },
     "metadata": {},
     "output_type": "display_data"
    }
   ],
   "source": [
    "#Indice de delitos en buenos aires a travez de los años\n",
    "sns.barplot(\n",
    "    data = df,\n",
    "    y = 't_delito_01_v_buenos_aires',\n",
    "    x = 'indice_tiempo'\n",
    ").axhline(df.t_delito_01_v_buenos_aires.mean())\n"
   ]
  },
  {
   "cell_type": "code",
   "execution_count": 69,
   "metadata": {},
   "outputs": [
    {
     "data": {
      "text/plain": [
       "<matplotlib.lines.Line2D at 0x7fd4c37f44f0>"
      ]
     },
     "execution_count": 69,
     "metadata": {},
     "output_type": "execute_result"
    },
    {
     "data": {
      "image/png": "[encoded data removed]",
      "text/plain": [
       "<Figure size 792x676.8 with 1 Axes>"
      ]
     },
     "metadata": {},
     "output_type": "display_data"
    }
   ],
   "source": [
    "#Indice de delitos en cordoba atravez de los años\n",
    "sns.barplot(\n",
    "    data = df,\n",
    "    y = 't_delito_01_v_cordoba',\n",
    "    x = 'indice_tiempo'\n",
    ").axhline(df.t_delito_01_v_cordoba.mean())"
   ]
  },
  {
   "attachments": {},
   "cell_type": "markdown",
   "metadata": {},
   "source": [
    "Se observa como atravez de los años fue disminuyendo el nivel delictivo en todas las probincias, encontrandose en los ultimos 5 aproximadamente bastante por debajo del promedio en todos los años."
   ]
  },
  {
   "cell_type": "code",
   "execution_count": 59,
   "metadata": {},
   "outputs": [
    {
     "data": {
      "text/plain": [
       "<AxesSubplot:xlabel='victi_cordoba', ylabel='Proportion'>"
      ]
     },
     "execution_count": 59,
     "metadata": {},
     "output_type": "execute_result"
    },
    {
     "data": {
      "image/png": "[encoded data removed]",
      "text/plain": [
       "<Figure size 792x676.8 with 1 Axes>"
      ]
     },
     "metadata": {},
     "output_type": "display_data"
    }
   ],
   "source": [
    "#Grafico especializado para ECDF\n",
    "sns.ecdfplot(\n",
    "    data = df,\n",
    "    x = 'victi_cordoba'\n",
    ")"
   ]
  },
  {
   "attachments": {},
   "cell_type": "markdown",
   "metadata": {},
   "source": [
    "Estadisticos generales"
   ]
  },
  {
   "cell_type": "code",
   "execution_count": 60,
   "metadata": {},
   "outputs": [
    {
     "data": {
      "text/html": [
       "<div>\n",
       "<style scoped>\n",
       "    .dataframe tbody tr th:only-of-type {\n",
       "        vertical-align: middle;\n",
       "    }\n",
       "\n",
       "    .dataframe tbody tr th {\n",
       "        vertical-align: top;\n",
       "    }\n",
       "\n",
       "    .dataframe thead th {\n",
       "        text-align: right;\n",
       "    }\n",
       "</style>\n",
       "<table border=\"1\" class=\"dataframe\">\n",
       "  <thead>\n",
       "    <tr style=\"text-align: right;\">\n",
       "      <th></th>\n",
       "      <th>indice_tiempo</th>\n",
       "      <th>victi_buenos_aires</th>\n",
       "      <th>victi_caba</th>\n",
       "      <th>victi_catamarca</th>\n",
       "      <th>victi_chaco</th>\n",
       "      <th>victi_chubut</th>\n",
       "      <th>victi_cordoba</th>\n",
       "      <th>victi_corrientes</th>\n",
       "      <th>victi_entre_rios</th>\n",
       "      <th>victi_formosa</th>\n",
       "      <th>...</th>\n",
       "      <th>t_delito_01_v_neuquen</th>\n",
       "      <th>t_delito_01_v_rio_negro</th>\n",
       "      <th>t_delito_01_v_salta</th>\n",
       "      <th>t_delito_01_v_san_juan</th>\n",
       "      <th>t_delito_01_v_san_luis</th>\n",
       "      <th>t_delito_01_v_santa_cruz</th>\n",
       "      <th>t_delito_01_v_santa_fe</th>\n",
       "      <th>t_delito_01_v_sgo_estero</th>\n",
       "      <th>t_delito_01_v_tierra_fuego</th>\n",
       "      <th>t_delito_01_v_tucuman</th>\n",
       "    </tr>\n",
       "  </thead>\n",
       "  <tbody>\n",
       "    <tr>\n",
       "      <th>count</th>\n",
       "      <td>21.000000</td>\n",
       "      <td>21.000000</td>\n",
       "      <td>21.000000</td>\n",
       "      <td>21.000000</td>\n",
       "      <td>21.000000</td>\n",
       "      <td>21.000000</td>\n",
       "      <td>21.000000</td>\n",
       "      <td>21.000000</td>\n",
       "      <td>21.000000</td>\n",
       "      <td>21.000000</td>\n",
       "      <td>...</td>\n",
       "      <td>21.000000</td>\n",
       "      <td>21.000000</td>\n",
       "      <td>21.000000</td>\n",
       "      <td>21.000000</td>\n",
       "      <td>21.000000</td>\n",
       "      <td>21.000000</td>\n",
       "      <td>21.000000</td>\n",
       "      <td>21.000000</td>\n",
       "      <td>21.000000</td>\n",
       "      <td>21.000000</td>\n",
       "    </tr>\n",
       "    <tr>\n",
       "      <th>mean</th>\n",
       "      <td>2011.000000</td>\n",
       "      <td>1171.952381</td>\n",
       "      <td>148.095238</td>\n",
       "      <td>8.523810</td>\n",
       "      <td>72.095238</td>\n",
       "      <td>44.142857</td>\n",
       "      <td>127.952381</td>\n",
       "      <td>45.047619</td>\n",
       "      <td>70.142857</td>\n",
       "      <td>41.571429</td>\n",
       "      <td>...</td>\n",
       "      <td>6.842857</td>\n",
       "      <td>6.276190</td>\n",
       "      <td>5.309524</td>\n",
       "      <td>2.328571</td>\n",
       "      <td>3.276190</td>\n",
       "      <td>5.004762</td>\n",
       "      <td>9.528571</td>\n",
       "      <td>4.038095</td>\n",
       "      <td>2.647619</td>\n",
       "      <td>4.952381</td>\n",
       "    </tr>\n",
       "    <tr>\n",
       "      <th>std</th>\n",
       "      <td>6.204837</td>\n",
       "      <td>296.724869</td>\n",
       "      <td>26.349392</td>\n",
       "      <td>3.880967</td>\n",
       "      <td>17.561050</td>\n",
       "      <td>11.782554</td>\n",
       "      <td>19.807767</td>\n",
       "      <td>17.261159</td>\n",
       "      <td>19.197098</td>\n",
       "      <td>8.322088</td>\n",
       "      <td>...</td>\n",
       "      <td>1.366957</td>\n",
       "      <td>1.958291</td>\n",
       "      <td>1.077917</td>\n",
       "      <td>0.743063</td>\n",
       "      <td>1.319054</td>\n",
       "      <td>2.146969</td>\n",
       "      <td>1.645947</td>\n",
       "      <td>0.837542</td>\n",
       "      <td>1.391625</td>\n",
       "      <td>2.066789</td>\n",
       "    </tr>\n",
       "    <tr>\n",
       "      <th>min</th>\n",
       "      <td>2001.000000</td>\n",
       "      <td>821.000000</td>\n",
       "      <td>102.000000</td>\n",
       "      <td>3.000000</td>\n",
       "      <td>47.000000</td>\n",
       "      <td>29.000000</td>\n",
       "      <td>88.000000</td>\n",
       "      <td>15.000000</td>\n",
       "      <td>47.000000</td>\n",
       "      <td>28.000000</td>\n",
       "      <td>...</td>\n",
       "      <td>4.700000</td>\n",
       "      <td>3.000000</td>\n",
       "      <td>3.100000</td>\n",
       "      <td>1.100000</td>\n",
       "      <td>1.300000</td>\n",
       "      <td>3.000000</td>\n",
       "      <td>6.900000</td>\n",
       "      <td>2.500000</td>\n",
       "      <td>0.600000</td>\n",
       "      <td>2.400000</td>\n",
       "    </tr>\n",
       "    <tr>\n",
       "      <th>25%</th>\n",
       "      <td>2006.000000</td>\n",
       "      <td>931.000000</td>\n",
       "      <td>133.000000</td>\n",
       "      <td>6.000000</td>\n",
       "      <td>63.000000</td>\n",
       "      <td>35.000000</td>\n",
       "      <td>121.000000</td>\n",
       "      <td>34.000000</td>\n",
       "      <td>55.000000</td>\n",
       "      <td>37.000000</td>\n",
       "      <td>...</td>\n",
       "      <td>6.100000</td>\n",
       "      <td>4.900000</td>\n",
       "      <td>4.800000</td>\n",
       "      <td>1.800000</td>\n",
       "      <td>2.200000</td>\n",
       "      <td>3.600000</td>\n",
       "      <td>8.400000</td>\n",
       "      <td>3.600000</td>\n",
       "      <td>1.900000</td>\n",
       "      <td>3.300000</td>\n",
       "    </tr>\n",
       "    <tr>\n",
       "      <th>50%</th>\n",
       "      <td>2011.000000</td>\n",
       "      <td>1105.000000</td>\n",
       "      <td>146.000000</td>\n",
       "      <td>7.000000</td>\n",
       "      <td>69.000000</td>\n",
       "      <td>43.000000</td>\n",
       "      <td>127.000000</td>\n",
       "      <td>46.000000</td>\n",
       "      <td>65.000000</td>\n",
       "      <td>41.000000</td>\n",
       "      <td>...</td>\n",
       "      <td>6.900000</td>\n",
       "      <td>6.300000</td>\n",
       "      <td>5.100000</td>\n",
       "      <td>2.300000</td>\n",
       "      <td>3.200000</td>\n",
       "      <td>4.700000</td>\n",
       "      <td>9.200000</td>\n",
       "      <td>3.900000</td>\n",
       "      <td>2.600000</td>\n",
       "      <td>4.400000</td>\n",
       "    </tr>\n",
       "    <tr>\n",
       "      <th>75%</th>\n",
       "      <td>2016.000000</td>\n",
       "      <td>1263.000000</td>\n",
       "      <td>165.000000</td>\n",
       "      <td>10.000000</td>\n",
       "      <td>76.000000</td>\n",
       "      <td>48.000000</td>\n",
       "      <td>136.000000</td>\n",
       "      <td>50.000000</td>\n",
       "      <td>80.000000</td>\n",
       "      <td>44.000000</td>\n",
       "      <td>...</td>\n",
       "      <td>7.300000</td>\n",
       "      <td>7.600000</td>\n",
       "      <td>6.000000</td>\n",
       "      <td>2.800000</td>\n",
       "      <td>4.300000</td>\n",
       "      <td>5.600000</td>\n",
       "      <td>10.300000</td>\n",
       "      <td>4.500000</td>\n",
       "      <td>3.500000</td>\n",
       "      <td>6.100000</td>\n",
       "    </tr>\n",
       "    <tr>\n",
       "      <th>max</th>\n",
       "      <td>2021.000000</td>\n",
       "      <td>1970.000000</td>\n",
       "      <td>200.000000</td>\n",
       "      <td>16.000000</td>\n",
       "      <td>117.000000</td>\n",
       "      <td>74.000000</td>\n",
       "      <td>170.000000</td>\n",
       "      <td>84.000000</td>\n",
       "      <td>116.000000</td>\n",
       "      <td>61.000000</td>\n",
       "      <td>...</td>\n",
       "      <td>10.500000</td>\n",
       "      <td>9.800000</td>\n",
       "      <td>8.100000</td>\n",
       "      <td>3.800000</td>\n",
       "      <td>5.700000</td>\n",
       "      <td>13.200000</td>\n",
       "      <td>13.200000</td>\n",
       "      <td>5.900000</td>\n",
       "      <td>5.400000</td>\n",
       "      <td>9.000000</td>\n",
       "    </tr>\n",
       "  </tbody>\n",
       "</table>\n",
       "<p>8 rows × 49 columns</p>\n",
       "</div>"
      ],
      "text/plain": [
       "       indice_tiempo  victi_buenos_aires  victi_caba  victi_catamarca   \n",
       "count      21.000000           21.000000   21.000000        21.000000  \\\n",
       "mean     2011.000000         1171.952381  148.095238         8.523810   \n",
       "std         6.204837          296.724869   26.349392         3.880967   \n",
       "min      2001.000000          821.000000  102.000000         3.000000   \n",
       "25%      2006.000000          931.000000  133.000000         6.000000   \n",
       "50%      2011.000000         1105.000000  146.000000         7.000000   \n",
       "75%      2016.000000         1263.000000  165.000000        10.000000   \n",
       "max      2021.000000         1970.000000  200.000000        16.000000   \n",
       "\n",
       "       victi_chaco  victi_chubut  victi_cordoba  victi_corrientes   \n",
       "count    21.000000     21.000000      21.000000         21.000000  \\\n",
       "mean     72.095238     44.142857     127.952381         45.047619   \n",
       "std      17.561050     11.782554      19.807767         17.261159   \n",
       "min      47.000000     29.000000      88.000000         15.000000   \n",
       "25%      63.000000     35.000000     121.000000         34.000000   \n",
       "50%      69.000000     43.000000     127.000000         46.000000   \n",
       "75%      76.000000     48.000000     136.000000         50.000000   \n",
       "max     117.000000     74.000000     170.000000         84.000000   \n",
       "\n",
       "       victi_entre_rios  victi_formosa  ...  t_delito_01_v_neuquen   \n",
       "count         21.000000      21.000000  ...              21.000000  \\\n",
       "mean          70.142857      41.571429  ...               6.842857   \n",
       "std           19.197098       8.322088  ...               1.366957   \n",
       "min           47.000000      28.000000  ...               4.700000   \n",
       "25%           55.000000      37.000000  ...               6.100000   \n",
       "50%           65.000000      41.000000  ...               6.900000   \n",
       "75%           80.000000      44.000000  ...               7.300000   \n",
       "max          116.000000      61.000000  ...              10.500000   \n",
       "\n",
       "       t_delito_01_v_rio_negro  t_delito_01_v_salta  t_delito_01_v_san_juan   \n",
       "count                21.000000            21.000000               21.000000  \\\n",
       "mean                  6.276190             5.309524                2.328571   \n",
       "std                   1.958291             1.077917                0.743063   \n",
       "min                   3.000000             3.100000                1.100000   \n",
       "25%                   4.900000             4.800000                1.800000   \n",
       "50%                   6.300000             5.100000                2.300000   \n",
       "75%                   7.600000             6.000000                2.800000   \n",
       "max                   9.800000             8.100000                3.800000   \n",
       "\n",
       "       t_delito_01_v_san_luis  t_delito_01_v_santa_cruz   \n",
       "count               21.000000                 21.000000  \\\n",
       "mean                 3.276190                  5.004762   \n",
       "std                  1.319054                  2.146969   \n",
       "min                  1.300000                  3.000000   \n",
       "25%                  2.200000                  3.600000   \n",
       "50%                  3.200000                  4.700000   \n",
       "75%                  4.300000                  5.600000   \n",
       "max                  5.700000                 13.200000   \n",
       "\n",
       "       t_delito_01_v_santa_fe  t_delito_01_v_sgo_estero   \n",
       "count               21.000000                 21.000000  \\\n",
       "mean                 9.528571                  4.038095   \n",
       "std                  1.645947                  0.837542   \n",
       "min                  6.900000                  2.500000   \n",
       "25%                  8.400000                  3.600000   \n",
       "50%                  9.200000                  3.900000   \n",
       "75%                 10.300000                  4.500000   \n",
       "max                 13.200000                  5.900000   \n",
       "\n",
       "       t_delito_01_v_tierra_fuego  t_delito_01_v_tucuman  \n",
       "count                   21.000000              21.000000  \n",
       "mean                     2.647619               4.952381  \n",
       "std                      1.391625               2.066789  \n",
       "min                      0.600000               2.400000  \n",
       "25%                      1.900000               3.300000  \n",
       "50%                      2.600000               4.400000  \n",
       "75%                      3.500000               6.100000  \n",
       "max                      5.400000               9.000000  \n",
       "\n",
       "[8 rows x 49 columns]"
      ]
     },
     "execution_count": 60,
     "metadata": {},
     "output_type": "execute_result"
    }
   ],
   "source": [
    "df.describe()"
   ]
  },
  {
   "attachments": {},
   "cell_type": "markdown",
   "metadata": {},
   "source": [
    "Comparacion de medias entre probincias"
   ]
  },
  {
   "cell_type": "code",
   "execution_count": 88,
   "metadata": {},
   "outputs": [],
   "source": [
    "medias = df[['victi_buenos_aires', 'victi_caba', 'victi_cordoba', 'victi_formosa', 'victi_corrientes']].mean()"
   ]
  },
  {
   "cell_type": "code",
   "execution_count": 89,
   "metadata": {},
   "outputs": [
    {
     "data": {
      "text/plain": [
       "<AxesSubplot:>"
      ]
     },
     "execution_count": 89,
     "metadata": {},
     "output_type": "execute_result"
    },
    {
     "data": {
      "image/png": "[encoded data removed]",
      "text/plain": [
       "<Figure size 792x676.8 with 1 Axes>"
      ]
     },
     "metadata": {},
     "output_type": "display_data"
    }
   ],
   "source": [
    "sns.barplot(\n",
    "    x = medias.index,\n",
    "    y = medias.values\n",
    ")"
   ]
  },
  {
   "attachments": {},
   "cell_type": "markdown",
   "metadata": {},
   "source": [
    "Probabilidades de ocurrencia de los distintos hechos\n"
   ]
  },
  {
   "cell_type": "code",
   "execution_count": 90,
   "metadata": {},
   "outputs": [
    {
     "data": {
      "text/plain": [
       "<AxesSubplot:xlabel='victi_buenos_aires', ylabel='Probability'>"
      ]
     },
     "execution_count": 90,
     "metadata": {},
     "output_type": "execute_result"
    },
    {
     "data": {
      "image/png": "[encoded data removed]",
      "text/plain": [
       "<Figure size 792x676.8 with 1 Axes>"
      ]
     },
     "metadata": {},
     "output_type": "display_data"
    }
   ],
   "source": [
    "sns.histplot(\n",
    "    data = df,\n",
    "    x = 'victi_buenos_aires',\n",
    "    #Modifica el grosor de las barras\n",
    "    binwidth = 1,\n",
    "    #Funcion estadistica que se utilizara para valorar los valores de la columna\n",
    "    stat = 'probability'\n",
    ")"
   ]
  },
  {
   "attachments": {},
   "cell_type": "markdown",
   "metadata": {},
   "source": [
    "En Buenos Aires la probabilida de ocurrencia dehechos por cada 100000 habitantes no esta definida, es similar en todos los puntos."
   ]
  },
  {
   "cell_type": "code",
   "execution_count": 91,
   "metadata": {},
   "outputs": [
    {
     "data": {
      "text/plain": [
       "<AxesSubplot:xlabel='victi_cordoba', ylabel='Probability'>"
      ]
     },
     "execution_count": 91,
     "metadata": {},
     "output_type": "execute_result"
    },
    {
     "data": {
      "image/png": "[encoded data removed]",
      "text/plain": [
       "<Figure size 792x676.8 with 1 Axes>"
      ]
     },
     "metadata": {},
     "output_type": "display_data"
    }
   ],
   "source": [
    "sns.histplot(\n",
    "    data = df,\n",
    "    x = 'victi_cordoba',\n",
    "    #Modifica el grosor de las barras\n",
    "    binwidth = 1,\n",
    "    #Funcion estadistica que se utilizara para valorar los valores de la columna\n",
    "    stat = 'probability'\n",
    ")"
   ]
  },
  {
   "attachments": {},
   "cell_type": "markdown",
   "metadata": {},
   "source": [
    "Se observa como en la probincia de Cordoba la mayor probabilidad de hechos por cada 100000 habitantes esta en los 121 y 138 aproximadamente."
   ]
  },
  {
   "cell_type": "code",
   "execution_count": 92,
   "metadata": {},
   "outputs": [
    {
     "data": {
      "text/plain": [
       "<AxesSubplot:xlabel='victi_santa_fe', ylabel='Probability'>"
      ]
     },
     "execution_count": 92,
     "metadata": {},
     "output_type": "execute_result"
    },
    {
     "data": {
      "image/png": "[encoded data removed]",
      "text/plain": [
       "<Figure size 792x676.8 with 1 Axes>"
      ]
     },
     "metadata": {},
     "output_type": "display_data"
    }
   ],
   "source": [
    "sns.histplot(\n",
    "    data = df,\n",
    "    x = 'victi_santa_fe',\n",
    "    #Modifica el grosor de las barras\n",
    "    binwidth = 1,\n",
    "    #Funcion estadistica que se utilizara para valorar los valores de la columna\n",
    "    stat = 'probability'\n",
    ")"
   ]
  },
  {
   "attachments": {},
   "cell_type": "markdown",
   "metadata": {},
   "source": [
    "Se observa como en Santa fe la mayor probabilidad de cantidad de hechos por 100000 habitantes esta en los 420, 255 y 275 aproximadamente."
   ]
  },
  {
   "cell_type": "code",
   "execution_count": 103,
   "metadata": {},
   "outputs": [],
   "source": [
    "import empiricaldist\n",
    "\n",
    "#Se utiliza empiricaldist para crear variable para cada una de las probincias elegidas que entrega la probabilidad de masa de un valor espesifico\n",
    "pmf_cordoba = empiricaldist.Pmf.from_seq(\n",
    "    df.victi_cordoba,\n",
    "    #Normaliza los datos de la columna\n",
    "    normalize = True\n",
    ")\n",
    "\n",
    "pmf_bsas= empiricaldist.Pmf.from_seq(\n",
    "    df.victi_buenos_aires,\n",
    "    #Normaliza los datos de la columna\n",
    "    normalize = True\n",
    ")\n",
    "\n",
    "pmf_sf = empiricaldist.Pmf.from_seq(\n",
    "    df.victi_santa_fe,\n",
    "    #Normaliza los datos de la columna\n",
    "    normalize = True\n",
    ")"
   ]
  },
  {
   "cell_type": "code",
   "execution_count": 102,
   "metadata": {},
   "outputs": [
    {
     "data": {
      "text/plain": [
       "0.047619047619047616"
      ]
     },
     "execution_count": 102,
     "metadata": {},
     "output_type": "execute_result"
    }
   ],
   "source": [
    "pmf_cordoba(130)"
   ]
  },
  {
   "cell_type": "code",
   "execution_count": 104,
   "metadata": {},
   "outputs": [
    {
     "data": {
      "text/plain": [
       "0"
      ]
     },
     "execution_count": 104,
     "metadata": {},
     "output_type": "execute_result"
    }
   ],
   "source": [
    "pmf_bsas(2000)"
   ]
  },
  {
   "cell_type": "code",
   "execution_count": 105,
   "metadata": {},
   "outputs": [
    {
     "data": {
      "text/plain": [
       "0.047619047619047616"
      ]
     },
     "execution_count": 105,
     "metadata": {},
     "output_type": "execute_result"
    }
   ],
   "source": [
    "pmf_sf(300)"
   ]
  },
  {
   "attachments": {},
   "cell_type": "markdown",
   "metadata": {},
   "source": [
    "Clasificacion de ciudades por nivel de delictivo\n"
   ]
  },
  {
   "attachments": {},
   "cell_type": "markdown",
   "metadata": {},
   "source": [
    "Obtener la media de la media de los hechos delictivos"
   ]
  },
  {
   "cell_type": "code",
   "execution_count": 103,
   "metadata": {},
   "outputs": [],
   "source": [
    "media_probincias = df[['victi_buenos_aires', 'victi_caba', 'victi_catamarca',\n",
    "       'victi_chaco', 'victi_chubut', 'victi_cordoba', 'victi_corrientes',\n",
    "       'victi_entre_rios', 'victi_formosa', 'victi_jujuy', 'victi_la_pampa',\n",
    "       'victi_la_rioja', 'victi_mendoza', 'victi_misiones', 'victi_neuquen',\n",
    "       'victi_rio_negro', 'victi_salta', 'victi_san_juan', 'victi_san_luis',\n",
    "       'victi_santa_cruz', 'victi_santa_fe', 'victi_sgo_estero',\n",
    "       'victi_tierra_fuego', 'victi_tucuman']].mean()"
   ]
  },
  {
   "cell_type": "code",
   "execution_count": 104,
   "metadata": {},
   "outputs": [],
   "source": [
    "media_general = media_probincias.values.mean()"
   ]
  },
  {
   "cell_type": "code",
   "execution_count": 105,
   "metadata": {},
   "outputs": [],
   "source": [
    "def nivel_delictivo(value):\n",
    "    if value < media_general:\n",
    "        return 'Menos delictivo'\n",
    "    else:\n",
    "        return 'Mas delictivo'"
   ]
  },
  {
   "cell_type": "code",
   "execution_count": 107,
   "metadata": {},
   "outputs": [
    {
     "name": "stdout",
     "output_type": "stream",
     "text": [
      "victi_buenos_aires    1171.952381\n",
      "victi_caba             148.095238\n",
      "victi_catamarca          8.523810\n",
      "victi_chaco             72.095238\n",
      "victi_chubut            44.142857\n",
      "victi_cordoba          127.952381\n",
      "victi_corrientes        45.047619\n",
      "victi_entre_rios        70.142857\n",
      "victi_formosa           41.571429\n",
      "victi_jujuy             28.714286\n",
      "victi_la_pampa           9.714286\n",
      "victi_la_rioja           7.333333\n",
      "victi_mendoza          126.761905\n",
      "victi_misiones          62.666667\n",
      "victi_neuquen           39.095238\n",
      "victi_rio_negro         40.523810\n",
      "victi_salta             66.809524\n",
      "victi_san_juan          16.380952\n",
      "victi_san_luis          14.428571\n",
      "victi_santa_cruz        13.761905\n",
      "victi_santa_fe         314.238095\n",
      "victi_sgo_estero        35.714286\n",
      "victi_tierra_fuego       3.523810\n",
      "victi_tucuman           76.952381\n",
      "dtype: float64\n"
     ]
    }
   ],
   "source": [
    "print((media_probincias))"
   ]
  },
  {
   "cell_type": "code",
   "execution_count": 113,
   "metadata": {},
   "outputs": [],
   "source": [
    "media_probincias = pd.DataFrame(media_probincias)"
   ]
  },
  {
   "cell_type": "code",
   "execution_count": 117,
   "metadata": {},
   "outputs": [],
   "source": [
    "media_probincias['Nivel Delictivo'] = media_probincias[0].apply(nivel_delictivo)"
   ]
  },
  {
   "cell_type": "code",
   "execution_count": 73,
   "metadata": {},
   "outputs": [],
   "source": [
    "columnas = []\n",
    "\n",
    "for i in df.columns:\n",
    "    columnas.append(df[i][0])"
   ]
  },
  {
   "cell_type": "code",
   "execution_count": 132,
   "metadata": {},
   "outputs": [
    {
     "data": {
      "text/plain": [
       "<matplotlib.collections.LineCollection at 0x7f8b5d1c01c0>"
      ]
     },
     "execution_count": 132,
     "metadata": {},
     "output_type": "execute_result"
    },
    {
     "data": {
      "image/png": "[encoded data removed]",
      "text/plain": [
       "<Figure size 792x676.8 with 1 Axes>"
      ]
     },
     "metadata": {},
     "output_type": "display_data"
    }
   ],
   "source": [
    "sns.barplot(\n",
    "    y = media_probincias.index,\n",
    "    x = media_probincias[0],\n",
    "    hue = media_probincias['Nivel Delictivo'],\n",
    ")\n",
    "plt.vlines(x=media_general, ymin=0, ymax=27)\n"
   ]
  },
  {
   "attachments": {},
   "cell_type": "markdown",
   "metadata": {},
   "source": [
    "Se puede observar como claramente la probincia de Buenos Aires, Caba, Cordoba, Mendoza y Santa Fe, son los que mayor cantidad de delitos tienen, siendo Buenos Aires 6 veces superior a las demas."
   ]
  }
 ],
 "metadata": {
  "kernelspec": {
   "display_name": "Python 3",
   "language": "python",
   "name": "python3"
  },
  "language_info": {
   "codemirror_mode": {
    "name": "ipython",
    "version": 3
   },
   "file_extension": ".py",
   "mimetype": "text/x-python",
   "name": "python",
   "nbconvert_exporter": "python",
   "pygments_lexer": "ipython3",
   "version": "3.10.7"
  },
  "orig_nbformat": 4
 },
 "nbformat": 4,
 "nbformat_minor": 2
}
